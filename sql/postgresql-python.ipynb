{
 "cells": [
  {
   "cell_type": "code",
   "execution_count": 2,
   "metadata": {},
   "outputs": [],
   "source": [
    "import psycopg2 as pg2"
   ]
  },
  {
   "cell_type": "code",
   "execution_count": 3,
   "metadata": {},
   "outputs": [],
   "source": [
    "conn = pg2.connect(database='dvdrental', user='postgres', password='Beethoven-1412')"
   ]
  },
  {
   "cell_type": "code",
   "execution_count": 4,
   "metadata": {},
   "outputs": [],
   "source": [
    "cur = conn.cursor()"
   ]
  },
  {
   "cell_type": "code",
   "execution_count": 5,
   "metadata": {},
   "outputs": [],
   "source": [
    "cur.execute('SELECT * FROM payment')"
   ]
  },
  {
   "cell_type": "code",
   "execution_count": 6,
   "metadata": {},
   "outputs": [
    {
     "data": {
      "text/plain": [
       "(17503,\n",
       " 341,\n",
       " 2,\n",
       " 1520,\n",
       " Decimal('7.99'),\n",
       " datetime.datetime(2007, 2, 15, 22, 25, 46, 996577))"
      ]
     },
     "execution_count": 6,
     "metadata": {},
     "output_type": "execute_result"
    }
   ],
   "source": [
    "cur.fetchone()"
   ]
  },
  {
   "cell_type": "code",
   "execution_count": 8,
   "metadata": {},
   "outputs": [
    {
     "data": {
      "text/plain": [
       "[(17514,\n",
       "  343,\n",
       "  2,\n",
       "  1879,\n",
       "  Decimal('0.99'),\n",
       "  datetime.datetime(2007, 2, 17, 1, 26, 0, 996577)),\n",
       " (17515,\n",
       "  343,\n",
       "  2,\n",
       "  1922,\n",
       "  Decimal('0.99'),\n",
       "  datetime.datetime(2007, 2, 17, 4, 32, 51, 996577)),\n",
       " (17516,\n",
       "  343,\n",
       "  2,\n",
       "  2461,\n",
       "  Decimal('6.99'),\n",
       "  datetime.datetime(2007, 2, 18, 18, 26, 38, 996577)),\n",
       " (17517,\n",
       "  343,\n",
       "  1,\n",
       "  2980,\n",
       "  Decimal('8.99'),\n",
       "  datetime.datetime(2007, 2, 20, 7, 3, 29, 996577)),\n",
       " (17518,\n",
       "  343,\n",
       "  1,\n",
       "  3407,\n",
       "  Decimal('0.99'),\n",
       "  datetime.datetime(2007, 2, 21, 14, 42, 28, 996577))]"
      ]
     },
     "execution_count": 8,
     "metadata": {},
     "output_type": "execute_result"
    }
   ],
   "source": [
    "cur.fetchmany(5)"
   ]
  },
  {
   "cell_type": "code",
   "execution_count": 9,
   "metadata": {},
   "outputs": [],
   "source": [
    "conn.close()"
   ]
  },
  {
   "cell_type": "code",
   "execution_count": null,
   "metadata": {},
   "outputs": [],
   "source": []
  }
 ],
 "metadata": {
  "kernelspec": {
   "display_name": "Python 3",
   "language": "python",
   "name": "python3"
  },
  "language_info": {
   "codemirror_mode": {
    "name": "ipython",
    "version": 3
   },
   "file_extension": ".py",
   "mimetype": "text/x-python",
   "name": "python",
   "nbconvert_exporter": "python",
   "pygments_lexer": "ipython3",
   "version": "3.8.5"
  }
 },
 "nbformat": 4,
 "nbformat_minor": 4
}
