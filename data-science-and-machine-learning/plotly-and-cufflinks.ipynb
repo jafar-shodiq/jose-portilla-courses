{
 "cells": [
  {
   "cell_type": "code",
   "execution_count": 1,
   "metadata": {},
   "outputs": [],
   "source": [
    "import pandas as pd\n",
    "import numpy as np"
   ]
  },
  {
   "cell_type": "code",
   "execution_count": 2,
   "metadata": {},
   "outputs": [
    {
     "name": "stdout",
     "output_type": "stream",
     "text": [
      "4.13.0\n"
     ]
    }
   ],
   "source": [
    "from plotly import __version__\n",
    "print(__version__)"
   ]
  },
  {
   "cell_type": "code",
   "execution_count": 3,
   "metadata": {},
   "outputs": [],
   "source": [
    "import cufflinks as cf"
   ]
  },
  {
   "cell_type": "code",
   "execution_count": 4,
   "metadata": {},
   "outputs": [],
   "source": [
    "from plotly.offline import download_plotlyjs, init_notebook_mode, plot, iplot"
   ]
  },
  {
   "cell_type": "code",
   "execution_count": 5,
   "metadata": {},
   "outputs": [
    {
     "data": {
      "text/html": [
       "        <script type=\"text/javascript\">\n",
       "        window.PlotlyConfig = {MathJaxConfig: 'local'};\n",
       "        if (window.MathJax) {MathJax.Hub.Config({SVG: {font: \"STIX-Web\"}});}\n",
       "        if (typeof require !== 'undefined') {\n",
       "        require.undef(\"plotly\");\n",
       "        requirejs.config({\n",
       "            paths: {\n",
       "                'plotly': ['https://cdn.plot.ly/plotly-latest.min']\n",
       "            }\n",
       "        });\n",
       "        require(['plotly'], function(Plotly) {\n",
       "            window._Plotly = Plotly;\n",
       "        });\n",
       "        }\n",
       "        </script>\n",
       "        "
      ]
     },
     "metadata": {},
     "output_type": "display_data"
    }
   ],
   "source": [
    "init_notebook_mode(connected=True)"
   ]
  },
  {
   "cell_type": "code",
   "execution_count": 6,
   "metadata": {},
   "outputs": [
    {
     "data": {
      "text/html": [
       "        <script type=\"text/javascript\">\n",
       "        window.PlotlyConfig = {MathJaxConfig: 'local'};\n",
       "        if (window.MathJax) {MathJax.Hub.Config({SVG: {font: \"STIX-Web\"}});}\n",
       "        if (typeof require !== 'undefined') {\n",
       "        require.undef(\"plotly\");\n",
       "        requirejs.config({\n",
       "            paths: {\n",
       "                'plotly': ['https://cdn.plot.ly/plotly-latest.min']\n",
       "            }\n",
       "        });\n",
       "        require(['plotly'], function(Plotly) {\n",
       "            window._Plotly = Plotly;\n",
       "        });\n",
       "        }\n",
       "        </script>\n",
       "        "
      ]
     },
     "metadata": {},
     "output_type": "display_data"
    }
   ],
   "source": [
    "cf.go_offline()"
   ]
  },
  {
   "cell_type": "code",
   "execution_count": 7,
   "metadata": {},
   "outputs": [
    {
     "data": {
      "text/html": [
       "<div>\n",
       "<style scoped>\n",
       "    .dataframe tbody tr th:only-of-type {\n",
       "        vertical-align: middle;\n",
       "    }\n",
       "\n",
       "    .dataframe tbody tr th {\n",
       "        vertical-align: top;\n",
       "    }\n",
       "\n",
       "    .dataframe thead th {\n",
       "        text-align: right;\n",
       "    }\n",
       "</style>\n",
       "<table border=\"1\" class=\"dataframe\">\n",
       "  <thead>\n",
       "    <tr style=\"text-align: right;\">\n",
       "      <th></th>\n",
       "      <th>A</th>\n",
       "      <th>B</th>\n",
       "      <th>C</th>\n",
       "      <th>D</th>\n",
       "    </tr>\n",
       "  </thead>\n",
       "  <tbody>\n",
       "    <tr>\n",
       "      <th>0</th>\n",
       "      <td>-0.399181</td>\n",
       "      <td>2.207046</td>\n",
       "      <td>-0.638464</td>\n",
       "      <td>0.440279</td>\n",
       "    </tr>\n",
       "    <tr>\n",
       "      <th>1</th>\n",
       "      <td>0.741862</td>\n",
       "      <td>-0.788132</td>\n",
       "      <td>0.201291</td>\n",
       "      <td>-2.231875</td>\n",
       "    </tr>\n",
       "    <tr>\n",
       "      <th>2</th>\n",
       "      <td>-0.431336</td>\n",
       "      <td>-0.107843</td>\n",
       "      <td>1.445520</td>\n",
       "      <td>0.506086</td>\n",
       "    </tr>\n",
       "    <tr>\n",
       "      <th>3</th>\n",
       "      <td>0.335522</td>\n",
       "      <td>-0.040442</td>\n",
       "      <td>-2.047291</td>\n",
       "      <td>0.373922</td>\n",
       "    </tr>\n",
       "    <tr>\n",
       "      <th>4</th>\n",
       "      <td>-0.715187</td>\n",
       "      <td>-2.289675</td>\n",
       "      <td>-2.029951</td>\n",
       "      <td>0.558108</td>\n",
       "    </tr>\n",
       "  </tbody>\n",
       "</table>\n",
       "</div>"
      ],
      "text/plain": [
       "          A         B         C         D\n",
       "0 -0.399181  2.207046 -0.638464  0.440279\n",
       "1  0.741862 -0.788132  0.201291 -2.231875\n",
       "2 -0.431336 -0.107843  1.445520  0.506086\n",
       "3  0.335522 -0.040442 -2.047291  0.373922\n",
       "4 -0.715187 -2.289675 -2.029951  0.558108"
      ]
     },
     "execution_count": 7,
     "metadata": {},
     "output_type": "execute_result"
    }
   ],
   "source": [
    "df = pd.DataFrame(np.random.randn(100, 4), columns='A B C D'.split())\n",
    "df.head()"
   ]
  },
  {
   "cell_type": "code",
   "execution_count": 8,
   "metadata": {},
   "outputs": [
    {
     "data": {
      "text/html": [
       "<div>\n",
       "<style scoped>\n",
       "    .dataframe tbody tr th:only-of-type {\n",
       "        vertical-align: middle;\n",
       "    }\n",
       "\n",
       "    .dataframe tbody tr th {\n",
       "        vertical-align: top;\n",
       "    }\n",
       "\n",
       "    .dataframe thead th {\n",
       "        text-align: right;\n",
       "    }\n",
       "</style>\n",
       "<table border=\"1\" class=\"dataframe\">\n",
       "  <thead>\n",
       "    <tr style=\"text-align: right;\">\n",
       "      <th></th>\n",
       "      <th>Category</th>\n",
       "      <th>Values</th>\n",
       "    </tr>\n",
       "  </thead>\n",
       "  <tbody>\n",
       "    <tr>\n",
       "      <th>0</th>\n",
       "      <td>A</td>\n",
       "      <td>32</td>\n",
       "    </tr>\n",
       "    <tr>\n",
       "      <th>1</th>\n",
       "      <td>B</td>\n",
       "      <td>43</td>\n",
       "    </tr>\n",
       "    <tr>\n",
       "      <th>2</th>\n",
       "      <td>C</td>\n",
       "      <td>50</td>\n",
       "    </tr>\n",
       "  </tbody>\n",
       "</table>\n",
       "</div>"
      ],
      "text/plain": [
       "  Category  Values\n",
       "0        A      32\n",
       "1        B      43\n",
       "2        C      50"
      ]
     },
     "execution_count": 8,
     "metadata": {},
     "output_type": "execute_result"
    }
   ],
   "source": [
    "df2 = pd.DataFrame({'Category':['A', 'B', 'C'], 'Values':[32, 43, 50]})\n",
    "df2"
   ]
  },
  {
   "cell_type": "code",
   "execution_count": 9,
   "metadata": {},
   "outputs": [
    {
     "data": {
      "text/plain": [
       "<AxesSubplot:>"
      ]
     },
     "execution_count": 9,
     "metadata": {},
     "output_type": "execute_result"
    },
    {
     "data": {
      "image/png": "[encoded data removed]",
      "text/plain": [
       "<Figure size 432x288 with 1 Axes>"
      ]
     },
     "metadata": {
      "needs_background": "light"
     },
     "output_type": "display_data"
    }
   ],
   "source": [
    "df.plot()"
   ]
  },
  {
   "cell_type": "code",
   "execution_count": 10,
   "metadata": {},
   "outputs": [
    {
     "data": {
      "application/vnd.plotly.v1+json": {
       "config": {
        "linkText": "Export to plot.ly",
        "plotlyServerURL": "https://plot.ly",
        "showLink": true
       },
       "data": [
        {
         "line": {
          "color": "rgba(255, 153, 51, 1.0)",
          "dash": "solid",
          "shape": "linear",
          "width": 1.3
         },
         "mode": "lines",
         "name": "A",
         "text": "",
         "type": "scatter",
         "x": [
          0,
          1,
          2,
          3,
          4,
          5,
          6,
          7,
          8,
          9,
          10,
          11,
          12,
          13,
          14,
          15,
          16,
          17,
          18,
          19,
          20,
          21,
          22,
          23,
          24,
          25,
          26,
          27,
          28,
          29,
          30,
          31,
          32,
          33,
          34,
          35,
          36,
          37,
          38,
          39,
          40,
          41,
          42,
          43,
          44,
          45,
          46,
          47,
          48,
          49,
          50,
          51,
          52,
          53,
          54,
          55,
          56,
          57,
          58,
          59,
          60,
          61,
          62,
          63,
          64,
          65,
          66,
          67,
          68,
          69,
          70,
          71,
          72,
          73,
          74,
          75,
          76,
          77,
          78,
          79,
          80,
          81,
          82,
          83,
          84,
          85,
          86,
          87,
          88,
          89,
          90,
          91,
          92,
          93,
          94,
          95,
          96,
          97,
          98,
          99
         ],
         "y": [
          -0.39918119580901057,
          0.7418621453466906,
          -0.4313355775472436,
          0.3355224667718379,
          -0.7151869915905287,
          0.145668325550864,
          0.15591577298259662,
          0.016226263834492997,
          0.4605683837845119,
          -1.4139591642678533,
          -3.346775721169021,
          -1.2159667506526999,
          0.5809608144629882,
          -0.26283320353488304,
          1.2113580317867414,
          -0.4415756722746691,
          2.2884194084433775,
          1.0557466676734149,
          -1.442826254773536,
          -0.8063709415927582,
          0.922383051818235,
          -0.3878906835859324,
          0.025967017018530797,
          0.6044282595635964,
          -0.7065329352842874,
          0.9150675435000666,
          0.18735127393393106,
          -0.2845605758953672,
          -0.09322552030780629,
          -0.1639557134477811,
          0.156542641123135,
          -0.9341454884535909,
          -1.1960968243851422,
          -0.7420113595879909,
          -1.1231115173825923,
          -0.06575340563803043,
          -1.2314451894847818,
          -0.7004696413846199,
          0.2750929324690308,
          0.7915002131579784,
          -1.1253744106107293,
          0.5712846346931809,
          -1.7280218331388324,
          0.36865239908201825,
          -1.0668871446136439,
          -0.9061338046467238,
          -1.037945002921429,
          -0.5578754042788866,
          0.14708542676641603,
          0.8746134766485341,
          -0.36276225986481275,
          0.12243563569516946,
          -0.05854080893376823,
          1.162186833598004,
          -1.104489545096553,
          -0.26487716168614467,
          -0.05463255455270555,
          1.495963991909491,
          1.4742509865754625,
          0.8390497854946452,
          0.5108072739104828,
          -0.29675905041248607,
          0.4317219076292566,
          0.7526597856998946,
          -1.2662095357984315,
          -0.20809051371739795,
          -1.4334480138884427,
          0.41521475437323424,
          -0.3681440922719436,
          -0.4974530040747305,
          0.332517930744042,
          0.1235890800313146,
          0.5909382100815366,
          -1.0065808800216673,
          -0.6822563665823921,
          1.1077016925230518,
          0.07703396073766987,
          0.42953692998520493,
          0.7592976638295739,
          -0.8805787003240935,
          1.5490488597669556,
          -0.2766809050067881,
          0.7018174178549077,
          0.1314637920120881,
          -0.40257295954386835,
          -0.6849120108591445,
          -0.8530469126783897,
          -0.8710488904466427,
          -0.40143057082221745,
          0.5753943378178665,
          0.5232222120203804,
          -0.22675126963357795,
          -1.0348115402137625,
          -0.026371322901696262,
          0.7374597636331084,
          0.23308846902896885,
          -0.4367113468497734,
          0.5978251807763769,
          0.6581567165919348,
          1.600974778682548
         ]
        },
        {
         "line": {
          "color": "rgba(55, 128, 191, 1.0)",
          "dash": "solid",
          "shape": "linear",
          "width": 1.3
         },
         "mode": "lines",
         "name": "B",
         "text": "",
         "type": "scatter",
         "x": [
          0,
          1,
          2,
          3,
          4,
          5,
          6,
          7,
          8,
          9,
          10,
          11,
          12,
          13,
          14,
          15,
          16,
          17,
          18,
          19,
          20,
          21,
          22,
          23,
          24,
          25,
          26,
          27,
          28,
          29,
          30,
          31,
          32,
          33,
          34,
          35,
          36,
          37,
          38,
          39,
          40,
          41,
          42,
          43,
          44,
          45,
          46,
          47,
          48,
          49,
          50,
          51,
          52,
          53,
          54,
          55,
          56,
          57,
          58,
          59,
          60,
          61,
          62,
          63,
          64,
          65,
          66,
          67,
          68,
          69,
          70,
          71,
          72,
          73,
          74,
          75,
          76,
          77,
          78,
          79,
          80,
          81,
          82,
          83,
          84,
          85,
          86,
          87,
          88,
          89,
          90,
          91,
          92,
          93,
          94,
          95,
          96,
          97,
          98,
          99
         ],
         "y": [
          2.2070461301559066,
          -0.788131612862357,
          -0.10784315640253468,
          -0.04044160801371967,
          -2.2896748695933327,
          1.3429392443285344,
          1.4865555779792607,
          0.3659741914873344,
          -0.7892499216942237,
          0.1141250947886066,
          -0.6139977202850474,
          0.037322520254553855,
          0.29142557618426357,
          0.4113345097957159,
          1.4192964679111584,
          0.36923408302610705,
          0.48399864965340045,
          0.6079126562865081,
          -0.7977858369497093,
          -0.6119403421986435,
          0.13146439326926732,
          0.08725012491665272,
          0.09456009132885217,
          -2.190707420460496,
          1.12562920670872,
          -0.6839747581993745,
          0.3115134349504725,
          1.4492612304178427,
          0.06999200823006771,
          -0.38800767411587783,
          -0.46598508418374707,
          -2.181197442663968,
          -1.0956797599610515,
          -0.9553121956681996,
          0.42403097594459715,
          -1.6558545434866523,
          -1.3819798723174677,
          1.6854462250364648,
          0.732890145241412,
          -1.3374766327934853,
          -0.3260739282800016,
          1.6637557322566037,
          -0.8409746644861881,
          -1.4111517724895952,
          -0.5393254688380885,
          0.8754720938686266,
          0.9997351757559365,
          -0.049471515590174334,
          0.19908149523353075,
          0.6249144899716452,
          -0.13465543056006563,
          -0.7161254082218936,
          0.907665817980667,
          -1.0156398903308865,
          0.07345276778828155,
          -1.730105693139972,
          -1.2104401316439815,
          -0.42246282382447614,
          1.223087721057286,
          0.25051121377375185,
          -0.11663617757627032,
          0.25283529945234606,
          1.2536411501995246,
          -0.8608597145861724,
          0.06555619946573002,
          1.1958308271299294,
          -1.3876026390431448,
          0.0442082545566528,
          -1.341362716407108,
          1.1968678848787968,
          0.9087380738655427,
          1.5555799622636919,
          0.9353902928609358,
          0.5473797210703165,
          0.7084174573200912,
          -0.3698724043916409,
          -0.21573080837183653,
          0.1359526800212306,
          0.15906429779288436,
          -0.5540236467037417,
          -0.3414189576302107,
          -0.2718414423436621,
          -0.4666969220684351,
          -1.076680135465115,
          1.6120850281316867,
          0.4812952929193751,
          -1.9705129259249963,
          0.31105314049038896,
          0.9222631715288385,
          1.4576098663395574,
          0.09972461282505903,
          0.10840621208454,
          0.7745676451840312,
          0.4074215942586728,
          0.2725750104410174,
          0.39225261140363143,
          -2.3594286944335656,
          -0.22987691975601063,
          -0.10824276280124188,
          -0.7045627207862724
         ]
        },
        {
         "line": {
          "color": "rgba(50, 171, 96, 1.0)",
          "dash": "solid",
          "shape": "linear",
          "width": 1.3
         },
         "mode": "lines",
         "name": "C",
         "text": "",
         "type": "scatter",
         "x": [
          0,
          1,
          2,
          3,
          4,
          5,
          6,
          7,
          8,
          9,
          10,
          11,
          12,
          13,
          14,
          15,
          16,
          17,
          18,
          19,
          20,
          21,
          22,
          23,
          24,
          25,
          26,
          27,
          28,
          29,
          30,
          31,
          32,
          33,
          34,
          35,
          36,
          37,
          38,
          39,
          40,
          41,
          42,
          43,
          44,
          45,
          46,
          47,
          48,
          49,
          50,
          51,
          52,
          53,
          54,
          55,
          56,
          57,
          58,
          59,
          60,
          61,
          62,
          63,
          64,
          65,
          66,
          67,
          68,
          69,
          70,
          71,
          72,
          73,
          74,
          75,
          76,
          77,
          78,
          79,
          80,
          81,
          82,
          83,
          84,
          85,
          86,
          87,
          88,
          89,
          90,
          91,
          92,
          93,
          94,
          95,
          96,
          97,
          98,
          99
         ],
         "y": [
          -0.6384635434448434,
          0.20129141961750233,
          1.4455203111308286,
          -2.047290855826421,
          -2.029950571478503,
          0.29635493029587623,
          -1.0690424023584588,
          -1.2637584431139288,
          -0.3614137588757708,
          0.32950204350421197,
          0.42846767886560316,
          0.5601788272810735,
          -0.0017168075576362444,
          -0.4972131141137663,
          0.25457364680471645,
          0.2137456547519348,
          -0.4403021838963106,
          -1.0315565236333366,
          -0.023894730689849437,
          0.5924047035997578,
          0.35942749772259,
          -0.6066457895243129,
          -0.2582454921550214,
          -0.26621451459259154,
          -0.9573050494162388,
          -0.8706096263812089,
          0.5102967350809852,
          0.04320071844350394,
          0.19323022101942358,
          -0.5600387594048482,
          0.20515073678384357,
          -0.38367430459649504,
          1.1030134451203024,
          0.17577903989255617,
          0.05909350588535493,
          0.9060438420963102,
          -1.176374199231999,
          -1.6070486970361355,
          1.0184887224199144,
          0.0719696391996265,
          -0.6869826904235876,
          -0.16460152728129593,
          -0.35243474239572575,
          -1.9430458105049733,
          0.2933875677142585,
          0.8147781673269966,
          0.1345823636843486,
          -0.24262686906277547,
          1.2900084062266597,
          -1.742193371249046,
          1.1275374880419575,
          0.576888577525062,
          -1.1794518032333612,
          0.5181270969759182,
          -0.28574157279352047,
          -0.22175649553356597,
          0.2813332139097955,
          -0.5233650816443627,
          -1.4848214871943564,
          -2.2858417656552925,
          -1.4303439360899257,
          -0.7204253348743646,
          -0.9294079819027545,
          -0.9257964005341828,
          0.01871365692644488,
          -1.4190258893838466,
          -1.3911593844039067,
          1.284936979432578,
          -1.917648055426853,
          -1.1439162262493472,
          0.4660789865538819,
          -0.5618536694903467,
          -1.1217661119240674,
          -0.7830955152004814,
          -0.3964975240873266,
          -0.6468406852173031,
          0.34229290137010937,
          -0.5813133729108274,
          -0.525986127539155,
          0.2772442085639978,
          -2.236687488425607,
          -0.7242269897500356,
          -1.737558828333686,
          -1.3565212899183334,
          -0.549044918185219,
          1.3069133552484964,
          -0.2903838593639379,
          -0.8920967004629824,
          -0.9345202102475368,
          0.5497897959314942,
          0.42105714373918907,
          -1.937703571631979,
          -0.871566785049873,
          1.7004145299257194,
          -0.707844864137198,
          0.6009239704775721,
          -1.3318353999603316,
          0.8486676862766808,
          0.4039525974905113,
          0.8514364200361985
         ]
        },
        {
         "line": {
          "color": "rgba(128, 0, 128, 1.0)",
          "dash": "solid",
          "shape": "linear",
          "width": 1.3
         },
         "mode": "lines",
         "name": "D",
         "text": "",
         "type": "scatter",
         "x": [
          0,
          1,
          2,
          3,
          4,
          5,
          6,
          7,
          8,
          9,
          10,
          11,
          12,
          13,
          14,
          15,
          16,
          17,
          18,
          19,
          20,
          21,
          22,
          23,
          24,
          25,
          26,
          27,
          28,
          29,
          30,
          31,
          32,
          33,
          34,
          35,
          36,
          37,
          38,
          39,
          40,
          41,
          42,
          43,
          44,
          45,
          46,
          47,
          48,
          49,
          50,
          51,
          52,
          53,
          54,
          55,
          56,
          57,
          58,
          59,
          60,
          61,
          62,
          63,
          64,
          65,
          66,
          67,
          68,
          69,
          70,
          71,
          72,
          73,
          74,
          75,
          76,
          77,
          78,
          79,
          80,
          81,
          82,
          83,
          84,
          85,
          86,
          87,
          88,
          89,
          90,
          91,
          92,
          93,
          94,
          95,
          96,
          97,
          98,
          99
         ],
         "y": [
          0.4402792313594633,
          -2.231875219530463,
          0.506085790169927,
          0.3739216457196463,
          0.5581079001710428,
          0.4274038505191474,
          0.3798748753703595,
          -1.448309773483199,
          -0.26478675575818633,
          -1.5492527548137627,
          -1.5203405467799962,
          0.29671073239926654,
          -1.123886935293182,
          -0.00966584439369465,
          0.2641011324843051,
          -0.03449149511221563,
          1.2535885304778782,
          -1.071374141698954,
          1.4474862451647823,
          -0.44183298656970094,
          0.2238959910693913,
          1.2640035090577666,
          -0.8722077491862223,
          1.0539208141083116,
          -0.05435394505681398,
          0.05858998681185259,
          0.0647952104940045,
          1.3060176712332476,
          -0.5889534365463991,
          1.286879805367101,
          -1.8137269956104176,
          -0.8645353028348475,
          1.1491416413431492,
          -0.48956025462922365,
          -1.212447049698165,
          -0.7566594934068639,
          1.3351510505403292,
          1.0952921221471876,
          0.2109797601915426,
          0.5000273184490857,
          1.5823984923308345,
          0.22291563155010405,
          -0.06846769305685602,
          2.553488550639987,
          -0.09809275094245921,
          1.0530885573770068,
          -1.5470423641151319,
          -2.7885014218021444,
          0.47425994462288223,
          1.4892794517759067,
          -0.42172309615353076,
          -0.09905082778889188,
          0.5774054835753971,
          0.18460369988935615,
          -0.02785843168581629,
          -1.1036759738103374,
          -0.474135721105905,
          -0.6124711047943953,
          0.10813003622608242,
          1.804446472034872,
          0.16118724351311858,
          -0.053463021710888306,
          -0.9108941156513923,
          0.1714273870289398,
          -1.8973499056236238,
          1.7864266672473026,
          1.2007151338638131,
          -0.9068744996688112,
          0.11659544639734006,
          0.20058508971137132,
          -1.8602597423337406,
          1.3964573738687998,
          0.14357841616147643,
          -0.27363474805865806,
          -0.7567940092165989,
          0.8639357076518587,
          1.7574488135100723,
          0.12319664152585351,
          1.5436451668305928,
          -1.2909390728105758,
          -1.0762238927141718,
          0.7011791021336731,
          -0.01899808250300709,
          -1.6908586470464428,
          -1.207040308484164,
          -0.85238176382397,
          -0.0453678985264209,
          -0.13162954399743754,
          -0.08234015768776166,
          0.8834075972458294,
          -0.5709708007470555,
          -0.8480021538235875,
          -1.0568511503362594,
          -0.08352093882807796,
          -0.6498746858584202,
          -1.2074438975271147,
          -0.5079688229414314,
          0.6148451371506651,
          -0.11425738151919548,
          -0.976090291729148
         ]
        }
       ],
       "layout": {
        "legend": {
         "bgcolor": "#F5F6F9",
         "font": {
          "color": "#4D5663"
         }
        },
        "paper_bgcolor": "#F5F6F9",
        "plot_bgcolor": "#F5F6F9",
        "template": {
         "data": {
          "bar": [
           {
            "error_x": {
             "color": "#2a3f5f"
            },
            "error_y": {
             "color": "#2a3f5f"
            },
            "marker": {
             "line": {
              "color": "#E5ECF6",
              "width": 0.5
             }
            },
            "type": "bar"
           }
          ],
          "barpolar": [
           {
            "marker": {
             "line": {
              "color": "#E5ECF6",
              "width": 0.5
             }
            },
            "type": "barpolar"
           }
          ],
          "carpet": [
           {
            "aaxis": {
             "endlinecolor": "#2a3f5f",
             "gridcolor": "white",
             "linecolor": "white",
             "minorgridcolor": "white",
             "startlinecolor": "#2a3f5f"
            },
            "baxis": {
             "endlinecolor": "#2a3f5f",
             "gridcolor": "white",
             "linecolor": "white",
             "minorgridcolor": "white",
             "startlinecolor": "#2a3f5f"
            },
            "type": "carpet"
           }
          ],
          "choropleth": [
           {
            "colorbar": {
             "outlinewidth": 0,
             "ticks": ""
            },
            "type": "choropleth"
           }
          ],
          "contour": [
           {
            "colorbar": {
             "outlinewidth": 0,
             "ticks": ""
            },
            "colorscale": [
             [
              0,
              "#0d0887"
             ],
             [
              0.1111111111111111,
              "#46039f"
             ],
             [
              0.2222222222222222,
              "#7201a8"
             ],
             [
              0.3333333333333333,
              "#9c179e"
             ],
             [
              0.4444444444444444,
              "#bd3786"
             ],
             [
              0.5555555555555556,
              "#d8576b"
             ],
             [
              0.6666666666666666,
              "#ed7953"
             ],
             [
              0.7777777777777778,
              "#fb9f3a"
             ],
             [
              0.8888888888888888,
              "#fdca26"
             ],
             [
              1,
              "#f0f921"
             ]
            ],
            "type": "contour"
           }
          ],
          "contourcarpet": [
           {
            "colorbar": {
             "outlinewidth": 0,
             "ticks": ""
            },
            "type": "contourcarpet"
           }
          ],
          "heatmap": [
           {
            "colorbar": {
             "outlinewidth": 0,
             "ticks": ""
            },
            "colorscale": [
             [
              0,
              "#0d0887"
             ],
             [
              0.1111111111111111,
              "#46039f"
             ],
             [
              0.2222222222222222,
              "#7201a8"
             ],
             [
              0.3333333333333333,
              "#9c179e"
             ],
             [
              0.4444444444444444,
              "#bd3786"
             ],
             [
              0.5555555555555556,
              "#d8576b"
             ],
             [
              0.6666666666666666,
              "#ed7953"
             ],
             [
              0.7777777777777778,
              "#fb9f3a"
             ],
             [
              0.8888888888888888,
              "#fdca26"
             ],
             [
              1,
              "#f0f921"
             ]
            ],
            "type": "heatmap"
           }
          ],
          "heatmapgl": [
           {
            "colorbar": {
             "outlinewidth": 0,
             "ticks": ""
            },
            "colorscale": [
             [
              0,
              "#0d0887"
             ],
             [
              0.1111111111111111,
              "#46039f"
             ],
             [
              0.2222222222222222,
              "#7201a8"
             ],
             [
              0.3333333333333333,
              "#9c179e"
             ],
             [
              0.4444444444444444,
              "#bd3786"
             ],
             [
              0.5555555555555556,
              "#d8576b"
             ],
             [
              0.6666666666666666,
              "#ed7953"
             ],
             [
              0.7777777777777778,
              "#fb9f3a"
             ],
             [
              0.8888888888888888,
              "#fdca26"
             ],
             [
              1,
              "#f0f921"
             ]
            ],
            "type": "heatmapgl"
           }
          ],
          "histogram": [
           {
            "marker": {
             "colorbar": {
              "outlinewidth": 0,
              "ticks": ""
             }
            },
            "type": "histogram"
           }
          ],
          "histogram2d": [
           {
            "colorbar": {
             "outlinewidth": 0,
             "ticks": ""
            },
            "colorscale": [
             [
              0,
              "#0d0887"
             ],
             [
              0.1111111111111111,
              "#46039f"
             ],
             [
              0.2222222222222222,
              "#7201a8"
             ],
             [
              0.3333333333333333,
              "#9c179e"
             ],
             [
              0.4444444444444444,
              "#bd3786"
             ],
             [
              0.5555555555555556,
              "#d8576b"
             ],
             [
              0.6666666666666666,
              "#ed7953"
             ],
             [
              0.7777777777777778,
              "#fb9f3a"
             ],
             [
              0.8888888888888888,
              "#fdca26"
             ],
             [
              1,
              "#f0f921"
             ]
            ],
            "type": "histogram2d"
           }
          ],
          "histogram2dcontour": [
           {
            "colorbar": {
             "outlinewidth": 0,
             "ticks": ""
            },
            "colorscale": [
             [
              0,
              "#0d0887"
             ],
             [
              0.1111111111111111,
              "#46039f"
             ],
             [
              0.2222222222222222,
              "#7201a8"
             ],
             [
              0.3333333333333333,
              "#9c179e"
             ],
             [
              0.4444444444444444,
              "#bd3786"
             ],
             [
              0.5555555555555556,
              "#d8576b"
             ],
             [
              0.6666666666666666,
              "#ed7953"
             ],
             [
              0.7777777777777778,
              "#fb9f3a"
             ],
             [
              0.8888888888888888,
              "#fdca26"
             ],
             [
              1,
              "#f0f921"
             ]
            ],
            "type": "histogram2dcontour"
           }
          ],
          "mesh3d": [
           {
            "colorbar": {
             "outlinewidth": 0,
             "ticks": ""
            },
            "type": "mesh3d"
           }
          ],
          "parcoords": [
           {
            "line": {
             "colorbar": {
              "outlinewidth": 0,
              "ticks": ""
             }
            },
            "type": "parcoords"
           }
          ],
          "pie": [
           {
            "automargin": true,
            "type": "pie"
           }
          ],
          "scatter": [
           {
            "marker": {
             "colorbar": {
              "outlinewidth": 0,
              "ticks": ""
             }
            },
            "type": "scatter"
           }
          ],
          "scatter3d": [
           {
            "line": {
             "colorbar": {
              "outlinewidth": 0,
              "ticks": ""
             }
            },
            "marker": {
             "colorbar": {
              "outlinewidth": 0,
              "ticks": ""
             }
            },
            "type": "scatter3d"
           }
          ],
          "scattercarpet": [
           {
            "marker": {
             "colorbar": {
              "outlinewidth": 0,
              "ticks": ""
             }
            },
            "type": "scattercarpet"
           }
          ],
          "scattergeo": [
           {
            "marker": {
             "colorbar": {
              "outlinewidth": 0,
              "ticks": ""
             }
            },
            "type": "scattergeo"
           }
          ],
          "scattergl": [
           {
            "marker": {
             "colorbar": {
              "outlinewidth": 0,
              "ticks": ""
             }
            },
            "type": "scattergl"
           }
          ],
          "scattermapbox": [
           {
            "marker": {
             "colorbar": {
              "outlinewidth": 0,
              "ticks": ""
             }
            },
            "type": "scattermapbox"
           }
          ],
          "scatterpolar": [
           {
            "marker": {
             "colorbar": {
              "outlinewidth": 0,
              "ticks": ""
             }
            },
            "type": "scatterpolar"
           }
          ],
          "scatterpolargl": [
           {
            "marker": {
             "colorbar": {
              "outlinewidth": 0,
              "ticks": ""
             }
            },
            "type": "scatterpolargl"
           }
          ],
          "scatterternary": [
           {
            "marker": {
             "colorbar": {
              "outlinewidth": 0,
              "ticks": ""
             }
            },
            "type": "scatterternary"
           }
          ],
          "surface": [
           {
            "colorbar": {
             "outlinewidth": 0,
             "ticks": ""
            },
            "colorscale": [
             [
              0,
              "#0d0887"
             ],
             [
              0.1111111111111111,
              "#46039f"
             ],
             [
              0.2222222222222222,
              "#7201a8"
             ],
             [
              0.3333333333333333,
              "#9c179e"
             ],
             [
              0.4444444444444444,
              "#bd3786"
             ],
             [
              0.5555555555555556,
              "#d8576b"
             ],
             [
              0.6666666666666666,
              "#ed7953"
             ],
             [
              0.7777777777777778,
              "#fb9f3a"
             ],
             [
              0.8888888888888888,
              "#fdca26"
             ],
             [
              1,
              "#f0f921"
             ]
            ],
            "type": "surface"
           }
          ],
          "table": [
           {
            "cells": {
             "fill": {
              "color": "#EBF0F8"
             },
             "line": {
              "color": "white"
             }
            },
            "header": {
             "fill": {
              "color": "#C8D4E3"
             },
             "line": {
              "color": "white"
             }
            },
            "type": "table"
           }
          ]
         },
         "layout": {
          "annotationdefaults": {
           "arrowcolor": "#2a3f5f",
           "arrowhead": 0,
           "arrowwidth": 1
          },
          "coloraxis": {
           "colorbar": {
            "outlinewidth": 0,
            "ticks": ""
           }
          },
          "colorscale": {
           "diverging": [
            [
             0,
             "#8e0152"
            ],
            [
             0.1,
             "#c51b7d"
            ],
            [
             0.2,
             "#de77ae"
            ],
            [
             0.3,
             "#f1b6da"
            ],
            [
             0.4,
             "#fde0ef"
            ],
            [
             0.5,
             "#f7f7f7"
            ],
            [
             0.6,
             "#e6f5d0"
            ],
            [
             0.7,
             "#b8e186"
            ],
            [
             0.8,
             "#7fbc41"
            ],
            [
             0.9,
             "#4d9221"
            ],
            [
             1,
             "#276419"
            ]
           ],
           "sequential": [
            [
             0,
             "#0d0887"
            ],
            [
             0.1111111111111111,
             "#46039f"
            ],
            [
             0.2222222222222222,
             "#7201a8"
            ],
            [
             0.3333333333333333,
             "#9c179e"
            ],
            [
             0.4444444444444444,
             "#bd3786"
            ],
            [
             0.5555555555555556,
             "#d8576b"
            ],
            [
             0.6666666666666666,
             "#ed7953"
            ],
            [
             0.7777777777777778,
             "#fb9f3a"
            ],
            [
             0.8888888888888888,
             "#fdca26"
            ],
            [
             1,
             "#f0f921"
            ]
           ],
           "sequentialminus": [
            [
             0,
             "#0d0887"
            ],
            [
             0.1111111111111111,
             "#46039f"
            ],
            [
             0.2222222222222222,
             "#7201a8"
            ],
            [
             0.3333333333333333,
             "#9c179e"
            ],
            [
             0.4444444444444444,
             "#bd3786"
            ],
            [
             0.5555555555555556,
             "#d8576b"
            ],
            [
             0.6666666666666666,
             "#ed7953"
            ],
            [
             0.7777777777777778,
             "#fb9f3a"
            ],
            [
             0.8888888888888888,
             "#fdca26"
            ],
            [
             1,
             "#f0f921"
            ]
           ]
          },
          "colorway": [
           "#636efa",
           "#EF553B",
           "#00cc96",
           "#ab63fa",
           "#FFA15A",
           "#19d3f3",
           "#FF6692",
           "#B6E880",
           "#FF97FF",
           "#FECB52"
          ],
          "font": {
           "color": "#2a3f5f"
          },
          "geo": {
           "bgcolor": "white",
           "lakecolor": "white",
           "landcolor": "#E5ECF6",
           "showlakes": true,
           "showland": true,
           "subunitcolor": "white"
          },
          "hoverlabel": {
           "align": "left"
          },
          "hovermode": "closest",
          "mapbox": {
           "style": "light"
          },
          "paper_bgcolor": "white",
          "plot_bgcolor": "#E5ECF6",
          "polar": {
           "angularaxis": {
            "gridcolor": "white",
            "linecolor": "white",
            "ticks": ""
           },
           "bgcolor": "#E5ECF6",
           "radialaxis": {
            "gridcolor": "white",
            "linecolor": "white",
            "ticks": ""
           }
          },
          "scene": {
           "xaxis": {
            "backgroundcolor": "#E5ECF6",
            "gridcolor": "white",
            "gridwidth": 2,
            "linecolor": "white",
            "showbackground": true,
            "ticks": "",
            "zerolinecolor": "white"
           },
           "yaxis": {
            "backgroundcolor": "#E5ECF6",
            "gridcolor": "white",
            "gridwidth": 2,
            "linecolor": "white",
            "showbackground": true,
            "ticks": "",
            "zerolinecolor": "white"
           },
           "zaxis": {
            "backgroundcolor": "#E5ECF6",
            "gridcolor": "white",
            "gridwidth": 2,
            "linecolor": "white",
            "showbackground": true,
            "ticks": "",
            "zerolinecolor": "white"
           }
          },
          "shapedefaults": {
           "line": {
            "color": "#2a3f5f"
           }
          },
          "ternary": {
           "aaxis": {
            "gridcolor": "white",
            "linecolor": "white",
            "ticks": ""
           },
           "baxis": {
            "gridcolor": "white",
            "linecolor": "white",
            "ticks": ""
           },
           "bgcolor": "#E5ECF6",
           "caxis": {
            "gridcolor": "white",
            "linecolor": "white",
            "ticks": ""
           }
          },
          "title": {
           "x": 0.05
          },
          "xaxis": {
           "automargin": true,
           "gridcolor": "white",
           "linecolor": "white",
           "ticks": "",
           "title": {
            "standoff": 15
           },
           "zerolinecolor": "white",
           "zerolinewidth": 2
          },
          "yaxis": {
           "automargin": true,
           "gridcolor": "white",
           "linecolor": "white",
           "ticks": "",
           "title": {
            "standoff": 15
           },
           "zerolinecolor": "white",
           "zerolinewidth": 2
          }
         }
        },
        "title": {
         "font": {
          "color": "#4D5663"
         }
        },
        "xaxis": {
         "gridcolor": "#E1E5ED",
         "showgrid": true,
         "tickfont": {
          "color": "#4D5663"
         },
         "title": {
          "font": {
           "color": "#4D5663"
          },
          "text": ""
         },
         "zerolinecolor": "#E1E5ED"
        },
        "yaxis": {
         "gridcolor": "#E1E5ED",
         "showgrid": true,
         "tickfont": {
          "color": "#4D5663"
         },
         "title": {
          "font": {
           "color": "#4D5663"
          },
          "text": ""
         },
         "zerolinecolor": "#E1E5ED"
        }
       }
      },
      "text/html": [
       "<div>                            <div id=\"cea34ee2-8ad2-455e-a2d6-43f56f71a21f\" class=\"plotly-graph-div\" style=\"height:525px; width:100%;\"></div>            <script type=\"text/javascript\">                require([\"plotly\"], function(Plotly) {                    window.PLOTLYENV=window.PLOTLYENV || {};\n",
       "                    window.PLOTLYENV.BASE_URL='https://plot.ly';                                    if (document.getElementById(\"cea34ee2-8ad2-455e-a2d6-43f56f71a21f\")) {                    Plotly.newPlot(                        \"cea34ee2-8ad2-455e-a2d6-43f56f71a21f\",                        [{\"line\": {\"color\": \"rgba(255, 153, 51, 1.0)\", \"dash\": \"solid\", \"shape\": \"linear\", \"width\": 1.3}, \"mode\": \"lines\", \"name\": \"A\", \"text\": \"\", \"type\": \"scatter\", \"x\": [0, 1, 2, 3, 4, 5, 6, 7, 8, 9, 10, 11, 12, 13, 14, 15, 16, 17, 18, 19, 20, 21, 22, 23, 24, 25, 26, 27, 28, 29, 30, 31, 32, 33, 34, 35, 36, 37, 38, 39, 40, 41, 42, 43, 44, 45, 46, 47, 48, 49, 50, 51, 52, 53, 54, 55, 56, 57, 58, 59, 60, 61, 62, 63, 64, 65, 66, 67, 68, 69, 70, 71, 72, 73, 74, 75, 76, 77, 78, 79, 80, 81, 82, 83, 84, 85, 86, 87, 88, 89, 90, 91, 92, 93, 94, 95, 96, 97, 98, 99], \"y\": [-0.39918119580901057, 0.7418621453466906, -0.4313355775472436, 0.3355224667718379, -0.7151869915905287, 0.145668325550864, 0.15591577298259662, 0.016226263834492997, 0.4605683837845119, -1.4139591642678533, -3.346775721169021, -1.2159667506526999, 0.5809608144629882, -0.26283320353488304, 1.2113580317867414, -0.4415756722746691, 2.2884194084433775, 1.0557466676734149, -1.442826254773536, -0.8063709415927582, 0.922383051818235, -0.3878906835859324, 0.025967017018530797, 0.6044282595635964, -0.7065329352842874, 0.9150675435000666, 0.18735127393393106, -0.2845605758953672, -0.09322552030780629, -0.1639557134477811, 0.156542641123135, -0.9341454884535909, -1.1960968243851422, -0.7420113595879909, -1.1231115173825923, -0.06575340563803043, -1.2314451894847818, -0.7004696413846199, 0.2750929324690308, 0.7915002131579784, -1.1253744106107293, 0.5712846346931809, -1.7280218331388324, 0.36865239908201825, -1.0668871446136439, -0.9061338046467238, -1.037945002921429, -0.5578754042788866, 0.14708542676641603, 0.8746134766485341, -0.36276225986481275, 0.12243563569516946, -0.05854080893376823, 1.162186833598004, -1.104489545096553, -0.26487716168614467, -0.05463255455270555, 1.495963991909491, 1.4742509865754625, 0.8390497854946452, 0.5108072739104828, -0.29675905041248607, 0.4317219076292566, 0.7526597856998946, -1.2662095357984315, -0.20809051371739795, -1.4334480138884427, 0.41521475437323424, -0.3681440922719436, -0.4974530040747305, 0.332517930744042, 0.1235890800313146, 0.5909382100815366, -1.0065808800216673, -0.6822563665823921, 1.1077016925230518, 0.07703396073766987, 0.42953692998520493, 0.7592976638295739, -0.8805787003240935, 1.5490488597669556, -0.2766809050067881, 0.7018174178549077, 0.1314637920120881, -0.40257295954386835, -0.6849120108591445, -0.8530469126783897, -0.8710488904466427, -0.40143057082221745, 0.5753943378178665, 0.5232222120203804, -0.22675126963357795, -1.0348115402137625, -0.026371322901696262, 0.7374597636331084, 0.23308846902896885, -0.4367113468497734, 0.5978251807763769, 0.6581567165919348, 1.600974778682548]}, {\"line\": {\"color\": \"rgba(55, 128, 191, 1.0)\", \"dash\": \"solid\", \"shape\": \"linear\", \"width\": 1.3}, \"mode\": \"lines\", \"name\": \"B\", \"text\": \"\", \"type\": \"scatter\", \"x\": [0, 1, 2, 3, 4, 5, 6, 7, 8, 9, 10, 11, 12, 13, 14, 15, 16, 17, 18, 19, 20, 21, 22, 23, 24, 25, 26, 27, 28, 29, 30, 31, 32, 33, 34, 35, 36, 37, 38, 39, 40, 41, 42, 43, 44, 45, 46, 47, 48, 49, 50, 51, 52, 53, 54, 55, 56, 57, 58, 59, 60, 61, 62, 63, 64, 65, 66, 67, 68, 69, 70, 71, 72, 73, 74, 75, 76, 77, 78, 79, 80, 81, 82, 83, 84, 85, 86, 87, 88, 89, 90, 91, 92, 93, 94, 95, 96, 97, 98, 99], \"y\": [2.2070461301559066, -0.788131612862357, -0.10784315640253468, -0.04044160801371967, -2.2896748695933327, 1.3429392443285344, 1.4865555779792607, 0.3659741914873344, -0.7892499216942237, 0.1141250947886066, -0.6139977202850474, 0.037322520254553855, 0.29142557618426357, 0.4113345097957159, 1.4192964679111584, 0.36923408302610705, 0.48399864965340045, 0.6079126562865081, -0.7977858369497093, -0.6119403421986435, 0.13146439326926732, 0.08725012491665272, 0.09456009132885217, -2.190707420460496, 1.12562920670872, -0.6839747581993745, 0.3115134349504725, 1.4492612304178427, 0.06999200823006771, -0.38800767411587783, -0.46598508418374707, -2.181197442663968, -1.0956797599610515, -0.9553121956681996, 0.42403097594459715, -1.6558545434866523, -1.3819798723174677, 1.6854462250364648, 0.732890145241412, -1.3374766327934853, -0.3260739282800016, 1.6637557322566037, -0.8409746644861881, -1.4111517724895952, -0.5393254688380885, 0.8754720938686266, 0.9997351757559365, -0.049471515590174334, 0.19908149523353075, 0.6249144899716452, -0.13465543056006563, -0.7161254082218936, 0.907665817980667, -1.0156398903308865, 0.07345276778828155, -1.730105693139972, -1.2104401316439815, -0.42246282382447614, 1.223087721057286, 0.25051121377375185, -0.11663617757627032, 0.25283529945234606, 1.2536411501995246, -0.8608597145861724, 0.06555619946573002, 1.1958308271299294, -1.3876026390431448, 0.0442082545566528, -1.341362716407108, 1.1968678848787968, 0.9087380738655427, 1.5555799622636919, 0.9353902928609358, 0.5473797210703165, 0.7084174573200912, -0.3698724043916409, -0.21573080837183653, 0.1359526800212306, 0.15906429779288436, -0.5540236467037417, -0.3414189576302107, -0.2718414423436621, -0.4666969220684351, -1.076680135465115, 1.6120850281316867, 0.4812952929193751, -1.9705129259249963, 0.31105314049038896, 0.9222631715288385, 1.4576098663395574, 0.09972461282505903, 0.10840621208454, 0.7745676451840312, 0.4074215942586728, 0.2725750104410174, 0.39225261140363143, -2.3594286944335656, -0.22987691975601063, -0.10824276280124188, -0.7045627207862724]}, {\"line\": {\"color\": \"rgba(50, 171, 96, 1.0)\", \"dash\": \"solid\", \"shape\": \"linear\", \"width\": 1.3}, \"mode\": \"lines\", \"name\": \"C\", \"text\": \"\", \"type\": \"scatter\", \"x\": [0, 1, 2, 3, 4, 5, 6, 7, 8, 9, 10, 11, 12, 13, 14, 15, 16, 17, 18, 19, 20, 21, 22, 23, 24, 25, 26, 27, 28, 29, 30, 31, 32, 33, 34, 35, 36, 37, 38, 39, 40, 41, 42, 43, 44, 45, 46, 47, 48, 49, 50, 51, 52, 53, 54, 55, 56, 57, 58, 59, 60, 61, 62, 63, 64, 65, 66, 67, 68, 69, 70, 71, 72, 73, 74, 75, 76, 77, 78, 79, 80, 81, 82, 83, 84, 85, 86, 87, 88, 89, 90, 91, 92, 93, 94, 95, 96, 97, 98, 99], \"y\": [-0.6384635434448434, 0.20129141961750233, 1.4455203111308286, -2.047290855826421, -2.029950571478503, 0.29635493029587623, -1.0690424023584588, -1.2637584431139288, -0.3614137588757708, 0.32950204350421197, 0.42846767886560316, 0.5601788272810735, -0.0017168075576362444, -0.4972131141137663, 0.25457364680471645, 0.2137456547519348, -0.4403021838963106, -1.0315565236333366, -0.023894730689849437, 0.5924047035997578, 0.35942749772259, -0.6066457895243129, -0.2582454921550214, -0.26621451459259154, -0.9573050494162388, -0.8706096263812089, 0.5102967350809852, 0.04320071844350394, 0.19323022101942358, -0.5600387594048482, 0.20515073678384357, -0.38367430459649504, 1.1030134451203024, 0.17577903989255617, 0.05909350588535493, 0.9060438420963102, -1.176374199231999, -1.6070486970361355, 1.0184887224199144, 0.0719696391996265, -0.6869826904235876, -0.16460152728129593, -0.35243474239572575, -1.9430458105049733, 0.2933875677142585, 0.8147781673269966, 0.1345823636843486, -0.24262686906277547, 1.2900084062266597, -1.742193371249046, 1.1275374880419575, 0.576888577525062, -1.1794518032333612, 0.5181270969759182, -0.28574157279352047, -0.22175649553356597, 0.2813332139097955, -0.5233650816443627, -1.4848214871943564, -2.2858417656552925, -1.4303439360899257, -0.7204253348743646, -0.9294079819027545, -0.9257964005341828, 0.01871365692644488, -1.4190258893838466, -1.3911593844039067, 1.284936979432578, -1.917648055426853, -1.1439162262493472, 0.4660789865538819, -0.5618536694903467, -1.1217661119240674, -0.7830955152004814, -0.3964975240873266, -0.6468406852173031, 0.34229290137010937, -0.5813133729108274, -0.525986127539155, 0.2772442085639978, -2.236687488425607, -0.7242269897500356, -1.737558828333686, -1.3565212899183334, -0.549044918185219, 1.3069133552484964, -0.2903838593639379, -0.8920967004629824, -0.9345202102475368, 0.5497897959314942, 0.42105714373918907, -1.937703571631979, -0.871566785049873, 1.7004145299257194, -0.707844864137198, 0.6009239704775721, -1.3318353999603316, 0.8486676862766808, 0.4039525974905113, 0.8514364200361985]}, {\"line\": {\"color\": \"rgba(128, 0, 128, 1.0)\", \"dash\": \"solid\", \"shape\": \"linear\", \"width\": 1.3}, \"mode\": \"lines\", \"name\": \"D\", \"text\": \"\", \"type\": \"scatter\", \"x\": [0, 1, 2, 3, 4, 5, 6, 7, 8, 9, 10, 11, 12, 13, 14, 15, 16, 17, 18, 19, 20, 21, 22, 23, 24, 25, 26, 27, 28, 29, 30, 31, 32, 33, 34, 35, 36, 37, 38, 39, 40, 41, 42, 43, 44, 45, 46, 47, 48, 49, 50, 51, 52, 53, 54, 55, 56, 57, 58, 59, 60, 61, 62, 63, 64, 65, 66, 67, 68, 69, 70, 71, 72, 73, 74, 75, 76, 77, 78, 79, 80, 81, 82, 83, 84, 85, 86, 87, 88, 89, 90, 91, 92, 93, 94, 95, 96, 97, 98, 99], \"y\": [0.4402792313594633, -2.231875219530463, 0.506085790169927, 0.3739216457196463, 0.5581079001710428, 0.4274038505191474, 0.3798748753703595, -1.448309773483199, -0.26478675575818633, -1.5492527548137627, -1.5203405467799962, 0.29671073239926654, -1.123886935293182, -0.00966584439369465, 0.2641011324843051, -0.03449149511221563, 1.2535885304778782, -1.071374141698954, 1.4474862451647823, -0.44183298656970094, 0.2238959910693913, 1.2640035090577666, -0.8722077491862223, 1.0539208141083116, -0.05435394505681398, 0.05858998681185259, 0.0647952104940045, 1.3060176712332476, -0.5889534365463991, 1.286879805367101, -1.8137269956104176, -0.8645353028348475, 1.1491416413431492, -0.48956025462922365, -1.212447049698165, -0.7566594934068639, 1.3351510505403292, 1.0952921221471876, 0.2109797601915426, 0.5000273184490857, 1.5823984923308345, 0.22291563155010405, -0.06846769305685602, 2.553488550639987, -0.09809275094245921, 1.0530885573770068, -1.5470423641151319, -2.7885014218021444, 0.47425994462288223, 1.4892794517759067, -0.42172309615353076, -0.09905082778889188, 0.5774054835753971, 0.18460369988935615, -0.02785843168581629, -1.1036759738103374, -0.474135721105905, -0.6124711047943953, 0.10813003622608242, 1.804446472034872, 0.16118724351311858, -0.053463021710888306, -0.9108941156513923, 0.1714273870289398, -1.8973499056236238, 1.7864266672473026, 1.2007151338638131, -0.9068744996688112, 0.11659544639734006, 0.20058508971137132, -1.8602597423337406, 1.3964573738687998, 0.14357841616147643, -0.27363474805865806, -0.7567940092165989, 0.8639357076518587, 1.7574488135100723, 0.12319664152585351, 1.5436451668305928, -1.2909390728105758, -1.0762238927141718, 0.7011791021336731, -0.01899808250300709, -1.6908586470464428, -1.207040308484164, -0.85238176382397, -0.0453678985264209, -0.13162954399743754, -0.08234015768776166, 0.8834075972458294, -0.5709708007470555, -0.8480021538235875, -1.0568511503362594, -0.08352093882807796, -0.6498746858584202, -1.2074438975271147, -0.5079688229414314, 0.6148451371506651, -0.11425738151919548, -0.976090291729148]}],                        {\"legend\": {\"bgcolor\": \"#F5F6F9\", \"font\": {\"color\": \"#4D5663\"}}, \"paper_bgcolor\": \"#F5F6F9\", \"plot_bgcolor\": \"#F5F6F9\", \"template\": {\"data\": {\"bar\": [{\"error_x\": {\"color\": \"#2a3f5f\"}, \"error_y\": {\"color\": \"#2a3f5f\"}, \"marker\": {\"line\": {\"color\": \"#E5ECF6\", \"width\": 0.5}}, \"type\": \"bar\"}], \"barpolar\": [{\"marker\": {\"line\": {\"color\": \"#E5ECF6\", \"width\": 0.5}}, \"type\": \"barpolar\"}], \"carpet\": [{\"aaxis\": {\"endlinecolor\": \"#2a3f5f\", \"gridcolor\": \"white\", \"linecolor\": \"white\", \"minorgridcolor\": \"white\", \"startlinecolor\": \"#2a3f5f\"}, \"baxis\": {\"endlinecolor\": \"#2a3f5f\", \"gridcolor\": \"white\", \"linecolor\": \"white\", \"minorgridcolor\": \"white\", \"startlinecolor\": \"#2a3f5f\"}, \"type\": \"carpet\"}], \"choropleth\": [{\"colorbar\": {\"outlinewidth\": 0, \"ticks\": \"\"}, \"type\": \"choropleth\"}], \"contour\": [{\"colorbar\": {\"outlinewidth\": 0, \"ticks\": \"\"}, \"colorscale\": [[0.0, \"#0d0887\"], [0.1111111111111111, \"#46039f\"], [0.2222222222222222, \"#7201a8\"], [0.3333333333333333, \"#9c179e\"], [0.4444444444444444, \"#bd3786\"], [0.5555555555555556, \"#d8576b\"], [0.6666666666666666, \"#ed7953\"], [0.7777777777777778, \"#fb9f3a\"], [0.8888888888888888, \"#fdca26\"], [1.0, \"#f0f921\"]], \"type\": \"contour\"}], \"contourcarpet\": [{\"colorbar\": {\"outlinewidth\": 0, \"ticks\": \"\"}, \"type\": \"contourcarpet\"}], \"heatmap\": [{\"colorbar\": {\"outlinewidth\": 0, \"ticks\": \"\"}, \"colorscale\": [[0.0, \"#0d0887\"], [0.1111111111111111, \"#46039f\"], [0.2222222222222222, \"#7201a8\"], [0.3333333333333333, \"#9c179e\"], [0.4444444444444444, \"#bd3786\"], [0.5555555555555556, \"#d8576b\"], [0.6666666666666666, \"#ed7953\"], [0.7777777777777778, \"#fb9f3a\"], [0.8888888888888888, \"#fdca26\"], [1.0, \"#f0f921\"]], \"type\": \"heatmap\"}], \"heatmapgl\": [{\"colorbar\": {\"outlinewidth\": 0, \"ticks\": \"\"}, \"colorscale\": [[0.0, \"#0d0887\"], [0.1111111111111111, \"#46039f\"], [0.2222222222222222, \"#7201a8\"], [0.3333333333333333, \"#9c179e\"], [0.4444444444444444, \"#bd3786\"], [0.5555555555555556, \"#d8576b\"], [0.6666666666666666, \"#ed7953\"], [0.7777777777777778, \"#fb9f3a\"], [0.8888888888888888, \"#fdca26\"], [1.0, \"#f0f921\"]], \"type\": \"heatmapgl\"}], \"histogram\": [{\"marker\": {\"colorbar\": {\"outlinewidth\": 0, \"ticks\": \"\"}}, \"type\": \"histogram\"}], \"histogram2d\": [{\"colorbar\": {\"outlinewidth\": 0, \"ticks\": \"\"}, \"colorscale\": [[0.0, \"#0d0887\"], [0.1111111111111111, \"#46039f\"], [0.2222222222222222, \"#7201a8\"], [0.3333333333333333, \"#9c179e\"], [0.4444444444444444, \"#bd3786\"], [0.5555555555555556, \"#d8576b\"], [0.6666666666666666, \"#ed7953\"], [0.7777777777777778, \"#fb9f3a\"], [0.8888888888888888, \"#fdca26\"], [1.0, \"#f0f921\"]], \"type\": \"histogram2d\"}], \"histogram2dcontour\": [{\"colorbar\": {\"outlinewidth\": 0, \"ticks\": \"\"}, \"colorscale\": [[0.0, \"#0d0887\"], [0.1111111111111111, \"#46039f\"], [0.2222222222222222, \"#7201a8\"], [0.3333333333333333, \"#9c179e\"], [0.4444444444444444, \"#bd3786\"], [0.5555555555555556, \"#d8576b\"], [0.6666666666666666, \"#ed7953\"], [0.7777777777777778, \"#fb9f3a\"], [0.8888888888888888, \"#fdca26\"], [1.0, \"#f0f921\"]], \"type\": \"histogram2dcontour\"}], \"mesh3d\": [{\"colorbar\": {\"outlinewidth\": 0, \"ticks\": \"\"}, \"type\": \"mesh3d\"}], \"parcoords\": [{\"line\": {\"colorbar\": {\"outlinewidth\": 0, \"ticks\": \"\"}}, \"type\": \"parcoords\"}], \"pie\": [{\"automargin\": true, \"type\": \"pie\"}], \"scatter\": [{\"marker\": {\"colorbar\": {\"outlinewidth\": 0, \"ticks\": \"\"}}, \"type\": \"scatter\"}], \"scatter3d\": [{\"line\": {\"colorbar\": {\"outlinewidth\": 0, \"ticks\": \"\"}}, \"marker\": {\"colorbar\": {\"outlinewidth\": 0, \"ticks\": \"\"}}, \"type\": \"scatter3d\"}], \"scattercarpet\": [{\"marker\": {\"colorbar\": {\"outlinewidth\": 0, \"ticks\": \"\"}}, \"type\": \"scattercarpet\"}], \"scattergeo\": [{\"marker\": {\"colorbar\": {\"outlinewidth\": 0, \"ticks\": \"\"}}, \"type\": \"scattergeo\"}], \"scattergl\": [{\"marker\": {\"colorbar\": {\"outlinewidth\": 0, \"ticks\": \"\"}}, \"type\": \"scattergl\"}], \"scattermapbox\": [{\"marker\": {\"colorbar\": {\"outlinewidth\": 0, \"ticks\": \"\"}}, \"type\": \"scattermapbox\"}], \"scatterpolar\": [{\"marker\": {\"colorbar\": {\"outlinewidth\": 0, \"ticks\": \"\"}}, \"type\": \"scatterpolar\"}], \"scatterpolargl\": [{\"marker\": {\"colorbar\": {\"outlinewidth\": 0, \"ticks\": \"\"}}, \"type\": \"scatterpolargl\"}], \"scatterternary\": [{\"marker\": {\"colorbar\": {\"outlinewidth\": 0, \"ticks\": \"\"}}, \"type\": \"scatterternary\"}], \"surface\": [{\"colorbar\": {\"outlinewidth\": 0, \"ticks\": \"\"}, \"colorscale\": [[0.0, \"#0d0887\"], [0.1111111111111111, \"#46039f\"], [0.2222222222222222, \"#7201a8\"], [0.3333333333333333, \"#9c179e\"], [0.4444444444444444, \"#bd3786\"], [0.5555555555555556, \"#d8576b\"], [0.6666666666666666, \"#ed7953\"], [0.7777777777777778, \"#fb9f3a\"], [0.8888888888888888, \"#fdca26\"], [1.0, \"#f0f921\"]], \"type\": \"surface\"}], \"table\": [{\"cells\": {\"fill\": {\"color\": \"#EBF0F8\"}, \"line\": {\"color\": \"white\"}}, \"header\": {\"fill\": {\"color\": \"#C8D4E3\"}, \"line\": {\"color\": \"white\"}}, \"type\": \"table\"}]}, \"layout\": {\"annotationdefaults\": {\"arrowcolor\": \"#2a3f5f\", \"arrowhead\": 0, \"arrowwidth\": 1}, \"coloraxis\": {\"colorbar\": {\"outlinewidth\": 0, \"ticks\": \"\"}}, \"colorscale\": {\"diverging\": [[0, \"#8e0152\"], [0.1, \"#c51b7d\"], [0.2, \"#de77ae\"], [0.3, \"#f1b6da\"], [0.4, \"#fde0ef\"], [0.5, \"#f7f7f7\"], [0.6, \"#e6f5d0\"], [0.7, \"#b8e186\"], [0.8, \"#7fbc41\"], [0.9, \"#4d9221\"], [1, \"#276419\"]], \"sequential\": [[0.0, \"#0d0887\"], [0.1111111111111111, \"#46039f\"], [0.2222222222222222, \"#7201a8\"], [0.3333333333333333, \"#9c179e\"], [0.4444444444444444, \"#bd3786\"], [0.5555555555555556, \"#d8576b\"], [0.6666666666666666, \"#ed7953\"], [0.7777777777777778, \"#fb9f3a\"], [0.8888888888888888, \"#fdca26\"], [1.0, \"#f0f921\"]], \"sequentialminus\": [[0.0, \"#0d0887\"], [0.1111111111111111, \"#46039f\"], [0.2222222222222222, \"#7201a8\"], [0.3333333333333333, \"#9c179e\"], [0.4444444444444444, \"#bd3786\"], [0.5555555555555556, \"#d8576b\"], [0.6666666666666666, \"#ed7953\"], [0.7777777777777778, \"#fb9f3a\"], [0.8888888888888888, \"#fdca26\"], [1.0, \"#f0f921\"]]}, \"colorway\": [\"#636efa\", \"#EF553B\", \"#00cc96\", \"#ab63fa\", \"#FFA15A\", \"#19d3f3\", \"#FF6692\", \"#B6E880\", \"#FF97FF\", \"#FECB52\"], \"font\": {\"color\": \"#2a3f5f\"}, \"geo\": {\"bgcolor\": \"white\", \"lakecolor\": \"white\", \"landcolor\": \"#E5ECF6\", \"showlakes\": true, \"showland\": true, \"subunitcolor\": \"white\"}, \"hoverlabel\": {\"align\": \"left\"}, \"hovermode\": \"closest\", \"mapbox\": {\"style\": \"light\"}, \"paper_bgcolor\": \"white\", \"plot_bgcolor\": \"#E5ECF6\", \"polar\": {\"angularaxis\": {\"gridcolor\": \"white\", \"linecolor\": \"white\", \"ticks\": \"\"}, \"bgcolor\": \"#E5ECF6\", \"radialaxis\": {\"gridcolor\": \"white\", \"linecolor\": \"white\", \"ticks\": \"\"}}, \"scene\": {\"xaxis\": {\"backgroundcolor\": \"#E5ECF6\", \"gridcolor\": \"white\", \"gridwidth\": 2, \"linecolor\": \"white\", \"showbackground\": true, \"ticks\": \"\", \"zerolinecolor\": \"white\"}, \"yaxis\": {\"backgroundcolor\": \"#E5ECF6\", \"gridcolor\": \"white\", \"gridwidth\": 2, \"linecolor\": \"white\", \"showbackground\": true, \"ticks\": \"\", \"zerolinecolor\": \"white\"}, \"zaxis\": {\"backgroundcolor\": \"#E5ECF6\", \"gridcolor\": \"white\", \"gridwidth\": 2, \"linecolor\": \"white\", \"showbackground\": true, \"ticks\": \"\", \"zerolinecolor\": \"white\"}}, \"shapedefaults\": {\"line\": {\"color\": \"#2a3f5f\"}}, \"ternary\": {\"aaxis\": {\"gridcolor\": \"white\", \"linecolor\": \"white\", \"ticks\": \"\"}, \"baxis\": {\"gridcolor\": \"white\", \"linecolor\": \"white\", \"ticks\": \"\"}, \"bgcolor\": \"#E5ECF6\", \"caxis\": {\"gridcolor\": \"white\", \"linecolor\": \"white\", \"ticks\": \"\"}}, \"title\": {\"x\": 0.05}, \"xaxis\": {\"automargin\": true, \"gridcolor\": \"white\", \"linecolor\": \"white\", \"ticks\": \"\", \"title\": {\"standoff\": 15}, \"zerolinecolor\": \"white\", \"zerolinewidth\": 2}, \"yaxis\": {\"automargin\": true, \"gridcolor\": \"white\", \"linecolor\": \"white\", \"ticks\": \"\", \"title\": {\"standoff\": 15}, \"zerolinecolor\": \"white\", \"zerolinewidth\": 2}}}, \"title\": {\"font\": {\"color\": \"#4D5663\"}}, \"xaxis\": {\"gridcolor\": \"#E1E5ED\", \"showgrid\": true, \"tickfont\": {\"color\": \"#4D5663\"}, \"title\": {\"font\": {\"color\": \"#4D5663\"}, \"text\": \"\"}, \"zerolinecolor\": \"#E1E5ED\"}, \"yaxis\": {\"gridcolor\": \"#E1E5ED\", \"showgrid\": true, \"tickfont\": {\"color\": \"#4D5663\"}, \"title\": {\"font\": {\"color\": \"#4D5663\"}, \"text\": \"\"}, \"zerolinecolor\": \"#E1E5ED\"}},                        {\"showLink\": true, \"linkText\": \"Export to plot.ly\", \"plotlyServerURL\": \"https://plot.ly\", \"responsive\": true}                    ).then(function(){\n",
       "                            \n",
       "var gd = document.getElementById('cea34ee2-8ad2-455e-a2d6-43f56f71a21f');\n",
       "var x = new MutationObserver(function (mutations, observer) {{\n",
       "        var display = window.getComputedStyle(gd).display;\n",
       "        if (!display || display === 'none') {{\n",
       "            console.log([gd, 'removed!']);\n",
       "            Plotly.purge(gd);\n",
       "            observer.disconnect();\n",
       "        }}\n",
       "}});\n",
       "\n",
       "// Listen for the removal of the full notebook cells\n",
       "var notebookContainer = gd.closest('#notebook-container');\n",
       "if (notebookContainer) {{\n",
       "    x.observe(notebookContainer, {childList: true});\n",
       "}}\n",
       "\n",
       "// Listen for the clearing of the current output cell\n",
       "var outputEl = gd.closest('.output');\n",
       "if (outputEl) {{\n",
       "    x.observe(outputEl, {childList: true});\n",
       "}}\n",
       "\n",
       "                        })                };                });            </script>        </div>"
      ]
     },
     "metadata": {},
     "output_type": "display_data"
    }
   ],
   "source": [
    "df.iplot()"
   ]
  },
  {
   "cell_type": "code",
   "execution_count": 12,
   "metadata": {},
   "outputs": [
    {
     "data": {
      "application/vnd.plotly.v1+json": {
       "config": {
        "linkText": "Export to plot.ly",
        "plotlyServerURL": "https://plot.ly",
        "showLink": true
       },
       "data": [
        {
         "line": {
          "color": "rgba(255, 153, 51, 1.0)",
          "dash": "solid",
          "shape": "linear",
          "width": 1.3
         },
         "marker": {
          "size": 12,
          "symbol": "circle"
         },
         "mode": "markers",
         "name": "B",
         "text": "",
         "type": "scatter",
         "x": [
          -0.39918119580901057,
          0.7418621453466906,
          -0.4313355775472436,
          0.3355224667718379,
          -0.7151869915905287,
          0.145668325550864,
          0.15591577298259662,
          0.016226263834492997,
          0.4605683837845119,
          -1.4139591642678533,
          -3.346775721169021,
          -1.2159667506526999,
          0.5809608144629882,
          -0.26283320353488304,
          1.2113580317867414,
          -0.4415756722746691,
          2.2884194084433775,
          1.0557466676734149,
          -1.442826254773536,
          -0.8063709415927582,
          0.922383051818235,
          -0.3878906835859324,
          0.025967017018530797,
          0.6044282595635964,
          -0.7065329352842874,
          0.9150675435000666,
          0.18735127393393106,
          -0.2845605758953672,
          -0.09322552030780629,
          -0.1639557134477811,
          0.156542641123135,
          -0.9341454884535909,
          -1.1960968243851422,
          -0.7420113595879909,
          -1.1231115173825923,
          -0.06575340563803043,
          -1.2314451894847818,
          -0.7004696413846199,
          0.2750929324690308,
          0.7915002131579784,
          -1.1253744106107293,
          0.5712846346931809,
          -1.7280218331388324,
          0.36865239908201825,
          -1.0668871446136439,
          -0.9061338046467238,
          -1.037945002921429,
          -0.5578754042788866,
          0.14708542676641603,
          0.8746134766485341,
          -0.36276225986481275,
          0.12243563569516946,
          -0.05854080893376823,
          1.162186833598004,
          -1.104489545096553,
          -0.26487716168614467,
          -0.05463255455270555,
          1.495963991909491,
          1.4742509865754625,
          0.8390497854946452,
          0.5108072739104828,
          -0.29675905041248607,
          0.4317219076292566,
          0.7526597856998946,
          -1.2662095357984315,
          -0.20809051371739795,
          -1.4334480138884427,
          0.41521475437323424,
          -0.3681440922719436,
          -0.4974530040747305,
          0.332517930744042,
          0.1235890800313146,
          0.5909382100815366,
          -1.0065808800216673,
          -0.6822563665823921,
          1.1077016925230518,
          0.07703396073766987,
          0.42953692998520493,
          0.7592976638295739,
          -0.8805787003240935,
          1.5490488597669556,
          -0.2766809050067881,
          0.7018174178549077,
          0.1314637920120881,
          -0.40257295954386835,
          -0.6849120108591445,
          -0.8530469126783897,
          -0.8710488904466427,
          -0.40143057082221745,
          0.5753943378178665,
          0.5232222120203804,
          -0.22675126963357795,
          -1.0348115402137625,
          -0.026371322901696262,
          0.7374597636331084,
          0.23308846902896885,
          -0.4367113468497734,
          0.5978251807763769,
          0.6581567165919348,
          1.600974778682548
         ],
         "y": [
          2.2070461301559066,
          -0.788131612862357,
          -0.10784315640253468,
          -0.04044160801371967,
          -2.2896748695933327,
          1.3429392443285344,
          1.4865555779792607,
          0.3659741914873344,
          -0.7892499216942237,
          0.1141250947886066,
          -0.6139977202850474,
          0.037322520254553855,
          0.29142557618426357,
          0.4113345097957159,
          1.4192964679111584,
          0.36923408302610705,
          0.48399864965340045,
          0.6079126562865081,
          -0.7977858369497093,
          -0.6119403421986435,
          0.13146439326926732,
          0.08725012491665272,
          0.09456009132885217,
          -2.190707420460496,
          1.12562920670872,
          -0.6839747581993745,
          0.3115134349504725,
          1.4492612304178427,
          0.06999200823006771,
          -0.38800767411587783,
          -0.46598508418374707,
          -2.181197442663968,
          -1.0956797599610515,
          -0.9553121956681996,
          0.42403097594459715,
          -1.6558545434866523,
          -1.3819798723174677,
          1.6854462250364648,
          0.732890145241412,
          -1.3374766327934853,
          -0.3260739282800016,
          1.6637557322566037,
          -0.8409746644861881,
          -1.4111517724895952,
          -0.5393254688380885,
          0.8754720938686266,
          0.9997351757559365,
          -0.049471515590174334,
          0.19908149523353075,
          0.6249144899716452,
          -0.13465543056006563,
          -0.7161254082218936,
          0.907665817980667,
          -1.0156398903308865,
          0.07345276778828155,
          -1.730105693139972,
          -1.2104401316439815,
          -0.42246282382447614,
          1.223087721057286,
          0.25051121377375185,
          -0.11663617757627032,
          0.25283529945234606,
          1.2536411501995246,
          -0.8608597145861724,
          0.06555619946573002,
          1.1958308271299294,
          -1.3876026390431448,
          0.0442082545566528,
          -1.341362716407108,
          1.1968678848787968,
          0.9087380738655427,
          1.5555799622636919,
          0.9353902928609358,
          0.5473797210703165,
          0.7084174573200912,
          -0.3698724043916409,
          -0.21573080837183653,
          0.1359526800212306,
          0.15906429779288436,
          -0.5540236467037417,
          -0.3414189576302107,
          -0.2718414423436621,
          -0.4666969220684351,
          -1.076680135465115,
          1.6120850281316867,
          0.4812952929193751,
          -1.9705129259249963,
          0.31105314049038896,
          0.9222631715288385,
          1.4576098663395574,
          0.09972461282505903,
          0.10840621208454,
          0.7745676451840312,
          0.4074215942586728,
          0.2725750104410174,
          0.39225261140363143,
          -2.3594286944335656,
          -0.22987691975601063,
          -0.10824276280124188,
          -0.7045627207862724
         ]
        }
       ],
       "layout": {
        "legend": {
         "bgcolor": "#F5F6F9",
         "font": {
          "color": "#4D5663"
         }
        },
        "paper_bgcolor": "#F5F6F9",
        "plot_bgcolor": "#F5F6F9",
        "template": {
         "data": {
          "bar": [
           {
            "error_x": {
             "color": "#2a3f5f"
            },
            "error_y": {
             "color": "#2a3f5f"
            },
            "marker": {
             "line": {
              "color": "#E5ECF6",
              "width": 0.5
             }
            },
            "type": "bar"
           }
          ],
          "barpolar": [
           {
            "marker": {
             "line": {
              "color": "#E5ECF6",
              "width": 0.5
             }
            },
            "type": "barpolar"
           }
          ],
          "carpet": [
           {
            "aaxis": {
             "endlinecolor": "#2a3f5f",
             "gridcolor": "white",
             "linecolor": "white",
             "minorgridcolor": "white",
             "startlinecolor": "#2a3f5f"
            },
            "baxis": {
             "endlinecolor": "#2a3f5f",
             "gridcolor": "white",
             "linecolor": "white",
             "minorgridcolor": "white",
             "startlinecolor": "#2a3f5f"
            },
            "type": "carpet"
           }
          ],
          "choropleth": [
           {
            "colorbar": {
             "outlinewidth": 0,
             "ticks": ""
            },
            "type": "choropleth"
           }
          ],
          "contour": [
           {
            "colorbar": {
             "outlinewidth": 0,
             "ticks": ""
            },
            "colorscale": [
             [
              0,
              "#0d0887"
             ],
             [
              0.1111111111111111,
              "#46039f"
             ],
             [
              0.2222222222222222,
              "#7201a8"
             ],
             [
              0.3333333333333333,
              "#9c179e"
             ],
             [
              0.4444444444444444,
              "#bd3786"
             ],
             [
              0.5555555555555556,
              "#d8576b"
             ],
             [
              0.6666666666666666,
              "#ed7953"
             ],
             [
              0.7777777777777778,
              "#fb9f3a"
             ],
             [
              0.8888888888888888,
              "#fdca26"
             ],
             [
              1,
              "#f0f921"
             ]
            ],
            "type": "contour"
           }
          ],
          "contourcarpet": [
           {
            "colorbar": {
             "outlinewidth": 0,
             "ticks": ""
            },
            "type": "contourcarpet"
           }
          ],
          "heatmap": [
           {
            "colorbar": {
             "outlinewidth": 0,
             "ticks": ""
            },
            "colorscale": [
             [
              0,
              "#0d0887"
             ],
             [
              0.1111111111111111,
              "#46039f"
             ],
             [
              0.2222222222222222,
              "#7201a8"
             ],
             [
              0.3333333333333333,
              "#9c179e"
             ],
             [
              0.4444444444444444,
              "#bd3786"
             ],
             [
              0.5555555555555556,
              "#d8576b"
             ],
             [
              0.6666666666666666,
              "#ed7953"
             ],
             [
              0.7777777777777778,
              "#fb9f3a"
             ],
             [
              0.8888888888888888,
              "#fdca26"
             ],
             [
              1,
              "#f0f921"
             ]
            ],
            "type": "heatmap"
           }
          ],
          "heatmapgl": [
           {
            "colorbar": {
             "outlinewidth": 0,
             "ticks": ""
            },
            "colorscale": [
             [
              0,
              "#0d0887"
             ],
             [
              0.1111111111111111,
              "#46039f"
             ],
             [
              0.2222222222222222,
              "#7201a8"
             ],
             [
              0.3333333333333333,
              "#9c179e"
             ],
             [
              0.4444444444444444,
              "#bd3786"
             ],
             [
              0.5555555555555556,
              "#d8576b"
             ],
             [
              0.6666666666666666,
              "#ed7953"
             ],
             [
              0.7777777777777778,
              "#fb9f3a"
             ],
             [
              0.8888888888888888,
              "#fdca26"
             ],
             [
              1,
              "#f0f921"
             ]
            ],
            "type": "heatmapgl"
           }
          ],
          "histogram": [
           {
            "marker": {
             "colorbar": {
              "outlinewidth": 0,
              "ticks": ""
             }
            },
            "type": "histogram"
           }
          ],
          "histogram2d": [
           {
            "colorbar": {
             "outlinewidth": 0,
             "ticks": ""
            },
            "colorscale": [
             [
              0,
              "#0d0887"
             ],
             [
              0.1111111111111111,
              "#46039f"
             ],
             [
              0.2222222222222222,
              "#7201a8"
             ],
             [
              0.3333333333333333,
              "#9c179e"
             ],
             [
              0.4444444444444444,
              "#bd3786"
             ],
             [
              0.5555555555555556,
              "#d8576b"
             ],
             [
              0.6666666666666666,
              "#ed7953"
             ],
             [
              0.7777777777777778,
              "#fb9f3a"
             ],
             [
              0.8888888888888888,
              "#fdca26"
             ],
             [
              1,
              "#f0f921"
             ]
            ],
            "type": "histogram2d"
           }
          ],
          "histogram2dcontour": [
           {
            "colorbar": {
             "outlinewidth": 0,
             "ticks": ""
            },
            "colorscale": [
             [
              0,
              "#0d0887"
             ],
             [
              0.1111111111111111,
              "#46039f"
             ],
             [
              0.2222222222222222,
              "#7201a8"
             ],
             [
              0.3333333333333333,
              "#9c179e"
             ],
             [
              0.4444444444444444,
              "#bd3786"
             ],
             [
              0.5555555555555556,
              "#d8576b"
             ],
             [
              0.6666666666666666,
              "#ed7953"
             ],
             [
              0.7777777777777778,
              "#fb9f3a"
             ],
             [
              0.8888888888888888,
              "#fdca26"
             ],
             [
              1,
              "#f0f921"
             ]
            ],
            "type": "histogram2dcontour"
           }
          ],
          "mesh3d": [
           {
            "colorbar": {
             "outlinewidth": 0,
             "ticks": ""
            },
            "type": "mesh3d"
           }
          ],
          "parcoords": [
           {
            "line": {
             "colorbar": {
              "outlinewidth": 0,
              "ticks": ""
             }
            },
            "type": "parcoords"
           }
          ],
          "pie": [
           {
            "automargin": true,
            "type": "pie"
           }
          ],
          "scatter": [
           {
            "marker": {
             "colorbar": {
              "outlinewidth": 0,
              "ticks": ""
             }
            },
            "type": "scatter"
           }
          ],
          "scatter3d": [
           {
            "line": {
             "colorbar": {
              "outlinewidth": 0,
              "ticks": ""
             }
            },
            "marker": {
             "colorbar": {
              "outlinewidth": 0,
              "ticks": ""
             }
            },
            "type": "scatter3d"
           }
          ],
          "scattercarpet": [
           {
            "marker": {
             "colorbar": {
              "outlinewidth": 0,
              "ticks": ""
             }
            },
            "type": "scattercarpet"
           }
          ],
          "scattergeo": [
           {
            "marker": {
             "colorbar": {
              "outlinewidth": 0,
              "ticks": ""
             }
            },
            "type": "scattergeo"
           }
          ],
          "scattergl": [
           {
            "marker": {
             "colorbar": {
              "outlinewidth": 0,
              "ticks": ""
             }
            },
            "type": "scattergl"
           }
          ],
          "scattermapbox": [
           {
            "marker": {
             "colorbar": {
              "outlinewidth": 0,
              "ticks": ""
             }
            },
            "type": "scattermapbox"
           }
          ],
          "scatterpolar": [
           {
            "marker": {
             "colorbar": {
              "outlinewidth": 0,
              "ticks": ""
             }
            },
            "type": "scatterpolar"
           }
          ],
          "scatterpolargl": [
           {
            "marker": {
             "colorbar": {
              "outlinewidth": 0,
              "ticks": ""
             }
            },
            "type": "scatterpolargl"
           }
          ],
          "scatterternary": [
           {
            "marker": {
             "colorbar": {
              "outlinewidth": 0,
              "ticks": ""
             }
            },
            "type": "scatterternary"
           }
          ],
          "surface": [
           {
            "colorbar": {
             "outlinewidth": 0,
             "ticks": ""
            },
            "colorscale": [
             [
              0,
              "#0d0887"
             ],
             [
              0.1111111111111111,
              "#46039f"
             ],
             [
              0.2222222222222222,
              "#7201a8"
             ],
             [
              0.3333333333333333,
              "#9c179e"
             ],
             [
              0.4444444444444444,
              "#bd3786"
             ],
             [
              0.5555555555555556,
              "#d8576b"
             ],
             [
              0.6666666666666666,
              "#ed7953"
             ],
             [
              0.7777777777777778,
              "#fb9f3a"
             ],
             [
              0.8888888888888888,
              "#fdca26"
             ],
             [
              1,
              "#f0f921"
             ]
            ],
            "type": "surface"
           }
          ],
          "table": [
           {
            "cells": {
             "fill": {
              "color": "#EBF0F8"
             },
             "line": {
              "color": "white"
             }
            },
            "header": {
             "fill": {
              "color": "#C8D4E3"
             },
             "line": {
              "color": "white"
             }
            },
            "type": "table"
           }
          ]
         },
         "layout": {
          "annotationdefaults": {
           "arrowcolor": "#2a3f5f",
           "arrowhead": 0,
           "arrowwidth": 1
          },
          "coloraxis": {
           "colorbar": {
            "outlinewidth": 0,
            "ticks": ""
           }
          },
          "colorscale": {
           "diverging": [
            [
             0,
             "#8e0152"
            ],
            [
             0.1,
             "#c51b7d"
            ],
            [
             0.2,
             "#de77ae"
            ],
            [
             0.3,
             "#f1b6da"
            ],
            [
             0.4,
             "#fde0ef"
            ],
            [
             0.5,
             "#f7f7f7"
            ],
            [
             0.6,
             "#e6f5d0"
            ],
            [
             0.7,
             "#b8e186"
            ],
            [
             0.8,
             "#7fbc41"
            ],
            [
             0.9,
             "#4d9221"
            ],
            [
             1,
             "#276419"
            ]
           ],
           "sequential": [
            [
             0,
             "#0d0887"
            ],
            [
             0.1111111111111111,
             "#46039f"
            ],
            [
             0.2222222222222222,
             "#7201a8"
            ],
            [
             0.3333333333333333,
             "#9c179e"
            ],
            [
             0.4444444444444444,
             "#bd3786"
            ],
            [
             0.5555555555555556,
             "#d8576b"
            ],
            [
             0.6666666666666666,
             "#ed7953"
            ],
            [
             0.7777777777777778,
             "#fb9f3a"
            ],
            [
             0.8888888888888888,
             "#fdca26"
            ],
            [
             1,
             "#f0f921"
            ]
           ],
           "sequentialminus": [
            [
             0,
             "#0d0887"
            ],
            [
             0.1111111111111111,
             "#46039f"
            ],
            [
             0.2222222222222222,
             "#7201a8"
            ],
            [
             0.3333333333333333,
             "#9c179e"
            ],
            [
             0.4444444444444444,
             "#bd3786"
            ],
            [
             0.5555555555555556,
             "#d8576b"
            ],
            [
             0.6666666666666666,
             "#ed7953"
            ],
            [
             0.7777777777777778,
             "#fb9f3a"
            ],
            [
             0.8888888888888888,
             "#fdca26"
            ],
            [
             1,
             "#f0f921"
            ]
           ]
          },
          "colorway": [
           "#636efa",
           "#EF553B",
           "#00cc96",
           "#ab63fa",
           "#FFA15A",
           "#19d3f3",
           "#FF6692",
           "#B6E880",
           "#FF97FF",
           "#FECB52"
          ],
          "font": {
           "color": "#2a3f5f"
          },
          "geo": {
           "bgcolor": "white",
           "lakecolor": "white",
           "landcolor": "#E5ECF6",
           "showlakes": true,
           "showland": true,
           "subunitcolor": "white"
          },
          "hoverlabel": {
           "align": "left"
          },
          "hovermode": "closest",
          "mapbox": {
           "style": "light"
          },
          "paper_bgcolor": "white",
          "plot_bgcolor": "#E5ECF6",
          "polar": {
           "angularaxis": {
            "gridcolor": "white",
            "linecolor": "white",
            "ticks": ""
           },
           "bgcolor": "#E5ECF6",
           "radialaxis": {
            "gridcolor": "white",
            "linecolor": "white",
            "ticks": ""
           }
          },
          "scene": {
           "xaxis": {
            "backgroundcolor": "#E5ECF6",
            "gridcolor": "white",
            "gridwidth": 2,
            "linecolor": "white",
            "showbackground": true,
            "ticks": "",
            "zerolinecolor": "white"
           },
           "yaxis": {
            "backgroundcolor": "#E5ECF6",
            "gridcolor": "white",
            "gridwidth": 2,
            "linecolor": "white",
            "showbackground": true,
            "ticks": "",
            "zerolinecolor": "white"
           },
           "zaxis": {
            "backgroundcolor": "#E5ECF6",
            "gridcolor": "white",
            "gridwidth": 2,
            "linecolor": "white",
            "showbackground": true,
            "ticks": "",
            "zerolinecolor": "white"
           }
          },
          "shapedefaults": {
           "line": {
            "color": "#2a3f5f"
           }
          },
          "ternary": {
           "aaxis": {
            "gridcolor": "white",
            "linecolor": "white",
            "ticks": ""
           },
           "baxis": {
            "gridcolor": "white",
            "linecolor": "white",
            "ticks": ""
           },
           "bgcolor": "#E5ECF6",
           "caxis": {
            "gridcolor": "white",
            "linecolor": "white",
            "ticks": ""
           }
          },
          "title": {
           "x": 0.05
          },
          "xaxis": {
           "automargin": true,
           "gridcolor": "white",
           "linecolor": "white",
           "ticks": "",
           "title": {
            "standoff": 15
           },
           "zerolinecolor": "white",
           "zerolinewidth": 2
          },
          "yaxis": {
           "automargin": true,
           "gridcolor": "white",
           "linecolor": "white",
           "ticks": "",
           "title": {
            "standoff": 15
           },
           "zerolinecolor": "white",
           "zerolinewidth": 2
          }
         }
        },
        "title": {
         "font": {
          "color": "#4D5663"
         }
        },
        "xaxis": {
         "gridcolor": "#E1E5ED",
         "showgrid": true,
         "tickfont": {
          "color": "#4D5663"
         },
         "title": {
          "font": {
           "color": "#4D5663"
          },
          "text": ""
         },
         "zerolinecolor": "#E1E5ED"
        },
        "yaxis": {
         "gridcolor": "#E1E5ED",
         "showgrid": true,
         "tickfont": {
          "color": "#4D5663"
         },
         "title": {
          "font": {
           "color": "#4D5663"
          },
          "text": ""
         },
         "zerolinecolor": "#E1E5ED"
        }
       }
      },
      "text/html": [
       "<div>                            <div id=\"315e98d4-2e43-4cbc-8544-db1826c7b012\" class=\"plotly-graph-div\" style=\"height:525px; width:100%;\"></div>            <script type=\"text/javascript\">                require([\"plotly\"], function(Plotly) {                    window.PLOTLYENV=window.PLOTLYENV || {};\n",
       "                    window.PLOTLYENV.BASE_URL='https://plot.ly';                                    if (document.getElementById(\"315e98d4-2e43-4cbc-8544-db1826c7b012\")) {                    Plotly.newPlot(                        \"315e98d4-2e43-4cbc-8544-db1826c7b012\",                        [{\"line\": {\"color\": \"rgba(255, 153, 51, 1.0)\", \"dash\": \"solid\", \"shape\": \"linear\", \"width\": 1.3}, \"marker\": {\"size\": 12, \"symbol\": \"circle\"}, \"mode\": \"markers\", \"name\": \"B\", \"text\": \"\", \"type\": \"scatter\", \"x\": [-0.39918119580901057, 0.7418621453466906, -0.4313355775472436, 0.3355224667718379, -0.7151869915905287, 0.145668325550864, 0.15591577298259662, 0.016226263834492997, 0.4605683837845119, -1.4139591642678533, -3.346775721169021, -1.2159667506526999, 0.5809608144629882, -0.26283320353488304, 1.2113580317867414, -0.4415756722746691, 2.2884194084433775, 1.0557466676734149, -1.442826254773536, -0.8063709415927582, 0.922383051818235, -0.3878906835859324, 0.025967017018530797, 0.6044282595635964, -0.7065329352842874, 0.9150675435000666, 0.18735127393393106, -0.2845605758953672, -0.09322552030780629, -0.1639557134477811, 0.156542641123135, -0.9341454884535909, -1.1960968243851422, -0.7420113595879909, -1.1231115173825923, -0.06575340563803043, -1.2314451894847818, -0.7004696413846199, 0.2750929324690308, 0.7915002131579784, -1.1253744106107293, 0.5712846346931809, -1.7280218331388324, 0.36865239908201825, -1.0668871446136439, -0.9061338046467238, -1.037945002921429, -0.5578754042788866, 0.14708542676641603, 0.8746134766485341, -0.36276225986481275, 0.12243563569516946, -0.05854080893376823, 1.162186833598004, -1.104489545096553, -0.26487716168614467, -0.05463255455270555, 1.495963991909491, 1.4742509865754625, 0.8390497854946452, 0.5108072739104828, -0.29675905041248607, 0.4317219076292566, 0.7526597856998946, -1.2662095357984315, -0.20809051371739795, -1.4334480138884427, 0.41521475437323424, -0.3681440922719436, -0.4974530040747305, 0.332517930744042, 0.1235890800313146, 0.5909382100815366, -1.0065808800216673, -0.6822563665823921, 1.1077016925230518, 0.07703396073766987, 0.42953692998520493, 0.7592976638295739, -0.8805787003240935, 1.5490488597669556, -0.2766809050067881, 0.7018174178549077, 0.1314637920120881, -0.40257295954386835, -0.6849120108591445, -0.8530469126783897, -0.8710488904466427, -0.40143057082221745, 0.5753943378178665, 0.5232222120203804, -0.22675126963357795, -1.0348115402137625, -0.026371322901696262, 0.7374597636331084, 0.23308846902896885, -0.4367113468497734, 0.5978251807763769, 0.6581567165919348, 1.600974778682548], \"y\": [2.2070461301559066, -0.788131612862357, -0.10784315640253468, -0.04044160801371967, -2.2896748695933327, 1.3429392443285344, 1.4865555779792607, 0.3659741914873344, -0.7892499216942237, 0.1141250947886066, -0.6139977202850474, 0.037322520254553855, 0.29142557618426357, 0.4113345097957159, 1.4192964679111584, 0.36923408302610705, 0.48399864965340045, 0.6079126562865081, -0.7977858369497093, -0.6119403421986435, 0.13146439326926732, 0.08725012491665272, 0.09456009132885217, -2.190707420460496, 1.12562920670872, -0.6839747581993745, 0.3115134349504725, 1.4492612304178427, 0.06999200823006771, -0.38800767411587783, -0.46598508418374707, -2.181197442663968, -1.0956797599610515, -0.9553121956681996, 0.42403097594459715, -1.6558545434866523, -1.3819798723174677, 1.6854462250364648, 0.732890145241412, -1.3374766327934853, -0.3260739282800016, 1.6637557322566037, -0.8409746644861881, -1.4111517724895952, -0.5393254688380885, 0.8754720938686266, 0.9997351757559365, -0.049471515590174334, 0.19908149523353075, 0.6249144899716452, -0.13465543056006563, -0.7161254082218936, 0.907665817980667, -1.0156398903308865, 0.07345276778828155, -1.730105693139972, -1.2104401316439815, -0.42246282382447614, 1.223087721057286, 0.25051121377375185, -0.11663617757627032, 0.25283529945234606, 1.2536411501995246, -0.8608597145861724, 0.06555619946573002, 1.1958308271299294, -1.3876026390431448, 0.0442082545566528, -1.341362716407108, 1.1968678848787968, 0.9087380738655427, 1.5555799622636919, 0.9353902928609358, 0.5473797210703165, 0.7084174573200912, -0.3698724043916409, -0.21573080837183653, 0.1359526800212306, 0.15906429779288436, -0.5540236467037417, -0.3414189576302107, -0.2718414423436621, -0.4666969220684351, -1.076680135465115, 1.6120850281316867, 0.4812952929193751, -1.9705129259249963, 0.31105314049038896, 0.9222631715288385, 1.4576098663395574, 0.09972461282505903, 0.10840621208454, 0.7745676451840312, 0.4074215942586728, 0.2725750104410174, 0.39225261140363143, -2.3594286944335656, -0.22987691975601063, -0.10824276280124188, -0.7045627207862724]}],                        {\"legend\": {\"bgcolor\": \"#F5F6F9\", \"font\": {\"color\": \"#4D5663\"}}, \"paper_bgcolor\": \"#F5F6F9\", \"plot_bgcolor\": \"#F5F6F9\", \"template\": {\"data\": {\"bar\": [{\"error_x\": {\"color\": \"#2a3f5f\"}, \"error_y\": {\"color\": \"#2a3f5f\"}, \"marker\": {\"line\": {\"color\": \"#E5ECF6\", \"width\": 0.5}}, \"type\": \"bar\"}], \"barpolar\": [{\"marker\": {\"line\": {\"color\": \"#E5ECF6\", \"width\": 0.5}}, \"type\": \"barpolar\"}], \"carpet\": [{\"aaxis\": {\"endlinecolor\": \"#2a3f5f\", \"gridcolor\": \"white\", \"linecolor\": \"white\", \"minorgridcolor\": \"white\", \"startlinecolor\": \"#2a3f5f\"}, \"baxis\": {\"endlinecolor\": \"#2a3f5f\", \"gridcolor\": \"white\", \"linecolor\": \"white\", \"minorgridcolor\": \"white\", \"startlinecolor\": \"#2a3f5f\"}, \"type\": \"carpet\"}], \"choropleth\": [{\"colorbar\": {\"outlinewidth\": 0, \"ticks\": \"\"}, \"type\": \"choropleth\"}], \"contour\": [{\"colorbar\": {\"outlinewidth\": 0, \"ticks\": \"\"}, \"colorscale\": [[0.0, \"#0d0887\"], [0.1111111111111111, \"#46039f\"], [0.2222222222222222, \"#7201a8\"], [0.3333333333333333, \"#9c179e\"], [0.4444444444444444, \"#bd3786\"], [0.5555555555555556, \"#d8576b\"], [0.6666666666666666, \"#ed7953\"], [0.7777777777777778, \"#fb9f3a\"], [0.8888888888888888, \"#fdca26\"], [1.0, \"#f0f921\"]], \"type\": \"contour\"}], \"contourcarpet\": [{\"colorbar\": {\"outlinewidth\": 0, \"ticks\": \"\"}, \"type\": \"contourcarpet\"}], \"heatmap\": [{\"colorbar\": {\"outlinewidth\": 0, \"ticks\": \"\"}, \"colorscale\": [[0.0, \"#0d0887\"], [0.1111111111111111, \"#46039f\"], [0.2222222222222222, \"#7201a8\"], [0.3333333333333333, \"#9c179e\"], [0.4444444444444444, \"#bd3786\"], [0.5555555555555556, \"#d8576b\"], [0.6666666666666666, \"#ed7953\"], [0.7777777777777778, \"#fb9f3a\"], [0.8888888888888888, \"#fdca26\"], [1.0, \"#f0f921\"]], \"type\": \"heatmap\"}], \"heatmapgl\": [{\"colorbar\": {\"outlinewidth\": 0, \"ticks\": \"\"}, \"colorscale\": [[0.0, \"#0d0887\"], [0.1111111111111111, \"#46039f\"], [0.2222222222222222, \"#7201a8\"], [0.3333333333333333, \"#9c179e\"], [0.4444444444444444, \"#bd3786\"], [0.5555555555555556, \"#d8576b\"], [0.6666666666666666, \"#ed7953\"], [0.7777777777777778, \"#fb9f3a\"], [0.8888888888888888, \"#fdca26\"], [1.0, \"#f0f921\"]], \"type\": \"heatmapgl\"}], \"histogram\": [{\"marker\": {\"colorbar\": {\"outlinewidth\": 0, \"ticks\": \"\"}}, \"type\": \"histogram\"}], \"histogram2d\": [{\"colorbar\": {\"outlinewidth\": 0, \"ticks\": \"\"}, \"colorscale\": [[0.0, \"#0d0887\"], [0.1111111111111111, \"#46039f\"], [0.2222222222222222, \"#7201a8\"], [0.3333333333333333, \"#9c179e\"], [0.4444444444444444, \"#bd3786\"], [0.5555555555555556, \"#d8576b\"], [0.6666666666666666, \"#ed7953\"], [0.7777777777777778, \"#fb9f3a\"], [0.8888888888888888, \"#fdca26\"], [1.0, \"#f0f921\"]], \"type\": \"histogram2d\"}], \"histogram2dcontour\": [{\"colorbar\": {\"outlinewidth\": 0, \"ticks\": \"\"}, \"colorscale\": [[0.0, \"#0d0887\"], [0.1111111111111111, \"#46039f\"], [0.2222222222222222, \"#7201a8\"], [0.3333333333333333, \"#9c179e\"], [0.4444444444444444, \"#bd3786\"], [0.5555555555555556, \"#d8576b\"], [0.6666666666666666, \"#ed7953\"], [0.7777777777777778, \"#fb9f3a\"], [0.8888888888888888, \"#fdca26\"], [1.0, \"#f0f921\"]], \"type\": \"histogram2dcontour\"}], \"mesh3d\": [{\"colorbar\": {\"outlinewidth\": 0, \"ticks\": \"\"}, \"type\": \"mesh3d\"}], \"parcoords\": [{\"line\": {\"colorbar\": {\"outlinewidth\": 0, \"ticks\": \"\"}}, \"type\": \"parcoords\"}], \"pie\": [{\"automargin\": true, \"type\": \"pie\"}], \"scatter\": [{\"marker\": {\"colorbar\": {\"outlinewidth\": 0, \"ticks\": \"\"}}, \"type\": \"scatter\"}], \"scatter3d\": [{\"line\": {\"colorbar\": {\"outlinewidth\": 0, \"ticks\": \"\"}}, \"marker\": {\"colorbar\": {\"outlinewidth\": 0, \"ticks\": \"\"}}, \"type\": \"scatter3d\"}], \"scattercarpet\": [{\"marker\": {\"colorbar\": {\"outlinewidth\": 0, \"ticks\": \"\"}}, \"type\": \"scattercarpet\"}], \"scattergeo\": [{\"marker\": {\"colorbar\": {\"outlinewidth\": 0, \"ticks\": \"\"}}, \"type\": \"scattergeo\"}], \"scattergl\": [{\"marker\": {\"colorbar\": {\"outlinewidth\": 0, \"ticks\": \"\"}}, \"type\": \"scattergl\"}], \"scattermapbox\": [{\"marker\": {\"colorbar\": {\"outlinewidth\": 0, \"ticks\": \"\"}}, \"type\": \"scattermapbox\"}], \"scatterpolar\": [{\"marker\": {\"colorbar\": {\"outlinewidth\": 0, \"ticks\": \"\"}}, \"type\": \"scatterpolar\"}], \"scatterpolargl\": [{\"marker\": {\"colorbar\": {\"outlinewidth\": 0, \"ticks\": \"\"}}, \"type\": \"scatterpolargl\"}], \"scatterternary\": [{\"marker\": {\"colorbar\": {\"outlinewidth\": 0, \"ticks\": \"\"}}, \"type\": \"scatterternary\"}], \"surface\": [{\"colorbar\": {\"outlinewidth\": 0, \"ticks\": \"\"}, \"colorscale\": [[0.0, \"#0d0887\"], [0.1111111111111111, \"#46039f\"], [0.2222222222222222, \"#7201a8\"], [0.3333333333333333, \"#9c179e\"], [0.4444444444444444, \"#bd3786\"], [0.5555555555555556, \"#d8576b\"], [0.6666666666666666, \"#ed7953\"], [0.7777777777777778, \"#fb9f3a\"], [0.8888888888888888, \"#fdca26\"], [1.0, \"#f0f921\"]], \"type\": \"surface\"}], \"table\": [{\"cells\": {\"fill\": {\"color\": \"#EBF0F8\"}, \"line\": {\"color\": \"white\"}}, \"header\": {\"fill\": {\"color\": \"#C8D4E3\"}, \"line\": {\"color\": \"white\"}}, \"type\": \"table\"}]}, \"layout\": {\"annotationdefaults\": {\"arrowcolor\": \"#2a3f5f\", \"arrowhead\": 0, \"arrowwidth\": 1}, \"coloraxis\": {\"colorbar\": {\"outlinewidth\": 0, \"ticks\": \"\"}}, \"colorscale\": {\"diverging\": [[0, \"#8e0152\"], [0.1, \"#c51b7d\"], [0.2, \"#de77ae\"], [0.3, \"#f1b6da\"], [0.4, \"#fde0ef\"], [0.5, \"#f7f7f7\"], [0.6, \"#e6f5d0\"], [0.7, \"#b8e186\"], [0.8, \"#7fbc41\"], [0.9, \"#4d9221\"], [1, \"#276419\"]], \"sequential\": [[0.0, \"#0d0887\"], [0.1111111111111111, \"#46039f\"], [0.2222222222222222, \"#7201a8\"], [0.3333333333333333, \"#9c179e\"], [0.4444444444444444, \"#bd3786\"], [0.5555555555555556, \"#d8576b\"], [0.6666666666666666, \"#ed7953\"], [0.7777777777777778, \"#fb9f3a\"], [0.8888888888888888, \"#fdca26\"], [1.0, \"#f0f921\"]], \"sequentialminus\": [[0.0, \"#0d0887\"], [0.1111111111111111, \"#46039f\"], [0.2222222222222222, \"#7201a8\"], [0.3333333333333333, \"#9c179e\"], [0.4444444444444444, \"#bd3786\"], [0.5555555555555556, \"#d8576b\"], [0.6666666666666666, \"#ed7953\"], [0.7777777777777778, \"#fb9f3a\"], [0.8888888888888888, \"#fdca26\"], [1.0, \"#f0f921\"]]}, \"colorway\": [\"#636efa\", \"#EF553B\", \"#00cc96\", \"#ab63fa\", \"#FFA15A\", \"#19d3f3\", \"#FF6692\", \"#B6E880\", \"#FF97FF\", \"#FECB52\"], \"font\": {\"color\": \"#2a3f5f\"}, \"geo\": {\"bgcolor\": \"white\", \"lakecolor\": \"white\", \"landcolor\": \"#E5ECF6\", \"showlakes\": true, \"showland\": true, \"subunitcolor\": \"white\"}, \"hoverlabel\": {\"align\": \"left\"}, \"hovermode\": \"closest\", \"mapbox\": {\"style\": \"light\"}, \"paper_bgcolor\": \"white\", \"plot_bgcolor\": \"#E5ECF6\", \"polar\": {\"angularaxis\": {\"gridcolor\": \"white\", \"linecolor\": \"white\", \"ticks\": \"\"}, \"bgcolor\": \"#E5ECF6\", \"radialaxis\": {\"gridcolor\": \"white\", \"linecolor\": \"white\", \"ticks\": \"\"}}, \"scene\": {\"xaxis\": {\"backgroundcolor\": \"#E5ECF6\", \"gridcolor\": \"white\", \"gridwidth\": 2, \"linecolor\": \"white\", \"showbackground\": true, \"ticks\": \"\", \"zerolinecolor\": \"white\"}, \"yaxis\": {\"backgroundcolor\": \"#E5ECF6\", \"gridcolor\": \"white\", \"gridwidth\": 2, \"linecolor\": \"white\", \"showbackground\": true, \"ticks\": \"\", \"zerolinecolor\": \"white\"}, \"zaxis\": {\"backgroundcolor\": \"#E5ECF6\", \"gridcolor\": \"white\", \"gridwidth\": 2, \"linecolor\": \"white\", \"showbackground\": true, \"ticks\": \"\", \"zerolinecolor\": \"white\"}}, \"shapedefaults\": {\"line\": {\"color\": \"#2a3f5f\"}}, \"ternary\": {\"aaxis\": {\"gridcolor\": \"white\", \"linecolor\": \"white\", \"ticks\": \"\"}, \"baxis\": {\"gridcolor\": \"white\", \"linecolor\": \"white\", \"ticks\": \"\"}, \"bgcolor\": \"#E5ECF6\", \"caxis\": {\"gridcolor\": \"white\", \"linecolor\": \"white\", \"ticks\": \"\"}}, \"title\": {\"x\": 0.05}, \"xaxis\": {\"automargin\": true, \"gridcolor\": \"white\", \"linecolor\": \"white\", \"ticks\": \"\", \"title\": {\"standoff\": 15}, \"zerolinecolor\": \"white\", \"zerolinewidth\": 2}, \"yaxis\": {\"automargin\": true, \"gridcolor\": \"white\", \"linecolor\": \"white\", \"ticks\": \"\", \"title\": {\"standoff\": 15}, \"zerolinecolor\": \"white\", \"zerolinewidth\": 2}}}, \"title\": {\"font\": {\"color\": \"#4D5663\"}}, \"xaxis\": {\"gridcolor\": \"#E1E5ED\", \"showgrid\": true, \"tickfont\": {\"color\": \"#4D5663\"}, \"title\": {\"font\": {\"color\": \"#4D5663\"}, \"text\": \"\"}, \"zerolinecolor\": \"#E1E5ED\"}, \"yaxis\": {\"gridcolor\": \"#E1E5ED\", \"showgrid\": true, \"tickfont\": {\"color\": \"#4D5663\"}, \"title\": {\"font\": {\"color\": \"#4D5663\"}, \"text\": \"\"}, \"zerolinecolor\": \"#E1E5ED\"}},                        {\"showLink\": true, \"linkText\": \"Export to plot.ly\", \"plotlyServerURL\": \"https://plot.ly\", \"responsive\": true}                    ).then(function(){\n",
       "                            \n",
       "var gd = document.getElementById('315e98d4-2e43-4cbc-8544-db1826c7b012');\n",
       "var x = new MutationObserver(function (mutations, observer) {{\n",
       "        var display = window.getComputedStyle(gd).display;\n",
       "        if (!display || display === 'none') {{\n",
       "            console.log([gd, 'removed!']);\n",
       "            Plotly.purge(gd);\n",
       "            observer.disconnect();\n",
       "        }}\n",
       "}});\n",
       "\n",
       "// Listen for the removal of the full notebook cells\n",
       "var notebookContainer = gd.closest('#notebook-container');\n",
       "if (notebookContainer) {{\n",
       "    x.observe(notebookContainer, {childList: true});\n",
       "}}\n",
       "\n",
       "// Listen for the clearing of the current output cell\n",
       "var outputEl = gd.closest('.output');\n",
       "if (outputEl) {{\n",
       "    x.observe(outputEl, {childList: true});\n",
       "}}\n",
       "\n",
       "                        })                };                });            </script>        </div>"
      ]
     },
     "metadata": {},
     "output_type": "display_data"
    }
   ],
   "source": [
    "df.iplot(kind='scatter', x='A', y='B', mode='markers')"
   ]
  },
  {
   "cell_type": "code",
   "execution_count": 13,
   "metadata": {},
   "outputs": [
    {
     "data": {
      "application/vnd.plotly.v1+json": {
       "config": {
        "linkText": "Export to plot.ly",
        "plotlyServerURL": "https://plot.ly",
        "showLink": true
       },
       "data": [
        {
         "marker": {
          "color": "rgba(255, 153, 51, 0.6)",
          "line": {
           "color": "rgba(255, 153, 51, 1.0)",
           "width": 1
          }
         },
         "name": "Values",
         "orientation": "v",
         "text": "",
         "type": "bar",
         "x": [
          "A",
          "B",
          "C"
         ],
         "y": [
          32,
          43,
          50
         ]
        }
       ],
       "layout": {
        "legend": {
         "bgcolor": "#F5F6F9",
         "font": {
          "color": "#4D5663"
         }
        },
        "paper_bgcolor": "#F5F6F9",
        "plot_bgcolor": "#F5F6F9",
        "template": {
         "data": {
          "bar": [
           {
            "error_x": {
             "color": "#2a3f5f"
            },
            "error_y": {
             "color": "#2a3f5f"
            },
            "marker": {
             "line": {
              "color": "#E5ECF6",
              "width": 0.5
             }
            },
            "type": "bar"
           }
          ],
          "barpolar": [
           {
            "marker": {
             "line": {
              "color": "#E5ECF6",
              "width": 0.5
             }
            },
            "type": "barpolar"
           }
          ],
          "carpet": [
           {
            "aaxis": {
             "endlinecolor": "#2a3f5f",
             "gridcolor": "white",
             "linecolor": "white",
             "minorgridcolor": "white",
             "startlinecolor": "#2a3f5f"
            },
            "baxis": {
             "endlinecolor": "#2a3f5f",
             "gridcolor": "white",
             "linecolor": "white",
             "minorgridcolor": "white",
             "startlinecolor": "#2a3f5f"
            },
            "type": "carpet"
           }
          ],
          "choropleth": [
           {
            "colorbar": {
             "outlinewidth": 0,
             "ticks": ""
            },
            "type": "choropleth"
           }
          ],
          "contour": [
           {
            "colorbar": {
             "outlinewidth": 0,
             "ticks": ""
            },
            "colorscale": [
             [
              0,
              "#0d0887"
             ],
             [
              0.1111111111111111,
              "#46039f"
             ],
             [
              0.2222222222222222,
              "#7201a8"
             ],
             [
              0.3333333333333333,
              "#9c179e"
             ],
             [
              0.4444444444444444,
              "#bd3786"
             ],
             [
              0.5555555555555556,
              "#d8576b"
             ],
             [
              0.6666666666666666,
              "#ed7953"
             ],
             [
              0.7777777777777778,
              "#fb9f3a"
             ],
             [
              0.8888888888888888,
              "#fdca26"
             ],
             [
              1,
              "#f0f921"
             ]
            ],
            "type": "contour"
           }
          ],
          "contourcarpet": [
           {
            "colorbar": {
             "outlinewidth": 0,
             "ticks": ""
            },
            "type": "contourcarpet"
           }
          ],
          "heatmap": [
           {
            "colorbar": {
             "outlinewidth": 0,
             "ticks": ""
            },
            "colorscale": [
             [
              0,
              "#0d0887"
             ],
             [
              0.1111111111111111,
              "#46039f"
             ],
             [
              0.2222222222222222,
              "#7201a8"
             ],
             [
              0.3333333333333333,
              "#9c179e"
             ],
             [
              0.4444444444444444,
              "#bd3786"
             ],
             [
              0.5555555555555556,
              "#d8576b"
             ],
             [
              0.6666666666666666,
              "#ed7953"
             ],
             [
              0.7777777777777778,
              "#fb9f3a"
             ],
             [
              0.8888888888888888,
              "#fdca26"
             ],
             [
              1,
              "#f0f921"
             ]
            ],
            "type": "heatmap"
           }
          ],
          "heatmapgl": [
           {
            "colorbar": {
             "outlinewidth": 0,
             "ticks": ""
            },
            "colorscale": [
             [
              0,
              "#0d0887"
             ],
             [
              0.1111111111111111,
              "#46039f"
             ],
             [
              0.2222222222222222,
              "#7201a8"
             ],
             [
              0.3333333333333333,
              "#9c179e"
             ],
             [
              0.4444444444444444,
              "#bd3786"
             ],
             [
              0.5555555555555556,
              "#d8576b"
             ],
             [
              0.6666666666666666,
              "#ed7953"
             ],
             [
              0.7777777777777778,
              "#fb9f3a"
             ],
             [
              0.8888888888888888,
              "#fdca26"
             ],
             [
              1,
              "#f0f921"
             ]
            ],
            "type": "heatmapgl"
           }
          ],
          "histogram": [
           {
            "marker": {
             "colorbar": {
              "outlinewidth": 0,
              "ticks": ""
             }
            },
            "type": "histogram"
           }
          ],
          "histogram2d": [
           {
            "colorbar": {
             "outlinewidth": 0,
             "ticks": ""
            },
            "colorscale": [
             [
              0,
              "#0d0887"
             ],
             [
              0.1111111111111111,
              "#46039f"
             ],
             [
              0.2222222222222222,
              "#7201a8"
             ],
             [
              0.3333333333333333,
              "#9c179e"
             ],
             [
              0.4444444444444444,
              "#bd3786"
             ],
             [
              0.5555555555555556,
              "#d8576b"
             ],
             [
              0.6666666666666666,
              "#ed7953"
             ],
             [
              0.7777777777777778,
              "#fb9f3a"
             ],
             [
              0.8888888888888888,
              "#fdca26"
             ],
             [
              1,
              "#f0f921"
             ]
            ],
            "type": "histogram2d"
           }
          ],
          "histogram2dcontour": [
           {
            "colorbar": {
             "outlinewidth": 0,
             "ticks": ""
            },
            "colorscale": [
             [
              0,
              "#0d0887"
             ],
             [
              0.1111111111111111,
              "#46039f"
             ],
             [
              0.2222222222222222,
              "#7201a8"
             ],
             [
              0.3333333333333333,
              "#9c179e"
             ],
             [
              0.4444444444444444,
              "#bd3786"
             ],
             [
              0.5555555555555556,
              "#d8576b"
             ],
             [
              0.6666666666666666,
              "#ed7953"
             ],
             [
              0.7777777777777778,
              "#fb9f3a"
             ],
             [
              0.8888888888888888,
              "#fdca26"
             ],
             [
              1,
              "#f0f921"
             ]
            ],
            "type": "histogram2dcontour"
           }
          ],
          "mesh3d": [
           {
            "colorbar": {
             "outlinewidth": 0,
             "ticks": ""
            },
            "type": "mesh3d"
           }
          ],
          "parcoords": [
           {
            "line": {
             "colorbar": {
              "outlinewidth": 0,
              "ticks": ""
             }
            },
            "type": "parcoords"
           }
          ],
          "pie": [
           {
            "automargin": true,
            "type": "pie"
           }
          ],
          "scatter": [
           {
            "marker": {
             "colorbar": {
              "outlinewidth": 0,
              "ticks": ""
             }
            },
            "type": "scatter"
           }
          ],
          "scatter3d": [
           {
            "line": {
             "colorbar": {
              "outlinewidth": 0,
              "ticks": ""
             }
            },
            "marker": {
             "colorbar": {
              "outlinewidth": 0,
              "ticks": ""
             }
            },
            "type": "scatter3d"
           }
          ],
          "scattercarpet": [
           {
            "marker": {
             "colorbar": {
              "outlinewidth": 0,
              "ticks": ""
             }
            },
            "type": "scattercarpet"
           }
          ],
          "scattergeo": [
           {
            "marker": {
             "colorbar": {
              "outlinewidth": 0,
              "ticks": ""
             }
            },
            "type": "scattergeo"
           }
          ],
          "scattergl": [
           {
            "marker": {
             "colorbar": {
              "outlinewidth": 0,
              "ticks": ""
             }
            },
            "type": "scattergl"
           }
          ],
          "scattermapbox": [
           {
            "marker": {
             "colorbar": {
              "outlinewidth": 0,
              "ticks": ""
             }
            },
            "type": "scattermapbox"
           }
          ],
          "scatterpolar": [
           {
            "marker": {
             "colorbar": {
              "outlinewidth": 0,
              "ticks": ""
             }
            },
            "type": "scatterpolar"
           }
          ],
          "scatterpolargl": [
           {
            "marker": {
             "colorbar": {
              "outlinewidth": 0,
              "ticks": ""
             }
            },
            "type": "scatterpolargl"
           }
          ],
          "scatterternary": [
           {
            "marker": {
             "colorbar": {
              "outlinewidth": 0,
              "ticks": ""
             }
            },
            "type": "scatterternary"
           }
          ],
          "surface": [
           {
            "colorbar": {
             "outlinewidth": 0,
             "ticks": ""
            },
            "colorscale": [
             [
              0,
              "#0d0887"
             ],
             [
              0.1111111111111111,
              "#46039f"
             ],
             [
              0.2222222222222222,
              "#7201a8"
             ],
             [
              0.3333333333333333,
              "#9c179e"
             ],
             [
              0.4444444444444444,
              "#bd3786"
             ],
             [
              0.5555555555555556,
              "#d8576b"
             ],
             [
              0.6666666666666666,
              "#ed7953"
             ],
             [
              0.7777777777777778,
              "#fb9f3a"
             ],
             [
              0.8888888888888888,
              "#fdca26"
             ],
             [
              1,
              "#f0f921"
             ]
            ],
            "type": "surface"
           }
          ],
          "table": [
           {
            "cells": {
             "fill": {
              "color": "#EBF0F8"
             },
             "line": {
              "color": "white"
             }
            },
            "header": {
             "fill": {
              "color": "#C8D4E3"
             },
             "line": {
              "color": "white"
             }
            },
            "type": "table"
           }
          ]
         },
         "layout": {
          "annotationdefaults": {
           "arrowcolor": "#2a3f5f",
           "arrowhead": 0,
           "arrowwidth": 1
          },
          "coloraxis": {
           "colorbar": {
            "outlinewidth": 0,
            "ticks": ""
           }
          },
          "colorscale": {
           "diverging": [
            [
             0,
             "#8e0152"
            ],
            [
             0.1,
             "#c51b7d"
            ],
            [
             0.2,
             "#de77ae"
            ],
            [
             0.3,
             "#f1b6da"
            ],
            [
             0.4,
             "#fde0ef"
            ],
            [
             0.5,
             "#f7f7f7"
            ],
            [
             0.6,
             "#e6f5d0"
            ],
            [
             0.7,
             "#b8e186"
            ],
            [
             0.8,
             "#7fbc41"
            ],
            [
             0.9,
             "#4d9221"
            ],
            [
             1,
             "#276419"
            ]
           ],
           "sequential": [
            [
             0,
             "#0d0887"
            ],
            [
             0.1111111111111111,
             "#46039f"
            ],
            [
             0.2222222222222222,
             "#7201a8"
            ],
            [
             0.3333333333333333,
             "#9c179e"
            ],
            [
             0.4444444444444444,
             "#bd3786"
            ],
            [
             0.5555555555555556,
             "#d8576b"
            ],
            [
             0.6666666666666666,
             "#ed7953"
            ],
            [
             0.7777777777777778,
             "#fb9f3a"
            ],
            [
             0.8888888888888888,
             "#fdca26"
            ],
            [
             1,
             "#f0f921"
            ]
           ],
           "sequentialminus": [
            [
             0,
             "#0d0887"
            ],
            [
             0.1111111111111111,
             "#46039f"
            ],
            [
             0.2222222222222222,
             "#7201a8"
            ],
            [
             0.3333333333333333,
             "#9c179e"
            ],
            [
             0.4444444444444444,
             "#bd3786"
            ],
            [
             0.5555555555555556,
             "#d8576b"
            ],
            [
             0.6666666666666666,
             "#ed7953"
            ],
            [
             0.7777777777777778,
             "#fb9f3a"
            ],
            [
             0.8888888888888888,
             "#fdca26"
            ],
            [
             1,
             "#f0f921"
            ]
           ]
          },
          "colorway": [
           "#636efa",
           "#EF553B",
           "#00cc96",
           "#ab63fa",
           "#FFA15A",
           "#19d3f3",
           "#FF6692",
           "#B6E880",
           "#FF97FF",
           "#FECB52"
          ],
          "font": {
           "color": "#2a3f5f"
          },
          "geo": {
           "bgcolor": "white",
           "lakecolor": "white",
           "landcolor": "#E5ECF6",
           "showlakes": true,
           "showland": true,
           "subunitcolor": "white"
          },
          "hoverlabel": {
           "align": "left"
          },
          "hovermode": "closest",
          "mapbox": {
           "style": "light"
          },
          "paper_bgcolor": "white",
          "plot_bgcolor": "#E5ECF6",
          "polar": {
           "angularaxis": {
            "gridcolor": "white",
            "linecolor": "white",
            "ticks": ""
           },
           "bgcolor": "#E5ECF6",
           "radialaxis": {
            "gridcolor": "white",
            "linecolor": "white",
            "ticks": ""
           }
          },
          "scene": {
           "xaxis": {
            "backgroundcolor": "#E5ECF6",
            "gridcolor": "white",
            "gridwidth": 2,
            "linecolor": "white",
            "showbackground": true,
            "ticks": "",
            "zerolinecolor": "white"
           },
           "yaxis": {
            "backgroundcolor": "#E5ECF6",
            "gridcolor": "white",
            "gridwidth": 2,
            "linecolor": "white",
            "showbackground": true,
            "ticks": "",
            "zerolinecolor": "white"
           },
           "zaxis": {
            "backgroundcolor": "#E5ECF6",
            "gridcolor": "white",
            "gridwidth": 2,
            "linecolor": "white",
            "showbackground": true,
            "ticks": "",
            "zerolinecolor": "white"
           }
          },
          "shapedefaults": {
           "line": {
            "color": "#2a3f5f"
           }
          },
          "ternary": {
           "aaxis": {
            "gridcolor": "white",
            "linecolor": "white",
            "ticks": ""
           },
           "baxis": {
            "gridcolor": "white",
            "linecolor": "white",
            "ticks": ""
           },
           "bgcolor": "#E5ECF6",
           "caxis": {
            "gridcolor": "white",
            "linecolor": "white",
            "ticks": ""
           }
          },
          "title": {
           "x": 0.05
          },
          "xaxis": {
           "automargin": true,
           "gridcolor": "white",
           "linecolor": "white",
           "ticks": "",
           "title": {
            "standoff": 15
           },
           "zerolinecolor": "white",
           "zerolinewidth": 2
          },
          "yaxis": {
           "automargin": true,
           "gridcolor": "white",
           "linecolor": "white",
           "ticks": "",
           "title": {
            "standoff": 15
           },
           "zerolinecolor": "white",
           "zerolinewidth": 2
          }
         }
        },
        "title": {
         "font": {
          "color": "#4D5663"
         }
        },
        "xaxis": {
         "gridcolor": "#E1E5ED",
         "showgrid": true,
         "tickfont": {
          "color": "#4D5663"
         },
         "title": {
          "font": {
           "color": "#4D5663"
          },
          "text": ""
         },
         "zerolinecolor": "#E1E5ED"
        },
        "yaxis": {
         "gridcolor": "#E1E5ED",
         "showgrid": true,
         "tickfont": {
          "color": "#4D5663"
         },
         "title": {
          "font": {
           "color": "#4D5663"
          },
          "text": ""
         },
         "zerolinecolor": "#E1E5ED"
        }
       }
      },
      "text/html": [
       "<div>                            <div id=\"7cc09f2d-dac5-4cd4-acd9-c57b2faeb140\" class=\"plotly-graph-div\" style=\"height:525px; width:100%;\"></div>            <script type=\"text/javascript\">                require([\"plotly\"], function(Plotly) {                    window.PLOTLYENV=window.PLOTLYENV || {};\n",
       "                    window.PLOTLYENV.BASE_URL='https://plot.ly';                                    if (document.getElementById(\"7cc09f2d-dac5-4cd4-acd9-c57b2faeb140\")) {                    Plotly.newPlot(                        \"7cc09f2d-dac5-4cd4-acd9-c57b2faeb140\",                        [{\"marker\": {\"color\": \"rgba(255, 153, 51, 0.6)\", \"line\": {\"color\": \"rgba(255, 153, 51, 1.0)\", \"width\": 1}}, \"name\": \"Values\", \"orientation\": \"v\", \"text\": \"\", \"type\": \"bar\", \"x\": [\"A\", \"B\", \"C\"], \"y\": [32, 43, 50]}],                        {\"legend\": {\"bgcolor\": \"#F5F6F9\", \"font\": {\"color\": \"#4D5663\"}}, \"paper_bgcolor\": \"#F5F6F9\", \"plot_bgcolor\": \"#F5F6F9\", \"template\": {\"data\": {\"bar\": [{\"error_x\": {\"color\": \"#2a3f5f\"}, \"error_y\": {\"color\": \"#2a3f5f\"}, \"marker\": {\"line\": {\"color\": \"#E5ECF6\", \"width\": 0.5}}, \"type\": \"bar\"}], \"barpolar\": [{\"marker\": {\"line\": {\"color\": \"#E5ECF6\", \"width\": 0.5}}, \"type\": \"barpolar\"}], \"carpet\": [{\"aaxis\": {\"endlinecolor\": \"#2a3f5f\", \"gridcolor\": \"white\", \"linecolor\": \"white\", \"minorgridcolor\": \"white\", \"startlinecolor\": \"#2a3f5f\"}, \"baxis\": {\"endlinecolor\": \"#2a3f5f\", \"gridcolor\": \"white\", \"linecolor\": \"white\", \"minorgridcolor\": \"white\", \"startlinecolor\": \"#2a3f5f\"}, \"type\": \"carpet\"}], \"choropleth\": [{\"colorbar\": {\"outlinewidth\": 0, \"ticks\": \"\"}, \"type\": \"choropleth\"}], \"contour\": [{\"colorbar\": {\"outlinewidth\": 0, \"ticks\": \"\"}, \"colorscale\": [[0.0, \"#0d0887\"], [0.1111111111111111, \"#46039f\"], [0.2222222222222222, \"#7201a8\"], [0.3333333333333333, \"#9c179e\"], [0.4444444444444444, \"#bd3786\"], [0.5555555555555556, \"#d8576b\"], [0.6666666666666666, \"#ed7953\"], [0.7777777777777778, \"#fb9f3a\"], [0.8888888888888888, \"#fdca26\"], [1.0, \"#f0f921\"]], \"type\": \"contour\"}], \"contourcarpet\": [{\"colorbar\": {\"outlinewidth\": 0, \"ticks\": \"\"}, \"type\": \"contourcarpet\"}], \"heatmap\": [{\"colorbar\": {\"outlinewidth\": 0, \"ticks\": \"\"}, \"colorscale\": [[0.0, \"#0d0887\"], [0.1111111111111111, \"#46039f\"], [0.2222222222222222, \"#7201a8\"], [0.3333333333333333, \"#9c179e\"], [0.4444444444444444, \"#bd3786\"], [0.5555555555555556, \"#d8576b\"], [0.6666666666666666, \"#ed7953\"], [0.7777777777777778, \"#fb9f3a\"], [0.8888888888888888, \"#fdca26\"], [1.0, \"#f0f921\"]], \"type\": \"heatmap\"}], \"heatmapgl\": [{\"colorbar\": {\"outlinewidth\": 0, \"ticks\": \"\"}, \"colorscale\": [[0.0, \"#0d0887\"], [0.1111111111111111, \"#46039f\"], [0.2222222222222222, \"#7201a8\"], [0.3333333333333333, \"#9c179e\"], [0.4444444444444444, \"#bd3786\"], [0.5555555555555556, \"#d8576b\"], [0.6666666666666666, \"#ed7953\"], [0.7777777777777778, \"#fb9f3a\"], [0.8888888888888888, \"#fdca26\"], [1.0, \"#f0f921\"]], \"type\": \"heatmapgl\"}], \"histogram\": [{\"marker\": {\"colorbar\": {\"outlinewidth\": 0, \"ticks\": \"\"}}, \"type\": \"histogram\"}], \"histogram2d\": [{\"colorbar\": {\"outlinewidth\": 0, \"ticks\": \"\"}, \"colorscale\": [[0.0, \"#0d0887\"], [0.1111111111111111, \"#46039f\"], [0.2222222222222222, \"#7201a8\"], [0.3333333333333333, \"#9c179e\"], [0.4444444444444444, \"#bd3786\"], [0.5555555555555556, \"#d8576b\"], [0.6666666666666666, \"#ed7953\"], [0.7777777777777778, \"#fb9f3a\"], [0.8888888888888888, \"#fdca26\"], [1.0, \"#f0f921\"]], \"type\": \"histogram2d\"}], \"histogram2dcontour\": [{\"colorbar\": {\"outlinewidth\": 0, \"ticks\": \"\"}, \"colorscale\": [[0.0, \"#0d0887\"], [0.1111111111111111, \"#46039f\"], [0.2222222222222222, \"#7201a8\"], [0.3333333333333333, \"#9c179e\"], [0.4444444444444444, \"#bd3786\"], [0.5555555555555556, \"#d8576b\"], [0.6666666666666666, \"#ed7953\"], [0.7777777777777778, \"#fb9f3a\"], [0.8888888888888888, \"#fdca26\"], [1.0, \"#f0f921\"]], \"type\": \"histogram2dcontour\"}], \"mesh3d\": [{\"colorbar\": {\"outlinewidth\": 0, \"ticks\": \"\"}, \"type\": \"mesh3d\"}], \"parcoords\": [{\"line\": {\"colorbar\": {\"outlinewidth\": 0, \"ticks\": \"\"}}, \"type\": \"parcoords\"}], \"pie\": [{\"automargin\": true, \"type\": \"pie\"}], \"scatter\": [{\"marker\": {\"colorbar\": {\"outlinewidth\": 0, \"ticks\": \"\"}}, \"type\": \"scatter\"}], \"scatter3d\": [{\"line\": {\"colorbar\": {\"outlinewidth\": 0, \"ticks\": \"\"}}, \"marker\": {\"colorbar\": {\"outlinewidth\": 0, \"ticks\": \"\"}}, \"type\": \"scatter3d\"}], \"scattercarpet\": [{\"marker\": {\"colorbar\": {\"outlinewidth\": 0, \"ticks\": \"\"}}, \"type\": \"scattercarpet\"}], \"scattergeo\": [{\"marker\": {\"colorbar\": {\"outlinewidth\": 0, \"ticks\": \"\"}}, \"type\": \"scattergeo\"}], \"scattergl\": [{\"marker\": {\"colorbar\": {\"outlinewidth\": 0, \"ticks\": \"\"}}, \"type\": \"scattergl\"}], \"scattermapbox\": [{\"marker\": {\"colorbar\": {\"outlinewidth\": 0, \"ticks\": \"\"}}, \"type\": \"scattermapbox\"}], \"scatterpolar\": [{\"marker\": {\"colorbar\": {\"outlinewidth\": 0, \"ticks\": \"\"}}, \"type\": \"scatterpolar\"}], \"scatterpolargl\": [{\"marker\": {\"colorbar\": {\"outlinewidth\": 0, \"ticks\": \"\"}}, \"type\": \"scatterpolargl\"}], \"scatterternary\": [{\"marker\": {\"colorbar\": {\"outlinewidth\": 0, \"ticks\": \"\"}}, \"type\": \"scatterternary\"}], \"surface\": [{\"colorbar\": {\"outlinewidth\": 0, \"ticks\": \"\"}, \"colorscale\": [[0.0, \"#0d0887\"], [0.1111111111111111, \"#46039f\"], [0.2222222222222222, \"#7201a8\"], [0.3333333333333333, \"#9c179e\"], [0.4444444444444444, \"#bd3786\"], [0.5555555555555556, \"#d8576b\"], [0.6666666666666666, \"#ed7953\"], [0.7777777777777778, \"#fb9f3a\"], [0.8888888888888888, \"#fdca26\"], [1.0, \"#f0f921\"]], \"type\": \"surface\"}], \"table\": [{\"cells\": {\"fill\": {\"color\": \"#EBF0F8\"}, \"line\": {\"color\": \"white\"}}, \"header\": {\"fill\": {\"color\": \"#C8D4E3\"}, \"line\": {\"color\": \"white\"}}, \"type\": \"table\"}]}, \"layout\": {\"annotationdefaults\": {\"arrowcolor\": \"#2a3f5f\", \"arrowhead\": 0, \"arrowwidth\": 1}, \"coloraxis\": {\"colorbar\": {\"outlinewidth\": 0, \"ticks\": \"\"}}, \"colorscale\": {\"diverging\": [[0, \"#8e0152\"], [0.1, \"#c51b7d\"], [0.2, \"#de77ae\"], [0.3, \"#f1b6da\"], [0.4, \"#fde0ef\"], [0.5, \"#f7f7f7\"], [0.6, \"#e6f5d0\"], [0.7, \"#b8e186\"], [0.8, \"#7fbc41\"], [0.9, \"#4d9221\"], [1, \"#276419\"]], \"sequential\": [[0.0, \"#0d0887\"], [0.1111111111111111, \"#46039f\"], [0.2222222222222222, \"#7201a8\"], [0.3333333333333333, \"#9c179e\"], [0.4444444444444444, \"#bd3786\"], [0.5555555555555556, \"#d8576b\"], [0.6666666666666666, \"#ed7953\"], [0.7777777777777778, \"#fb9f3a\"], [0.8888888888888888, \"#fdca26\"], [1.0, \"#f0f921\"]], \"sequentialminus\": [[0.0, \"#0d0887\"], [0.1111111111111111, \"#46039f\"], [0.2222222222222222, \"#7201a8\"], [0.3333333333333333, \"#9c179e\"], [0.4444444444444444, \"#bd3786\"], [0.5555555555555556, \"#d8576b\"], [0.6666666666666666, \"#ed7953\"], [0.7777777777777778, \"#fb9f3a\"], [0.8888888888888888, \"#fdca26\"], [1.0, \"#f0f921\"]]}, \"colorway\": [\"#636efa\", \"#EF553B\", \"#00cc96\", \"#ab63fa\", \"#FFA15A\", \"#19d3f3\", \"#FF6692\", \"#B6E880\", \"#FF97FF\", \"#FECB52\"], \"font\": {\"color\": \"#2a3f5f\"}, \"geo\": {\"bgcolor\": \"white\", \"lakecolor\": \"white\", \"landcolor\": \"#E5ECF6\", \"showlakes\": true, \"showland\": true, \"subunitcolor\": \"white\"}, \"hoverlabel\": {\"align\": \"left\"}, \"hovermode\": \"closest\", \"mapbox\": {\"style\": \"light\"}, \"paper_bgcolor\": \"white\", \"plot_bgcolor\": \"#E5ECF6\", \"polar\": {\"angularaxis\": {\"gridcolor\": \"white\", \"linecolor\": \"white\", \"ticks\": \"\"}, \"bgcolor\": \"#E5ECF6\", \"radialaxis\": {\"gridcolor\": \"white\", \"linecolor\": \"white\", \"ticks\": \"\"}}, \"scene\": {\"xaxis\": {\"backgroundcolor\": \"#E5ECF6\", \"gridcolor\": \"white\", \"gridwidth\": 2, \"linecolor\": \"white\", \"showbackground\": true, \"ticks\": \"\", \"zerolinecolor\": \"white\"}, \"yaxis\": {\"backgroundcolor\": \"#E5ECF6\", \"gridcolor\": \"white\", \"gridwidth\": 2, \"linecolor\": \"white\", \"showbackground\": true, \"ticks\": \"\", \"zerolinecolor\": \"white\"}, \"zaxis\": {\"backgroundcolor\": \"#E5ECF6\", \"gridcolor\": \"white\", \"gridwidth\": 2, \"linecolor\": \"white\", \"showbackground\": true, \"ticks\": \"\", \"zerolinecolor\": \"white\"}}, \"shapedefaults\": {\"line\": {\"color\": \"#2a3f5f\"}}, \"ternary\": {\"aaxis\": {\"gridcolor\": \"white\", \"linecolor\": \"white\", \"ticks\": \"\"}, \"baxis\": {\"gridcolor\": \"white\", \"linecolor\": \"white\", \"ticks\": \"\"}, \"bgcolor\": \"#E5ECF6\", \"caxis\": {\"gridcolor\": \"white\", \"linecolor\": \"white\", \"ticks\": \"\"}}, \"title\": {\"x\": 0.05}, \"xaxis\": {\"automargin\": true, \"gridcolor\": \"white\", \"linecolor\": \"white\", \"ticks\": \"\", \"title\": {\"standoff\": 15}, \"zerolinecolor\": \"white\", \"zerolinewidth\": 2}, \"yaxis\": {\"automargin\": true, \"gridcolor\": \"white\", \"linecolor\": \"white\", \"ticks\": \"\", \"title\": {\"standoff\": 15}, \"zerolinecolor\": \"white\", \"zerolinewidth\": 2}}}, \"title\": {\"font\": {\"color\": \"#4D5663\"}}, \"xaxis\": {\"gridcolor\": \"#E1E5ED\", \"showgrid\": true, \"tickfont\": {\"color\": \"#4D5663\"}, \"title\": {\"font\": {\"color\": \"#4D5663\"}, \"text\": \"\"}, \"zerolinecolor\": \"#E1E5ED\"}, \"yaxis\": {\"gridcolor\": \"#E1E5ED\", \"showgrid\": true, \"tickfont\": {\"color\": \"#4D5663\"}, \"title\": {\"font\": {\"color\": \"#4D5663\"}, \"text\": \"\"}, \"zerolinecolor\": \"#E1E5ED\"}},                        {\"showLink\": true, \"linkText\": \"Export to plot.ly\", \"plotlyServerURL\": \"https://plot.ly\", \"responsive\": true}                    ).then(function(){\n",
       "                            \n",
       "var gd = document.getElementById('7cc09f2d-dac5-4cd4-acd9-c57b2faeb140');\n",
       "var x = new MutationObserver(function (mutations, observer) {{\n",
       "        var display = window.getComputedStyle(gd).display;\n",
       "        if (!display || display === 'none') {{\n",
       "            console.log([gd, 'removed!']);\n",
       "            Plotly.purge(gd);\n",
       "            observer.disconnect();\n",
       "        }}\n",
       "}});\n",
       "\n",
       "// Listen for the removal of the full notebook cells\n",
       "var notebookContainer = gd.closest('#notebook-container');\n",
       "if (notebookContainer) {{\n",
       "    x.observe(notebookContainer, {childList: true});\n",
       "}}\n",
       "\n",
       "// Listen for the clearing of the current output cell\n",
       "var outputEl = gd.closest('.output');\n",
       "if (outputEl) {{\n",
       "    x.observe(outputEl, {childList: true});\n",
       "}}\n",
       "\n",
       "                        })                };                });            </script>        </div>"
      ]
     },
     "metadata": {},
     "output_type": "display_data"
    }
   ],
   "source": [
    "df2.iplot(kind='bar', x='Category', y='Values')"
   ]
  },
  {
   "cell_type": "code",
   "execution_count": 14,
   "metadata": {},
   "outputs": [
    {
     "data": {
      "application/vnd.plotly.v1+json": {
       "config": {
        "linkText": "Export to plot.ly",
        "plotlyServerURL": "https://plot.ly",
        "showLink": true
       },
       "data": [
        {
         "boxpoints": false,
         "line": {
          "width": 1.3
         },
         "marker": {
          "color": "rgba(255, 153, 51, 1.0)"
         },
         "name": "A",
         "orientation": "v",
         "type": "box",
         "y": [
          -0.39918119580901057,
          0.7418621453466906,
          -0.4313355775472436,
          0.3355224667718379,
          -0.7151869915905287,
          0.145668325550864,
          0.15591577298259662,
          0.016226263834492997,
          0.4605683837845119,
          -1.4139591642678533,
          -3.346775721169021,
          -1.2159667506526999,
          0.5809608144629882,
          -0.26283320353488304,
          1.2113580317867414,
          -0.4415756722746691,
          2.2884194084433775,
          1.0557466676734149,
          -1.442826254773536,
          -0.8063709415927582,
          0.922383051818235,
          -0.3878906835859324,
          0.025967017018530797,
          0.6044282595635964,
          -0.7065329352842874,
          0.9150675435000666,
          0.18735127393393106,
          -0.2845605758953672,
          -0.09322552030780629,
          -0.1639557134477811,
          0.156542641123135,
          -0.9341454884535909,
          -1.1960968243851422,
          -0.7420113595879909,
          -1.1231115173825923,
          -0.06575340563803043,
          -1.2314451894847818,
          -0.7004696413846199,
          0.2750929324690308,
          0.7915002131579784,
          -1.1253744106107293,
          0.5712846346931809,
          -1.7280218331388324,
          0.36865239908201825,
          -1.0668871446136439,
          -0.9061338046467238,
          -1.037945002921429,
          -0.5578754042788866,
          0.14708542676641603,
          0.8746134766485341,
          -0.36276225986481275,
          0.12243563569516946,
          -0.05854080893376823,
          1.162186833598004,
          -1.104489545096553,
          -0.26487716168614467,
          -0.05463255455270555,
          1.495963991909491,
          1.4742509865754625,
          0.8390497854946452,
          0.5108072739104828,
          -0.29675905041248607,
          0.4317219076292566,
          0.7526597856998946,
          -1.2662095357984315,
          -0.20809051371739795,
          -1.4334480138884427,
          0.41521475437323424,
          -0.3681440922719436,
          -0.4974530040747305,
          0.332517930744042,
          0.1235890800313146,
          0.5909382100815366,
          -1.0065808800216673,
          -0.6822563665823921,
          1.1077016925230518,
          0.07703396073766987,
          0.42953692998520493,
          0.7592976638295739,
          -0.8805787003240935,
          1.5490488597669556,
          -0.2766809050067881,
          0.7018174178549077,
          0.1314637920120881,
          -0.40257295954386835,
          -0.6849120108591445,
          -0.8530469126783897,
          -0.8710488904466427,
          -0.40143057082221745,
          0.5753943378178665,
          0.5232222120203804,
          -0.22675126963357795,
          -1.0348115402137625,
          -0.026371322901696262,
          0.7374597636331084,
          0.23308846902896885,
          -0.4367113468497734,
          0.5978251807763769,
          0.6581567165919348,
          1.600974778682548
         ]
        },
        {
         "boxpoints": false,
         "line": {
          "width": 1.3
         },
         "marker": {
          "color": "rgba(55, 128, 191, 1.0)"
         },
         "name": "B",
         "orientation": "v",
         "type": "box",
         "y": [
          2.2070461301559066,
          -0.788131612862357,
          -0.10784315640253468,
          -0.04044160801371967,
          -2.2896748695933327,
          1.3429392443285344,
          1.4865555779792607,
          0.3659741914873344,
          -0.7892499216942237,
          0.1141250947886066,
          -0.6139977202850474,
          0.037322520254553855,
          0.29142557618426357,
          0.4113345097957159,
          1.4192964679111584,
          0.36923408302610705,
          0.48399864965340045,
          0.6079126562865081,
          -0.7977858369497093,
          -0.6119403421986435,
          0.13146439326926732,
          0.08725012491665272,
          0.09456009132885217,
          -2.190707420460496,
          1.12562920670872,
          -0.6839747581993745,
          0.3115134349504725,
          1.4492612304178427,
          0.06999200823006771,
          -0.38800767411587783,
          -0.46598508418374707,
          -2.181197442663968,
          -1.0956797599610515,
          -0.9553121956681996,
          0.42403097594459715,
          -1.6558545434866523,
          -1.3819798723174677,
          1.6854462250364648,
          0.732890145241412,
          -1.3374766327934853,
          -0.3260739282800016,
          1.6637557322566037,
          -0.8409746644861881,
          -1.4111517724895952,
          -0.5393254688380885,
          0.8754720938686266,
          0.9997351757559365,
          -0.049471515590174334,
          0.19908149523353075,
          0.6249144899716452,
          -0.13465543056006563,
          -0.7161254082218936,
          0.907665817980667,
          -1.0156398903308865,
          0.07345276778828155,
          -1.730105693139972,
          -1.2104401316439815,
          -0.42246282382447614,
          1.223087721057286,
          0.25051121377375185,
          -0.11663617757627032,
          0.25283529945234606,
          1.2536411501995246,
          -0.8608597145861724,
          0.06555619946573002,
          1.1958308271299294,
          -1.3876026390431448,
          0.0442082545566528,
          -1.341362716407108,
          1.1968678848787968,
          0.9087380738655427,
          1.5555799622636919,
          0.9353902928609358,
          0.5473797210703165,
          0.7084174573200912,
          -0.3698724043916409,
          -0.21573080837183653,
          0.1359526800212306,
          0.15906429779288436,
          -0.5540236467037417,
          -0.3414189576302107,
          -0.2718414423436621,
          -0.4666969220684351,
          -1.076680135465115,
          1.6120850281316867,
          0.4812952929193751,
          -1.9705129259249963,
          0.31105314049038896,
          0.9222631715288385,
          1.4576098663395574,
          0.09972461282505903,
          0.10840621208454,
          0.7745676451840312,
          0.4074215942586728,
          0.2725750104410174,
          0.39225261140363143,
          -2.3594286944335656,
          -0.22987691975601063,
          -0.10824276280124188,
          -0.7045627207862724
         ]
        },
        {
         "boxpoints": false,
         "line": {
          "width": 1.3
         },
         "marker": {
          "color": "rgba(50, 171, 96, 1.0)"
         },
         "name": "C",
         "orientation": "v",
         "type": "box",
         "y": [
          -0.6384635434448434,
          0.20129141961750233,
          1.4455203111308286,
          -2.047290855826421,
          -2.029950571478503,
          0.29635493029587623,
          -1.0690424023584588,
          -1.2637584431139288,
          -0.3614137588757708,
          0.32950204350421197,
          0.42846767886560316,
          0.5601788272810735,
          -0.0017168075576362444,
          -0.4972131141137663,
          0.25457364680471645,
          0.2137456547519348,
          -0.4403021838963106,
          -1.0315565236333366,
          -0.023894730689849437,
          0.5924047035997578,
          0.35942749772259,
          -0.6066457895243129,
          -0.2582454921550214,
          -0.26621451459259154,
          -0.9573050494162388,
          -0.8706096263812089,
          0.5102967350809852,
          0.04320071844350394,
          0.19323022101942358,
          -0.5600387594048482,
          0.20515073678384357,
          -0.38367430459649504,
          1.1030134451203024,
          0.17577903989255617,
          0.05909350588535493,
          0.9060438420963102,
          -1.176374199231999,
          -1.6070486970361355,
          1.0184887224199144,
          0.0719696391996265,
          -0.6869826904235876,
          -0.16460152728129593,
          -0.35243474239572575,
          -1.9430458105049733,
          0.2933875677142585,
          0.8147781673269966,
          0.1345823636843486,
          -0.24262686906277547,
          1.2900084062266597,
          -1.742193371249046,
          1.1275374880419575,
          0.576888577525062,
          -1.1794518032333612,
          0.5181270969759182,
          -0.28574157279352047,
          -0.22175649553356597,
          0.2813332139097955,
          -0.5233650816443627,
          -1.4848214871943564,
          -2.2858417656552925,
          -1.4303439360899257,
          -0.7204253348743646,
          -0.9294079819027545,
          -0.9257964005341828,
          0.01871365692644488,
          -1.4190258893838466,
          -1.3911593844039067,
          1.284936979432578,
          -1.917648055426853,
          -1.1439162262493472,
          0.4660789865538819,
          -0.5618536694903467,
          -1.1217661119240674,
          -0.7830955152004814,
          -0.3964975240873266,
          -0.6468406852173031,
          0.34229290137010937,
          -0.5813133729108274,
          -0.525986127539155,
          0.2772442085639978,
          -2.236687488425607,
          -0.7242269897500356,
          -1.737558828333686,
          -1.3565212899183334,
          -0.549044918185219,
          1.3069133552484964,
          -0.2903838593639379,
          -0.8920967004629824,
          -0.9345202102475368,
          0.5497897959314942,
          0.42105714373918907,
          -1.937703571631979,
          -0.871566785049873,
          1.7004145299257194,
          -0.707844864137198,
          0.6009239704775721,
          -1.3318353999603316,
          0.8486676862766808,
          0.4039525974905113,
          0.8514364200361985
         ]
        },
        {
         "boxpoints": false,
         "line": {
          "width": 1.3
         },
         "marker": {
          "color": "rgba(128, 0, 128, 1.0)"
         },
         "name": "D",
         "orientation": "v",
         "type": "box",
         "y": [
          0.4402792313594633,
          -2.231875219530463,
          0.506085790169927,
          0.3739216457196463,
          0.5581079001710428,
          0.4274038505191474,
          0.3798748753703595,
          -1.448309773483199,
          -0.26478675575818633,
          -1.5492527548137627,
          -1.5203405467799962,
          0.29671073239926654,
          -1.123886935293182,
          -0.00966584439369465,
          0.2641011324843051,
          -0.03449149511221563,
          1.2535885304778782,
          -1.071374141698954,
          1.4474862451647823,
          -0.44183298656970094,
          0.2238959910693913,
          1.2640035090577666,
          -0.8722077491862223,
          1.0539208141083116,
          -0.05435394505681398,
          0.05858998681185259,
          0.0647952104940045,
          1.3060176712332476,
          -0.5889534365463991,
          1.286879805367101,
          -1.8137269956104176,
          -0.8645353028348475,
          1.1491416413431492,
          -0.48956025462922365,
          -1.212447049698165,
          -0.7566594934068639,
          1.3351510505403292,
          1.0952921221471876,
          0.2109797601915426,
          0.5000273184490857,
          1.5823984923308345,
          0.22291563155010405,
          -0.06846769305685602,
          2.553488550639987,
          -0.09809275094245921,
          1.0530885573770068,
          -1.5470423641151319,
          -2.7885014218021444,
          0.47425994462288223,
          1.4892794517759067,
          -0.42172309615353076,
          -0.09905082778889188,
          0.5774054835753971,
          0.18460369988935615,
          -0.02785843168581629,
          -1.1036759738103374,
          -0.474135721105905,
          -0.6124711047943953,
          0.10813003622608242,
          1.804446472034872,
          0.16118724351311858,
          -0.053463021710888306,
          -0.9108941156513923,
          0.1714273870289398,
          -1.8973499056236238,
          1.7864266672473026,
          1.2007151338638131,
          -0.9068744996688112,
          0.11659544639734006,
          0.20058508971137132,
          -1.8602597423337406,
          1.3964573738687998,
          0.14357841616147643,
          -0.27363474805865806,
          -0.7567940092165989,
          0.8639357076518587,
          1.7574488135100723,
          0.12319664152585351,
          1.5436451668305928,
          -1.2909390728105758,
          -1.0762238927141718,
          0.7011791021336731,
          -0.01899808250300709,
          -1.6908586470464428,
          -1.207040308484164,
          -0.85238176382397,
          -0.0453678985264209,
          -0.13162954399743754,
          -0.08234015768776166,
          0.8834075972458294,
          -0.5709708007470555,
          -0.8480021538235875,
          -1.0568511503362594,
          -0.08352093882807796,
          -0.6498746858584202,
          -1.2074438975271147,
          -0.5079688229414314,
          0.6148451371506651,
          -0.11425738151919548,
          -0.976090291729148
         ]
        }
       ],
       "layout": {
        "legend": {
         "bgcolor": "#F5F6F9",
         "font": {
          "color": "#4D5663"
         }
        },
        "paper_bgcolor": "#F5F6F9",
        "plot_bgcolor": "#F5F6F9",
        "template": {
         "data": {
          "bar": [
           {
            "error_x": {
             "color": "#2a3f5f"
            },
            "error_y": {
             "color": "#2a3f5f"
            },
            "marker": {
             "line": {
              "color": "#E5ECF6",
              "width": 0.5
             }
            },
            "type": "bar"
           }
          ],
          "barpolar": [
           {
            "marker": {
             "line": {
              "color": "#E5ECF6",
              "width": 0.5
             }
            },
            "type": "barpolar"
           }
          ],
          "carpet": [
           {
            "aaxis": {
             "endlinecolor": "#2a3f5f",
             "gridcolor": "white",
             "linecolor": "white",
             "minorgridcolor": "white",
             "startlinecolor": "#2a3f5f"
            },
            "baxis": {
             "endlinecolor": "#2a3f5f",
             "gridcolor": "white",
             "linecolor": "white",
             "minorgridcolor": "white",
             "startlinecolor": "#2a3f5f"
            },
            "type": "carpet"
           }
          ],
          "choropleth": [
           {
            "colorbar": {
             "outlinewidth": 0,
             "ticks": ""
            },
            "type": "choropleth"
           }
          ],
          "contour": [
           {
            "colorbar": {
             "outlinewidth": 0,
             "ticks": ""
            },
            "colorscale": [
             [
              0,
              "#0d0887"
             ],
             [
              0.1111111111111111,
              "#46039f"
             ],
             [
              0.2222222222222222,
              "#7201a8"
             ],
             [
              0.3333333333333333,
              "#9c179e"
             ],
             [
              0.4444444444444444,
              "#bd3786"
             ],
             [
              0.5555555555555556,
              "#d8576b"
             ],
             [
              0.6666666666666666,
              "#ed7953"
             ],
             [
              0.7777777777777778,
              "#fb9f3a"
             ],
             [
              0.8888888888888888,
              "#fdca26"
             ],
             [
              1,
              "#f0f921"
             ]
            ],
            "type": "contour"
           }
          ],
          "contourcarpet": [
           {
            "colorbar": {
             "outlinewidth": 0,
             "ticks": ""
            },
            "type": "contourcarpet"
           }
          ],
          "heatmap": [
           {
            "colorbar": {
             "outlinewidth": 0,
             "ticks": ""
            },
            "colorscale": [
             [
              0,
              "#0d0887"
             ],
             [
              0.1111111111111111,
              "#46039f"
             ],
             [
              0.2222222222222222,
              "#7201a8"
             ],
             [
              0.3333333333333333,
              "#9c179e"
             ],
             [
              0.4444444444444444,
              "#bd3786"
             ],
             [
              0.5555555555555556,
              "#d8576b"
             ],
             [
              0.6666666666666666,
              "#ed7953"
             ],
             [
              0.7777777777777778,
              "#fb9f3a"
             ],
             [
              0.8888888888888888,
              "#fdca26"
             ],
             [
              1,
              "#f0f921"
             ]
            ],
            "type": "heatmap"
           }
          ],
          "heatmapgl": [
           {
            "colorbar": {
             "outlinewidth": 0,
             "ticks": ""
            },
            "colorscale": [
             [
              0,
              "#0d0887"
             ],
             [
              0.1111111111111111,
              "#46039f"
             ],
             [
              0.2222222222222222,
              "#7201a8"
             ],
             [
              0.3333333333333333,
              "#9c179e"
             ],
             [
              0.4444444444444444,
              "#bd3786"
             ],
             [
              0.5555555555555556,
              "#d8576b"
             ],
             [
              0.6666666666666666,
              "#ed7953"
             ],
             [
              0.7777777777777778,
              "#fb9f3a"
             ],
             [
              0.8888888888888888,
              "#fdca26"
             ],
             [
              1,
              "#f0f921"
             ]
            ],
            "type": "heatmapgl"
           }
          ],
          "histogram": [
           {
            "marker": {
             "colorbar": {
              "outlinewidth": 0,
              "ticks": ""
             }
            },
            "type": "histogram"
           }
          ],
          "histogram2d": [
           {
            "colorbar": {
             "outlinewidth": 0,
             "ticks": ""
            },
            "colorscale": [
             [
              0,
              "#0d0887"
             ],
             [
              0.1111111111111111,
              "#46039f"
             ],
             [
              0.2222222222222222,
              "#7201a8"
             ],
             [
              0.3333333333333333,
              "#9c179e"
             ],
             [
              0.4444444444444444,
              "#bd3786"
             ],
             [
              0.5555555555555556,
              "#d8576b"
             ],
             [
              0.6666666666666666,
              "#ed7953"
             ],
             [
              0.7777777777777778,
              "#fb9f3a"
             ],
             [
              0.8888888888888888,
              "#fdca26"
             ],
             [
              1,
              "#f0f921"
             ]
            ],
            "type": "histogram2d"
           }
          ],
          "histogram2dcontour": [
           {
            "colorbar": {
             "outlinewidth": 0,
             "ticks": ""
            },
            "colorscale": [
             [
              0,
              "#0d0887"
             ],
             [
              0.1111111111111111,
              "#46039f"
             ],
             [
              0.2222222222222222,
              "#7201a8"
             ],
             [
              0.3333333333333333,
              "#9c179e"
             ],
             [
              0.4444444444444444,
              "#bd3786"
             ],
             [
              0.5555555555555556,
              "#d8576b"
             ],
             [
              0.6666666666666666,
              "#ed7953"
             ],
             [
              0.7777777777777778,
              "#fb9f3a"
             ],
             [
              0.8888888888888888,
              "#fdca26"
             ],
             [
              1,
              "#f0f921"
             ]
            ],
            "type": "histogram2dcontour"
           }
          ],
          "mesh3d": [
           {
            "colorbar": {
             "outlinewidth": 0,
             "ticks": ""
            },
            "type": "mesh3d"
           }
          ],
          "parcoords": [
           {
            "line": {
             "colorbar": {
              "outlinewidth": 0,
              "ticks": ""
             }
            },
            "type": "parcoords"
           }
          ],
          "pie": [
           {
            "automargin": true,
            "type": "pie"
           }
          ],
          "scatter": [
           {
            "marker": {
             "colorbar": {
              "outlinewidth": 0,
              "ticks": ""
             }
            },
            "type": "scatter"
           }
          ],
          "scatter3d": [
           {
            "line": {
             "colorbar": {
              "outlinewidth": 0,
              "ticks": ""
             }
            },
            "marker": {
             "colorbar": {
              "outlinewidth": 0,
              "ticks": ""
             }
            },
            "type": "scatter3d"
           }
          ],
          "scattercarpet": [
           {
            "marker": {
             "colorbar": {
              "outlinewidth": 0,
              "ticks": ""
             }
            },
            "type": "scattercarpet"
           }
          ],
          "scattergeo": [
           {
            "marker": {
             "colorbar": {
              "outlinewidth": 0,
              "ticks": ""
             }
            },
            "type": "scattergeo"
           }
          ],
          "scattergl": [
           {
            "marker": {
             "colorbar": {
              "outlinewidth": 0,
              "ticks": ""
             }
            },
            "type": "scattergl"
           }
          ],
          "scattermapbox": [
           {
            "marker": {
             "colorbar": {
              "outlinewidth": 0,
              "ticks": ""
             }
            },
            "type": "scattermapbox"
           }
          ],
          "scatterpolar": [
           {
            "marker": {
             "colorbar": {
              "outlinewidth": 0,
              "ticks": ""
             }
            },
            "type": "scatterpolar"
           }
          ],
          "scatterpolargl": [
           {
            "marker": {
             "colorbar": {
              "outlinewidth": 0,
              "ticks": ""
             }
            },
            "type": "scatterpolargl"
           }
          ],
          "scatterternary": [
           {
            "marker": {
             "colorbar": {
              "outlinewidth": 0,
              "ticks": ""
             }
            },
            "type": "scatterternary"
           }
          ],
          "surface": [
           {
            "colorbar": {
             "outlinewidth": 0,
             "ticks": ""
            },
            "colorscale": [
             [
              0,
              "#0d0887"
             ],
             [
              0.1111111111111111,
              "#46039f"
             ],
             [
              0.2222222222222222,
              "#7201a8"
             ],
             [
              0.3333333333333333,
              "#9c179e"
             ],
             [
              0.4444444444444444,
              "#bd3786"
             ],
             [
              0.5555555555555556,
              "#d8576b"
             ],
             [
              0.6666666666666666,
              "#ed7953"
             ],
             [
              0.7777777777777778,
              "#fb9f3a"
             ],
             [
              0.8888888888888888,
              "#fdca26"
             ],
             [
              1,
              "#f0f921"
             ]
            ],
            "type": "surface"
           }
          ],
          "table": [
           {
            "cells": {
             "fill": {
              "color": "#EBF0F8"
             },
             "line": {
              "color": "white"
             }
            },
            "header": {
             "fill": {
              "color": "#C8D4E3"
             },
             "line": {
              "color": "white"
             }
            },
            "type": "table"
           }
          ]
         },
         "layout": {
          "annotationdefaults": {
           "arrowcolor": "#2a3f5f",
           "arrowhead": 0,
           "arrowwidth": 1
          },
          "coloraxis": {
           "colorbar": {
            "outlinewidth": 0,
            "ticks": ""
           }
          },
          "colorscale": {
           "diverging": [
            [
             0,
             "#8e0152"
            ],
            [
             0.1,
             "#c51b7d"
            ],
            [
             0.2,
             "#de77ae"
            ],
            [
             0.3,
             "#f1b6da"
            ],
            [
             0.4,
             "#fde0ef"
            ],
            [
             0.5,
             "#f7f7f7"
            ],
            [
             0.6,
             "#e6f5d0"
            ],
            [
             0.7,
             "#b8e186"
            ],
            [
             0.8,
             "#7fbc41"
            ],
            [
             0.9,
             "#4d9221"
            ],
            [
             1,
             "#276419"
            ]
           ],
           "sequential": [
            [
             0,
             "#0d0887"
            ],
            [
             0.1111111111111111,
             "#46039f"
            ],
            [
             0.2222222222222222,
             "#7201a8"
            ],
            [
             0.3333333333333333,
             "#9c179e"
            ],
            [
             0.4444444444444444,
             "#bd3786"
            ],
            [
             0.5555555555555556,
             "#d8576b"
            ],
            [
             0.6666666666666666,
             "#ed7953"
            ],
            [
             0.7777777777777778,
             "#fb9f3a"
            ],
            [
             0.8888888888888888,
             "#fdca26"
            ],
            [
             1,
             "#f0f921"
            ]
           ],
           "sequentialminus": [
            [
             0,
             "#0d0887"
            ],
            [
             0.1111111111111111,
             "#46039f"
            ],
            [
             0.2222222222222222,
             "#7201a8"
            ],
            [
             0.3333333333333333,
             "#9c179e"
            ],
            [
             0.4444444444444444,
             "#bd3786"
            ],
            [
             0.5555555555555556,
             "#d8576b"
            ],
            [
             0.6666666666666666,
             "#ed7953"
            ],
            [
             0.7777777777777778,
             "#fb9f3a"
            ],
            [
             0.8888888888888888,
             "#fdca26"
            ],
            [
             1,
             "#f0f921"
            ]
           ]
          },
          "colorway": [
           "#636efa",
           "#EF553B",
           "#00cc96",
           "#ab63fa",
           "#FFA15A",
           "#19d3f3",
           "#FF6692",
           "#B6E880",
           "#FF97FF",
           "#FECB52"
          ],
          "font": {
           "color": "#2a3f5f"
          },
          "geo": {
           "bgcolor": "white",
           "lakecolor": "white",
           "landcolor": "#E5ECF6",
           "showlakes": true,
           "showland": true,
           "subunitcolor": "white"
          },
          "hoverlabel": {
           "align": "left"
          },
          "hovermode": "closest",
          "mapbox": {
           "style": "light"
          },
          "paper_bgcolor": "white",
          "plot_bgcolor": "#E5ECF6",
          "polar": {
           "angularaxis": {
            "gridcolor": "white",
            "linecolor": "white",
            "ticks": ""
           },
           "bgcolor": "#E5ECF6",
           "radialaxis": {
            "gridcolor": "white",
            "linecolor": "white",
            "ticks": ""
           }
          },
          "scene": {
           "xaxis": {
            "backgroundcolor": "#E5ECF6",
            "gridcolor": "white",
            "gridwidth": 2,
            "linecolor": "white",
            "showbackground": true,
            "ticks": "",
            "zerolinecolor": "white"
           },
           "yaxis": {
            "backgroundcolor": "#E5ECF6",
            "gridcolor": "white",
            "gridwidth": 2,
            "linecolor": "white",
            "showbackground": true,
            "ticks": "",
            "zerolinecolor": "white"
           },
           "zaxis": {
            "backgroundcolor": "#E5ECF6",
            "gridcolor": "white",
            "gridwidth": 2,
            "linecolor": "white",
            "showbackground": true,
            "ticks": "",
            "zerolinecolor": "white"
           }
          },
          "shapedefaults": {
           "line": {
            "color": "#2a3f5f"
           }
          },
          "ternary": {
           "aaxis": {
            "gridcolor": "white",
            "linecolor": "white",
            "ticks": ""
           },
           "baxis": {
            "gridcolor": "white",
            "linecolor": "white",
            "ticks": ""
           },
           "bgcolor": "#E5ECF6",
           "caxis": {
            "gridcolor": "white",
            "linecolor": "white",
            "ticks": ""
           }
          },
          "title": {
           "x": 0.05
          },
          "xaxis": {
           "automargin": true,
           "gridcolor": "white",
           "linecolor": "white",
           "ticks": "",
           "title": {
            "standoff": 15
           },
           "zerolinecolor": "white",
           "zerolinewidth": 2
          },
          "yaxis": {
           "automargin": true,
           "gridcolor": "white",
           "linecolor": "white",
           "ticks": "",
           "title": {
            "standoff": 15
           },
           "zerolinecolor": "white",
           "zerolinewidth": 2
          }
         }
        },
        "title": {
         "font": {
          "color": "#4D5663"
         }
        },
        "xaxis": {
         "gridcolor": "#E1E5ED",
         "showgrid": true,
         "tickfont": {
          "color": "#4D5663"
         },
         "title": {
          "font": {
           "color": "#4D5663"
          },
          "text": ""
         },
         "zerolinecolor": "#E1E5ED"
        },
        "yaxis": {
         "gridcolor": "#E1E5ED",
         "showgrid": true,
         "tickfont": {
          "color": "#4D5663"
         },
         "title": {
          "font": {
           "color": "#4D5663"
          },
          "text": ""
         },
         "zerolinecolor": "#E1E5ED"
        }
       }
      },
      "text/html": [
       "<div>                            <div id=\"0deb29b2-a855-4922-a4d9-e5374d1b6013\" class=\"plotly-graph-div\" style=\"height:525px; width:100%;\"></div>            <script type=\"text/javascript\">                require([\"plotly\"], function(Plotly) {                    window.PLOTLYENV=window.PLOTLYENV || {};\n",
       "                    window.PLOTLYENV.BASE_URL='https://plot.ly';                                    if (document.getElementById(\"0deb29b2-a855-4922-a4d9-e5374d1b6013\")) {                    Plotly.newPlot(                        \"0deb29b2-a855-4922-a4d9-e5374d1b6013\",                        [{\"boxpoints\": false, \"line\": {\"width\": 1.3}, \"marker\": {\"color\": \"rgba(255, 153, 51, 1.0)\"}, \"name\": \"A\", \"orientation\": \"v\", \"type\": \"box\", \"y\": [-0.39918119580901057, 0.7418621453466906, -0.4313355775472436, 0.3355224667718379, -0.7151869915905287, 0.145668325550864, 0.15591577298259662, 0.016226263834492997, 0.4605683837845119, -1.4139591642678533, -3.346775721169021, -1.2159667506526999, 0.5809608144629882, -0.26283320353488304, 1.2113580317867414, -0.4415756722746691, 2.2884194084433775, 1.0557466676734149, -1.442826254773536, -0.8063709415927582, 0.922383051818235, -0.3878906835859324, 0.025967017018530797, 0.6044282595635964, -0.7065329352842874, 0.9150675435000666, 0.18735127393393106, -0.2845605758953672, -0.09322552030780629, -0.1639557134477811, 0.156542641123135, -0.9341454884535909, -1.1960968243851422, -0.7420113595879909, -1.1231115173825923, -0.06575340563803043, -1.2314451894847818, -0.7004696413846199, 0.2750929324690308, 0.7915002131579784, -1.1253744106107293, 0.5712846346931809, -1.7280218331388324, 0.36865239908201825, -1.0668871446136439, -0.9061338046467238, -1.037945002921429, -0.5578754042788866, 0.14708542676641603, 0.8746134766485341, -0.36276225986481275, 0.12243563569516946, -0.05854080893376823, 1.162186833598004, -1.104489545096553, -0.26487716168614467, -0.05463255455270555, 1.495963991909491, 1.4742509865754625, 0.8390497854946452, 0.5108072739104828, -0.29675905041248607, 0.4317219076292566, 0.7526597856998946, -1.2662095357984315, -0.20809051371739795, -1.4334480138884427, 0.41521475437323424, -0.3681440922719436, -0.4974530040747305, 0.332517930744042, 0.1235890800313146, 0.5909382100815366, -1.0065808800216673, -0.6822563665823921, 1.1077016925230518, 0.07703396073766987, 0.42953692998520493, 0.7592976638295739, -0.8805787003240935, 1.5490488597669556, -0.2766809050067881, 0.7018174178549077, 0.1314637920120881, -0.40257295954386835, -0.6849120108591445, -0.8530469126783897, -0.8710488904466427, -0.40143057082221745, 0.5753943378178665, 0.5232222120203804, -0.22675126963357795, -1.0348115402137625, -0.026371322901696262, 0.7374597636331084, 0.23308846902896885, -0.4367113468497734, 0.5978251807763769, 0.6581567165919348, 1.600974778682548]}, {\"boxpoints\": false, \"line\": {\"width\": 1.3}, \"marker\": {\"color\": \"rgba(55, 128, 191, 1.0)\"}, \"name\": \"B\", \"orientation\": \"v\", \"type\": \"box\", \"y\": [2.2070461301559066, -0.788131612862357, -0.10784315640253468, -0.04044160801371967, -2.2896748695933327, 1.3429392443285344, 1.4865555779792607, 0.3659741914873344, -0.7892499216942237, 0.1141250947886066, -0.6139977202850474, 0.037322520254553855, 0.29142557618426357, 0.4113345097957159, 1.4192964679111584, 0.36923408302610705, 0.48399864965340045, 0.6079126562865081, -0.7977858369497093, -0.6119403421986435, 0.13146439326926732, 0.08725012491665272, 0.09456009132885217, -2.190707420460496, 1.12562920670872, -0.6839747581993745, 0.3115134349504725, 1.4492612304178427, 0.06999200823006771, -0.38800767411587783, -0.46598508418374707, -2.181197442663968, -1.0956797599610515, -0.9553121956681996, 0.42403097594459715, -1.6558545434866523, -1.3819798723174677, 1.6854462250364648, 0.732890145241412, -1.3374766327934853, -0.3260739282800016, 1.6637557322566037, -0.8409746644861881, -1.4111517724895952, -0.5393254688380885, 0.8754720938686266, 0.9997351757559365, -0.049471515590174334, 0.19908149523353075, 0.6249144899716452, -0.13465543056006563, -0.7161254082218936, 0.907665817980667, -1.0156398903308865, 0.07345276778828155, -1.730105693139972, -1.2104401316439815, -0.42246282382447614, 1.223087721057286, 0.25051121377375185, -0.11663617757627032, 0.25283529945234606, 1.2536411501995246, -0.8608597145861724, 0.06555619946573002, 1.1958308271299294, -1.3876026390431448, 0.0442082545566528, -1.341362716407108, 1.1968678848787968, 0.9087380738655427, 1.5555799622636919, 0.9353902928609358, 0.5473797210703165, 0.7084174573200912, -0.3698724043916409, -0.21573080837183653, 0.1359526800212306, 0.15906429779288436, -0.5540236467037417, -0.3414189576302107, -0.2718414423436621, -0.4666969220684351, -1.076680135465115, 1.6120850281316867, 0.4812952929193751, -1.9705129259249963, 0.31105314049038896, 0.9222631715288385, 1.4576098663395574, 0.09972461282505903, 0.10840621208454, 0.7745676451840312, 0.4074215942586728, 0.2725750104410174, 0.39225261140363143, -2.3594286944335656, -0.22987691975601063, -0.10824276280124188, -0.7045627207862724]}, {\"boxpoints\": false, \"line\": {\"width\": 1.3}, \"marker\": {\"color\": \"rgba(50, 171, 96, 1.0)\"}, \"name\": \"C\", \"orientation\": \"v\", \"type\": \"box\", \"y\": [-0.6384635434448434, 0.20129141961750233, 1.4455203111308286, -2.047290855826421, -2.029950571478503, 0.29635493029587623, -1.0690424023584588, -1.2637584431139288, -0.3614137588757708, 0.32950204350421197, 0.42846767886560316, 0.5601788272810735, -0.0017168075576362444, -0.4972131141137663, 0.25457364680471645, 0.2137456547519348, -0.4403021838963106, -1.0315565236333366, -0.023894730689849437, 0.5924047035997578, 0.35942749772259, -0.6066457895243129, -0.2582454921550214, -0.26621451459259154, -0.9573050494162388, -0.8706096263812089, 0.5102967350809852, 0.04320071844350394, 0.19323022101942358, -0.5600387594048482, 0.20515073678384357, -0.38367430459649504, 1.1030134451203024, 0.17577903989255617, 0.05909350588535493, 0.9060438420963102, -1.176374199231999, -1.6070486970361355, 1.0184887224199144, 0.0719696391996265, -0.6869826904235876, -0.16460152728129593, -0.35243474239572575, -1.9430458105049733, 0.2933875677142585, 0.8147781673269966, 0.1345823636843486, -0.24262686906277547, 1.2900084062266597, -1.742193371249046, 1.1275374880419575, 0.576888577525062, -1.1794518032333612, 0.5181270969759182, -0.28574157279352047, -0.22175649553356597, 0.2813332139097955, -0.5233650816443627, -1.4848214871943564, -2.2858417656552925, -1.4303439360899257, -0.7204253348743646, -0.9294079819027545, -0.9257964005341828, 0.01871365692644488, -1.4190258893838466, -1.3911593844039067, 1.284936979432578, -1.917648055426853, -1.1439162262493472, 0.4660789865538819, -0.5618536694903467, -1.1217661119240674, -0.7830955152004814, -0.3964975240873266, -0.6468406852173031, 0.34229290137010937, -0.5813133729108274, -0.525986127539155, 0.2772442085639978, -2.236687488425607, -0.7242269897500356, -1.737558828333686, -1.3565212899183334, -0.549044918185219, 1.3069133552484964, -0.2903838593639379, -0.8920967004629824, -0.9345202102475368, 0.5497897959314942, 0.42105714373918907, -1.937703571631979, -0.871566785049873, 1.7004145299257194, -0.707844864137198, 0.6009239704775721, -1.3318353999603316, 0.8486676862766808, 0.4039525974905113, 0.8514364200361985]}, {\"boxpoints\": false, \"line\": {\"width\": 1.3}, \"marker\": {\"color\": \"rgba(128, 0, 128, 1.0)\"}, \"name\": \"D\", \"orientation\": \"v\", \"type\": \"box\", \"y\": [0.4402792313594633, -2.231875219530463, 0.506085790169927, 0.3739216457196463, 0.5581079001710428, 0.4274038505191474, 0.3798748753703595, -1.448309773483199, -0.26478675575818633, -1.5492527548137627, -1.5203405467799962, 0.29671073239926654, -1.123886935293182, -0.00966584439369465, 0.2641011324843051, -0.03449149511221563, 1.2535885304778782, -1.071374141698954, 1.4474862451647823, -0.44183298656970094, 0.2238959910693913, 1.2640035090577666, -0.8722077491862223, 1.0539208141083116, -0.05435394505681398, 0.05858998681185259, 0.0647952104940045, 1.3060176712332476, -0.5889534365463991, 1.286879805367101, -1.8137269956104176, -0.8645353028348475, 1.1491416413431492, -0.48956025462922365, -1.212447049698165, -0.7566594934068639, 1.3351510505403292, 1.0952921221471876, 0.2109797601915426, 0.5000273184490857, 1.5823984923308345, 0.22291563155010405, -0.06846769305685602, 2.553488550639987, -0.09809275094245921, 1.0530885573770068, -1.5470423641151319, -2.7885014218021444, 0.47425994462288223, 1.4892794517759067, -0.42172309615353076, -0.09905082778889188, 0.5774054835753971, 0.18460369988935615, -0.02785843168581629, -1.1036759738103374, -0.474135721105905, -0.6124711047943953, 0.10813003622608242, 1.804446472034872, 0.16118724351311858, -0.053463021710888306, -0.9108941156513923, 0.1714273870289398, -1.8973499056236238, 1.7864266672473026, 1.2007151338638131, -0.9068744996688112, 0.11659544639734006, 0.20058508971137132, -1.8602597423337406, 1.3964573738687998, 0.14357841616147643, -0.27363474805865806, -0.7567940092165989, 0.8639357076518587, 1.7574488135100723, 0.12319664152585351, 1.5436451668305928, -1.2909390728105758, -1.0762238927141718, 0.7011791021336731, -0.01899808250300709, -1.6908586470464428, -1.207040308484164, -0.85238176382397, -0.0453678985264209, -0.13162954399743754, -0.08234015768776166, 0.8834075972458294, -0.5709708007470555, -0.8480021538235875, -1.0568511503362594, -0.08352093882807796, -0.6498746858584202, -1.2074438975271147, -0.5079688229414314, 0.6148451371506651, -0.11425738151919548, -0.976090291729148]}],                        {\"legend\": {\"bgcolor\": \"#F5F6F9\", \"font\": {\"color\": \"#4D5663\"}}, \"paper_bgcolor\": \"#F5F6F9\", \"plot_bgcolor\": \"#F5F6F9\", \"template\": {\"data\": {\"bar\": [{\"error_x\": {\"color\": \"#2a3f5f\"}, \"error_y\": {\"color\": \"#2a3f5f\"}, \"marker\": {\"line\": {\"color\": \"#E5ECF6\", \"width\": 0.5}}, \"type\": \"bar\"}], \"barpolar\": [{\"marker\": {\"line\": {\"color\": \"#E5ECF6\", \"width\": 0.5}}, \"type\": \"barpolar\"}], \"carpet\": [{\"aaxis\": {\"endlinecolor\": \"#2a3f5f\", \"gridcolor\": \"white\", \"linecolor\": \"white\", \"minorgridcolor\": \"white\", \"startlinecolor\": \"#2a3f5f\"}, \"baxis\": {\"endlinecolor\": \"#2a3f5f\", \"gridcolor\": \"white\", \"linecolor\": \"white\", \"minorgridcolor\": \"white\", \"startlinecolor\": \"#2a3f5f\"}, \"type\": \"carpet\"}], \"choropleth\": [{\"colorbar\": {\"outlinewidth\": 0, \"ticks\": \"\"}, \"type\": \"choropleth\"}], \"contour\": [{\"colorbar\": {\"outlinewidth\": 0, \"ticks\": \"\"}, \"colorscale\": [[0.0, \"#0d0887\"], [0.1111111111111111, \"#46039f\"], [0.2222222222222222, \"#7201a8\"], [0.3333333333333333, \"#9c179e\"], [0.4444444444444444, \"#bd3786\"], [0.5555555555555556, \"#d8576b\"], [0.6666666666666666, \"#ed7953\"], [0.7777777777777778, \"#fb9f3a\"], [0.8888888888888888, \"#fdca26\"], [1.0, \"#f0f921\"]], \"type\": \"contour\"}], \"contourcarpet\": [{\"colorbar\": {\"outlinewidth\": 0, \"ticks\": \"\"}, \"type\": \"contourcarpet\"}], \"heatmap\": [{\"colorbar\": {\"outlinewidth\": 0, \"ticks\": \"\"}, \"colorscale\": [[0.0, \"#0d0887\"], [0.1111111111111111, \"#46039f\"], [0.2222222222222222, \"#7201a8\"], [0.3333333333333333, \"#9c179e\"], [0.4444444444444444, \"#bd3786\"], [0.5555555555555556, \"#d8576b\"], [0.6666666666666666, \"#ed7953\"], [0.7777777777777778, \"#fb9f3a\"], [0.8888888888888888, \"#fdca26\"], [1.0, \"#f0f921\"]], \"type\": \"heatmap\"}], \"heatmapgl\": [{\"colorbar\": {\"outlinewidth\": 0, \"ticks\": \"\"}, \"colorscale\": [[0.0, \"#0d0887\"], [0.1111111111111111, \"#46039f\"], [0.2222222222222222, \"#7201a8\"], [0.3333333333333333, \"#9c179e\"], [0.4444444444444444, \"#bd3786\"], [0.5555555555555556, \"#d8576b\"], [0.6666666666666666, \"#ed7953\"], [0.7777777777777778, \"#fb9f3a\"], [0.8888888888888888, \"#fdca26\"], [1.0, \"#f0f921\"]], \"type\": \"heatmapgl\"}], \"histogram\": [{\"marker\": {\"colorbar\": {\"outlinewidth\": 0, \"ticks\": \"\"}}, \"type\": \"histogram\"}], \"histogram2d\": [{\"colorbar\": {\"outlinewidth\": 0, \"ticks\": \"\"}, \"colorscale\": [[0.0, \"#0d0887\"], [0.1111111111111111, \"#46039f\"], [0.2222222222222222, \"#7201a8\"], [0.3333333333333333, \"#9c179e\"], [0.4444444444444444, \"#bd3786\"], [0.5555555555555556, \"#d8576b\"], [0.6666666666666666, \"#ed7953\"], [0.7777777777777778, \"#fb9f3a\"], [0.8888888888888888, \"#fdca26\"], [1.0, \"#f0f921\"]], \"type\": \"histogram2d\"}], \"histogram2dcontour\": [{\"colorbar\": {\"outlinewidth\": 0, \"ticks\": \"\"}, \"colorscale\": [[0.0, \"#0d0887\"], [0.1111111111111111, \"#46039f\"], [0.2222222222222222, \"#7201a8\"], [0.3333333333333333, \"#9c179e\"], [0.4444444444444444, \"#bd3786\"], [0.5555555555555556, \"#d8576b\"], [0.6666666666666666, \"#ed7953\"], [0.7777777777777778, \"#fb9f3a\"], [0.8888888888888888, \"#fdca26\"], [1.0, \"#f0f921\"]], \"type\": \"histogram2dcontour\"}], \"mesh3d\": [{\"colorbar\": {\"outlinewidth\": 0, \"ticks\": \"\"}, \"type\": \"mesh3d\"}], \"parcoords\": [{\"line\": {\"colorbar\": {\"outlinewidth\": 0, \"ticks\": \"\"}}, \"type\": \"parcoords\"}], \"pie\": [{\"automargin\": true, \"type\": \"pie\"}], \"scatter\": [{\"marker\": {\"colorbar\": {\"outlinewidth\": 0, \"ticks\": \"\"}}, \"type\": \"scatter\"}], \"scatter3d\": [{\"line\": {\"colorbar\": {\"outlinewidth\": 0, \"ticks\": \"\"}}, \"marker\": {\"colorbar\": {\"outlinewidth\": 0, \"ticks\": \"\"}}, \"type\": \"scatter3d\"}], \"scattercarpet\": [{\"marker\": {\"colorbar\": {\"outlinewidth\": 0, \"ticks\": \"\"}}, \"type\": \"scattercarpet\"}], \"scattergeo\": [{\"marker\": {\"colorbar\": {\"outlinewidth\": 0, \"ticks\": \"\"}}, \"type\": \"scattergeo\"}], \"scattergl\": [{\"marker\": {\"colorbar\": {\"outlinewidth\": 0, \"ticks\": \"\"}}, \"type\": \"scattergl\"}], \"scattermapbox\": [{\"marker\": {\"colorbar\": {\"outlinewidth\": 0, \"ticks\": \"\"}}, \"type\": \"scattermapbox\"}], \"scatterpolar\": [{\"marker\": {\"colorbar\": {\"outlinewidth\": 0, \"ticks\": \"\"}}, \"type\": \"scatterpolar\"}], \"scatterpolargl\": [{\"marker\": {\"colorbar\": {\"outlinewidth\": 0, \"ticks\": \"\"}}, \"type\": \"scatterpolargl\"}], \"scatterternary\": [{\"marker\": {\"colorbar\": {\"outlinewidth\": 0, \"ticks\": \"\"}}, \"type\": \"scatterternary\"}], \"surface\": [{\"colorbar\": {\"outlinewidth\": 0, \"ticks\": \"\"}, \"colorscale\": [[0.0, \"#0d0887\"], [0.1111111111111111, \"#46039f\"], [0.2222222222222222, \"#7201a8\"], [0.3333333333333333, \"#9c179e\"], [0.4444444444444444, \"#bd3786\"], [0.5555555555555556, \"#d8576b\"], [0.6666666666666666, \"#ed7953\"], [0.7777777777777778, \"#fb9f3a\"], [0.8888888888888888, \"#fdca26\"], [1.0, \"#f0f921\"]], \"type\": \"surface\"}], \"table\": [{\"cells\": {\"fill\": {\"color\": \"#EBF0F8\"}, \"line\": {\"color\": \"white\"}}, \"header\": {\"fill\": {\"color\": \"#C8D4E3\"}, \"line\": {\"color\": \"white\"}}, \"type\": \"table\"}]}, \"layout\": {\"annotationdefaults\": {\"arrowcolor\": \"#2a3f5f\", \"arrowhead\": 0, \"arrowwidth\": 1}, \"coloraxis\": {\"colorbar\": {\"outlinewidth\": 0, \"ticks\": \"\"}}, \"colorscale\": {\"diverging\": [[0, \"#8e0152\"], [0.1, \"#c51b7d\"], [0.2, \"#de77ae\"], [0.3, \"#f1b6da\"], [0.4, \"#fde0ef\"], [0.5, \"#f7f7f7\"], [0.6, \"#e6f5d0\"], [0.7, \"#b8e186\"], [0.8, \"#7fbc41\"], [0.9, \"#4d9221\"], [1, \"#276419\"]], \"sequential\": [[0.0, \"#0d0887\"], [0.1111111111111111, \"#46039f\"], [0.2222222222222222, \"#7201a8\"], [0.3333333333333333, \"#9c179e\"], [0.4444444444444444, \"#bd3786\"], [0.5555555555555556, \"#d8576b\"], [0.6666666666666666, \"#ed7953\"], [0.7777777777777778, \"#fb9f3a\"], [0.8888888888888888, \"#fdca26\"], [1.0, \"#f0f921\"]], \"sequentialminus\": [[0.0, \"#0d0887\"], [0.1111111111111111, \"#46039f\"], [0.2222222222222222, \"#7201a8\"], [0.3333333333333333, \"#9c179e\"], [0.4444444444444444, \"#bd3786\"], [0.5555555555555556, \"#d8576b\"], [0.6666666666666666, \"#ed7953\"], [0.7777777777777778, \"#fb9f3a\"], [0.8888888888888888, \"#fdca26\"], [1.0, \"#f0f921\"]]}, \"colorway\": [\"#636efa\", \"#EF553B\", \"#00cc96\", \"#ab63fa\", \"#FFA15A\", \"#19d3f3\", \"#FF6692\", \"#B6E880\", \"#FF97FF\", \"#FECB52\"], \"font\": {\"color\": \"#2a3f5f\"}, \"geo\": {\"bgcolor\": \"white\", \"lakecolor\": \"white\", \"landcolor\": \"#E5ECF6\", \"showlakes\": true, \"showland\": true, \"subunitcolor\": \"white\"}, \"hoverlabel\": {\"align\": \"left\"}, \"hovermode\": \"closest\", \"mapbox\": {\"style\": \"light\"}, \"paper_bgcolor\": \"white\", \"plot_bgcolor\": \"#E5ECF6\", \"polar\": {\"angularaxis\": {\"gridcolor\": \"white\", \"linecolor\": \"white\", \"ticks\": \"\"}, \"bgcolor\": \"#E5ECF6\", \"radialaxis\": {\"gridcolor\": \"white\", \"linecolor\": \"white\", \"ticks\": \"\"}}, \"scene\": {\"xaxis\": {\"backgroundcolor\": \"#E5ECF6\", \"gridcolor\": \"white\", \"gridwidth\": 2, \"linecolor\": \"white\", \"showbackground\": true, \"ticks\": \"\", \"zerolinecolor\": \"white\"}, \"yaxis\": {\"backgroundcolor\": \"#E5ECF6\", \"gridcolor\": \"white\", \"gridwidth\": 2, \"linecolor\": \"white\", \"showbackground\": true, \"ticks\": \"\", \"zerolinecolor\": \"white\"}, \"zaxis\": {\"backgroundcolor\": \"#E5ECF6\", \"gridcolor\": \"white\", \"gridwidth\": 2, \"linecolor\": \"white\", \"showbackground\": true, \"ticks\": \"\", \"zerolinecolor\": \"white\"}}, \"shapedefaults\": {\"line\": {\"color\": \"#2a3f5f\"}}, \"ternary\": {\"aaxis\": {\"gridcolor\": \"white\", \"linecolor\": \"white\", \"ticks\": \"\"}, \"baxis\": {\"gridcolor\": \"white\", \"linecolor\": \"white\", \"ticks\": \"\"}, \"bgcolor\": \"#E5ECF6\", \"caxis\": {\"gridcolor\": \"white\", \"linecolor\": \"white\", \"ticks\": \"\"}}, \"title\": {\"x\": 0.05}, \"xaxis\": {\"automargin\": true, \"gridcolor\": \"white\", \"linecolor\": \"white\", \"ticks\": \"\", \"title\": {\"standoff\": 15}, \"zerolinecolor\": \"white\", \"zerolinewidth\": 2}, \"yaxis\": {\"automargin\": true, \"gridcolor\": \"white\", \"linecolor\": \"white\", \"ticks\": \"\", \"title\": {\"standoff\": 15}, \"zerolinecolor\": \"white\", \"zerolinewidth\": 2}}}, \"title\": {\"font\": {\"color\": \"#4D5663\"}}, \"xaxis\": {\"gridcolor\": \"#E1E5ED\", \"showgrid\": true, \"tickfont\": {\"color\": \"#4D5663\"}, \"title\": {\"font\": {\"color\": \"#4D5663\"}, \"text\": \"\"}, \"zerolinecolor\": \"#E1E5ED\"}, \"yaxis\": {\"gridcolor\": \"#E1E5ED\", \"showgrid\": true, \"tickfont\": {\"color\": \"#4D5663\"}, \"title\": {\"font\": {\"color\": \"#4D5663\"}, \"text\": \"\"}, \"zerolinecolor\": \"#E1E5ED\"}},                        {\"showLink\": true, \"linkText\": \"Export to plot.ly\", \"plotlyServerURL\": \"https://plot.ly\", \"responsive\": true}                    ).then(function(){\n",
       "                            \n",
       "var gd = document.getElementById('0deb29b2-a855-4922-a4d9-e5374d1b6013');\n",
       "var x = new MutationObserver(function (mutations, observer) {{\n",
       "        var display = window.getComputedStyle(gd).display;\n",
       "        if (!display || display === 'none') {{\n",
       "            console.log([gd, 'removed!']);\n",
       "            Plotly.purge(gd);\n",
       "            observer.disconnect();\n",
       "        }}\n",
       "}});\n",
       "\n",
       "// Listen for the removal of the full notebook cells\n",
       "var notebookContainer = gd.closest('#notebook-container');\n",
       "if (notebookContainer) {{\n",
       "    x.observe(notebookContainer, {childList: true});\n",
       "}}\n",
       "\n",
       "// Listen for the clearing of the current output cell\n",
       "var outputEl = gd.closest('.output');\n",
       "if (outputEl) {{\n",
       "    x.observe(outputEl, {childList: true});\n",
       "}}\n",
       "\n",
       "                        })                };                });            </script>        </div>"
      ]
     },
     "metadata": {},
     "output_type": "display_data"
    }
   ],
   "source": [
    "df.iplot(kind='box')"
   ]
  },
  {
   "cell_type": "code",
   "execution_count": 17,
   "metadata": {},
   "outputs": [
    {
     "data": {
      "text/html": [
       "<div>\n",
       "<style scoped>\n",
       "    .dataframe tbody tr th:only-of-type {\n",
       "        vertical-align: middle;\n",
       "    }\n",
       "\n",
       "    .dataframe tbody tr th {\n",
       "        vertical-align: top;\n",
       "    }\n",
       "\n",
       "    .dataframe thead th {\n",
       "        text-align: right;\n",
       "    }\n",
       "</style>\n",
       "<table border=\"1\" class=\"dataframe\">\n",
       "  <thead>\n",
       "    <tr style=\"text-align: right;\">\n",
       "      <th></th>\n",
       "      <th>x</th>\n",
       "      <th>y</th>\n",
       "      <th>z</th>\n",
       "    </tr>\n",
       "  </thead>\n",
       "  <tbody>\n",
       "    <tr>\n",
       "      <th>0</th>\n",
       "      <td>1</td>\n",
       "      <td>10</td>\n",
       "      <td>5</td>\n",
       "    </tr>\n",
       "    <tr>\n",
       "      <th>1</th>\n",
       "      <td>2</td>\n",
       "      <td>20</td>\n",
       "      <td>4</td>\n",
       "    </tr>\n",
       "    <tr>\n",
       "      <th>2</th>\n",
       "      <td>3</td>\n",
       "      <td>30</td>\n",
       "      <td>3</td>\n",
       "    </tr>\n",
       "    <tr>\n",
       "      <th>3</th>\n",
       "      <td>4</td>\n",
       "      <td>20</td>\n",
       "      <td>2</td>\n",
       "    </tr>\n",
       "    <tr>\n",
       "      <th>4</th>\n",
       "      <td>5</td>\n",
       "      <td>10</td>\n",
       "      <td>1</td>\n",
       "    </tr>\n",
       "  </tbody>\n",
       "</table>\n",
       "</div>"
      ],
      "text/plain": [
       "   x   y  z\n",
       "0  1  10  5\n",
       "1  2  20  4\n",
       "2  3  30  3\n",
       "3  4  20  2\n",
       "4  5  10  1"
      ]
     },
     "execution_count": 17,
     "metadata": {},
     "output_type": "execute_result"
    }
   ],
   "source": [
    "df3 = pd.DataFrame({'x':[1, 2, 3, 4, 5],\n",
    "                    'y':[10, 20, 30, 20, 10],\n",
    "                    'z':[5, 4, 3, 2, 1]})\n",
    "df3"
   ]
  },
  {
   "cell_type": "code",
   "execution_count": 19,
   "metadata": {},
   "outputs": [
    {
     "data": {
      "application/vnd.plotly.v1+json": {
       "config": {
        "linkText": "Export to plot.ly",
        "plotlyServerURL": "https://plot.ly",
        "showLink": true
       },
       "data": [
        {
         "colorscale": [
          [
           0,
           "rgb(165,0,38)"
          ],
          [
           0.1,
           "rgb(215,48,39)"
          ],
          [
           0.2,
           "rgb(244,109,67)"
          ],
          [
           0.3,
           "rgb(253,174,97)"
          ],
          [
           0.4,
           "rgb(254,224,144)"
          ],
          [
           0.5,
           "rgb(255,255,191)"
          ],
          [
           0.6,
           "rgb(224,243,248)"
          ],
          [
           0.7,
           "rgb(171,217,233)"
          ],
          [
           0.8,
           "rgb(116,173,209)"
          ],
          [
           0.9,
           "rgb(69,117,180)"
          ],
          [
           1,
           "rgb(49,54,149)"
          ]
         ],
         "type": "surface",
         "x": [
          0,
          1,
          2,
          3,
          4
         ],
         "y": [
          "x",
          "y",
          "z"
         ],
         "z": [
          [
           1,
           2,
           3,
           4,
           5
          ],
          [
           10,
           20,
           30,
           20,
           10
          ],
          [
           5,
           4,
           3,
           2,
           1
          ]
         ]
        }
       ],
       "layout": {
        "legend": {
         "bgcolor": "#F5F6F9",
         "font": {
          "color": "#4D5663"
         }
        },
        "paper_bgcolor": "#F5F6F9",
        "plot_bgcolor": "#F5F6F9",
        "template": {
         "data": {
          "bar": [
           {
            "error_x": {
             "color": "#2a3f5f"
            },
            "error_y": {
             "color": "#2a3f5f"
            },
            "marker": {
             "line": {
              "color": "#E5ECF6",
              "width": 0.5
             }
            },
            "type": "bar"
           }
          ],
          "barpolar": [
           {
            "marker": {
             "line": {
              "color": "#E5ECF6",
              "width": 0.5
             }
            },
            "type": "barpolar"
           }
          ],
          "carpet": [
           {
            "aaxis": {
             "endlinecolor": "#2a3f5f",
             "gridcolor": "white",
             "linecolor": "white",
             "minorgridcolor": "white",
             "startlinecolor": "#2a3f5f"
            },
            "baxis": {
             "endlinecolor": "#2a3f5f",
             "gridcolor": "white",
             "linecolor": "white",
             "minorgridcolor": "white",
             "startlinecolor": "#2a3f5f"
            },
            "type": "carpet"
           }
          ],
          "choropleth": [
           {
            "colorbar": {
             "outlinewidth": 0,
             "ticks": ""
            },
            "type": "choropleth"
           }
          ],
          "contour": [
           {
            "colorbar": {
             "outlinewidth": 0,
             "ticks": ""
            },
            "colorscale": [
             [
              0,
              "#0d0887"
             ],
             [
              0.1111111111111111,
              "#46039f"
             ],
             [
              0.2222222222222222,
              "#7201a8"
             ],
             [
              0.3333333333333333,
              "#9c179e"
             ],
             [
              0.4444444444444444,
              "#bd3786"
             ],
             [
              0.5555555555555556,
              "#d8576b"
             ],
             [
              0.6666666666666666,
              "#ed7953"
             ],
             [
              0.7777777777777778,
              "#fb9f3a"
             ],
             [
              0.8888888888888888,
              "#fdca26"
             ],
             [
              1,
              "#f0f921"
             ]
            ],
            "type": "contour"
           }
          ],
          "contourcarpet": [
           {
            "colorbar": {
             "outlinewidth": 0,
             "ticks": ""
            },
            "type": "contourcarpet"
           }
          ],
          "heatmap": [
           {
            "colorbar": {
             "outlinewidth": 0,
             "ticks": ""
            },
            "colorscale": [
             [
              0,
              "#0d0887"
             ],
             [
              0.1111111111111111,
              "#46039f"
             ],
             [
              0.2222222222222222,
              "#7201a8"
             ],
             [
              0.3333333333333333,
              "#9c179e"
             ],
             [
              0.4444444444444444,
              "#bd3786"
             ],
             [
              0.5555555555555556,
              "#d8576b"
             ],
             [
              0.6666666666666666,
              "#ed7953"
             ],
             [
              0.7777777777777778,
              "#fb9f3a"
             ],
             [
              0.8888888888888888,
              "#fdca26"
             ],
             [
              1,
              "#f0f921"
             ]
            ],
            "type": "heatmap"
           }
          ],
          "heatmapgl": [
           {
            "colorbar": {
             "outlinewidth": 0,
             "ticks": ""
            },
            "colorscale": [
             [
              0,
              "#0d0887"
             ],
             [
              0.1111111111111111,
              "#46039f"
             ],
             [
              0.2222222222222222,
              "#7201a8"
             ],
             [
              0.3333333333333333,
              "#9c179e"
             ],
             [
              0.4444444444444444,
              "#bd3786"
             ],
             [
              0.5555555555555556,
              "#d8576b"
             ],
             [
              0.6666666666666666,
              "#ed7953"
             ],
             [
              0.7777777777777778,
              "#fb9f3a"
             ],
             [
              0.8888888888888888,
              "#fdca26"
             ],
             [
              1,
              "#f0f921"
             ]
            ],
            "type": "heatmapgl"
           }
          ],
          "histogram": [
           {
            "marker": {
             "colorbar": {
              "outlinewidth": 0,
              "ticks": ""
             }
            },
            "type": "histogram"
           }
          ],
          "histogram2d": [
           {
            "colorbar": {
             "outlinewidth": 0,
             "ticks": ""
            },
            "colorscale": [
             [
              0,
              "#0d0887"
             ],
             [
              0.1111111111111111,
              "#46039f"
             ],
             [
              0.2222222222222222,
              "#7201a8"
             ],
             [
              0.3333333333333333,
              "#9c179e"
             ],
             [
              0.4444444444444444,
              "#bd3786"
             ],
             [
              0.5555555555555556,
              "#d8576b"
             ],
             [
              0.6666666666666666,
              "#ed7953"
             ],
             [
              0.7777777777777778,
              "#fb9f3a"
             ],
             [
              0.8888888888888888,
              "#fdca26"
             ],
             [
              1,
              "#f0f921"
             ]
            ],
            "type": "histogram2d"
           }
          ],
          "histogram2dcontour": [
           {
            "colorbar": {
             "outlinewidth": 0,
             "ticks": ""
            },
            "colorscale": [
             [
              0,
              "#0d0887"
             ],
             [
              0.1111111111111111,
              "#46039f"
             ],
             [
              0.2222222222222222,
              "#7201a8"
             ],
             [
              0.3333333333333333,
              "#9c179e"
             ],
             [
              0.4444444444444444,
              "#bd3786"
             ],
             [
              0.5555555555555556,
              "#d8576b"
             ],
             [
              0.6666666666666666,
              "#ed7953"
             ],
             [
              0.7777777777777778,
              "#fb9f3a"
             ],
             [
              0.8888888888888888,
              "#fdca26"
             ],
             [
              1,
              "#f0f921"
             ]
            ],
            "type": "histogram2dcontour"
           }
          ],
          "mesh3d": [
           {
            "colorbar": {
             "outlinewidth": 0,
             "ticks": ""
            },
            "type": "mesh3d"
           }
          ],
          "parcoords": [
           {
            "line": {
             "colorbar": {
              "outlinewidth": 0,
              "ticks": ""
             }
            },
            "type": "parcoords"
           }
          ],
          "pie": [
           {
            "automargin": true,
            "type": "pie"
           }
          ],
          "scatter": [
           {
            "marker": {
             "colorbar": {
              "outlinewidth": 0,
              "ticks": ""
             }
            },
            "type": "scatter"
           }
          ],
          "scatter3d": [
           {
            "line": {
             "colorbar": {
              "outlinewidth": 0,
              "ticks": ""
             }
            },
            "marker": {
             "colorbar": {
              "outlinewidth": 0,
              "ticks": ""
             }
            },
            "type": "scatter3d"
           }
          ],
          "scattercarpet": [
           {
            "marker": {
             "colorbar": {
              "outlinewidth": 0,
              "ticks": ""
             }
            },
            "type": "scattercarpet"
           }
          ],
          "scattergeo": [
           {
            "marker": {
             "colorbar": {
              "outlinewidth": 0,
              "ticks": ""
             }
            },
            "type": "scattergeo"
           }
          ],
          "scattergl": [
           {
            "marker": {
             "colorbar": {
              "outlinewidth": 0,
              "ticks": ""
             }
            },
            "type": "scattergl"
           }
          ],
          "scattermapbox": [
           {
            "marker": {
             "colorbar": {
              "outlinewidth": 0,
              "ticks": ""
             }
            },
            "type": "scattermapbox"
           }
          ],
          "scatterpolar": [
           {
            "marker": {
             "colorbar": {
              "outlinewidth": 0,
              "ticks": ""
             }
            },
            "type": "scatterpolar"
           }
          ],
          "scatterpolargl": [
           {
            "marker": {
             "colorbar": {
              "outlinewidth": 0,
              "ticks": ""
             }
            },
            "type": "scatterpolargl"
           }
          ],
          "scatterternary": [
           {
            "marker": {
             "colorbar": {
              "outlinewidth": 0,
              "ticks": ""
             }
            },
            "type": "scatterternary"
           }
          ],
          "surface": [
           {
            "colorbar": {
             "outlinewidth": 0,
             "ticks": ""
            },
            "colorscale": [
             [
              0,
              "#0d0887"
             ],
             [
              0.1111111111111111,
              "#46039f"
             ],
             [
              0.2222222222222222,
              "#7201a8"
             ],
             [
              0.3333333333333333,
              "#9c179e"
             ],
             [
              0.4444444444444444,
              "#bd3786"
             ],
             [
              0.5555555555555556,
              "#d8576b"
             ],
             [
              0.6666666666666666,
              "#ed7953"
             ],
             [
              0.7777777777777778,
              "#fb9f3a"
             ],
             [
              0.8888888888888888,
              "#fdca26"
             ],
             [
              1,
              "#f0f921"
             ]
            ],
            "type": "surface"
           }
          ],
          "table": [
           {
            "cells": {
             "fill": {
              "color": "#EBF0F8"
             },
             "line": {
              "color": "white"
             }
            },
            "header": {
             "fill": {
              "color": "#C8D4E3"
             },
             "line": {
              "color": "white"
             }
            },
            "type": "table"
           }
          ]
         },
         "layout": {
          "annotationdefaults": {
           "arrowcolor": "#2a3f5f",
           "arrowhead": 0,
           "arrowwidth": 1
          },
          "coloraxis": {
           "colorbar": {
            "outlinewidth": 0,
            "ticks": ""
           }
          },
          "colorscale": {
           "diverging": [
            [
             0,
             "#8e0152"
            ],
            [
             0.1,
             "#c51b7d"
            ],
            [
             0.2,
             "#de77ae"
            ],
            [
             0.3,
             "#f1b6da"
            ],
            [
             0.4,
             "#fde0ef"
            ],
            [
             0.5,
             "#f7f7f7"
            ],
            [
             0.6,
             "#e6f5d0"
            ],
            [
             0.7,
             "#b8e186"
            ],
            [
             0.8,
             "#7fbc41"
            ],
            [
             0.9,
             "#4d9221"
            ],
            [
             1,
             "#276419"
            ]
           ],
           "sequential": [
            [
             0,
             "#0d0887"
            ],
            [
             0.1111111111111111,
             "#46039f"
            ],
            [
             0.2222222222222222,
             "#7201a8"
            ],
            [
             0.3333333333333333,
             "#9c179e"
            ],
            [
             0.4444444444444444,
             "#bd3786"
            ],
            [
             0.5555555555555556,
             "#d8576b"
            ],
            [
             0.6666666666666666,
             "#ed7953"
            ],
            [
             0.7777777777777778,
             "#fb9f3a"
            ],
            [
             0.8888888888888888,
             "#fdca26"
            ],
            [
             1,
             "#f0f921"
            ]
           ],
           "sequentialminus": [
            [
             0,
             "#0d0887"
            ],
            [
             0.1111111111111111,
             "#46039f"
            ],
            [
             0.2222222222222222,
             "#7201a8"
            ],
            [
             0.3333333333333333,
             "#9c179e"
            ],
            [
             0.4444444444444444,
             "#bd3786"
            ],
            [
             0.5555555555555556,
             "#d8576b"
            ],
            [
             0.6666666666666666,
             "#ed7953"
            ],
            [
             0.7777777777777778,
             "#fb9f3a"
            ],
            [
             0.8888888888888888,
             "#fdca26"
            ],
            [
             1,
             "#f0f921"
            ]
           ]
          },
          "colorway": [
           "#636efa",
           "#EF553B",
           "#00cc96",
           "#ab63fa",
           "#FFA15A",
           "#19d3f3",
           "#FF6692",
           "#B6E880",
           "#FF97FF",
           "#FECB52"
          ],
          "font": {
           "color": "#2a3f5f"
          },
          "geo": {
           "bgcolor": "white",
           "lakecolor": "white",
           "landcolor": "#E5ECF6",
           "showlakes": true,
           "showland": true,
           "subunitcolor": "white"
          },
          "hoverlabel": {
           "align": "left"
          },
          "hovermode": "closest",
          "mapbox": {
           "style": "light"
          },
          "paper_bgcolor": "white",
          "plot_bgcolor": "#E5ECF6",
          "polar": {
           "angularaxis": {
            "gridcolor": "white",
            "linecolor": "white",
            "ticks": ""
           },
           "bgcolor": "#E5ECF6",
           "radialaxis": {
            "gridcolor": "white",
            "linecolor": "white",
            "ticks": ""
           }
          },
          "scene": {
           "xaxis": {
            "backgroundcolor": "#E5ECF6",
            "gridcolor": "white",
            "gridwidth": 2,
            "linecolor": "white",
            "showbackground": true,
            "ticks": "",
            "zerolinecolor": "white"
           },
           "yaxis": {
            "backgroundcolor": "#E5ECF6",
            "gridcolor": "white",
            "gridwidth": 2,
            "linecolor": "white",
            "showbackground": true,
            "ticks": "",
            "zerolinecolor": "white"
           },
           "zaxis": {
            "backgroundcolor": "#E5ECF6",
            "gridcolor": "white",
            "gridwidth": 2,
            "linecolor": "white",
            "showbackground": true,
            "ticks": "",
            "zerolinecolor": "white"
           }
          },
          "shapedefaults": {
           "line": {
            "color": "#2a3f5f"
           }
          },
          "ternary": {
           "aaxis": {
            "gridcolor": "white",
            "linecolor": "white",
            "ticks": ""
           },
           "baxis": {
            "gridcolor": "white",
            "linecolor": "white",
            "ticks": ""
           },
           "bgcolor": "#E5ECF6",
           "caxis": {
            "gridcolor": "white",
            "linecolor": "white",
            "ticks": ""
           }
          },
          "title": {
           "x": 0.05
          },
          "xaxis": {
           "automargin": true,
           "gridcolor": "white",
           "linecolor": "white",
           "ticks": "",
           "title": {
            "standoff": 15
           },
           "zerolinecolor": "white",
           "zerolinewidth": 2
          },
          "yaxis": {
           "automargin": true,
           "gridcolor": "white",
           "linecolor": "white",
           "ticks": "",
           "title": {
            "standoff": 15
           },
           "zerolinecolor": "white",
           "zerolinewidth": 2
          }
         }
        },
        "title": {
         "font": {
          "color": "#4D5663"
         }
        },
        "xaxis": {
         "gridcolor": "#E1E5ED",
         "showgrid": true,
         "tickfont": {
          "color": "#4D5663"
         },
         "title": {
          "font": {
           "color": "#4D5663"
          },
          "text": ""
         },
         "zerolinecolor": "#E1E5ED"
        },
        "yaxis": {
         "gridcolor": "#E1E5ED",
         "showgrid": true,
         "tickfont": {
          "color": "#4D5663"
         },
         "title": {
          "font": {
           "color": "#4D5663"
          },
          "text": ""
         },
         "zerolinecolor": "#E1E5ED"
        }
       }
      },
      "text/html": [
       "<div>                            <div id=\"17ec4469-cdf7-41db-9c82-2428a49b89d3\" class=\"plotly-graph-div\" style=\"height:525px; width:100%;\"></div>            <script type=\"text/javascript\">                require([\"plotly\"], function(Plotly) {                    window.PLOTLYENV=window.PLOTLYENV || {};\n",
       "                    window.PLOTLYENV.BASE_URL='https://plot.ly';                                    if (document.getElementById(\"17ec4469-cdf7-41db-9c82-2428a49b89d3\")) {                    Plotly.newPlot(                        \"17ec4469-cdf7-41db-9c82-2428a49b89d3\",                        [{\"colorscale\": [[0.0, \"rgb(165,0,38)\"], [0.1, \"rgb(215,48,39)\"], [0.2, \"rgb(244,109,67)\"], [0.3, \"rgb(253,174,97)\"], [0.4, \"rgb(254,224,144)\"], [0.5, \"rgb(255,255,191)\"], [0.6, \"rgb(224,243,248)\"], [0.7, \"rgb(171,217,233)\"], [0.8, \"rgb(116,173,209)\"], [0.9, \"rgb(69,117,180)\"], [1.0, \"rgb(49,54,149)\"]], \"type\": \"surface\", \"x\": [0, 1, 2, 3, 4], \"y\": [\"x\", \"y\", \"z\"], \"z\": [[1, 2, 3, 4, 5], [10, 20, 30, 20, 10], [5, 4, 3, 2, 1]]}],                        {\"legend\": {\"bgcolor\": \"#F5F6F9\", \"font\": {\"color\": \"#4D5663\"}}, \"paper_bgcolor\": \"#F5F6F9\", \"plot_bgcolor\": \"#F5F6F9\", \"template\": {\"data\": {\"bar\": [{\"error_x\": {\"color\": \"#2a3f5f\"}, \"error_y\": {\"color\": \"#2a3f5f\"}, \"marker\": {\"line\": {\"color\": \"#E5ECF6\", \"width\": 0.5}}, \"type\": \"bar\"}], \"barpolar\": [{\"marker\": {\"line\": {\"color\": \"#E5ECF6\", \"width\": 0.5}}, \"type\": \"barpolar\"}], \"carpet\": [{\"aaxis\": {\"endlinecolor\": \"#2a3f5f\", \"gridcolor\": \"white\", \"linecolor\": \"white\", \"minorgridcolor\": \"white\", \"startlinecolor\": \"#2a3f5f\"}, \"baxis\": {\"endlinecolor\": \"#2a3f5f\", \"gridcolor\": \"white\", \"linecolor\": \"white\", \"minorgridcolor\": \"white\", \"startlinecolor\": \"#2a3f5f\"}, \"type\": \"carpet\"}], \"choropleth\": [{\"colorbar\": {\"outlinewidth\": 0, \"ticks\": \"\"}, \"type\": \"choropleth\"}], \"contour\": [{\"colorbar\": {\"outlinewidth\": 0, \"ticks\": \"\"}, \"colorscale\": [[0.0, \"#0d0887\"], [0.1111111111111111, \"#46039f\"], [0.2222222222222222, \"#7201a8\"], [0.3333333333333333, \"#9c179e\"], [0.4444444444444444, \"#bd3786\"], [0.5555555555555556, \"#d8576b\"], [0.6666666666666666, \"#ed7953\"], [0.7777777777777778, \"#fb9f3a\"], [0.8888888888888888, \"#fdca26\"], [1.0, \"#f0f921\"]], \"type\": \"contour\"}], \"contourcarpet\": [{\"colorbar\": {\"outlinewidth\": 0, \"ticks\": \"\"}, \"type\": \"contourcarpet\"}], \"heatmap\": [{\"colorbar\": {\"outlinewidth\": 0, \"ticks\": \"\"}, \"colorscale\": [[0.0, \"#0d0887\"], [0.1111111111111111, \"#46039f\"], [0.2222222222222222, \"#7201a8\"], [0.3333333333333333, \"#9c179e\"], [0.4444444444444444, \"#bd3786\"], [0.5555555555555556, \"#d8576b\"], [0.6666666666666666, \"#ed7953\"], [0.7777777777777778, \"#fb9f3a\"], [0.8888888888888888, \"#fdca26\"], [1.0, \"#f0f921\"]], \"type\": \"heatmap\"}], \"heatmapgl\": [{\"colorbar\": {\"outlinewidth\": 0, \"ticks\": \"\"}, \"colorscale\": [[0.0, \"#0d0887\"], [0.1111111111111111, \"#46039f\"], [0.2222222222222222, \"#7201a8\"], [0.3333333333333333, \"#9c179e\"], [0.4444444444444444, \"#bd3786\"], [0.5555555555555556, \"#d8576b\"], [0.6666666666666666, \"#ed7953\"], [0.7777777777777778, \"#fb9f3a\"], [0.8888888888888888, \"#fdca26\"], [1.0, \"#f0f921\"]], \"type\": \"heatmapgl\"}], \"histogram\": [{\"marker\": {\"colorbar\": {\"outlinewidth\": 0, \"ticks\": \"\"}}, \"type\": \"histogram\"}], \"histogram2d\": [{\"colorbar\": {\"outlinewidth\": 0, \"ticks\": \"\"}, \"colorscale\": [[0.0, \"#0d0887\"], [0.1111111111111111, \"#46039f\"], [0.2222222222222222, \"#7201a8\"], [0.3333333333333333, \"#9c179e\"], [0.4444444444444444, \"#bd3786\"], [0.5555555555555556, \"#d8576b\"], [0.6666666666666666, \"#ed7953\"], [0.7777777777777778, \"#fb9f3a\"], [0.8888888888888888, \"#fdca26\"], [1.0, \"#f0f921\"]], \"type\": \"histogram2d\"}], \"histogram2dcontour\": [{\"colorbar\": {\"outlinewidth\": 0, \"ticks\": \"\"}, \"colorscale\": [[0.0, \"#0d0887\"], [0.1111111111111111, \"#46039f\"], [0.2222222222222222, \"#7201a8\"], [0.3333333333333333, \"#9c179e\"], [0.4444444444444444, \"#bd3786\"], [0.5555555555555556, \"#d8576b\"], [0.6666666666666666, \"#ed7953\"], [0.7777777777777778, \"#fb9f3a\"], [0.8888888888888888, \"#fdca26\"], [1.0, \"#f0f921\"]], \"type\": \"histogram2dcontour\"}], \"mesh3d\": [{\"colorbar\": {\"outlinewidth\": 0, \"ticks\": \"\"}, \"type\": \"mesh3d\"}], \"parcoords\": [{\"line\": {\"colorbar\": {\"outlinewidth\": 0, \"ticks\": \"\"}}, \"type\": \"parcoords\"}], \"pie\": [{\"automargin\": true, \"type\": \"pie\"}], \"scatter\": [{\"marker\": {\"colorbar\": {\"outlinewidth\": 0, \"ticks\": \"\"}}, \"type\": \"scatter\"}], \"scatter3d\": [{\"line\": {\"colorbar\": {\"outlinewidth\": 0, \"ticks\": \"\"}}, \"marker\": {\"colorbar\": {\"outlinewidth\": 0, \"ticks\": \"\"}}, \"type\": \"scatter3d\"}], \"scattercarpet\": [{\"marker\": {\"colorbar\": {\"outlinewidth\": 0, \"ticks\": \"\"}}, \"type\": \"scattercarpet\"}], \"scattergeo\": [{\"marker\": {\"colorbar\": {\"outlinewidth\": 0, \"ticks\": \"\"}}, \"type\": \"scattergeo\"}], \"scattergl\": [{\"marker\": {\"colorbar\": {\"outlinewidth\": 0, \"ticks\": \"\"}}, \"type\": \"scattergl\"}], \"scattermapbox\": [{\"marker\": {\"colorbar\": {\"outlinewidth\": 0, \"ticks\": \"\"}}, \"type\": \"scattermapbox\"}], \"scatterpolar\": [{\"marker\": {\"colorbar\": {\"outlinewidth\": 0, \"ticks\": \"\"}}, \"type\": \"scatterpolar\"}], \"scatterpolargl\": [{\"marker\": {\"colorbar\": {\"outlinewidth\": 0, \"ticks\": \"\"}}, \"type\": \"scatterpolargl\"}], \"scatterternary\": [{\"marker\": {\"colorbar\": {\"outlinewidth\": 0, \"ticks\": \"\"}}, \"type\": \"scatterternary\"}], \"surface\": [{\"colorbar\": {\"outlinewidth\": 0, \"ticks\": \"\"}, \"colorscale\": [[0.0, \"#0d0887\"], [0.1111111111111111, \"#46039f\"], [0.2222222222222222, \"#7201a8\"], [0.3333333333333333, \"#9c179e\"], [0.4444444444444444, \"#bd3786\"], [0.5555555555555556, \"#d8576b\"], [0.6666666666666666, \"#ed7953\"], [0.7777777777777778, \"#fb9f3a\"], [0.8888888888888888, \"#fdca26\"], [1.0, \"#f0f921\"]], \"type\": \"surface\"}], \"table\": [{\"cells\": {\"fill\": {\"color\": \"#EBF0F8\"}, \"line\": {\"color\": \"white\"}}, \"header\": {\"fill\": {\"color\": \"#C8D4E3\"}, \"line\": {\"color\": \"white\"}}, \"type\": \"table\"}]}, \"layout\": {\"annotationdefaults\": {\"arrowcolor\": \"#2a3f5f\", \"arrowhead\": 0, \"arrowwidth\": 1}, \"coloraxis\": {\"colorbar\": {\"outlinewidth\": 0, \"ticks\": \"\"}}, \"colorscale\": {\"diverging\": [[0, \"#8e0152\"], [0.1, \"#c51b7d\"], [0.2, \"#de77ae\"], [0.3, \"#f1b6da\"], [0.4, \"#fde0ef\"], [0.5, \"#f7f7f7\"], [0.6, \"#e6f5d0\"], [0.7, \"#b8e186\"], [0.8, \"#7fbc41\"], [0.9, \"#4d9221\"], [1, \"#276419\"]], \"sequential\": [[0.0, \"#0d0887\"], [0.1111111111111111, \"#46039f\"], [0.2222222222222222, \"#7201a8\"], [0.3333333333333333, \"#9c179e\"], [0.4444444444444444, \"#bd3786\"], [0.5555555555555556, \"#d8576b\"], [0.6666666666666666, \"#ed7953\"], [0.7777777777777778, \"#fb9f3a\"], [0.8888888888888888, \"#fdca26\"], [1.0, \"#f0f921\"]], \"sequentialminus\": [[0.0, \"#0d0887\"], [0.1111111111111111, \"#46039f\"], [0.2222222222222222, \"#7201a8\"], [0.3333333333333333, \"#9c179e\"], [0.4444444444444444, \"#bd3786\"], [0.5555555555555556, \"#d8576b\"], [0.6666666666666666, \"#ed7953\"], [0.7777777777777778, \"#fb9f3a\"], [0.8888888888888888, \"#fdca26\"], [1.0, \"#f0f921\"]]}, \"colorway\": [\"#636efa\", \"#EF553B\", \"#00cc96\", \"#ab63fa\", \"#FFA15A\", \"#19d3f3\", \"#FF6692\", \"#B6E880\", \"#FF97FF\", \"#FECB52\"], \"font\": {\"color\": \"#2a3f5f\"}, \"geo\": {\"bgcolor\": \"white\", \"lakecolor\": \"white\", \"landcolor\": \"#E5ECF6\", \"showlakes\": true, \"showland\": true, \"subunitcolor\": \"white\"}, \"hoverlabel\": {\"align\": \"left\"}, \"hovermode\": \"closest\", \"mapbox\": {\"style\": \"light\"}, \"paper_bgcolor\": \"white\", \"plot_bgcolor\": \"#E5ECF6\", \"polar\": {\"angularaxis\": {\"gridcolor\": \"white\", \"linecolor\": \"white\", \"ticks\": \"\"}, \"bgcolor\": \"#E5ECF6\", \"radialaxis\": {\"gridcolor\": \"white\", \"linecolor\": \"white\", \"ticks\": \"\"}}, \"scene\": {\"xaxis\": {\"backgroundcolor\": \"#E5ECF6\", \"gridcolor\": \"white\", \"gridwidth\": 2, \"linecolor\": \"white\", \"showbackground\": true, \"ticks\": \"\", \"zerolinecolor\": \"white\"}, \"yaxis\": {\"backgroundcolor\": \"#E5ECF6\", \"gridcolor\": \"white\", \"gridwidth\": 2, \"linecolor\": \"white\", \"showbackground\": true, \"ticks\": \"\", \"zerolinecolor\": \"white\"}, \"zaxis\": {\"backgroundcolor\": \"#E5ECF6\", \"gridcolor\": \"white\", \"gridwidth\": 2, \"linecolor\": \"white\", \"showbackground\": true, \"ticks\": \"\", \"zerolinecolor\": \"white\"}}, \"shapedefaults\": {\"line\": {\"color\": \"#2a3f5f\"}}, \"ternary\": {\"aaxis\": {\"gridcolor\": \"white\", \"linecolor\": \"white\", \"ticks\": \"\"}, \"baxis\": {\"gridcolor\": \"white\", \"linecolor\": \"white\", \"ticks\": \"\"}, \"bgcolor\": \"#E5ECF6\", \"caxis\": {\"gridcolor\": \"white\", \"linecolor\": \"white\", \"ticks\": \"\"}}, \"title\": {\"x\": 0.05}, \"xaxis\": {\"automargin\": true, \"gridcolor\": \"white\", \"linecolor\": \"white\", \"ticks\": \"\", \"title\": {\"standoff\": 15}, \"zerolinecolor\": \"white\", \"zerolinewidth\": 2}, \"yaxis\": {\"automargin\": true, \"gridcolor\": \"white\", \"linecolor\": \"white\", \"ticks\": \"\", \"title\": {\"standoff\": 15}, \"zerolinecolor\": \"white\", \"zerolinewidth\": 2}}}, \"title\": {\"font\": {\"color\": \"#4D5663\"}}, \"xaxis\": {\"gridcolor\": \"#E1E5ED\", \"showgrid\": true, \"tickfont\": {\"color\": \"#4D5663\"}, \"title\": {\"font\": {\"color\": \"#4D5663\"}, \"text\": \"\"}, \"zerolinecolor\": \"#E1E5ED\"}, \"yaxis\": {\"gridcolor\": \"#E1E5ED\", \"showgrid\": true, \"tickfont\": {\"color\": \"#4D5663\"}, \"title\": {\"font\": {\"color\": \"#4D5663\"}, \"text\": \"\"}, \"zerolinecolor\": \"#E1E5ED\"}},                        {\"showLink\": true, \"linkText\": \"Export to plot.ly\", \"plotlyServerURL\": \"https://plot.ly\", \"responsive\": true}                    ).then(function(){\n",
       "                            \n",
       "var gd = document.getElementById('17ec4469-cdf7-41db-9c82-2428a49b89d3');\n",
       "var x = new MutationObserver(function (mutations, observer) {{\n",
       "        var display = window.getComputedStyle(gd).display;\n",
       "        if (!display || display === 'none') {{\n",
       "            console.log([gd, 'removed!']);\n",
       "            Plotly.purge(gd);\n",
       "            observer.disconnect();\n",
       "        }}\n",
       "}});\n",
       "\n",
       "// Listen for the removal of the full notebook cells\n",
       "var notebookContainer = gd.closest('#notebook-container');\n",
       "if (notebookContainer) {{\n",
       "    x.observe(notebookContainer, {childList: true});\n",
       "}}\n",
       "\n",
       "// Listen for the clearing of the current output cell\n",
       "var outputEl = gd.closest('.output');\n",
       "if (outputEl) {{\n",
       "    x.observe(outputEl, {childList: true});\n",
       "}}\n",
       "\n",
       "                        })                };                });            </script>        </div>"
      ]
     },
     "metadata": {},
     "output_type": "display_data"
    }
   ],
   "source": [
    "df3.iplot(kind='surface', colorscale='rdylbu')"
   ]
  },
  {
   "cell_type": "code",
   "execution_count": 21,
   "metadata": {},
   "outputs": [
    {
     "data": {
      "application/vnd.plotly.v1+json": {
       "config": {
        "linkText": "Export to plot.ly",
        "plotlyServerURL": "https://plot.ly",
        "showLink": true
       },
       "data": [
        {
         "histfunc": "count",
         "histnorm": "",
         "marker": {
          "color": "rgba(255, 153, 51, 1.0)",
          "line": {
           "color": "#4D5663",
           "width": 1.3
          }
         },
         "name": "A",
         "nbinsx": 30,
         "opacity": 0.8,
         "orientation": "v",
         "type": "histogram",
         "x": [
          -0.39918119580901057,
          0.7418621453466906,
          -0.4313355775472436,
          0.3355224667718379,
          -0.7151869915905287,
          0.145668325550864,
          0.15591577298259662,
          0.016226263834492997,
          0.4605683837845119,
          -1.4139591642678533,
          -3.346775721169021,
          -1.2159667506526999,
          0.5809608144629882,
          -0.26283320353488304,
          1.2113580317867414,
          -0.4415756722746691,
          2.2884194084433775,
          1.0557466676734149,
          -1.442826254773536,
          -0.8063709415927582,
          0.922383051818235,
          -0.3878906835859324,
          0.025967017018530797,
          0.6044282595635964,
          -0.7065329352842874,
          0.9150675435000666,
          0.18735127393393106,
          -0.2845605758953672,
          -0.09322552030780629,
          -0.1639557134477811,
          0.156542641123135,
          -0.9341454884535909,
          -1.1960968243851422,
          -0.7420113595879909,
          -1.1231115173825923,
          -0.06575340563803043,
          -1.2314451894847818,
          -0.7004696413846199,
          0.2750929324690308,
          0.7915002131579784,
          -1.1253744106107293,
          0.5712846346931809,
          -1.7280218331388324,
          0.36865239908201825,
          -1.0668871446136439,
          -0.9061338046467238,
          -1.037945002921429,
          -0.5578754042788866,
          0.14708542676641603,
          0.8746134766485341,
          -0.36276225986481275,
          0.12243563569516946,
          -0.05854080893376823,
          1.162186833598004,
          -1.104489545096553,
          -0.26487716168614467,
          -0.05463255455270555,
          1.495963991909491,
          1.4742509865754625,
          0.8390497854946452,
          0.5108072739104828,
          -0.29675905041248607,
          0.4317219076292566,
          0.7526597856998946,
          -1.2662095357984315,
          -0.20809051371739795,
          -1.4334480138884427,
          0.41521475437323424,
          -0.3681440922719436,
          -0.4974530040747305,
          0.332517930744042,
          0.1235890800313146,
          0.5909382100815366,
          -1.0065808800216673,
          -0.6822563665823921,
          1.1077016925230518,
          0.07703396073766987,
          0.42953692998520493,
          0.7592976638295739,
          -0.8805787003240935,
          1.5490488597669556,
          -0.2766809050067881,
          0.7018174178549077,
          0.1314637920120881,
          -0.40257295954386835,
          -0.6849120108591445,
          -0.8530469126783897,
          -0.8710488904466427,
          -0.40143057082221745,
          0.5753943378178665,
          0.5232222120203804,
          -0.22675126963357795,
          -1.0348115402137625,
          -0.026371322901696262,
          0.7374597636331084,
          0.23308846902896885,
          -0.4367113468497734,
          0.5978251807763769,
          0.6581567165919348,
          1.600974778682548
         ]
        }
       ],
       "layout": {
        "barmode": "overlay",
        "legend": {
         "bgcolor": "#F5F6F9",
         "font": {
          "color": "#4D5663"
         }
        },
        "paper_bgcolor": "#F5F6F9",
        "plot_bgcolor": "#F5F6F9",
        "template": {
         "data": {
          "bar": [
           {
            "error_x": {
             "color": "#2a3f5f"
            },
            "error_y": {
             "color": "#2a3f5f"
            },
            "marker": {
             "line": {
              "color": "#E5ECF6",
              "width": 0.5
             }
            },
            "type": "bar"
           }
          ],
          "barpolar": [
           {
            "marker": {
             "line": {
              "color": "#E5ECF6",
              "width": 0.5
             }
            },
            "type": "barpolar"
           }
          ],
          "carpet": [
           {
            "aaxis": {
             "endlinecolor": "#2a3f5f",
             "gridcolor": "white",
             "linecolor": "white",
             "minorgridcolor": "white",
             "startlinecolor": "#2a3f5f"
            },
            "baxis": {
             "endlinecolor": "#2a3f5f",
             "gridcolor": "white",
             "linecolor": "white",
             "minorgridcolor": "white",
             "startlinecolor": "#2a3f5f"
            },
            "type": "carpet"
           }
          ],
          "choropleth": [
           {
            "colorbar": {
             "outlinewidth": 0,
             "ticks": ""
            },
            "type": "choropleth"
           }
          ],
          "contour": [
           {
            "colorbar": {
             "outlinewidth": 0,
             "ticks": ""
            },
            "colorscale": [
             [
              0,
              "#0d0887"
             ],
             [
              0.1111111111111111,
              "#46039f"
             ],
             [
              0.2222222222222222,
              "#7201a8"
             ],
             [
              0.3333333333333333,
              "#9c179e"
             ],
             [
              0.4444444444444444,
              "#bd3786"
             ],
             [
              0.5555555555555556,
              "#d8576b"
             ],
             [
              0.6666666666666666,
              "#ed7953"
             ],
             [
              0.7777777777777778,
              "#fb9f3a"
             ],
             [
              0.8888888888888888,
              "#fdca26"
             ],
             [
              1,
              "#f0f921"
             ]
            ],
            "type": "contour"
           }
          ],
          "contourcarpet": [
           {
            "colorbar": {
             "outlinewidth": 0,
             "ticks": ""
            },
            "type": "contourcarpet"
           }
          ],
          "heatmap": [
           {
            "colorbar": {
             "outlinewidth": 0,
             "ticks": ""
            },
            "colorscale": [
             [
              0,
              "#0d0887"
             ],
             [
              0.1111111111111111,
              "#46039f"
             ],
             [
              0.2222222222222222,
              "#7201a8"
             ],
             [
              0.3333333333333333,
              "#9c179e"
             ],
             [
              0.4444444444444444,
              "#bd3786"
             ],
             [
              0.5555555555555556,
              "#d8576b"
             ],
             [
              0.6666666666666666,
              "#ed7953"
             ],
             [
              0.7777777777777778,
              "#fb9f3a"
             ],
             [
              0.8888888888888888,
              "#fdca26"
             ],
             [
              1,
              "#f0f921"
             ]
            ],
            "type": "heatmap"
           }
          ],
          "heatmapgl": [
           {
            "colorbar": {
             "outlinewidth": 0,
             "ticks": ""
            },
            "colorscale": [
             [
              0,
              "#0d0887"
             ],
             [
              0.1111111111111111,
              "#46039f"
             ],
             [
              0.2222222222222222,
              "#7201a8"
             ],
             [
              0.3333333333333333,
              "#9c179e"
             ],
             [
              0.4444444444444444,
              "#bd3786"
             ],
             [
              0.5555555555555556,
              "#d8576b"
             ],
             [
              0.6666666666666666,
              "#ed7953"
             ],
             [
              0.7777777777777778,
              "#fb9f3a"
             ],
             [
              0.8888888888888888,
              "#fdca26"
             ],
             [
              1,
              "#f0f921"
             ]
            ],
            "type": "heatmapgl"
           }
          ],
          "histogram": [
           {
            "marker": {
             "colorbar": {
              "outlinewidth": 0,
              "ticks": ""
             }
            },
            "type": "histogram"
           }
          ],
          "histogram2d": [
           {
            "colorbar": {
             "outlinewidth": 0,
             "ticks": ""
            },
            "colorscale": [
             [
              0,
              "#0d0887"
             ],
             [
              0.1111111111111111,
              "#46039f"
             ],
             [
              0.2222222222222222,
              "#7201a8"
             ],
             [
              0.3333333333333333,
              "#9c179e"
             ],
             [
              0.4444444444444444,
              "#bd3786"
             ],
             [
              0.5555555555555556,
              "#d8576b"
             ],
             [
              0.6666666666666666,
              "#ed7953"
             ],
             [
              0.7777777777777778,
              "#fb9f3a"
             ],
             [
              0.8888888888888888,
              "#fdca26"
             ],
             [
              1,
              "#f0f921"
             ]
            ],
            "type": "histogram2d"
           }
          ],
          "histogram2dcontour": [
           {
            "colorbar": {
             "outlinewidth": 0,
             "ticks": ""
            },
            "colorscale": [
             [
              0,
              "#0d0887"
             ],
             [
              0.1111111111111111,
              "#46039f"
             ],
             [
              0.2222222222222222,
              "#7201a8"
             ],
             [
              0.3333333333333333,
              "#9c179e"
             ],
             [
              0.4444444444444444,
              "#bd3786"
             ],
             [
              0.5555555555555556,
              "#d8576b"
             ],
             [
              0.6666666666666666,
              "#ed7953"
             ],
             [
              0.7777777777777778,
              "#fb9f3a"
             ],
             [
              0.8888888888888888,
              "#fdca26"
             ],
             [
              1,
              "#f0f921"
             ]
            ],
            "type": "histogram2dcontour"
           }
          ],
          "mesh3d": [
           {
            "colorbar": {
             "outlinewidth": 0,
             "ticks": ""
            },
            "type": "mesh3d"
           }
          ],
          "parcoords": [
           {
            "line": {
             "colorbar": {
              "outlinewidth": 0,
              "ticks": ""
             }
            },
            "type": "parcoords"
           }
          ],
          "pie": [
           {
            "automargin": true,
            "type": "pie"
           }
          ],
          "scatter": [
           {
            "marker": {
             "colorbar": {
              "outlinewidth": 0,
              "ticks": ""
             }
            },
            "type": "scatter"
           }
          ],
          "scatter3d": [
           {
            "line": {
             "colorbar": {
              "outlinewidth": 0,
              "ticks": ""
             }
            },
            "marker": {
             "colorbar": {
              "outlinewidth": 0,
              "ticks": ""
             }
            },
            "type": "scatter3d"
           }
          ],
          "scattercarpet": [
           {
            "marker": {
             "colorbar": {
              "outlinewidth": 0,
              "ticks": ""
             }
            },
            "type": "scattercarpet"
           }
          ],
          "scattergeo": [
           {
            "marker": {
             "colorbar": {
              "outlinewidth": 0,
              "ticks": ""
             }
            },
            "type": "scattergeo"
           }
          ],
          "scattergl": [
           {
            "marker": {
             "colorbar": {
              "outlinewidth": 0,
              "ticks": ""
             }
            },
            "type": "scattergl"
           }
          ],
          "scattermapbox": [
           {
            "marker": {
             "colorbar": {
              "outlinewidth": 0,
              "ticks": ""
             }
            },
            "type": "scattermapbox"
           }
          ],
          "scatterpolar": [
           {
            "marker": {
             "colorbar": {
              "outlinewidth": 0,
              "ticks": ""
             }
            },
            "type": "scatterpolar"
           }
          ],
          "scatterpolargl": [
           {
            "marker": {
             "colorbar": {
              "outlinewidth": 0,
              "ticks": ""
             }
            },
            "type": "scatterpolargl"
           }
          ],
          "scatterternary": [
           {
            "marker": {
             "colorbar": {
              "outlinewidth": 0,
              "ticks": ""
             }
            },
            "type": "scatterternary"
           }
          ],
          "surface": [
           {
            "colorbar": {
             "outlinewidth": 0,
             "ticks": ""
            },
            "colorscale": [
             [
              0,
              "#0d0887"
             ],
             [
              0.1111111111111111,
              "#46039f"
             ],
             [
              0.2222222222222222,
              "#7201a8"
             ],
             [
              0.3333333333333333,
              "#9c179e"
             ],
             [
              0.4444444444444444,
              "#bd3786"
             ],
             [
              0.5555555555555556,
              "#d8576b"
             ],
             [
              0.6666666666666666,
              "#ed7953"
             ],
             [
              0.7777777777777778,
              "#fb9f3a"
             ],
             [
              0.8888888888888888,
              "#fdca26"
             ],
             [
              1,
              "#f0f921"
             ]
            ],
            "type": "surface"
           }
          ],
          "table": [
           {
            "cells": {
             "fill": {
              "color": "#EBF0F8"
             },
             "line": {
              "color": "white"
             }
            },
            "header": {
             "fill": {
              "color": "#C8D4E3"
             },
             "line": {
              "color": "white"
             }
            },
            "type": "table"
           }
          ]
         },
         "layout": {
          "annotationdefaults": {
           "arrowcolor": "#2a3f5f",
           "arrowhead": 0,
           "arrowwidth": 1
          },
          "coloraxis": {
           "colorbar": {
            "outlinewidth": 0,
            "ticks": ""
           }
          },
          "colorscale": {
           "diverging": [
            [
             0,
             "#8e0152"
            ],
            [
             0.1,
             "#c51b7d"
            ],
            [
             0.2,
             "#de77ae"
            ],
            [
             0.3,
             "#f1b6da"
            ],
            [
             0.4,
             "#fde0ef"
            ],
            [
             0.5,
             "#f7f7f7"
            ],
            [
             0.6,
             "#e6f5d0"
            ],
            [
             0.7,
             "#b8e186"
            ],
            [
             0.8,
             "#7fbc41"
            ],
            [
             0.9,
             "#4d9221"
            ],
            [
             1,
             "#276419"
            ]
           ],
           "sequential": [
            [
             0,
             "#0d0887"
            ],
            [
             0.1111111111111111,
             "#46039f"
            ],
            [
             0.2222222222222222,
             "#7201a8"
            ],
            [
             0.3333333333333333,
             "#9c179e"
            ],
            [
             0.4444444444444444,
             "#bd3786"
            ],
            [
             0.5555555555555556,
             "#d8576b"
            ],
            [
             0.6666666666666666,
             "#ed7953"
            ],
            [
             0.7777777777777778,
             "#fb9f3a"
            ],
            [
             0.8888888888888888,
             "#fdca26"
            ],
            [
             1,
             "#f0f921"
            ]
           ],
           "sequentialminus": [
            [
             0,
             "#0d0887"
            ],
            [
             0.1111111111111111,
             "#46039f"
            ],
            [
             0.2222222222222222,
             "#7201a8"
            ],
            [
             0.3333333333333333,
             "#9c179e"
            ],
            [
             0.4444444444444444,
             "#bd3786"
            ],
            [
             0.5555555555555556,
             "#d8576b"
            ],
            [
             0.6666666666666666,
             "#ed7953"
            ],
            [
             0.7777777777777778,
             "#fb9f3a"
            ],
            [
             0.8888888888888888,
             "#fdca26"
            ],
            [
             1,
             "#f0f921"
            ]
           ]
          },
          "colorway": [
           "#636efa",
           "#EF553B",
           "#00cc96",
           "#ab63fa",
           "#FFA15A",
           "#19d3f3",
           "#FF6692",
           "#B6E880",
           "#FF97FF",
           "#FECB52"
          ],
          "font": {
           "color": "#2a3f5f"
          },
          "geo": {
           "bgcolor": "white",
           "lakecolor": "white",
           "landcolor": "#E5ECF6",
           "showlakes": true,
           "showland": true,
           "subunitcolor": "white"
          },
          "hoverlabel": {
           "align": "left"
          },
          "hovermode": "closest",
          "mapbox": {
           "style": "light"
          },
          "paper_bgcolor": "white",
          "plot_bgcolor": "#E5ECF6",
          "polar": {
           "angularaxis": {
            "gridcolor": "white",
            "linecolor": "white",
            "ticks": ""
           },
           "bgcolor": "#E5ECF6",
           "radialaxis": {
            "gridcolor": "white",
            "linecolor": "white",
            "ticks": ""
           }
          },
          "scene": {
           "xaxis": {
            "backgroundcolor": "#E5ECF6",
            "gridcolor": "white",
            "gridwidth": 2,
            "linecolor": "white",
            "showbackground": true,
            "ticks": "",
            "zerolinecolor": "white"
           },
           "yaxis": {
            "backgroundcolor": "#E5ECF6",
            "gridcolor": "white",
            "gridwidth": 2,
            "linecolor": "white",
            "showbackground": true,
            "ticks": "",
            "zerolinecolor": "white"
           },
           "zaxis": {
            "backgroundcolor": "#E5ECF6",
            "gridcolor": "white",
            "gridwidth": 2,
            "linecolor": "white",
            "showbackground": true,
            "ticks": "",
            "zerolinecolor": "white"
           }
          },
          "shapedefaults": {
           "line": {
            "color": "#2a3f5f"
           }
          },
          "ternary": {
           "aaxis": {
            "gridcolor": "white",
            "linecolor": "white",
            "ticks": ""
           },
           "baxis": {
            "gridcolor": "white",
            "linecolor": "white",
            "ticks": ""
           },
           "bgcolor": "#E5ECF6",
           "caxis": {
            "gridcolor": "white",
            "linecolor": "white",
            "ticks": ""
           }
          },
          "title": {
           "x": 0.05
          },
          "xaxis": {
           "automargin": true,
           "gridcolor": "white",
           "linecolor": "white",
           "ticks": "",
           "title": {
            "standoff": 15
           },
           "zerolinecolor": "white",
           "zerolinewidth": 2
          },
          "yaxis": {
           "automargin": true,
           "gridcolor": "white",
           "linecolor": "white",
           "ticks": "",
           "title": {
            "standoff": 15
           },
           "zerolinecolor": "white",
           "zerolinewidth": 2
          }
         }
        },
        "title": {
         "font": {
          "color": "#4D5663"
         }
        },
        "xaxis": {
         "gridcolor": "#E1E5ED",
         "showgrid": true,
         "tickfont": {
          "color": "#4D5663"
         },
         "title": {
          "font": {
           "color": "#4D5663"
          },
          "text": ""
         },
         "zerolinecolor": "#E1E5ED"
        },
        "yaxis": {
         "gridcolor": "#E1E5ED",
         "showgrid": true,
         "tickfont": {
          "color": "#4D5663"
         },
         "title": {
          "font": {
           "color": "#4D5663"
          },
          "text": ""
         },
         "zerolinecolor": "#E1E5ED"
        }
       }
      },
      "text/html": [
       "<div>                            <div id=\"5f197db6-8c6c-4289-811d-1598185ca075\" class=\"plotly-graph-div\" style=\"height:525px; width:100%;\"></div>            <script type=\"text/javascript\">                require([\"plotly\"], function(Plotly) {                    window.PLOTLYENV=window.PLOTLYENV || {};\n",
       "                    window.PLOTLYENV.BASE_URL='https://plot.ly';                                    if (document.getElementById(\"5f197db6-8c6c-4289-811d-1598185ca075\")) {                    Plotly.newPlot(                        \"5f197db6-8c6c-4289-811d-1598185ca075\",                        [{\"histfunc\": \"count\", \"histnorm\": \"\", \"marker\": {\"color\": \"rgba(255, 153, 51, 1.0)\", \"line\": {\"color\": \"#4D5663\", \"width\": 1.3}}, \"name\": \"A\", \"nbinsx\": 30, \"opacity\": 0.8, \"orientation\": \"v\", \"type\": \"histogram\", \"x\": [-0.39918119580901057, 0.7418621453466906, -0.4313355775472436, 0.3355224667718379, -0.7151869915905287, 0.145668325550864, 0.15591577298259662, 0.016226263834492997, 0.4605683837845119, -1.4139591642678533, -3.346775721169021, -1.2159667506526999, 0.5809608144629882, -0.26283320353488304, 1.2113580317867414, -0.4415756722746691, 2.2884194084433775, 1.0557466676734149, -1.442826254773536, -0.8063709415927582, 0.922383051818235, -0.3878906835859324, 0.025967017018530797, 0.6044282595635964, -0.7065329352842874, 0.9150675435000666, 0.18735127393393106, -0.2845605758953672, -0.09322552030780629, -0.1639557134477811, 0.156542641123135, -0.9341454884535909, -1.1960968243851422, -0.7420113595879909, -1.1231115173825923, -0.06575340563803043, -1.2314451894847818, -0.7004696413846199, 0.2750929324690308, 0.7915002131579784, -1.1253744106107293, 0.5712846346931809, -1.7280218331388324, 0.36865239908201825, -1.0668871446136439, -0.9061338046467238, -1.037945002921429, -0.5578754042788866, 0.14708542676641603, 0.8746134766485341, -0.36276225986481275, 0.12243563569516946, -0.05854080893376823, 1.162186833598004, -1.104489545096553, -0.26487716168614467, -0.05463255455270555, 1.495963991909491, 1.4742509865754625, 0.8390497854946452, 0.5108072739104828, -0.29675905041248607, 0.4317219076292566, 0.7526597856998946, -1.2662095357984315, -0.20809051371739795, -1.4334480138884427, 0.41521475437323424, -0.3681440922719436, -0.4974530040747305, 0.332517930744042, 0.1235890800313146, 0.5909382100815366, -1.0065808800216673, -0.6822563665823921, 1.1077016925230518, 0.07703396073766987, 0.42953692998520493, 0.7592976638295739, -0.8805787003240935, 1.5490488597669556, -0.2766809050067881, 0.7018174178549077, 0.1314637920120881, -0.40257295954386835, -0.6849120108591445, -0.8530469126783897, -0.8710488904466427, -0.40143057082221745, 0.5753943378178665, 0.5232222120203804, -0.22675126963357795, -1.0348115402137625, -0.026371322901696262, 0.7374597636331084, 0.23308846902896885, -0.4367113468497734, 0.5978251807763769, 0.6581567165919348, 1.600974778682548]}],                        {\"barmode\": \"overlay\", \"legend\": {\"bgcolor\": \"#F5F6F9\", \"font\": {\"color\": \"#4D5663\"}}, \"paper_bgcolor\": \"#F5F6F9\", \"plot_bgcolor\": \"#F5F6F9\", \"template\": {\"data\": {\"bar\": [{\"error_x\": {\"color\": \"#2a3f5f\"}, \"error_y\": {\"color\": \"#2a3f5f\"}, \"marker\": {\"line\": {\"color\": \"#E5ECF6\", \"width\": 0.5}}, \"type\": \"bar\"}], \"barpolar\": [{\"marker\": {\"line\": {\"color\": \"#E5ECF6\", \"width\": 0.5}}, \"type\": \"barpolar\"}], \"carpet\": [{\"aaxis\": {\"endlinecolor\": \"#2a3f5f\", \"gridcolor\": \"white\", \"linecolor\": \"white\", \"minorgridcolor\": \"white\", \"startlinecolor\": \"#2a3f5f\"}, \"baxis\": {\"endlinecolor\": \"#2a3f5f\", \"gridcolor\": \"white\", \"linecolor\": \"white\", \"minorgridcolor\": \"white\", \"startlinecolor\": \"#2a3f5f\"}, \"type\": \"carpet\"}], \"choropleth\": [{\"colorbar\": {\"outlinewidth\": 0, \"ticks\": \"\"}, \"type\": \"choropleth\"}], \"contour\": [{\"colorbar\": {\"outlinewidth\": 0, \"ticks\": \"\"}, \"colorscale\": [[0.0, \"#0d0887\"], [0.1111111111111111, \"#46039f\"], [0.2222222222222222, \"#7201a8\"], [0.3333333333333333, \"#9c179e\"], [0.4444444444444444, \"#bd3786\"], [0.5555555555555556, \"#d8576b\"], [0.6666666666666666, \"#ed7953\"], [0.7777777777777778, \"#fb9f3a\"], [0.8888888888888888, \"#fdca26\"], [1.0, \"#f0f921\"]], \"type\": \"contour\"}], \"contourcarpet\": [{\"colorbar\": {\"outlinewidth\": 0, \"ticks\": \"\"}, \"type\": \"contourcarpet\"}], \"heatmap\": [{\"colorbar\": {\"outlinewidth\": 0, \"ticks\": \"\"}, \"colorscale\": [[0.0, \"#0d0887\"], [0.1111111111111111, \"#46039f\"], [0.2222222222222222, \"#7201a8\"], [0.3333333333333333, \"#9c179e\"], [0.4444444444444444, \"#bd3786\"], [0.5555555555555556, \"#d8576b\"], [0.6666666666666666, \"#ed7953\"], [0.7777777777777778, \"#fb9f3a\"], [0.8888888888888888, \"#fdca26\"], [1.0, \"#f0f921\"]], \"type\": \"heatmap\"}], \"heatmapgl\": [{\"colorbar\": {\"outlinewidth\": 0, \"ticks\": \"\"}, \"colorscale\": [[0.0, \"#0d0887\"], [0.1111111111111111, \"#46039f\"], [0.2222222222222222, \"#7201a8\"], [0.3333333333333333, \"#9c179e\"], [0.4444444444444444, \"#bd3786\"], [0.5555555555555556, \"#d8576b\"], [0.6666666666666666, \"#ed7953\"], [0.7777777777777778, \"#fb9f3a\"], [0.8888888888888888, \"#fdca26\"], [1.0, \"#f0f921\"]], \"type\": \"heatmapgl\"}], \"histogram\": [{\"marker\": {\"colorbar\": {\"outlinewidth\": 0, \"ticks\": \"\"}}, \"type\": \"histogram\"}], \"histogram2d\": [{\"colorbar\": {\"outlinewidth\": 0, \"ticks\": \"\"}, \"colorscale\": [[0.0, \"#0d0887\"], [0.1111111111111111, \"#46039f\"], [0.2222222222222222, \"#7201a8\"], [0.3333333333333333, \"#9c179e\"], [0.4444444444444444, \"#bd3786\"], [0.5555555555555556, \"#d8576b\"], [0.6666666666666666, \"#ed7953\"], [0.7777777777777778, \"#fb9f3a\"], [0.8888888888888888, \"#fdca26\"], [1.0, \"#f0f921\"]], \"type\": \"histogram2d\"}], \"histogram2dcontour\": [{\"colorbar\": {\"outlinewidth\": 0, \"ticks\": \"\"}, \"colorscale\": [[0.0, \"#0d0887\"], [0.1111111111111111, \"#46039f\"], [0.2222222222222222, \"#7201a8\"], [0.3333333333333333, \"#9c179e\"], [0.4444444444444444, \"#bd3786\"], [0.5555555555555556, \"#d8576b\"], [0.6666666666666666, \"#ed7953\"], [0.7777777777777778, \"#fb9f3a\"], [0.8888888888888888, \"#fdca26\"], [1.0, \"#f0f921\"]], \"type\": \"histogram2dcontour\"}], \"mesh3d\": [{\"colorbar\": {\"outlinewidth\": 0, \"ticks\": \"\"}, \"type\": \"mesh3d\"}], \"parcoords\": [{\"line\": {\"colorbar\": {\"outlinewidth\": 0, \"ticks\": \"\"}}, \"type\": \"parcoords\"}], \"pie\": [{\"automargin\": true, \"type\": \"pie\"}], \"scatter\": [{\"marker\": {\"colorbar\": {\"outlinewidth\": 0, \"ticks\": \"\"}}, \"type\": \"scatter\"}], \"scatter3d\": [{\"line\": {\"colorbar\": {\"outlinewidth\": 0, \"ticks\": \"\"}}, \"marker\": {\"colorbar\": {\"outlinewidth\": 0, \"ticks\": \"\"}}, \"type\": \"scatter3d\"}], \"scattercarpet\": [{\"marker\": {\"colorbar\": {\"outlinewidth\": 0, \"ticks\": \"\"}}, \"type\": \"scattercarpet\"}], \"scattergeo\": [{\"marker\": {\"colorbar\": {\"outlinewidth\": 0, \"ticks\": \"\"}}, \"type\": \"scattergeo\"}], \"scattergl\": [{\"marker\": {\"colorbar\": {\"outlinewidth\": 0, \"ticks\": \"\"}}, \"type\": \"scattergl\"}], \"scattermapbox\": [{\"marker\": {\"colorbar\": {\"outlinewidth\": 0, \"ticks\": \"\"}}, \"type\": \"scattermapbox\"}], \"scatterpolar\": [{\"marker\": {\"colorbar\": {\"outlinewidth\": 0, \"ticks\": \"\"}}, \"type\": \"scatterpolar\"}], \"scatterpolargl\": [{\"marker\": {\"colorbar\": {\"outlinewidth\": 0, \"ticks\": \"\"}}, \"type\": \"scatterpolargl\"}], \"scatterternary\": [{\"marker\": {\"colorbar\": {\"outlinewidth\": 0, \"ticks\": \"\"}}, \"type\": \"scatterternary\"}], \"surface\": [{\"colorbar\": {\"outlinewidth\": 0, \"ticks\": \"\"}, \"colorscale\": [[0.0, \"#0d0887\"], [0.1111111111111111, \"#46039f\"], [0.2222222222222222, \"#7201a8\"], [0.3333333333333333, \"#9c179e\"], [0.4444444444444444, \"#bd3786\"], [0.5555555555555556, \"#d8576b\"], [0.6666666666666666, \"#ed7953\"], [0.7777777777777778, \"#fb9f3a\"], [0.8888888888888888, \"#fdca26\"], [1.0, \"#f0f921\"]], \"type\": \"surface\"}], \"table\": [{\"cells\": {\"fill\": {\"color\": \"#EBF0F8\"}, \"line\": {\"color\": \"white\"}}, \"header\": {\"fill\": {\"color\": \"#C8D4E3\"}, \"line\": {\"color\": \"white\"}}, \"type\": \"table\"}]}, \"layout\": {\"annotationdefaults\": {\"arrowcolor\": \"#2a3f5f\", \"arrowhead\": 0, \"arrowwidth\": 1}, \"coloraxis\": {\"colorbar\": {\"outlinewidth\": 0, \"ticks\": \"\"}}, \"colorscale\": {\"diverging\": [[0, \"#8e0152\"], [0.1, \"#c51b7d\"], [0.2, \"#de77ae\"], [0.3, \"#f1b6da\"], [0.4, \"#fde0ef\"], [0.5, \"#f7f7f7\"], [0.6, \"#e6f5d0\"], [0.7, \"#b8e186\"], [0.8, \"#7fbc41\"], [0.9, \"#4d9221\"], [1, \"#276419\"]], \"sequential\": [[0.0, \"#0d0887\"], [0.1111111111111111, \"#46039f\"], [0.2222222222222222, \"#7201a8\"], [0.3333333333333333, \"#9c179e\"], [0.4444444444444444, \"#bd3786\"], [0.5555555555555556, \"#d8576b\"], [0.6666666666666666, \"#ed7953\"], [0.7777777777777778, \"#fb9f3a\"], [0.8888888888888888, \"#fdca26\"], [1.0, \"#f0f921\"]], \"sequentialminus\": [[0.0, \"#0d0887\"], [0.1111111111111111, \"#46039f\"], [0.2222222222222222, \"#7201a8\"], [0.3333333333333333, \"#9c179e\"], [0.4444444444444444, \"#bd3786\"], [0.5555555555555556, \"#d8576b\"], [0.6666666666666666, \"#ed7953\"], [0.7777777777777778, \"#fb9f3a\"], [0.8888888888888888, \"#fdca26\"], [1.0, \"#f0f921\"]]}, \"colorway\": [\"#636efa\", \"#EF553B\", \"#00cc96\", \"#ab63fa\", \"#FFA15A\", \"#19d3f3\", \"#FF6692\", \"#B6E880\", \"#FF97FF\", \"#FECB52\"], \"font\": {\"color\": \"#2a3f5f\"}, \"geo\": {\"bgcolor\": \"white\", \"lakecolor\": \"white\", \"landcolor\": \"#E5ECF6\", \"showlakes\": true, \"showland\": true, \"subunitcolor\": \"white\"}, \"hoverlabel\": {\"align\": \"left\"}, \"hovermode\": \"closest\", \"mapbox\": {\"style\": \"light\"}, \"paper_bgcolor\": \"white\", \"plot_bgcolor\": \"#E5ECF6\", \"polar\": {\"angularaxis\": {\"gridcolor\": \"white\", \"linecolor\": \"white\", \"ticks\": \"\"}, \"bgcolor\": \"#E5ECF6\", \"radialaxis\": {\"gridcolor\": \"white\", \"linecolor\": \"white\", \"ticks\": \"\"}}, \"scene\": {\"xaxis\": {\"backgroundcolor\": \"#E5ECF6\", \"gridcolor\": \"white\", \"gridwidth\": 2, \"linecolor\": \"white\", \"showbackground\": true, \"ticks\": \"\", \"zerolinecolor\": \"white\"}, \"yaxis\": {\"backgroundcolor\": \"#E5ECF6\", \"gridcolor\": \"white\", \"gridwidth\": 2, \"linecolor\": \"white\", \"showbackground\": true, \"ticks\": \"\", \"zerolinecolor\": \"white\"}, \"zaxis\": {\"backgroundcolor\": \"#E5ECF6\", \"gridcolor\": \"white\", \"gridwidth\": 2, \"linecolor\": \"white\", \"showbackground\": true, \"ticks\": \"\", \"zerolinecolor\": \"white\"}}, \"shapedefaults\": {\"line\": {\"color\": \"#2a3f5f\"}}, \"ternary\": {\"aaxis\": {\"gridcolor\": \"white\", \"linecolor\": \"white\", \"ticks\": \"\"}, \"baxis\": {\"gridcolor\": \"white\", \"linecolor\": \"white\", \"ticks\": \"\"}, \"bgcolor\": \"#E5ECF6\", \"caxis\": {\"gridcolor\": \"white\", \"linecolor\": \"white\", \"ticks\": \"\"}}, \"title\": {\"x\": 0.05}, \"xaxis\": {\"automargin\": true, \"gridcolor\": \"white\", \"linecolor\": \"white\", \"ticks\": \"\", \"title\": {\"standoff\": 15}, \"zerolinecolor\": \"white\", \"zerolinewidth\": 2}, \"yaxis\": {\"automargin\": true, \"gridcolor\": \"white\", \"linecolor\": \"white\", \"ticks\": \"\", \"title\": {\"standoff\": 15}, \"zerolinecolor\": \"white\", \"zerolinewidth\": 2}}}, \"title\": {\"font\": {\"color\": \"#4D5663\"}}, \"xaxis\": {\"gridcolor\": \"#E1E5ED\", \"showgrid\": true, \"tickfont\": {\"color\": \"#4D5663\"}, \"title\": {\"font\": {\"color\": \"#4D5663\"}, \"text\": \"\"}, \"zerolinecolor\": \"#E1E5ED\"}, \"yaxis\": {\"gridcolor\": \"#E1E5ED\", \"showgrid\": true, \"tickfont\": {\"color\": \"#4D5663\"}, \"title\": {\"font\": {\"color\": \"#4D5663\"}, \"text\": \"\"}, \"zerolinecolor\": \"#E1E5ED\"}},                        {\"showLink\": true, \"linkText\": \"Export to plot.ly\", \"plotlyServerURL\": \"https://plot.ly\", \"responsive\": true}                    ).then(function(){\n",
       "                            \n",
       "var gd = document.getElementById('5f197db6-8c6c-4289-811d-1598185ca075');\n",
       "var x = new MutationObserver(function (mutations, observer) {{\n",
       "        var display = window.getComputedStyle(gd).display;\n",
       "        if (!display || display === 'none') {{\n",
       "            console.log([gd, 'removed!']);\n",
       "            Plotly.purge(gd);\n",
       "            observer.disconnect();\n",
       "        }}\n",
       "}});\n",
       "\n",
       "// Listen for the removal of the full notebook cells\n",
       "var notebookContainer = gd.closest('#notebook-container');\n",
       "if (notebookContainer) {{\n",
       "    x.observe(notebookContainer, {childList: true});\n",
       "}}\n",
       "\n",
       "// Listen for the clearing of the current output cell\n",
       "var outputEl = gd.closest('.output');\n",
       "if (outputEl) {{\n",
       "    x.observe(outputEl, {childList: true});\n",
       "}}\n",
       "\n",
       "                        })                };                });            </script>        </div>"
      ]
     },
     "metadata": {},
     "output_type": "display_data"
    }
   ],
   "source": [
    "df['A'].iplot(kind='hist', bins=30)"
   ]
  },
  {
   "cell_type": "code",
   "execution_count": 22,
   "metadata": {},
   "outputs": [
    {
     "name": "stderr",
     "output_type": "stream",
     "text": [
      "D:\\anaconda\\envs\\mlearning\\lib\\site-packages\\cufflinks\\plotlytools.py:849: FutureWarning:\n",
      "\n",
      "The pandas.np module is deprecated and will be removed from pandas in a future version. Import numpy directly instead\n",
      "\n",
      "D:\\anaconda\\envs\\mlearning\\lib\\site-packages\\cufflinks\\plotlytools.py:850: FutureWarning:\n",
      "\n",
      "The pandas.np module is deprecated and will be removed from pandas in a future version. Import numpy directly instead\n",
      "\n"
     ]
    },
    {
     "data": {
      "application/vnd.plotly.v1+json": {
       "config": {
        "linkText": "Export to plot.ly",
        "plotlyServerURL": "https://plot.ly",
        "showLink": true
       },
       "data": [
        {
         "line": {
          "color": "rgba(255, 153, 51, 1.0)",
          "dash": "solid",
          "shape": "linear",
          "width": 1.3
         },
         "mode": "lines",
         "name": "A",
         "text": "",
         "type": "scatter",
         "x": [
          0,
          1,
          2,
          3,
          4,
          5,
          6,
          7,
          8,
          9,
          10,
          11,
          12,
          13,
          14,
          15,
          16,
          17,
          18,
          19,
          20,
          21,
          22,
          23,
          24,
          25,
          26,
          27,
          28,
          29,
          30,
          31,
          32,
          33,
          34,
          35,
          36,
          37,
          38,
          39,
          40,
          41,
          42,
          43,
          44,
          45,
          46,
          47,
          48,
          49,
          50,
          51,
          52,
          53,
          54,
          55,
          56,
          57,
          58,
          59,
          60,
          61,
          62,
          63,
          64,
          65,
          66,
          67,
          68,
          69,
          70,
          71,
          72,
          73,
          74,
          75,
          76,
          77,
          78,
          79,
          80,
          81,
          82,
          83,
          84,
          85,
          86,
          87,
          88,
          89,
          90,
          91,
          92,
          93,
          94,
          95,
          96,
          97,
          98,
          99
         ],
         "y": [
          -0.39918119580901057,
          0.7418621453466906,
          -0.4313355775472436,
          0.3355224667718379,
          -0.7151869915905287,
          0.145668325550864,
          0.15591577298259662,
          0.016226263834492997,
          0.4605683837845119,
          -1.4139591642678533,
          -3.346775721169021,
          -1.2159667506526999,
          0.5809608144629882,
          -0.26283320353488304,
          1.2113580317867414,
          -0.4415756722746691,
          2.2884194084433775,
          1.0557466676734149,
          -1.442826254773536,
          -0.8063709415927582,
          0.922383051818235,
          -0.3878906835859324,
          0.025967017018530797,
          0.6044282595635964,
          -0.7065329352842874,
          0.9150675435000666,
          0.18735127393393106,
          -0.2845605758953672,
          -0.09322552030780629,
          -0.1639557134477811,
          0.156542641123135,
          -0.9341454884535909,
          -1.1960968243851422,
          -0.7420113595879909,
          -1.1231115173825923,
          -0.06575340563803043,
          -1.2314451894847818,
          -0.7004696413846199,
          0.2750929324690308,
          0.7915002131579784,
          -1.1253744106107293,
          0.5712846346931809,
          -1.7280218331388324,
          0.36865239908201825,
          -1.0668871446136439,
          -0.9061338046467238,
          -1.037945002921429,
          -0.5578754042788866,
          0.14708542676641603,
          0.8746134766485341,
          -0.36276225986481275,
          0.12243563569516946,
          -0.05854080893376823,
          1.162186833598004,
          -1.104489545096553,
          -0.26487716168614467,
          -0.05463255455270555,
          1.495963991909491,
          1.4742509865754625,
          0.8390497854946452,
          0.5108072739104828,
          -0.29675905041248607,
          0.4317219076292566,
          0.7526597856998946,
          -1.2662095357984315,
          -0.20809051371739795,
          -1.4334480138884427,
          0.41521475437323424,
          -0.3681440922719436,
          -0.4974530040747305,
          0.332517930744042,
          0.1235890800313146,
          0.5909382100815366,
          -1.0065808800216673,
          -0.6822563665823921,
          1.1077016925230518,
          0.07703396073766987,
          0.42953692998520493,
          0.7592976638295739,
          -0.8805787003240935,
          1.5490488597669556,
          -0.2766809050067881,
          0.7018174178549077,
          0.1314637920120881,
          -0.40257295954386835,
          -0.6849120108591445,
          -0.8530469126783897,
          -0.8710488904466427,
          -0.40143057082221745,
          0.5753943378178665,
          0.5232222120203804,
          -0.22675126963357795,
          -1.0348115402137625,
          -0.026371322901696262,
          0.7374597636331084,
          0.23308846902896885,
          -0.4367113468497734,
          0.5978251807763769,
          0.6581567165919348,
          1.600974778682548
         ]
        },
        {
         "line": {
          "color": "rgba(55, 128, 191, 1.0)",
          "dash": "solid",
          "shape": "linear",
          "width": 1.3
         },
         "mode": "lines",
         "name": "B",
         "text": "",
         "type": "scatter",
         "x": [
          0,
          1,
          2,
          3,
          4,
          5,
          6,
          7,
          8,
          9,
          10,
          11,
          12,
          13,
          14,
          15,
          16,
          17,
          18,
          19,
          20,
          21,
          22,
          23,
          24,
          25,
          26,
          27,
          28,
          29,
          30,
          31,
          32,
          33,
          34,
          35,
          36,
          37,
          38,
          39,
          40,
          41,
          42,
          43,
          44,
          45,
          46,
          47,
          48,
          49,
          50,
          51,
          52,
          53,
          54,
          55,
          56,
          57,
          58,
          59,
          60,
          61,
          62,
          63,
          64,
          65,
          66,
          67,
          68,
          69,
          70,
          71,
          72,
          73,
          74,
          75,
          76,
          77,
          78,
          79,
          80,
          81,
          82,
          83,
          84,
          85,
          86,
          87,
          88,
          89,
          90,
          91,
          92,
          93,
          94,
          95,
          96,
          97,
          98,
          99
         ],
         "y": [
          2.2070461301559066,
          -0.788131612862357,
          -0.10784315640253468,
          -0.04044160801371967,
          -2.2896748695933327,
          1.3429392443285344,
          1.4865555779792607,
          0.3659741914873344,
          -0.7892499216942237,
          0.1141250947886066,
          -0.6139977202850474,
          0.037322520254553855,
          0.29142557618426357,
          0.4113345097957159,
          1.4192964679111584,
          0.36923408302610705,
          0.48399864965340045,
          0.6079126562865081,
          -0.7977858369497093,
          -0.6119403421986435,
          0.13146439326926732,
          0.08725012491665272,
          0.09456009132885217,
          -2.190707420460496,
          1.12562920670872,
          -0.6839747581993745,
          0.3115134349504725,
          1.4492612304178427,
          0.06999200823006771,
          -0.38800767411587783,
          -0.46598508418374707,
          -2.181197442663968,
          -1.0956797599610515,
          -0.9553121956681996,
          0.42403097594459715,
          -1.6558545434866523,
          -1.3819798723174677,
          1.6854462250364648,
          0.732890145241412,
          -1.3374766327934853,
          -0.3260739282800016,
          1.6637557322566037,
          -0.8409746644861881,
          -1.4111517724895952,
          -0.5393254688380885,
          0.8754720938686266,
          0.9997351757559365,
          -0.049471515590174334,
          0.19908149523353075,
          0.6249144899716452,
          -0.13465543056006563,
          -0.7161254082218936,
          0.907665817980667,
          -1.0156398903308865,
          0.07345276778828155,
          -1.730105693139972,
          -1.2104401316439815,
          -0.42246282382447614,
          1.223087721057286,
          0.25051121377375185,
          -0.11663617757627032,
          0.25283529945234606,
          1.2536411501995246,
          -0.8608597145861724,
          0.06555619946573002,
          1.1958308271299294,
          -1.3876026390431448,
          0.0442082545566528,
          -1.341362716407108,
          1.1968678848787968,
          0.9087380738655427,
          1.5555799622636919,
          0.9353902928609358,
          0.5473797210703165,
          0.7084174573200912,
          -0.3698724043916409,
          -0.21573080837183653,
          0.1359526800212306,
          0.15906429779288436,
          -0.5540236467037417,
          -0.3414189576302107,
          -0.2718414423436621,
          -0.4666969220684351,
          -1.076680135465115,
          1.6120850281316867,
          0.4812952929193751,
          -1.9705129259249963,
          0.31105314049038896,
          0.9222631715288385,
          1.4576098663395574,
          0.09972461282505903,
          0.10840621208454,
          0.7745676451840312,
          0.4074215942586728,
          0.2725750104410174,
          0.39225261140363143,
          -2.3594286944335656,
          -0.22987691975601063,
          -0.10824276280124188,
          -0.7045627207862724
         ]
        },
        {
         "connectgaps": false,
         "fill": "tozeroy",
         "line": {
          "color": "green",
          "dash": "solid",
          "shape": "linear",
          "width": 0.5
         },
         "mode": "lines",
         "name": "Spread",
         "showlegend": false,
         "type": "scatter",
         "x": [
          0,
          1,
          2,
          3,
          4,
          5,
          6,
          7,
          8,
          9,
          10,
          11,
          12,
          13,
          14,
          15,
          16,
          17,
          18,
          19,
          20,
          21,
          22,
          23,
          24,
          25,
          26,
          27,
          28,
          29,
          30,
          31,
          32,
          33,
          34,
          35,
          36,
          37,
          38,
          39,
          40,
          41,
          42,
          43,
          44,
          45,
          46,
          47,
          48,
          49,
          50,
          51,
          52,
          53,
          54,
          55,
          56,
          57,
          58,
          59,
          60,
          61,
          62,
          63,
          64,
          65,
          66,
          67,
          68,
          69,
          70,
          71,
          72,
          73,
          74,
          75,
          76,
          77,
          78,
          79,
          80,
          81,
          82,
          83,
          84,
          85,
          86,
          87,
          88,
          89,
          90,
          91,
          92,
          93,
          94,
          95,
          96,
          97,
          98,
          99
         ],
         "xaxis": "x2",
         "y": [
          "",
          1.5299937582090477,
          "",
          0.37596407478555754,
          1.574487878002804,
          "",
          "",
          "",
          1.2498183054787355,
          "",
          "",
          "",
          0.2895352382787246,
          "",
          "",
          "",
          1.804420758789977,
          0.4478340113869067,
          "",
          "",
          0.7909186585489677,
          "",
          "",
          2.7951356800240923,
          "",
          1.599042301699441,
          "",
          "",
          "",
          0.22405196066809674,
          0.622527725306882,
          1.2470519542103773,
          "",
          0.21330083608020867,
          "",
          1.5901011378486218,
          0.1505346828326859,
          "",
          "",
          2.1289768459514637,
          "",
          "",
          "",
          1.7798041715716135,
          "",
          "",
          "",
          "",
          "",
          0.24969898667688883,
          "",
          0.8385610439170631,
          "",
          2.1778267239288907,
          "",
          1.4652285314538274,
          1.155807577091276,
          1.918426815733967,
          0.2511632655181766,
          0.5885385717208933,
          0.6274434514867531,
          "",
          "",
          1.613519500286067,
          "",
          "",
          "",
          0.37100649981658146,
          0.9732186241351644,
          "",
          "",
          "",
          "",
          "",
          "",
          1.4775740969146927,
          0.2927647691095064,
          0.29358424996397436,
          0.6002333660366895,
          "",
          1.8904678173971663,
          "",
          1.1685143399233429,
          1.208143927477203,
          "",
          "",
          1.1174660132466065,
          "",
          "",
          "",
          0.42349759919532143,
          "",
          "",
          "",
          0.464884753192091,
          "",
          1.9227173475837922,
          0.8277021005323876,
          0.7663994793931767,
          2.3055374994688203
         ],
         "yaxis": "y2"
        },
        {
         "connectgaps": false,
         "fill": "tozeroy",
         "line": {
          "color": "red",
          "dash": "solid",
          "shape": "linear",
          "width": 0.5
         },
         "mode": "lines",
         "name": "Spread",
         "showlegend": false,
         "type": "scatter",
         "x": [
          0,
          1,
          2,
          3,
          4,
          5,
          6,
          7,
          8,
          9,
          10,
          11,
          12,
          13,
          14,
          15,
          16,
          17,
          18,
          19,
          20,
          21,
          22,
          23,
          24,
          25,
          26,
          27,
          28,
          29,
          30,
          31,
          32,
          33,
          34,
          35,
          36,
          37,
          38,
          39,
          40,
          41,
          42,
          43,
          44,
          45,
          46,
          47,
          48,
          49,
          50,
          51,
          52,
          53,
          54,
          55,
          56,
          57,
          58,
          59,
          60,
          61,
          62,
          63,
          64,
          65,
          66,
          67,
          68,
          69,
          70,
          71,
          72,
          73,
          74,
          75,
          76,
          77,
          78,
          79,
          80,
          81,
          82,
          83,
          84,
          85,
          86,
          87,
          88,
          89,
          90,
          91,
          92,
          93,
          94,
          95,
          96,
          97,
          98,
          99
         ],
         "xaxis": "x2",
         "y": [
          -2.606227325964917,
          "",
          -0.32349242114470894,
          "",
          "",
          -1.1972709187776704,
          -1.3306398049966641,
          -0.3497479276528414,
          "",
          -1.5280842590564598,
          -2.7327780008839735,
          -1.2532892709072538,
          "",
          -0.674167713330599,
          -0.20793843612441698,
          -0.8108097553007761,
          "",
          "",
          -0.6450404178238267,
          -0.19443059939411478,
          "",
          -0.47514080850258517,
          -0.06859307431032137,
          "",
          -1.8321621419930074,
          "",
          -0.12416216101654146,
          -1.7338218063132098,
          -0.163217528537874,
          "",
          "",
          "",
          -0.10041706442409071,
          "",
          -1.5471424933271893,
          "",
          "",
          -2.385915866421085,
          -0.4577972127723812,
          "",
          -0.7993004823307277,
          -1.0924710975634229,
          -0.8870471686526443,
          "",
          -0.5275616757755553,
          -1.7816058985153505,
          -2.0376801786773653,
          -0.5084038886887122,
          -0.051996068467114714,
          "",
          -0.22810682930474713,
          "",
          -0.9662066269144353,
          "",
          -1.1779423128848345,
          "",
          "",
          "",
          "",
          "",
          "",
          -0.5495943498648321,
          -0.8219192425702679,
          "",
          -1.3317657352641616,
          -1.4039213408473272,
          -0.045845374845297826,
          "",
          "",
          -1.6943208889535273,
          -0.5762201431215007,
          -1.4319908822323772,
          -0.3444520827793992,
          -1.5539606010919838,
          -1.3906738239024832,
          "",
          "",
          "",
          "",
          -0.32655505362035175,
          "",
          -0.004839462663126015,
          "",
          "",
          -2.0146579876755553,
          -1.1662073037785197,
          "",
          -1.1821020309370316,
          -1.323693742351056,
          -0.8822155285216908,
          "",
          -0.33515748171811793,
          -1.8093791853977939,
          -0.43379291716036905,
          "",
          -0.1591641423746626,
          "",
          "",
          "",
          ""
         ],
         "yaxis": "y2"
        }
       ],
       "layout": {
        "hovermode": "x",
        "legend": {
         "bgcolor": "#F5F6F9",
         "font": {
          "color": "#4D5663"
         }
        },
        "paper_bgcolor": "#F5F6F9",
        "plot_bgcolor": "#F5F6F9",
        "template": {
         "data": {
          "bar": [
           {
            "error_x": {
             "color": "#2a3f5f"
            },
            "error_y": {
             "color": "#2a3f5f"
            },
            "marker": {
             "line": {
              "color": "#E5ECF6",
              "width": 0.5
             }
            },
            "type": "bar"
           }
          ],
          "barpolar": [
           {
            "marker": {
             "line": {
              "color": "#E5ECF6",
              "width": 0.5
             }
            },
            "type": "barpolar"
           }
          ],
          "carpet": [
           {
            "aaxis": {
             "endlinecolor": "#2a3f5f",
             "gridcolor": "white",
             "linecolor": "white",
             "minorgridcolor": "white",
             "startlinecolor": "#2a3f5f"
            },
            "baxis": {
             "endlinecolor": "#2a3f5f",
             "gridcolor": "white",
             "linecolor": "white",
             "minorgridcolor": "white",
             "startlinecolor": "#2a3f5f"
            },
            "type": "carpet"
           }
          ],
          "choropleth": [
           {
            "colorbar": {
             "outlinewidth": 0,
             "ticks": ""
            },
            "type": "choropleth"
           }
          ],
          "contour": [
           {
            "colorbar": {
             "outlinewidth": 0,
             "ticks": ""
            },
            "colorscale": [
             [
              0,
              "#0d0887"
             ],
             [
              0.1111111111111111,
              "#46039f"
             ],
             [
              0.2222222222222222,
              "#7201a8"
             ],
             [
              0.3333333333333333,
              "#9c179e"
             ],
             [
              0.4444444444444444,
              "#bd3786"
             ],
             [
              0.5555555555555556,
              "#d8576b"
             ],
             [
              0.6666666666666666,
              "#ed7953"
             ],
             [
              0.7777777777777778,
              "#fb9f3a"
             ],
             [
              0.8888888888888888,
              "#fdca26"
             ],
             [
              1,
              "#f0f921"
             ]
            ],
            "type": "contour"
           }
          ],
          "contourcarpet": [
           {
            "colorbar": {
             "outlinewidth": 0,
             "ticks": ""
            },
            "type": "contourcarpet"
           }
          ],
          "heatmap": [
           {
            "colorbar": {
             "outlinewidth": 0,
             "ticks": ""
            },
            "colorscale": [
             [
              0,
              "#0d0887"
             ],
             [
              0.1111111111111111,
              "#46039f"
             ],
             [
              0.2222222222222222,
              "#7201a8"
             ],
             [
              0.3333333333333333,
              "#9c179e"
             ],
             [
              0.4444444444444444,
              "#bd3786"
             ],
             [
              0.5555555555555556,
              "#d8576b"
             ],
             [
              0.6666666666666666,
              "#ed7953"
             ],
             [
              0.7777777777777778,
              "#fb9f3a"
             ],
             [
              0.8888888888888888,
              "#fdca26"
             ],
             [
              1,
              "#f0f921"
             ]
            ],
            "type": "heatmap"
           }
          ],
          "heatmapgl": [
           {
            "colorbar": {
             "outlinewidth": 0,
             "ticks": ""
            },
            "colorscale": [
             [
              0,
              "#0d0887"
             ],
             [
              0.1111111111111111,
              "#46039f"
             ],
             [
              0.2222222222222222,
              "#7201a8"
             ],
             [
              0.3333333333333333,
              "#9c179e"
             ],
             [
              0.4444444444444444,
              "#bd3786"
             ],
             [
              0.5555555555555556,
              "#d8576b"
             ],
             [
              0.6666666666666666,
              "#ed7953"
             ],
             [
              0.7777777777777778,
              "#fb9f3a"
             ],
             [
              0.8888888888888888,
              "#fdca26"
             ],
             [
              1,
              "#f0f921"
             ]
            ],
            "type": "heatmapgl"
           }
          ],
          "histogram": [
           {
            "marker": {
             "colorbar": {
              "outlinewidth": 0,
              "ticks": ""
             }
            },
            "type": "histogram"
           }
          ],
          "histogram2d": [
           {
            "colorbar": {
             "outlinewidth": 0,
             "ticks": ""
            },
            "colorscale": [
             [
              0,
              "#0d0887"
             ],
             [
              0.1111111111111111,
              "#46039f"
             ],
             [
              0.2222222222222222,
              "#7201a8"
             ],
             [
              0.3333333333333333,
              "#9c179e"
             ],
             [
              0.4444444444444444,
              "#bd3786"
             ],
             [
              0.5555555555555556,
              "#d8576b"
             ],
             [
              0.6666666666666666,
              "#ed7953"
             ],
             [
              0.7777777777777778,
              "#fb9f3a"
             ],
             [
              0.8888888888888888,
              "#fdca26"
             ],
             [
              1,
              "#f0f921"
             ]
            ],
            "type": "histogram2d"
           }
          ],
          "histogram2dcontour": [
           {
            "colorbar": {
             "outlinewidth": 0,
             "ticks": ""
            },
            "colorscale": [
             [
              0,
              "#0d0887"
             ],
             [
              0.1111111111111111,
              "#46039f"
             ],
             [
              0.2222222222222222,
              "#7201a8"
             ],
             [
              0.3333333333333333,
              "#9c179e"
             ],
             [
              0.4444444444444444,
              "#bd3786"
             ],
             [
              0.5555555555555556,
              "#d8576b"
             ],
             [
              0.6666666666666666,
              "#ed7953"
             ],
             [
              0.7777777777777778,
              "#fb9f3a"
             ],
             [
              0.8888888888888888,
              "#fdca26"
             ],
             [
              1,
              "#f0f921"
             ]
            ],
            "type": "histogram2dcontour"
           }
          ],
          "mesh3d": [
           {
            "colorbar": {
             "outlinewidth": 0,
             "ticks": ""
            },
            "type": "mesh3d"
           }
          ],
          "parcoords": [
           {
            "line": {
             "colorbar": {
              "outlinewidth": 0,
              "ticks": ""
             }
            },
            "type": "parcoords"
           }
          ],
          "pie": [
           {
            "automargin": true,
            "type": "pie"
           }
          ],
          "scatter": [
           {
            "marker": {
             "colorbar": {
              "outlinewidth": 0,
              "ticks": ""
             }
            },
            "type": "scatter"
           }
          ],
          "scatter3d": [
           {
            "line": {
             "colorbar": {
              "outlinewidth": 0,
              "ticks": ""
             }
            },
            "marker": {
             "colorbar": {
              "outlinewidth": 0,
              "ticks": ""
             }
            },
            "type": "scatter3d"
           }
          ],
          "scattercarpet": [
           {
            "marker": {
             "colorbar": {
              "outlinewidth": 0,
              "ticks": ""
             }
            },
            "type": "scattercarpet"
           }
          ],
          "scattergeo": [
           {
            "marker": {
             "colorbar": {
              "outlinewidth": 0,
              "ticks": ""
             }
            },
            "type": "scattergeo"
           }
          ],
          "scattergl": [
           {
            "marker": {
             "colorbar": {
              "outlinewidth": 0,
              "ticks": ""
             }
            },
            "type": "scattergl"
           }
          ],
          "scattermapbox": [
           {
            "marker": {
             "colorbar": {
              "outlinewidth": 0,
              "ticks": ""
             }
            },
            "type": "scattermapbox"
           }
          ],
          "scatterpolar": [
           {
            "marker": {
             "colorbar": {
              "outlinewidth": 0,
              "ticks": ""
             }
            },
            "type": "scatterpolar"
           }
          ],
          "scatterpolargl": [
           {
            "marker": {
             "colorbar": {
              "outlinewidth": 0,
              "ticks": ""
             }
            },
            "type": "scatterpolargl"
           }
          ],
          "scatterternary": [
           {
            "marker": {
             "colorbar": {
              "outlinewidth": 0,
              "ticks": ""
             }
            },
            "type": "scatterternary"
           }
          ],
          "surface": [
           {
            "colorbar": {
             "outlinewidth": 0,
             "ticks": ""
            },
            "colorscale": [
             [
              0,
              "#0d0887"
             ],
             [
              0.1111111111111111,
              "#46039f"
             ],
             [
              0.2222222222222222,
              "#7201a8"
             ],
             [
              0.3333333333333333,
              "#9c179e"
             ],
             [
              0.4444444444444444,
              "#bd3786"
             ],
             [
              0.5555555555555556,
              "#d8576b"
             ],
             [
              0.6666666666666666,
              "#ed7953"
             ],
             [
              0.7777777777777778,
              "#fb9f3a"
             ],
             [
              0.8888888888888888,
              "#fdca26"
             ],
             [
              1,
              "#f0f921"
             ]
            ],
            "type": "surface"
           }
          ],
          "table": [
           {
            "cells": {
             "fill": {
              "color": "#EBF0F8"
             },
             "line": {
              "color": "white"
             }
            },
            "header": {
             "fill": {
              "color": "#C8D4E3"
             },
             "line": {
              "color": "white"
             }
            },
            "type": "table"
           }
          ]
         },
         "layout": {
          "annotationdefaults": {
           "arrowcolor": "#2a3f5f",
           "arrowhead": 0,
           "arrowwidth": 1
          },
          "coloraxis": {
           "colorbar": {
            "outlinewidth": 0,
            "ticks": ""
           }
          },
          "colorscale": {
           "diverging": [
            [
             0,
             "#8e0152"
            ],
            [
             0.1,
             "#c51b7d"
            ],
            [
             0.2,
             "#de77ae"
            ],
            [
             0.3,
             "#f1b6da"
            ],
            [
             0.4,
             "#fde0ef"
            ],
            [
             0.5,
             "#f7f7f7"
            ],
            [
             0.6,
             "#e6f5d0"
            ],
            [
             0.7,
             "#b8e186"
            ],
            [
             0.8,
             "#7fbc41"
            ],
            [
             0.9,
             "#4d9221"
            ],
            [
             1,
             "#276419"
            ]
           ],
           "sequential": [
            [
             0,
             "#0d0887"
            ],
            [
             0.1111111111111111,
             "#46039f"
            ],
            [
             0.2222222222222222,
             "#7201a8"
            ],
            [
             0.3333333333333333,
             "#9c179e"
            ],
            [
             0.4444444444444444,
             "#bd3786"
            ],
            [
             0.5555555555555556,
             "#d8576b"
            ],
            [
             0.6666666666666666,
             "#ed7953"
            ],
            [
             0.7777777777777778,
             "#fb9f3a"
            ],
            [
             0.8888888888888888,
             "#fdca26"
            ],
            [
             1,
             "#f0f921"
            ]
           ],
           "sequentialminus": [
            [
             0,
             "#0d0887"
            ],
            [
             0.1111111111111111,
             "#46039f"
            ],
            [
             0.2222222222222222,
             "#7201a8"
            ],
            [
             0.3333333333333333,
             "#9c179e"
            ],
            [
             0.4444444444444444,
             "#bd3786"
            ],
            [
             0.5555555555555556,
             "#d8576b"
            ],
            [
             0.6666666666666666,
             "#ed7953"
            ],
            [
             0.7777777777777778,
             "#fb9f3a"
            ],
            [
             0.8888888888888888,
             "#fdca26"
            ],
            [
             1,
             "#f0f921"
            ]
           ]
          },
          "colorway": [
           "#636efa",
           "#EF553B",
           "#00cc96",
           "#ab63fa",
           "#FFA15A",
           "#19d3f3",
           "#FF6692",
           "#B6E880",
           "#FF97FF",
           "#FECB52"
          ],
          "font": {
           "color": "#2a3f5f"
          },
          "geo": {
           "bgcolor": "white",
           "lakecolor": "white",
           "landcolor": "#E5ECF6",
           "showlakes": true,
           "showland": true,
           "subunitcolor": "white"
          },
          "hoverlabel": {
           "align": "left"
          },
          "hovermode": "closest",
          "mapbox": {
           "style": "light"
          },
          "paper_bgcolor": "white",
          "plot_bgcolor": "#E5ECF6",
          "polar": {
           "angularaxis": {
            "gridcolor": "white",
            "linecolor": "white",
            "ticks": ""
           },
           "bgcolor": "#E5ECF6",
           "radialaxis": {
            "gridcolor": "white",
            "linecolor": "white",
            "ticks": ""
           }
          },
          "scene": {
           "xaxis": {
            "backgroundcolor": "#E5ECF6",
            "gridcolor": "white",
            "gridwidth": 2,
            "linecolor": "white",
            "showbackground": true,
            "ticks": "",
            "zerolinecolor": "white"
           },
           "yaxis": {
            "backgroundcolor": "#E5ECF6",
            "gridcolor": "white",
            "gridwidth": 2,
            "linecolor": "white",
            "showbackground": true,
            "ticks": "",
            "zerolinecolor": "white"
           },
           "zaxis": {
            "backgroundcolor": "#E5ECF6",
            "gridcolor": "white",
            "gridwidth": 2,
            "linecolor": "white",
            "showbackground": true,
            "ticks": "",
            "zerolinecolor": "white"
           }
          },
          "shapedefaults": {
           "line": {
            "color": "#2a3f5f"
           }
          },
          "ternary": {
           "aaxis": {
            "gridcolor": "white",
            "linecolor": "white",
            "ticks": ""
           },
           "baxis": {
            "gridcolor": "white",
            "linecolor": "white",
            "ticks": ""
           },
           "bgcolor": "#E5ECF6",
           "caxis": {
            "gridcolor": "white",
            "linecolor": "white",
            "ticks": ""
           }
          },
          "title": {
           "x": 0.05
          },
          "xaxis": {
           "automargin": true,
           "gridcolor": "white",
           "linecolor": "white",
           "ticks": "",
           "title": {
            "standoff": 15
           },
           "zerolinecolor": "white",
           "zerolinewidth": 2
          },
          "yaxis": {
           "automargin": true,
           "gridcolor": "white",
           "linecolor": "white",
           "ticks": "",
           "title": {
            "standoff": 15
           },
           "zerolinecolor": "white",
           "zerolinewidth": 2
          }
         }
        },
        "title": {
         "font": {
          "color": "#4D5663"
         }
        },
        "xaxis": {
         "gridcolor": "#E1E5ED",
         "showgrid": true,
         "tickfont": {
          "color": "#4D5663"
         },
         "title": {
          "font": {
           "color": "#4D5663"
          },
          "text": ""
         },
         "zerolinecolor": "#E1E5ED"
        },
        "xaxis2": {
         "anchor": "y2",
         "gridcolor": "#E1E5ED",
         "showgrid": true,
         "showticklabels": false,
         "tickfont": {
          "color": "#4D5663"
         },
         "title": {
          "font": {
           "color": "#4D5663"
          },
          "text": ""
         },
         "zerolinecolor": "#E1E5ED"
        },
        "yaxis": {
         "domain": [
          0.3,
          1
         ],
         "gridcolor": "#E1E5ED",
         "showgrid": true,
         "tickfont": {
          "color": "#4D5663"
         },
         "title": {
          "font": {
           "color": "#4D5663"
          },
          "text": ""
         },
         "zerolinecolor": "#E1E5ED"
        },
        "yaxis2": {
         "domain": [
          0,
          0.25
         ],
         "gridcolor": "#E1E5ED",
         "showgrid": true,
         "tickfont": {
          "color": "#4D5663"
         },
         "title": {
          "font": {
           "color": "#4D5663"
          },
          "text": "Spread"
         },
         "zerolinecolor": "#E1E5ED"
        }
       }
      },
      "text/html": [
       "<div>                            <div id=\"069c83e7-499d-4bff-8295-f53c01626ca1\" class=\"plotly-graph-div\" style=\"height:525px; width:100%;\"></div>            <script type=\"text/javascript\">                require([\"plotly\"], function(Plotly) {                    window.PLOTLYENV=window.PLOTLYENV || {};\n",
       "                    window.PLOTLYENV.BASE_URL='https://plot.ly';                                    if (document.getElementById(\"069c83e7-499d-4bff-8295-f53c01626ca1\")) {                    Plotly.newPlot(                        \"069c83e7-499d-4bff-8295-f53c01626ca1\",                        [{\"line\": {\"color\": \"rgba(255, 153, 51, 1.0)\", \"dash\": \"solid\", \"shape\": \"linear\", \"width\": 1.3}, \"mode\": \"lines\", \"name\": \"A\", \"text\": \"\", \"type\": \"scatter\", \"x\": [0, 1, 2, 3, 4, 5, 6, 7, 8, 9, 10, 11, 12, 13, 14, 15, 16, 17, 18, 19, 20, 21, 22, 23, 24, 25, 26, 27, 28, 29, 30, 31, 32, 33, 34, 35, 36, 37, 38, 39, 40, 41, 42, 43, 44, 45, 46, 47, 48, 49, 50, 51, 52, 53, 54, 55, 56, 57, 58, 59, 60, 61, 62, 63, 64, 65, 66, 67, 68, 69, 70, 71, 72, 73, 74, 75, 76, 77, 78, 79, 80, 81, 82, 83, 84, 85, 86, 87, 88, 89, 90, 91, 92, 93, 94, 95, 96, 97, 98, 99], \"y\": [-0.39918119580901057, 0.7418621453466906, -0.4313355775472436, 0.3355224667718379, -0.7151869915905287, 0.145668325550864, 0.15591577298259662, 0.016226263834492997, 0.4605683837845119, -1.4139591642678533, -3.346775721169021, -1.2159667506526999, 0.5809608144629882, -0.26283320353488304, 1.2113580317867414, -0.4415756722746691, 2.2884194084433775, 1.0557466676734149, -1.442826254773536, -0.8063709415927582, 0.922383051818235, -0.3878906835859324, 0.025967017018530797, 0.6044282595635964, -0.7065329352842874, 0.9150675435000666, 0.18735127393393106, -0.2845605758953672, -0.09322552030780629, -0.1639557134477811, 0.156542641123135, -0.9341454884535909, -1.1960968243851422, -0.7420113595879909, -1.1231115173825923, -0.06575340563803043, -1.2314451894847818, -0.7004696413846199, 0.2750929324690308, 0.7915002131579784, -1.1253744106107293, 0.5712846346931809, -1.7280218331388324, 0.36865239908201825, -1.0668871446136439, -0.9061338046467238, -1.037945002921429, -0.5578754042788866, 0.14708542676641603, 0.8746134766485341, -0.36276225986481275, 0.12243563569516946, -0.05854080893376823, 1.162186833598004, -1.104489545096553, -0.26487716168614467, -0.05463255455270555, 1.495963991909491, 1.4742509865754625, 0.8390497854946452, 0.5108072739104828, -0.29675905041248607, 0.4317219076292566, 0.7526597856998946, -1.2662095357984315, -0.20809051371739795, -1.4334480138884427, 0.41521475437323424, -0.3681440922719436, -0.4974530040747305, 0.332517930744042, 0.1235890800313146, 0.5909382100815366, -1.0065808800216673, -0.6822563665823921, 1.1077016925230518, 0.07703396073766987, 0.42953692998520493, 0.7592976638295739, -0.8805787003240935, 1.5490488597669556, -0.2766809050067881, 0.7018174178549077, 0.1314637920120881, -0.40257295954386835, -0.6849120108591445, -0.8530469126783897, -0.8710488904466427, -0.40143057082221745, 0.5753943378178665, 0.5232222120203804, -0.22675126963357795, -1.0348115402137625, -0.026371322901696262, 0.7374597636331084, 0.23308846902896885, -0.4367113468497734, 0.5978251807763769, 0.6581567165919348, 1.600974778682548]}, {\"line\": {\"color\": \"rgba(55, 128, 191, 1.0)\", \"dash\": \"solid\", \"shape\": \"linear\", \"width\": 1.3}, \"mode\": \"lines\", \"name\": \"B\", \"text\": \"\", \"type\": \"scatter\", \"x\": [0, 1, 2, 3, 4, 5, 6, 7, 8, 9, 10, 11, 12, 13, 14, 15, 16, 17, 18, 19, 20, 21, 22, 23, 24, 25, 26, 27, 28, 29, 30, 31, 32, 33, 34, 35, 36, 37, 38, 39, 40, 41, 42, 43, 44, 45, 46, 47, 48, 49, 50, 51, 52, 53, 54, 55, 56, 57, 58, 59, 60, 61, 62, 63, 64, 65, 66, 67, 68, 69, 70, 71, 72, 73, 74, 75, 76, 77, 78, 79, 80, 81, 82, 83, 84, 85, 86, 87, 88, 89, 90, 91, 92, 93, 94, 95, 96, 97, 98, 99], \"y\": [2.2070461301559066, -0.788131612862357, -0.10784315640253468, -0.04044160801371967, -2.2896748695933327, 1.3429392443285344, 1.4865555779792607, 0.3659741914873344, -0.7892499216942237, 0.1141250947886066, -0.6139977202850474, 0.037322520254553855, 0.29142557618426357, 0.4113345097957159, 1.4192964679111584, 0.36923408302610705, 0.48399864965340045, 0.6079126562865081, -0.7977858369497093, -0.6119403421986435, 0.13146439326926732, 0.08725012491665272, 0.09456009132885217, -2.190707420460496, 1.12562920670872, -0.6839747581993745, 0.3115134349504725, 1.4492612304178427, 0.06999200823006771, -0.38800767411587783, -0.46598508418374707, -2.181197442663968, -1.0956797599610515, -0.9553121956681996, 0.42403097594459715, -1.6558545434866523, -1.3819798723174677, 1.6854462250364648, 0.732890145241412, -1.3374766327934853, -0.3260739282800016, 1.6637557322566037, -0.8409746644861881, -1.4111517724895952, -0.5393254688380885, 0.8754720938686266, 0.9997351757559365, -0.049471515590174334, 0.19908149523353075, 0.6249144899716452, -0.13465543056006563, -0.7161254082218936, 0.907665817980667, -1.0156398903308865, 0.07345276778828155, -1.730105693139972, -1.2104401316439815, -0.42246282382447614, 1.223087721057286, 0.25051121377375185, -0.11663617757627032, 0.25283529945234606, 1.2536411501995246, -0.8608597145861724, 0.06555619946573002, 1.1958308271299294, -1.3876026390431448, 0.0442082545566528, -1.341362716407108, 1.1968678848787968, 0.9087380738655427, 1.5555799622636919, 0.9353902928609358, 0.5473797210703165, 0.7084174573200912, -0.3698724043916409, -0.21573080837183653, 0.1359526800212306, 0.15906429779288436, -0.5540236467037417, -0.3414189576302107, -0.2718414423436621, -0.4666969220684351, -1.076680135465115, 1.6120850281316867, 0.4812952929193751, -1.9705129259249963, 0.31105314049038896, 0.9222631715288385, 1.4576098663395574, 0.09972461282505903, 0.10840621208454, 0.7745676451840312, 0.4074215942586728, 0.2725750104410174, 0.39225261140363143, -2.3594286944335656, -0.22987691975601063, -0.10824276280124188, -0.7045627207862724]}, {\"connectgaps\": false, \"fill\": \"tozeroy\", \"line\": {\"color\": \"green\", \"dash\": \"solid\", \"shape\": \"linear\", \"width\": 0.5}, \"mode\": \"lines\", \"name\": \"Spread\", \"showlegend\": false, \"type\": \"scatter\", \"x\": [0, 1, 2, 3, 4, 5, 6, 7, 8, 9, 10, 11, 12, 13, 14, 15, 16, 17, 18, 19, 20, 21, 22, 23, 24, 25, 26, 27, 28, 29, 30, 31, 32, 33, 34, 35, 36, 37, 38, 39, 40, 41, 42, 43, 44, 45, 46, 47, 48, 49, 50, 51, 52, 53, 54, 55, 56, 57, 58, 59, 60, 61, 62, 63, 64, 65, 66, 67, 68, 69, 70, 71, 72, 73, 74, 75, 76, 77, 78, 79, 80, 81, 82, 83, 84, 85, 86, 87, 88, 89, 90, 91, 92, 93, 94, 95, 96, 97, 98, 99], \"xaxis\": \"x2\", \"y\": [\"\", 1.5299937582090477, \"\", 0.37596407478555754, 1.574487878002804, \"\", \"\", \"\", 1.2498183054787355, \"\", \"\", \"\", 0.2895352382787246, \"\", \"\", \"\", 1.804420758789977, 0.4478340113869067, \"\", \"\", 0.7909186585489677, \"\", \"\", 2.7951356800240923, \"\", 1.599042301699441, \"\", \"\", \"\", 0.22405196066809674, 0.622527725306882, 1.2470519542103773, \"\", 0.21330083608020867, \"\", 1.5901011378486218, 0.1505346828326859, \"\", \"\", 2.1289768459514637, \"\", \"\", \"\", 1.7798041715716135, \"\", \"\", \"\", \"\", \"\", 0.24969898667688883, \"\", 0.8385610439170631, \"\", 2.1778267239288907, \"\", 1.4652285314538274, 1.155807577091276, 1.918426815733967, 0.2511632655181766, 0.5885385717208933, 0.6274434514867531, \"\", \"\", 1.613519500286067, \"\", \"\", \"\", 0.37100649981658146, 0.9732186241351644, \"\", \"\", \"\", \"\", \"\", \"\", 1.4775740969146927, 0.2927647691095064, 0.29358424996397436, 0.6002333660366895, \"\", 1.8904678173971663, \"\", 1.1685143399233429, 1.208143927477203, \"\", \"\", 1.1174660132466065, \"\", \"\", \"\", 0.42349759919532143, \"\", \"\", \"\", 0.464884753192091, \"\", 1.9227173475837922, 0.8277021005323876, 0.7663994793931767, 2.3055374994688203], \"yaxis\": \"y2\"}, {\"connectgaps\": false, \"fill\": \"tozeroy\", \"line\": {\"color\": \"red\", \"dash\": \"solid\", \"shape\": \"linear\", \"width\": 0.5}, \"mode\": \"lines\", \"name\": \"Spread\", \"showlegend\": false, \"type\": \"scatter\", \"x\": [0, 1, 2, 3, 4, 5, 6, 7, 8, 9, 10, 11, 12, 13, 14, 15, 16, 17, 18, 19, 20, 21, 22, 23, 24, 25, 26, 27, 28, 29, 30, 31, 32, 33, 34, 35, 36, 37, 38, 39, 40, 41, 42, 43, 44, 45, 46, 47, 48, 49, 50, 51, 52, 53, 54, 55, 56, 57, 58, 59, 60, 61, 62, 63, 64, 65, 66, 67, 68, 69, 70, 71, 72, 73, 74, 75, 76, 77, 78, 79, 80, 81, 82, 83, 84, 85, 86, 87, 88, 89, 90, 91, 92, 93, 94, 95, 96, 97, 98, 99], \"xaxis\": \"x2\", \"y\": [-2.606227325964917, \"\", -0.32349242114470894, \"\", \"\", -1.1972709187776704, -1.3306398049966641, -0.3497479276528414, \"\", -1.5280842590564598, -2.7327780008839735, -1.2532892709072538, \"\", -0.674167713330599, -0.20793843612441698, -0.8108097553007761, \"\", \"\", -0.6450404178238267, -0.19443059939411478, \"\", -0.47514080850258517, -0.06859307431032137, \"\", -1.8321621419930074, \"\", -0.12416216101654146, -1.7338218063132098, -0.163217528537874, \"\", \"\", \"\", -0.10041706442409071, \"\", -1.5471424933271893, \"\", \"\", -2.385915866421085, -0.4577972127723812, \"\", -0.7993004823307277, -1.0924710975634229, -0.8870471686526443, \"\", -0.5275616757755553, -1.7816058985153505, -2.0376801786773653, -0.5084038886887122, -0.051996068467114714, \"\", -0.22810682930474713, \"\", -0.9662066269144353, \"\", -1.1779423128848345, \"\", \"\", \"\", \"\", \"\", \"\", -0.5495943498648321, -0.8219192425702679, \"\", -1.3317657352641616, -1.4039213408473272, -0.045845374845297826, \"\", \"\", -1.6943208889535273, -0.5762201431215007, -1.4319908822323772, -0.3444520827793992, -1.5539606010919838, -1.3906738239024832, \"\", \"\", \"\", \"\", -0.32655505362035175, \"\", -0.004839462663126015, \"\", \"\", -2.0146579876755553, -1.1662073037785197, \"\", -1.1821020309370316, -1.323693742351056, -0.8822155285216908, \"\", -0.33515748171811793, -1.8093791853977939, -0.43379291716036905, \"\", -0.1591641423746626, \"\", \"\", \"\", \"\"], \"yaxis\": \"y2\"}],                        {\"hovermode\": \"x\", \"legend\": {\"bgcolor\": \"#F5F6F9\", \"font\": {\"color\": \"#4D5663\"}}, \"paper_bgcolor\": \"#F5F6F9\", \"plot_bgcolor\": \"#F5F6F9\", \"template\": {\"data\": {\"bar\": [{\"error_x\": {\"color\": \"#2a3f5f\"}, \"error_y\": {\"color\": \"#2a3f5f\"}, \"marker\": {\"line\": {\"color\": \"#E5ECF6\", \"width\": 0.5}}, \"type\": \"bar\"}], \"barpolar\": [{\"marker\": {\"line\": {\"color\": \"#E5ECF6\", \"width\": 0.5}}, \"type\": \"barpolar\"}], \"carpet\": [{\"aaxis\": {\"endlinecolor\": \"#2a3f5f\", \"gridcolor\": \"white\", \"linecolor\": \"white\", \"minorgridcolor\": \"white\", \"startlinecolor\": \"#2a3f5f\"}, \"baxis\": {\"endlinecolor\": \"#2a3f5f\", \"gridcolor\": \"white\", \"linecolor\": \"white\", \"minorgridcolor\": \"white\", \"startlinecolor\": \"#2a3f5f\"}, \"type\": \"carpet\"}], \"choropleth\": [{\"colorbar\": {\"outlinewidth\": 0, \"ticks\": \"\"}, \"type\": \"choropleth\"}], \"contour\": [{\"colorbar\": {\"outlinewidth\": 0, \"ticks\": \"\"}, \"colorscale\": [[0.0, \"#0d0887\"], [0.1111111111111111, \"#46039f\"], [0.2222222222222222, \"#7201a8\"], [0.3333333333333333, \"#9c179e\"], [0.4444444444444444, \"#bd3786\"], [0.5555555555555556, \"#d8576b\"], [0.6666666666666666, \"#ed7953\"], [0.7777777777777778, \"#fb9f3a\"], [0.8888888888888888, \"#fdca26\"], [1.0, \"#f0f921\"]], \"type\": \"contour\"}], \"contourcarpet\": [{\"colorbar\": {\"outlinewidth\": 0, \"ticks\": \"\"}, \"type\": \"contourcarpet\"}], \"heatmap\": [{\"colorbar\": {\"outlinewidth\": 0, \"ticks\": \"\"}, \"colorscale\": [[0.0, \"#0d0887\"], [0.1111111111111111, \"#46039f\"], [0.2222222222222222, \"#7201a8\"], [0.3333333333333333, \"#9c179e\"], [0.4444444444444444, \"#bd3786\"], [0.5555555555555556, \"#d8576b\"], [0.6666666666666666, \"#ed7953\"], [0.7777777777777778, \"#fb9f3a\"], [0.8888888888888888, \"#fdca26\"], [1.0, \"#f0f921\"]], \"type\": \"heatmap\"}], \"heatmapgl\": [{\"colorbar\": {\"outlinewidth\": 0, \"ticks\": \"\"}, \"colorscale\": [[0.0, \"#0d0887\"], [0.1111111111111111, \"#46039f\"], [0.2222222222222222, \"#7201a8\"], [0.3333333333333333, \"#9c179e\"], [0.4444444444444444, \"#bd3786\"], [0.5555555555555556, \"#d8576b\"], [0.6666666666666666, \"#ed7953\"], [0.7777777777777778, \"#fb9f3a\"], [0.8888888888888888, \"#fdca26\"], [1.0, \"#f0f921\"]], \"type\": \"heatmapgl\"}], \"histogram\": [{\"marker\": {\"colorbar\": {\"outlinewidth\": 0, \"ticks\": \"\"}}, \"type\": \"histogram\"}], \"histogram2d\": [{\"colorbar\": {\"outlinewidth\": 0, \"ticks\": \"\"}, \"colorscale\": [[0.0, \"#0d0887\"], [0.1111111111111111, \"#46039f\"], [0.2222222222222222, \"#7201a8\"], [0.3333333333333333, \"#9c179e\"], [0.4444444444444444, \"#bd3786\"], [0.5555555555555556, \"#d8576b\"], [0.6666666666666666, \"#ed7953\"], [0.7777777777777778, \"#fb9f3a\"], [0.8888888888888888, \"#fdca26\"], [1.0, \"#f0f921\"]], \"type\": \"histogram2d\"}], \"histogram2dcontour\": [{\"colorbar\": {\"outlinewidth\": 0, \"ticks\": \"\"}, \"colorscale\": [[0.0, \"#0d0887\"], [0.1111111111111111, \"#46039f\"], [0.2222222222222222, \"#7201a8\"], [0.3333333333333333, \"#9c179e\"], [0.4444444444444444, \"#bd3786\"], [0.5555555555555556, \"#d8576b\"], [0.6666666666666666, \"#ed7953\"], [0.7777777777777778, \"#fb9f3a\"], [0.8888888888888888, \"#fdca26\"], [1.0, \"#f0f921\"]], \"type\": \"histogram2dcontour\"}], \"mesh3d\": [{\"colorbar\": {\"outlinewidth\": 0, \"ticks\": \"\"}, \"type\": \"mesh3d\"}], \"parcoords\": [{\"line\": {\"colorbar\": {\"outlinewidth\": 0, \"ticks\": \"\"}}, \"type\": \"parcoords\"}], \"pie\": [{\"automargin\": true, \"type\": \"pie\"}], \"scatter\": [{\"marker\": {\"colorbar\": {\"outlinewidth\": 0, \"ticks\": \"\"}}, \"type\": \"scatter\"}], \"scatter3d\": [{\"line\": {\"colorbar\": {\"outlinewidth\": 0, \"ticks\": \"\"}}, \"marker\": {\"colorbar\": {\"outlinewidth\": 0, \"ticks\": \"\"}}, \"type\": \"scatter3d\"}], \"scattercarpet\": [{\"marker\": {\"colorbar\": {\"outlinewidth\": 0, \"ticks\": \"\"}}, \"type\": \"scattercarpet\"}], \"scattergeo\": [{\"marker\": {\"colorbar\": {\"outlinewidth\": 0, \"ticks\": \"\"}}, \"type\": \"scattergeo\"}], \"scattergl\": [{\"marker\": {\"colorbar\": {\"outlinewidth\": 0, \"ticks\": \"\"}}, \"type\": \"scattergl\"}], \"scattermapbox\": [{\"marker\": {\"colorbar\": {\"outlinewidth\": 0, \"ticks\": \"\"}}, \"type\": \"scattermapbox\"}], \"scatterpolar\": [{\"marker\": {\"colorbar\": {\"outlinewidth\": 0, \"ticks\": \"\"}}, \"type\": \"scatterpolar\"}], \"scatterpolargl\": [{\"marker\": {\"colorbar\": {\"outlinewidth\": 0, \"ticks\": \"\"}}, \"type\": \"scatterpolargl\"}], \"scatterternary\": [{\"marker\": {\"colorbar\": {\"outlinewidth\": 0, \"ticks\": \"\"}}, \"type\": \"scatterternary\"}], \"surface\": [{\"colorbar\": {\"outlinewidth\": 0, \"ticks\": \"\"}, \"colorscale\": [[0.0, \"#0d0887\"], [0.1111111111111111, \"#46039f\"], [0.2222222222222222, \"#7201a8\"], [0.3333333333333333, \"#9c179e\"], [0.4444444444444444, \"#bd3786\"], [0.5555555555555556, \"#d8576b\"], [0.6666666666666666, \"#ed7953\"], [0.7777777777777778, \"#fb9f3a\"], [0.8888888888888888, \"#fdca26\"], [1.0, \"#f0f921\"]], \"type\": \"surface\"}], \"table\": [{\"cells\": {\"fill\": {\"color\": \"#EBF0F8\"}, \"line\": {\"color\": \"white\"}}, \"header\": {\"fill\": {\"color\": \"#C8D4E3\"}, \"line\": {\"color\": \"white\"}}, \"type\": \"table\"}]}, \"layout\": {\"annotationdefaults\": {\"arrowcolor\": \"#2a3f5f\", \"arrowhead\": 0, \"arrowwidth\": 1}, \"coloraxis\": {\"colorbar\": {\"outlinewidth\": 0, \"ticks\": \"\"}}, \"colorscale\": {\"diverging\": [[0, \"#8e0152\"], [0.1, \"#c51b7d\"], [0.2, \"#de77ae\"], [0.3, \"#f1b6da\"], [0.4, \"#fde0ef\"], [0.5, \"#f7f7f7\"], [0.6, \"#e6f5d0\"], [0.7, \"#b8e186\"], [0.8, \"#7fbc41\"], [0.9, \"#4d9221\"], [1, \"#276419\"]], \"sequential\": [[0.0, \"#0d0887\"], [0.1111111111111111, \"#46039f\"], [0.2222222222222222, \"#7201a8\"], [0.3333333333333333, \"#9c179e\"], [0.4444444444444444, \"#bd3786\"], [0.5555555555555556, \"#d8576b\"], [0.6666666666666666, \"#ed7953\"], [0.7777777777777778, \"#fb9f3a\"], [0.8888888888888888, \"#fdca26\"], [1.0, \"#f0f921\"]], \"sequentialminus\": [[0.0, \"#0d0887\"], [0.1111111111111111, \"#46039f\"], [0.2222222222222222, \"#7201a8\"], [0.3333333333333333, \"#9c179e\"], [0.4444444444444444, \"#bd3786\"], [0.5555555555555556, \"#d8576b\"], [0.6666666666666666, \"#ed7953\"], [0.7777777777777778, \"#fb9f3a\"], [0.8888888888888888, \"#fdca26\"], [1.0, \"#f0f921\"]]}, \"colorway\": [\"#636efa\", \"#EF553B\", \"#00cc96\", \"#ab63fa\", \"#FFA15A\", \"#19d3f3\", \"#FF6692\", \"#B6E880\", \"#FF97FF\", \"#FECB52\"], \"font\": {\"color\": \"#2a3f5f\"}, \"geo\": {\"bgcolor\": \"white\", \"lakecolor\": \"white\", \"landcolor\": \"#E5ECF6\", \"showlakes\": true, \"showland\": true, \"subunitcolor\": \"white\"}, \"hoverlabel\": {\"align\": \"left\"}, \"hovermode\": \"closest\", \"mapbox\": {\"style\": \"light\"}, \"paper_bgcolor\": \"white\", \"plot_bgcolor\": \"#E5ECF6\", \"polar\": {\"angularaxis\": {\"gridcolor\": \"white\", \"linecolor\": \"white\", \"ticks\": \"\"}, \"bgcolor\": \"#E5ECF6\", \"radialaxis\": {\"gridcolor\": \"white\", \"linecolor\": \"white\", \"ticks\": \"\"}}, \"scene\": {\"xaxis\": {\"backgroundcolor\": \"#E5ECF6\", \"gridcolor\": \"white\", \"gridwidth\": 2, \"linecolor\": \"white\", \"showbackground\": true, \"ticks\": \"\", \"zerolinecolor\": \"white\"}, \"yaxis\": {\"backgroundcolor\": \"#E5ECF6\", \"gridcolor\": \"white\", \"gridwidth\": 2, \"linecolor\": \"white\", \"showbackground\": true, \"ticks\": \"\", \"zerolinecolor\": \"white\"}, \"zaxis\": {\"backgroundcolor\": \"#E5ECF6\", \"gridcolor\": \"white\", \"gridwidth\": 2, \"linecolor\": \"white\", \"showbackground\": true, \"ticks\": \"\", \"zerolinecolor\": \"white\"}}, \"shapedefaults\": {\"line\": {\"color\": \"#2a3f5f\"}}, \"ternary\": {\"aaxis\": {\"gridcolor\": \"white\", \"linecolor\": \"white\", \"ticks\": \"\"}, \"baxis\": {\"gridcolor\": \"white\", \"linecolor\": \"white\", \"ticks\": \"\"}, \"bgcolor\": \"#E5ECF6\", \"caxis\": {\"gridcolor\": \"white\", \"linecolor\": \"white\", \"ticks\": \"\"}}, \"title\": {\"x\": 0.05}, \"xaxis\": {\"automargin\": true, \"gridcolor\": \"white\", \"linecolor\": \"white\", \"ticks\": \"\", \"title\": {\"standoff\": 15}, \"zerolinecolor\": \"white\", \"zerolinewidth\": 2}, \"yaxis\": {\"automargin\": true, \"gridcolor\": \"white\", \"linecolor\": \"white\", \"ticks\": \"\", \"title\": {\"standoff\": 15}, \"zerolinecolor\": \"white\", \"zerolinewidth\": 2}}}, \"title\": {\"font\": {\"color\": \"#4D5663\"}}, \"xaxis\": {\"gridcolor\": \"#E1E5ED\", \"showgrid\": true, \"tickfont\": {\"color\": \"#4D5663\"}, \"title\": {\"font\": {\"color\": \"#4D5663\"}, \"text\": \"\"}, \"zerolinecolor\": \"#E1E5ED\"}, \"xaxis2\": {\"anchor\": \"y2\", \"gridcolor\": \"#E1E5ED\", \"showgrid\": true, \"showticklabels\": false, \"tickfont\": {\"color\": \"#4D5663\"}, \"title\": {\"font\": {\"color\": \"#4D5663\"}, \"text\": \"\"}, \"zerolinecolor\": \"#E1E5ED\"}, \"yaxis\": {\"domain\": [0.3, 1], \"gridcolor\": \"#E1E5ED\", \"showgrid\": true, \"tickfont\": {\"color\": \"#4D5663\"}, \"title\": {\"font\": {\"color\": \"#4D5663\"}, \"text\": \"\"}, \"zerolinecolor\": \"#E1E5ED\"}, \"yaxis2\": {\"domain\": [0, 0.25], \"gridcolor\": \"#E1E5ED\", \"showgrid\": true, \"tickfont\": {\"color\": \"#4D5663\"}, \"title\": {\"font\": {\"color\": \"#4D5663\"}, \"text\": \"Spread\"}, \"zerolinecolor\": \"#E1E5ED\"}},                        {\"showLink\": true, \"linkText\": \"Export to plot.ly\", \"plotlyServerURL\": \"https://plot.ly\", \"responsive\": true}                    ).then(function(){\n",
       "                            \n",
       "var gd = document.getElementById('069c83e7-499d-4bff-8295-f53c01626ca1');\n",
       "var x = new MutationObserver(function (mutations, observer) {{\n",
       "        var display = window.getComputedStyle(gd).display;\n",
       "        if (!display || display === 'none') {{\n",
       "            console.log([gd, 'removed!']);\n",
       "            Plotly.purge(gd);\n",
       "            observer.disconnect();\n",
       "        }}\n",
       "}});\n",
       "\n",
       "// Listen for the removal of the full notebook cells\n",
       "var notebookContainer = gd.closest('#notebook-container');\n",
       "if (notebookContainer) {{\n",
       "    x.observe(notebookContainer, {childList: true});\n",
       "}}\n",
       "\n",
       "// Listen for the clearing of the current output cell\n",
       "var outputEl = gd.closest('.output');\n",
       "if (outputEl) {{\n",
       "    x.observe(outputEl, {childList: true});\n",
       "}}\n",
       "\n",
       "                        })                };                });            </script>        </div>"
      ]
     },
     "metadata": {},
     "output_type": "display_data"
    }
   ],
   "source": [
    "df[['A', 'B']].iplot(kind='spread')"
   ]
  },
  {
   "cell_type": "code",
   "execution_count": 24,
   "metadata": {},
   "outputs": [
    {
     "data": {
      "application/vnd.plotly.v1+json": {
       "config": {
        "linkText": "Export to plot.ly",
        "plotlyServerURL": "https://plot.ly",
        "showLink": true
       },
       "data": [
        {
         "marker": {
          "color": [
           "rgb(255, 153, 51)",
           "rgb(55, 128, 191)",
           "rgb(50, 171, 96)",
           "rgb(128, 0, 128)",
           "rgb(219, 64, 82)",
           "rgb(0, 128, 128)",
           "rgb(255, 255, 51)",
           "rgb(128, 128, 0)",
           "rgb(251, 128, 114)",
           "rgb(128, 177, 211)"
          ],
          "line": {
           "width": 1.3
          },
          "size": [
           53,
           74,
           105,
           17,
           18,
           76,
           42,
           37,
           60,
           77,
           80,
           83,
           69,
           56,
           75,
           74,
           58,
           43,
           68,
           84,
           78,
           54,
           62,
           62,
           45,
           47,
           82,
           70,
           74,
           55,
           74,
           59,
           97,
           73,
           70,
           92,
           39,
           29,
           94,
           71,
           52,
           65,
           60,
           20,
           76,
           89,
           72,
           63,
           101,
           25,
           97,
           83,
           39,
           82,
           62,
           63,
           76,
           56,
           32,
           12,
           33,
           51,
           46,
           46,
           69,
           33,
           34,
           101,
           21,
           40,
           81,
           55,
           41,
           49,
           59,
           53,
           77,
           54,
           56,
           76,
           13,
           51,
           25,
           35,
           55,
           102,
           62,
           46,
           45,
           83,
           79,
           20,
           47,
           112,
           51,
           84,
           35,
           90,
           79,
           90
          ],
          "symbol": "circle"
         },
         "mode": "markers",
         "text": "",
         "type": "scatter",
         "x": [
          -0.39918119580901057,
          0.7418621453466906,
          -0.4313355775472436,
          0.3355224667718379,
          -0.7151869915905287,
          0.145668325550864,
          0.15591577298259662,
          0.016226263834492997,
          0.4605683837845119,
          -1.4139591642678533,
          -3.346775721169021,
          -1.2159667506526999,
          0.5809608144629882,
          -0.26283320353488304,
          1.2113580317867414,
          -0.4415756722746691,
          2.2884194084433775,
          1.0557466676734149,
          -1.442826254773536,
          -0.8063709415927582,
          0.922383051818235,
          -0.3878906835859324,
          0.025967017018530797,
          0.6044282595635964,
          -0.7065329352842874,
          0.9150675435000666,
          0.18735127393393106,
          -0.2845605758953672,
          -0.09322552030780629,
          -0.1639557134477811,
          0.156542641123135,
          -0.9341454884535909,
          -1.1960968243851422,
          -0.7420113595879909,
          -1.1231115173825923,
          -0.06575340563803043,
          -1.2314451894847818,
          -0.7004696413846199,
          0.2750929324690308,
          0.7915002131579784,
          -1.1253744106107293,
          0.5712846346931809,
          -1.7280218331388324,
          0.36865239908201825,
          -1.0668871446136439,
          -0.9061338046467238,
          -1.037945002921429,
          -0.5578754042788866,
          0.14708542676641603,
          0.8746134766485341,
          -0.36276225986481275,
          0.12243563569516946,
          -0.05854080893376823,
          1.162186833598004,
          -1.104489545096553,
          -0.26487716168614467,
          -0.05463255455270555,
          1.495963991909491,
          1.4742509865754625,
          0.8390497854946452,
          0.5108072739104828,
          -0.29675905041248607,
          0.4317219076292566,
          0.7526597856998946,
          -1.2662095357984315,
          -0.20809051371739795,
          -1.4334480138884427,
          0.41521475437323424,
          -0.3681440922719436,
          -0.4974530040747305,
          0.332517930744042,
          0.1235890800313146,
          0.5909382100815366,
          -1.0065808800216673,
          -0.6822563665823921,
          1.1077016925230518,
          0.07703396073766987,
          0.42953692998520493,
          0.7592976638295739,
          -0.8805787003240935,
          1.5490488597669556,
          -0.2766809050067881,
          0.7018174178549077,
          0.1314637920120881,
          -0.40257295954386835,
          -0.6849120108591445,
          -0.8530469126783897,
          -0.8710488904466427,
          -0.40143057082221745,
          0.5753943378178665,
          0.5232222120203804,
          -0.22675126963357795,
          -1.0348115402137625,
          -0.026371322901696262,
          0.7374597636331084,
          0.23308846902896885,
          -0.4367113468497734,
          0.5978251807763769,
          0.6581567165919348,
          1.600974778682548
         ],
         "y": [
          2.2070461301559066,
          -0.788131612862357,
          -0.10784315640253468,
          -0.04044160801371967,
          -2.2896748695933327,
          1.3429392443285344,
          1.4865555779792607,
          0.3659741914873344,
          -0.7892499216942237,
          0.1141250947886066,
          -0.6139977202850474,
          0.037322520254553855,
          0.29142557618426357,
          0.4113345097957159,
          1.4192964679111584,
          0.36923408302610705,
          0.48399864965340045,
          0.6079126562865081,
          -0.7977858369497093,
          -0.6119403421986435,
          0.13146439326926732,
          0.08725012491665272,
          0.09456009132885217,
          -2.190707420460496,
          1.12562920670872,
          -0.6839747581993745,
          0.3115134349504725,
          1.4492612304178427,
          0.06999200823006771,
          -0.38800767411587783,
          -0.46598508418374707,
          -2.181197442663968,
          -1.0956797599610515,
          -0.9553121956681996,
          0.42403097594459715,
          -1.6558545434866523,
          -1.3819798723174677,
          1.6854462250364648,
          0.732890145241412,
          -1.3374766327934853,
          -0.3260739282800016,
          1.6637557322566037,
          -0.8409746644861881,
          -1.4111517724895952,
          -0.5393254688380885,
          0.8754720938686266,
          0.9997351757559365,
          -0.049471515590174334,
          0.19908149523353075,
          0.6249144899716452,
          -0.13465543056006563,
          -0.7161254082218936,
          0.907665817980667,
          -1.0156398903308865,
          0.07345276778828155,
          -1.730105693139972,
          -1.2104401316439815,
          -0.42246282382447614,
          1.223087721057286,
          0.25051121377375185,
          -0.11663617757627032,
          0.25283529945234606,
          1.2536411501995246,
          -0.8608597145861724,
          0.06555619946573002,
          1.1958308271299294,
          -1.3876026390431448,
          0.0442082545566528,
          -1.341362716407108,
          1.1968678848787968,
          0.9087380738655427,
          1.5555799622636919,
          0.9353902928609358,
          0.5473797210703165,
          0.7084174573200912,
          -0.3698724043916409,
          -0.21573080837183653,
          0.1359526800212306,
          0.15906429779288436,
          -0.5540236467037417,
          -0.3414189576302107,
          -0.2718414423436621,
          -0.4666969220684351,
          -1.076680135465115,
          1.6120850281316867,
          0.4812952929193751,
          -1.9705129259249963,
          0.31105314049038896,
          0.9222631715288385,
          1.4576098663395574,
          0.09972461282505903,
          0.10840621208454,
          0.7745676451840312,
          0.4074215942586728,
          0.2725750104410174,
          0.39225261140363143,
          -2.3594286944335656,
          -0.22987691975601063,
          -0.10824276280124188,
          -0.7045627207862724
         ]
        }
       ],
       "layout": {
        "legend": {
         "bgcolor": "#F5F6F9",
         "font": {
          "color": "#4D5663"
         }
        },
        "paper_bgcolor": "#F5F6F9",
        "plot_bgcolor": "#F5F6F9",
        "template": {
         "data": {
          "bar": [
           {
            "error_x": {
             "color": "#2a3f5f"
            },
            "error_y": {
             "color": "#2a3f5f"
            },
            "marker": {
             "line": {
              "color": "#E5ECF6",
              "width": 0.5
             }
            },
            "type": "bar"
           }
          ],
          "barpolar": [
           {
            "marker": {
             "line": {
              "color": "#E5ECF6",
              "width": 0.5
             }
            },
            "type": "barpolar"
           }
          ],
          "carpet": [
           {
            "aaxis": {
             "endlinecolor": "#2a3f5f",
             "gridcolor": "white",
             "linecolor": "white",
             "minorgridcolor": "white",
             "startlinecolor": "#2a3f5f"
            },
            "baxis": {
             "endlinecolor": "#2a3f5f",
             "gridcolor": "white",
             "linecolor": "white",
             "minorgridcolor": "white",
             "startlinecolor": "#2a3f5f"
            },
            "type": "carpet"
           }
          ],
          "choropleth": [
           {
            "colorbar": {
             "outlinewidth": 0,
             "ticks": ""
            },
            "type": "choropleth"
           }
          ],
          "contour": [
           {
            "colorbar": {
             "outlinewidth": 0,
             "ticks": ""
            },
            "colorscale": [
             [
              0,
              "#0d0887"
             ],
             [
              0.1111111111111111,
              "#46039f"
             ],
             [
              0.2222222222222222,
              "#7201a8"
             ],
             [
              0.3333333333333333,
              "#9c179e"
             ],
             [
              0.4444444444444444,
              "#bd3786"
             ],
             [
              0.5555555555555556,
              "#d8576b"
             ],
             [
              0.6666666666666666,
              "#ed7953"
             ],
             [
              0.7777777777777778,
              "#fb9f3a"
             ],
             [
              0.8888888888888888,
              "#fdca26"
             ],
             [
              1,
              "#f0f921"
             ]
            ],
            "type": "contour"
           }
          ],
          "contourcarpet": [
           {
            "colorbar": {
             "outlinewidth": 0,
             "ticks": ""
            },
            "type": "contourcarpet"
           }
          ],
          "heatmap": [
           {
            "colorbar": {
             "outlinewidth": 0,
             "ticks": ""
            },
            "colorscale": [
             [
              0,
              "#0d0887"
             ],
             [
              0.1111111111111111,
              "#46039f"
             ],
             [
              0.2222222222222222,
              "#7201a8"
             ],
             [
              0.3333333333333333,
              "#9c179e"
             ],
             [
              0.4444444444444444,
              "#bd3786"
             ],
             [
              0.5555555555555556,
              "#d8576b"
             ],
             [
              0.6666666666666666,
              "#ed7953"
             ],
             [
              0.7777777777777778,
              "#fb9f3a"
             ],
             [
              0.8888888888888888,
              "#fdca26"
             ],
             [
              1,
              "#f0f921"
             ]
            ],
            "type": "heatmap"
           }
          ],
          "heatmapgl": [
           {
            "colorbar": {
             "outlinewidth": 0,
             "ticks": ""
            },
            "colorscale": [
             [
              0,
              "#0d0887"
             ],
             [
              0.1111111111111111,
              "#46039f"
             ],
             [
              0.2222222222222222,
              "#7201a8"
             ],
             [
              0.3333333333333333,
              "#9c179e"
             ],
             [
              0.4444444444444444,
              "#bd3786"
             ],
             [
              0.5555555555555556,
              "#d8576b"
             ],
             [
              0.6666666666666666,
              "#ed7953"
             ],
             [
              0.7777777777777778,
              "#fb9f3a"
             ],
             [
              0.8888888888888888,
              "#fdca26"
             ],
             [
              1,
              "#f0f921"
             ]
            ],
            "type": "heatmapgl"
           }
          ],
          "histogram": [
           {
            "marker": {
             "colorbar": {
              "outlinewidth": 0,
              "ticks": ""
             }
            },
            "type": "histogram"
           }
          ],
          "histogram2d": [
           {
            "colorbar": {
             "outlinewidth": 0,
             "ticks": ""
            },
            "colorscale": [
             [
              0,
              "#0d0887"
             ],
             [
              0.1111111111111111,
              "#46039f"
             ],
             [
              0.2222222222222222,
              "#7201a8"
             ],
             [
              0.3333333333333333,
              "#9c179e"
             ],
             [
              0.4444444444444444,
              "#bd3786"
             ],
             [
              0.5555555555555556,
              "#d8576b"
             ],
             [
              0.6666666666666666,
              "#ed7953"
             ],
             [
              0.7777777777777778,
              "#fb9f3a"
             ],
             [
              0.8888888888888888,
              "#fdca26"
             ],
             [
              1,
              "#f0f921"
             ]
            ],
            "type": "histogram2d"
           }
          ],
          "histogram2dcontour": [
           {
            "colorbar": {
             "outlinewidth": 0,
             "ticks": ""
            },
            "colorscale": [
             [
              0,
              "#0d0887"
             ],
             [
              0.1111111111111111,
              "#46039f"
             ],
             [
              0.2222222222222222,
              "#7201a8"
             ],
             [
              0.3333333333333333,
              "#9c179e"
             ],
             [
              0.4444444444444444,
              "#bd3786"
             ],
             [
              0.5555555555555556,
              "#d8576b"
             ],
             [
              0.6666666666666666,
              "#ed7953"
             ],
             [
              0.7777777777777778,
              "#fb9f3a"
             ],
             [
              0.8888888888888888,
              "#fdca26"
             ],
             [
              1,
              "#f0f921"
             ]
            ],
            "type": "histogram2dcontour"
           }
          ],
          "mesh3d": [
           {
            "colorbar": {
             "outlinewidth": 0,
             "ticks": ""
            },
            "type": "mesh3d"
           }
          ],
          "parcoords": [
           {
            "line": {
             "colorbar": {
              "outlinewidth": 0,
              "ticks": ""
             }
            },
            "type": "parcoords"
           }
          ],
          "pie": [
           {
            "automargin": true,
            "type": "pie"
           }
          ],
          "scatter": [
           {
            "marker": {
             "colorbar": {
              "outlinewidth": 0,
              "ticks": ""
             }
            },
            "type": "scatter"
           }
          ],
          "scatter3d": [
           {
            "line": {
             "colorbar": {
              "outlinewidth": 0,
              "ticks": ""
             }
            },
            "marker": {
             "colorbar": {
              "outlinewidth": 0,
              "ticks": ""
             }
            },
            "type": "scatter3d"
           }
          ],
          "scattercarpet": [
           {
            "marker": {
             "colorbar": {
              "outlinewidth": 0,
              "ticks": ""
             }
            },
            "type": "scattercarpet"
           }
          ],
          "scattergeo": [
           {
            "marker": {
             "colorbar": {
              "outlinewidth": 0,
              "ticks": ""
             }
            },
            "type": "scattergeo"
           }
          ],
          "scattergl": [
           {
            "marker": {
             "colorbar": {
              "outlinewidth": 0,
              "ticks": ""
             }
            },
            "type": "scattergl"
           }
          ],
          "scattermapbox": [
           {
            "marker": {
             "colorbar": {
              "outlinewidth": 0,
              "ticks": ""
             }
            },
            "type": "scattermapbox"
           }
          ],
          "scatterpolar": [
           {
            "marker": {
             "colorbar": {
              "outlinewidth": 0,
              "ticks": ""
             }
            },
            "type": "scatterpolar"
           }
          ],
          "scatterpolargl": [
           {
            "marker": {
             "colorbar": {
              "outlinewidth": 0,
              "ticks": ""
             }
            },
            "type": "scatterpolargl"
           }
          ],
          "scatterternary": [
           {
            "marker": {
             "colorbar": {
              "outlinewidth": 0,
              "ticks": ""
             }
            },
            "type": "scatterternary"
           }
          ],
          "surface": [
           {
            "colorbar": {
             "outlinewidth": 0,
             "ticks": ""
            },
            "colorscale": [
             [
              0,
              "#0d0887"
             ],
             [
              0.1111111111111111,
              "#46039f"
             ],
             [
              0.2222222222222222,
              "#7201a8"
             ],
             [
              0.3333333333333333,
              "#9c179e"
             ],
             [
              0.4444444444444444,
              "#bd3786"
             ],
             [
              0.5555555555555556,
              "#d8576b"
             ],
             [
              0.6666666666666666,
              "#ed7953"
             ],
             [
              0.7777777777777778,
              "#fb9f3a"
             ],
             [
              0.8888888888888888,
              "#fdca26"
             ],
             [
              1,
              "#f0f921"
             ]
            ],
            "type": "surface"
           }
          ],
          "table": [
           {
            "cells": {
             "fill": {
              "color": "#EBF0F8"
             },
             "line": {
              "color": "white"
             }
            },
            "header": {
             "fill": {
              "color": "#C8D4E3"
             },
             "line": {
              "color": "white"
             }
            },
            "type": "table"
           }
          ]
         },
         "layout": {
          "annotationdefaults": {
           "arrowcolor": "#2a3f5f",
           "arrowhead": 0,
           "arrowwidth": 1
          },
          "coloraxis": {
           "colorbar": {
            "outlinewidth": 0,
            "ticks": ""
           }
          },
          "colorscale": {
           "diverging": [
            [
             0,
             "#8e0152"
            ],
            [
             0.1,
             "#c51b7d"
            ],
            [
             0.2,
             "#de77ae"
            ],
            [
             0.3,
             "#f1b6da"
            ],
            [
             0.4,
             "#fde0ef"
            ],
            [
             0.5,
             "#f7f7f7"
            ],
            [
             0.6,
             "#e6f5d0"
            ],
            [
             0.7,
             "#b8e186"
            ],
            [
             0.8,
             "#7fbc41"
            ],
            [
             0.9,
             "#4d9221"
            ],
            [
             1,
             "#276419"
            ]
           ],
           "sequential": [
            [
             0,
             "#0d0887"
            ],
            [
             0.1111111111111111,
             "#46039f"
            ],
            [
             0.2222222222222222,
             "#7201a8"
            ],
            [
             0.3333333333333333,
             "#9c179e"
            ],
            [
             0.4444444444444444,
             "#bd3786"
            ],
            [
             0.5555555555555556,
             "#d8576b"
            ],
            [
             0.6666666666666666,
             "#ed7953"
            ],
            [
             0.7777777777777778,
             "#fb9f3a"
            ],
            [
             0.8888888888888888,
             "#fdca26"
            ],
            [
             1,
             "#f0f921"
            ]
           ],
           "sequentialminus": [
            [
             0,
             "#0d0887"
            ],
            [
             0.1111111111111111,
             "#46039f"
            ],
            [
             0.2222222222222222,
             "#7201a8"
            ],
            [
             0.3333333333333333,
             "#9c179e"
            ],
            [
             0.4444444444444444,
             "#bd3786"
            ],
            [
             0.5555555555555556,
             "#d8576b"
            ],
            [
             0.6666666666666666,
             "#ed7953"
            ],
            [
             0.7777777777777778,
             "#fb9f3a"
            ],
            [
             0.8888888888888888,
             "#fdca26"
            ],
            [
             1,
             "#f0f921"
            ]
           ]
          },
          "colorway": [
           "#636efa",
           "#EF553B",
           "#00cc96",
           "#ab63fa",
           "#FFA15A",
           "#19d3f3",
           "#FF6692",
           "#B6E880",
           "#FF97FF",
           "#FECB52"
          ],
          "font": {
           "color": "#2a3f5f"
          },
          "geo": {
           "bgcolor": "white",
           "lakecolor": "white",
           "landcolor": "#E5ECF6",
           "showlakes": true,
           "showland": true,
           "subunitcolor": "white"
          },
          "hoverlabel": {
           "align": "left"
          },
          "hovermode": "closest",
          "mapbox": {
           "style": "light"
          },
          "paper_bgcolor": "white",
          "plot_bgcolor": "#E5ECF6",
          "polar": {
           "angularaxis": {
            "gridcolor": "white",
            "linecolor": "white",
            "ticks": ""
           },
           "bgcolor": "#E5ECF6",
           "radialaxis": {
            "gridcolor": "white",
            "linecolor": "white",
            "ticks": ""
           }
          },
          "scene": {
           "xaxis": {
            "backgroundcolor": "#E5ECF6",
            "gridcolor": "white",
            "gridwidth": 2,
            "linecolor": "white",
            "showbackground": true,
            "ticks": "",
            "zerolinecolor": "white"
           },
           "yaxis": {
            "backgroundcolor": "#E5ECF6",
            "gridcolor": "white",
            "gridwidth": 2,
            "linecolor": "white",
            "showbackground": true,
            "ticks": "",
            "zerolinecolor": "white"
           },
           "zaxis": {
            "backgroundcolor": "#E5ECF6",
            "gridcolor": "white",
            "gridwidth": 2,
            "linecolor": "white",
            "showbackground": true,
            "ticks": "",
            "zerolinecolor": "white"
           }
          },
          "shapedefaults": {
           "line": {
            "color": "#2a3f5f"
           }
          },
          "ternary": {
           "aaxis": {
            "gridcolor": "white",
            "linecolor": "white",
            "ticks": ""
           },
           "baxis": {
            "gridcolor": "white",
            "linecolor": "white",
            "ticks": ""
           },
           "bgcolor": "#E5ECF6",
           "caxis": {
            "gridcolor": "white",
            "linecolor": "white",
            "ticks": ""
           }
          },
          "title": {
           "x": 0.05
          },
          "xaxis": {
           "automargin": true,
           "gridcolor": "white",
           "linecolor": "white",
           "ticks": "",
           "title": {
            "standoff": 15
           },
           "zerolinecolor": "white",
           "zerolinewidth": 2
          },
          "yaxis": {
           "automargin": true,
           "gridcolor": "white",
           "linecolor": "white",
           "ticks": "",
           "title": {
            "standoff": 15
           },
           "zerolinecolor": "white",
           "zerolinewidth": 2
          }
         }
        },
        "title": {
         "font": {
          "color": "#4D5663"
         }
        },
        "xaxis": {
         "gridcolor": "#E1E5ED",
         "showgrid": true,
         "tickfont": {
          "color": "#4D5663"
         },
         "title": {
          "font": {
           "color": "#4D5663"
          },
          "text": ""
         },
         "zerolinecolor": "#E1E5ED"
        },
        "yaxis": {
         "gridcolor": "#E1E5ED",
         "showgrid": true,
         "tickfont": {
          "color": "#4D5663"
         },
         "title": {
          "font": {
           "color": "#4D5663"
          },
          "text": ""
         },
         "zerolinecolor": "#E1E5ED"
        }
       }
      },
      "text/html": [
       "<div>                            <div id=\"72ab8cbf-b4bb-4f1c-88ed-2275db409203\" class=\"plotly-graph-div\" style=\"height:525px; width:100%;\"></div>            <script type=\"text/javascript\">                require([\"plotly\"], function(Plotly) {                    window.PLOTLYENV=window.PLOTLYENV || {};\n",
       "                    window.PLOTLYENV.BASE_URL='https://plot.ly';                                    if (document.getElementById(\"72ab8cbf-b4bb-4f1c-88ed-2275db409203\")) {                    Plotly.newPlot(                        \"72ab8cbf-b4bb-4f1c-88ed-2275db409203\",                        [{\"marker\": {\"color\": [\"rgb(255, 153, 51)\", \"rgb(55, 128, 191)\", \"rgb(50, 171, 96)\", \"rgb(128, 0, 128)\", \"rgb(219, 64, 82)\", \"rgb(0, 128, 128)\", \"rgb(255, 255, 51)\", \"rgb(128, 128, 0)\", \"rgb(251, 128, 114)\", \"rgb(128, 177, 211)\"], \"line\": {\"width\": 1.3}, \"size\": [53, 74, 105, 17, 18, 76, 42, 37, 60, 77, 80, 83, 69, 56, 75, 74, 58, 43, 68, 84, 78, 54, 62, 62, 45, 47, 82, 70, 74, 55, 74, 59, 97, 73, 70, 92, 39, 29, 94, 71, 52, 65, 60, 20, 76, 89, 72, 63, 101, 25, 97, 83, 39, 82, 62, 63, 76, 56, 32, 12, 33, 51, 46, 46, 69, 33, 34, 101, 21, 40, 81, 55, 41, 49, 59, 53, 77, 54, 56, 76, 13, 51, 25, 35, 55, 102, 62, 46, 45, 83, 79, 20, 47, 112, 51, 84, 35, 90, 79, 90], \"symbol\": \"circle\"}, \"mode\": \"markers\", \"text\": \"\", \"type\": \"scatter\", \"x\": [-0.39918119580901057, 0.7418621453466906, -0.4313355775472436, 0.3355224667718379, -0.7151869915905287, 0.145668325550864, 0.15591577298259662, 0.016226263834492997, 0.4605683837845119, -1.4139591642678533, -3.346775721169021, -1.2159667506526999, 0.5809608144629882, -0.26283320353488304, 1.2113580317867414, -0.4415756722746691, 2.2884194084433775, 1.0557466676734149, -1.442826254773536, -0.8063709415927582, 0.922383051818235, -0.3878906835859324, 0.025967017018530797, 0.6044282595635964, -0.7065329352842874, 0.9150675435000666, 0.18735127393393106, -0.2845605758953672, -0.09322552030780629, -0.1639557134477811, 0.156542641123135, -0.9341454884535909, -1.1960968243851422, -0.7420113595879909, -1.1231115173825923, -0.06575340563803043, -1.2314451894847818, -0.7004696413846199, 0.2750929324690308, 0.7915002131579784, -1.1253744106107293, 0.5712846346931809, -1.7280218331388324, 0.36865239908201825, -1.0668871446136439, -0.9061338046467238, -1.037945002921429, -0.5578754042788866, 0.14708542676641603, 0.8746134766485341, -0.36276225986481275, 0.12243563569516946, -0.05854080893376823, 1.162186833598004, -1.104489545096553, -0.26487716168614467, -0.05463255455270555, 1.495963991909491, 1.4742509865754625, 0.8390497854946452, 0.5108072739104828, -0.29675905041248607, 0.4317219076292566, 0.7526597856998946, -1.2662095357984315, -0.20809051371739795, -1.4334480138884427, 0.41521475437323424, -0.3681440922719436, -0.4974530040747305, 0.332517930744042, 0.1235890800313146, 0.5909382100815366, -1.0065808800216673, -0.6822563665823921, 1.1077016925230518, 0.07703396073766987, 0.42953692998520493, 0.7592976638295739, -0.8805787003240935, 1.5490488597669556, -0.2766809050067881, 0.7018174178549077, 0.1314637920120881, -0.40257295954386835, -0.6849120108591445, -0.8530469126783897, -0.8710488904466427, -0.40143057082221745, 0.5753943378178665, 0.5232222120203804, -0.22675126963357795, -1.0348115402137625, -0.026371322901696262, 0.7374597636331084, 0.23308846902896885, -0.4367113468497734, 0.5978251807763769, 0.6581567165919348, 1.600974778682548], \"y\": [2.2070461301559066, -0.788131612862357, -0.10784315640253468, -0.04044160801371967, -2.2896748695933327, 1.3429392443285344, 1.4865555779792607, 0.3659741914873344, -0.7892499216942237, 0.1141250947886066, -0.6139977202850474, 0.037322520254553855, 0.29142557618426357, 0.4113345097957159, 1.4192964679111584, 0.36923408302610705, 0.48399864965340045, 0.6079126562865081, -0.7977858369497093, -0.6119403421986435, 0.13146439326926732, 0.08725012491665272, 0.09456009132885217, -2.190707420460496, 1.12562920670872, -0.6839747581993745, 0.3115134349504725, 1.4492612304178427, 0.06999200823006771, -0.38800767411587783, -0.46598508418374707, -2.181197442663968, -1.0956797599610515, -0.9553121956681996, 0.42403097594459715, -1.6558545434866523, -1.3819798723174677, 1.6854462250364648, 0.732890145241412, -1.3374766327934853, -0.3260739282800016, 1.6637557322566037, -0.8409746644861881, -1.4111517724895952, -0.5393254688380885, 0.8754720938686266, 0.9997351757559365, -0.049471515590174334, 0.19908149523353075, 0.6249144899716452, -0.13465543056006563, -0.7161254082218936, 0.907665817980667, -1.0156398903308865, 0.07345276778828155, -1.730105693139972, -1.2104401316439815, -0.42246282382447614, 1.223087721057286, 0.25051121377375185, -0.11663617757627032, 0.25283529945234606, 1.2536411501995246, -0.8608597145861724, 0.06555619946573002, 1.1958308271299294, -1.3876026390431448, 0.0442082545566528, -1.341362716407108, 1.1968678848787968, 0.9087380738655427, 1.5555799622636919, 0.9353902928609358, 0.5473797210703165, 0.7084174573200912, -0.3698724043916409, -0.21573080837183653, 0.1359526800212306, 0.15906429779288436, -0.5540236467037417, -0.3414189576302107, -0.2718414423436621, -0.4666969220684351, -1.076680135465115, 1.6120850281316867, 0.4812952929193751, -1.9705129259249963, 0.31105314049038896, 0.9222631715288385, 1.4576098663395574, 0.09972461282505903, 0.10840621208454, 0.7745676451840312, 0.4074215942586728, 0.2725750104410174, 0.39225261140363143, -2.3594286944335656, -0.22987691975601063, -0.10824276280124188, -0.7045627207862724]}],                        {\"legend\": {\"bgcolor\": \"#F5F6F9\", \"font\": {\"color\": \"#4D5663\"}}, \"paper_bgcolor\": \"#F5F6F9\", \"plot_bgcolor\": \"#F5F6F9\", \"template\": {\"data\": {\"bar\": [{\"error_x\": {\"color\": \"#2a3f5f\"}, \"error_y\": {\"color\": \"#2a3f5f\"}, \"marker\": {\"line\": {\"color\": \"#E5ECF6\", \"width\": 0.5}}, \"type\": \"bar\"}], \"barpolar\": [{\"marker\": {\"line\": {\"color\": \"#E5ECF6\", \"width\": 0.5}}, \"type\": \"barpolar\"}], \"carpet\": [{\"aaxis\": {\"endlinecolor\": \"#2a3f5f\", \"gridcolor\": \"white\", \"linecolor\": \"white\", \"minorgridcolor\": \"white\", \"startlinecolor\": \"#2a3f5f\"}, \"baxis\": {\"endlinecolor\": \"#2a3f5f\", \"gridcolor\": \"white\", \"linecolor\": \"white\", \"minorgridcolor\": \"white\", \"startlinecolor\": \"#2a3f5f\"}, \"type\": \"carpet\"}], \"choropleth\": [{\"colorbar\": {\"outlinewidth\": 0, \"ticks\": \"\"}, \"type\": \"choropleth\"}], \"contour\": [{\"colorbar\": {\"outlinewidth\": 0, \"ticks\": \"\"}, \"colorscale\": [[0.0, \"#0d0887\"], [0.1111111111111111, \"#46039f\"], [0.2222222222222222, \"#7201a8\"], [0.3333333333333333, \"#9c179e\"], [0.4444444444444444, \"#bd3786\"], [0.5555555555555556, \"#d8576b\"], [0.6666666666666666, \"#ed7953\"], [0.7777777777777778, \"#fb9f3a\"], [0.8888888888888888, \"#fdca26\"], [1.0, \"#f0f921\"]], \"type\": \"contour\"}], \"contourcarpet\": [{\"colorbar\": {\"outlinewidth\": 0, \"ticks\": \"\"}, \"type\": \"contourcarpet\"}], \"heatmap\": [{\"colorbar\": {\"outlinewidth\": 0, \"ticks\": \"\"}, \"colorscale\": [[0.0, \"#0d0887\"], [0.1111111111111111, \"#46039f\"], [0.2222222222222222, \"#7201a8\"], [0.3333333333333333, \"#9c179e\"], [0.4444444444444444, \"#bd3786\"], [0.5555555555555556, \"#d8576b\"], [0.6666666666666666, \"#ed7953\"], [0.7777777777777778, \"#fb9f3a\"], [0.8888888888888888, \"#fdca26\"], [1.0, \"#f0f921\"]], \"type\": \"heatmap\"}], \"heatmapgl\": [{\"colorbar\": {\"outlinewidth\": 0, \"ticks\": \"\"}, \"colorscale\": [[0.0, \"#0d0887\"], [0.1111111111111111, \"#46039f\"], [0.2222222222222222, \"#7201a8\"], [0.3333333333333333, \"#9c179e\"], [0.4444444444444444, \"#bd3786\"], [0.5555555555555556, \"#d8576b\"], [0.6666666666666666, \"#ed7953\"], [0.7777777777777778, \"#fb9f3a\"], [0.8888888888888888, \"#fdca26\"], [1.0, \"#f0f921\"]], \"type\": \"heatmapgl\"}], \"histogram\": [{\"marker\": {\"colorbar\": {\"outlinewidth\": 0, \"ticks\": \"\"}}, \"type\": \"histogram\"}], \"histogram2d\": [{\"colorbar\": {\"outlinewidth\": 0, \"ticks\": \"\"}, \"colorscale\": [[0.0, \"#0d0887\"], [0.1111111111111111, \"#46039f\"], [0.2222222222222222, \"#7201a8\"], [0.3333333333333333, \"#9c179e\"], [0.4444444444444444, \"#bd3786\"], [0.5555555555555556, \"#d8576b\"], [0.6666666666666666, \"#ed7953\"], [0.7777777777777778, \"#fb9f3a\"], [0.8888888888888888, \"#fdca26\"], [1.0, \"#f0f921\"]], \"type\": \"histogram2d\"}], \"histogram2dcontour\": [{\"colorbar\": {\"outlinewidth\": 0, \"ticks\": \"\"}, \"colorscale\": [[0.0, \"#0d0887\"], [0.1111111111111111, \"#46039f\"], [0.2222222222222222, \"#7201a8\"], [0.3333333333333333, \"#9c179e\"], [0.4444444444444444, \"#bd3786\"], [0.5555555555555556, \"#d8576b\"], [0.6666666666666666, \"#ed7953\"], [0.7777777777777778, \"#fb9f3a\"], [0.8888888888888888, \"#fdca26\"], [1.0, \"#f0f921\"]], \"type\": \"histogram2dcontour\"}], \"mesh3d\": [{\"colorbar\": {\"outlinewidth\": 0, \"ticks\": \"\"}, \"type\": \"mesh3d\"}], \"parcoords\": [{\"line\": {\"colorbar\": {\"outlinewidth\": 0, \"ticks\": \"\"}}, \"type\": \"parcoords\"}], \"pie\": [{\"automargin\": true, \"type\": \"pie\"}], \"scatter\": [{\"marker\": {\"colorbar\": {\"outlinewidth\": 0, \"ticks\": \"\"}}, \"type\": \"scatter\"}], \"scatter3d\": [{\"line\": {\"colorbar\": {\"outlinewidth\": 0, \"ticks\": \"\"}}, \"marker\": {\"colorbar\": {\"outlinewidth\": 0, \"ticks\": \"\"}}, \"type\": \"scatter3d\"}], \"scattercarpet\": [{\"marker\": {\"colorbar\": {\"outlinewidth\": 0, \"ticks\": \"\"}}, \"type\": \"scattercarpet\"}], \"scattergeo\": [{\"marker\": {\"colorbar\": {\"outlinewidth\": 0, \"ticks\": \"\"}}, \"type\": \"scattergeo\"}], \"scattergl\": [{\"marker\": {\"colorbar\": {\"outlinewidth\": 0, \"ticks\": \"\"}}, \"type\": \"scattergl\"}], \"scattermapbox\": [{\"marker\": {\"colorbar\": {\"outlinewidth\": 0, \"ticks\": \"\"}}, \"type\": \"scattermapbox\"}], \"scatterpolar\": [{\"marker\": {\"colorbar\": {\"outlinewidth\": 0, \"ticks\": \"\"}}, \"type\": \"scatterpolar\"}], \"scatterpolargl\": [{\"marker\": {\"colorbar\": {\"outlinewidth\": 0, \"ticks\": \"\"}}, \"type\": \"scatterpolargl\"}], \"scatterternary\": [{\"marker\": {\"colorbar\": {\"outlinewidth\": 0, \"ticks\": \"\"}}, \"type\": \"scatterternary\"}], \"surface\": [{\"colorbar\": {\"outlinewidth\": 0, \"ticks\": \"\"}, \"colorscale\": [[0.0, \"#0d0887\"], [0.1111111111111111, \"#46039f\"], [0.2222222222222222, \"#7201a8\"], [0.3333333333333333, \"#9c179e\"], [0.4444444444444444, \"#bd3786\"], [0.5555555555555556, \"#d8576b\"], [0.6666666666666666, \"#ed7953\"], [0.7777777777777778, \"#fb9f3a\"], [0.8888888888888888, \"#fdca26\"], [1.0, \"#f0f921\"]], \"type\": \"surface\"}], \"table\": [{\"cells\": {\"fill\": {\"color\": \"#EBF0F8\"}, \"line\": {\"color\": \"white\"}}, \"header\": {\"fill\": {\"color\": \"#C8D4E3\"}, \"line\": {\"color\": \"white\"}}, \"type\": \"table\"}]}, \"layout\": {\"annotationdefaults\": {\"arrowcolor\": \"#2a3f5f\", \"arrowhead\": 0, \"arrowwidth\": 1}, \"coloraxis\": {\"colorbar\": {\"outlinewidth\": 0, \"ticks\": \"\"}}, \"colorscale\": {\"diverging\": [[0, \"#8e0152\"], [0.1, \"#c51b7d\"], [0.2, \"#de77ae\"], [0.3, \"#f1b6da\"], [0.4, \"#fde0ef\"], [0.5, \"#f7f7f7\"], [0.6, \"#e6f5d0\"], [0.7, \"#b8e186\"], [0.8, \"#7fbc41\"], [0.9, \"#4d9221\"], [1, \"#276419\"]], \"sequential\": [[0.0, \"#0d0887\"], [0.1111111111111111, \"#46039f\"], [0.2222222222222222, \"#7201a8\"], [0.3333333333333333, \"#9c179e\"], [0.4444444444444444, \"#bd3786\"], [0.5555555555555556, \"#d8576b\"], [0.6666666666666666, \"#ed7953\"], [0.7777777777777778, \"#fb9f3a\"], [0.8888888888888888, \"#fdca26\"], [1.0, \"#f0f921\"]], \"sequentialminus\": [[0.0, \"#0d0887\"], [0.1111111111111111, \"#46039f\"], [0.2222222222222222, \"#7201a8\"], [0.3333333333333333, \"#9c179e\"], [0.4444444444444444, \"#bd3786\"], [0.5555555555555556, \"#d8576b\"], [0.6666666666666666, \"#ed7953\"], [0.7777777777777778, \"#fb9f3a\"], [0.8888888888888888, \"#fdca26\"], [1.0, \"#f0f921\"]]}, \"colorway\": [\"#636efa\", \"#EF553B\", \"#00cc96\", \"#ab63fa\", \"#FFA15A\", \"#19d3f3\", \"#FF6692\", \"#B6E880\", \"#FF97FF\", \"#FECB52\"], \"font\": {\"color\": \"#2a3f5f\"}, \"geo\": {\"bgcolor\": \"white\", \"lakecolor\": \"white\", \"landcolor\": \"#E5ECF6\", \"showlakes\": true, \"showland\": true, \"subunitcolor\": \"white\"}, \"hoverlabel\": {\"align\": \"left\"}, \"hovermode\": \"closest\", \"mapbox\": {\"style\": \"light\"}, \"paper_bgcolor\": \"white\", \"plot_bgcolor\": \"#E5ECF6\", \"polar\": {\"angularaxis\": {\"gridcolor\": \"white\", \"linecolor\": \"white\", \"ticks\": \"\"}, \"bgcolor\": \"#E5ECF6\", \"radialaxis\": {\"gridcolor\": \"white\", \"linecolor\": \"white\", \"ticks\": \"\"}}, \"scene\": {\"xaxis\": {\"backgroundcolor\": \"#E5ECF6\", \"gridcolor\": \"white\", \"gridwidth\": 2, \"linecolor\": \"white\", \"showbackground\": true, \"ticks\": \"\", \"zerolinecolor\": \"white\"}, \"yaxis\": {\"backgroundcolor\": \"#E5ECF6\", \"gridcolor\": \"white\", \"gridwidth\": 2, \"linecolor\": \"white\", \"showbackground\": true, \"ticks\": \"\", \"zerolinecolor\": \"white\"}, \"zaxis\": {\"backgroundcolor\": \"#E5ECF6\", \"gridcolor\": \"white\", \"gridwidth\": 2, \"linecolor\": \"white\", \"showbackground\": true, \"ticks\": \"\", \"zerolinecolor\": \"white\"}}, \"shapedefaults\": {\"line\": {\"color\": \"#2a3f5f\"}}, \"ternary\": {\"aaxis\": {\"gridcolor\": \"white\", \"linecolor\": \"white\", \"ticks\": \"\"}, \"baxis\": {\"gridcolor\": \"white\", \"linecolor\": \"white\", \"ticks\": \"\"}, \"bgcolor\": \"#E5ECF6\", \"caxis\": {\"gridcolor\": \"white\", \"linecolor\": \"white\", \"ticks\": \"\"}}, \"title\": {\"x\": 0.05}, \"xaxis\": {\"automargin\": true, \"gridcolor\": \"white\", \"linecolor\": \"white\", \"ticks\": \"\", \"title\": {\"standoff\": 15}, \"zerolinecolor\": \"white\", \"zerolinewidth\": 2}, \"yaxis\": {\"automargin\": true, \"gridcolor\": \"white\", \"linecolor\": \"white\", \"ticks\": \"\", \"title\": {\"standoff\": 15}, \"zerolinecolor\": \"white\", \"zerolinewidth\": 2}}}, \"title\": {\"font\": {\"color\": \"#4D5663\"}}, \"xaxis\": {\"gridcolor\": \"#E1E5ED\", \"showgrid\": true, \"tickfont\": {\"color\": \"#4D5663\"}, \"title\": {\"font\": {\"color\": \"#4D5663\"}, \"text\": \"\"}, \"zerolinecolor\": \"#E1E5ED\"}, \"yaxis\": {\"gridcolor\": \"#E1E5ED\", \"showgrid\": true, \"tickfont\": {\"color\": \"#4D5663\"}, \"title\": {\"font\": {\"color\": \"#4D5663\"}, \"text\": \"\"}, \"zerolinecolor\": \"#E1E5ED\"}},                        {\"showLink\": true, \"linkText\": \"Export to plot.ly\", \"plotlyServerURL\": \"https://plot.ly\", \"responsive\": true}                    ).then(function(){\n",
       "                            \n",
       "var gd = document.getElementById('72ab8cbf-b4bb-4f1c-88ed-2275db409203');\n",
       "var x = new MutationObserver(function (mutations, observer) {{\n",
       "        var display = window.getComputedStyle(gd).display;\n",
       "        if (!display || display === 'none') {{\n",
       "            console.log([gd, 'removed!']);\n",
       "            Plotly.purge(gd);\n",
       "            observer.disconnect();\n",
       "        }}\n",
       "}});\n",
       "\n",
       "// Listen for the removal of the full notebook cells\n",
       "var notebookContainer = gd.closest('#notebook-container');\n",
       "if (notebookContainer) {{\n",
       "    x.observe(notebookContainer, {childList: true});\n",
       "}}\n",
       "\n",
       "// Listen for the clearing of the current output cell\n",
       "var outputEl = gd.closest('.output');\n",
       "if (outputEl) {{\n",
       "    x.observe(outputEl, {childList: true});\n",
       "}}\n",
       "\n",
       "                        })                };                });            </script>        </div>"
      ]
     },
     "metadata": {},
     "output_type": "display_data"
    }
   ],
   "source": [
    "df.iplot(kind='bubble', x='A', y='B', size='C')"
   ]
  },
  {
   "cell_type": "code",
   "execution_count": 25,
   "metadata": {},
   "outputs": [
    {
     "data": {
      "application/vnd.plotly.v1+json": {
       "config": {
        "linkText": "Export to plot.ly",
        "plotlyServerURL": "https://plot.ly",
        "showLink": true
       },
       "data": [
        {
         "histfunc": "count",
         "histnorm": "",
         "marker": {
          "color": "rgba(255, 153, 51, 1.0)",
          "line": {
           "color": "#4D5663",
           "width": 1.3
          }
         },
         "name": "A",
         "nbinsx": 10,
         "opacity": 0.8,
         "orientation": "v",
         "type": "histogram",
         "x": [
          -0.39918119580901057,
          0.7418621453466906,
          -0.4313355775472436,
          0.3355224667718379,
          -0.7151869915905287,
          0.145668325550864,
          0.15591577298259662,
          0.016226263834492997,
          0.4605683837845119,
          -1.4139591642678533,
          -3.346775721169021,
          -1.2159667506526999,
          0.5809608144629882,
          -0.26283320353488304,
          1.2113580317867414,
          -0.4415756722746691,
          2.2884194084433775,
          1.0557466676734149,
          -1.442826254773536,
          -0.8063709415927582,
          0.922383051818235,
          -0.3878906835859324,
          0.025967017018530797,
          0.6044282595635964,
          -0.7065329352842874,
          0.9150675435000666,
          0.18735127393393106,
          -0.2845605758953672,
          -0.09322552030780629,
          -0.1639557134477811,
          0.156542641123135,
          -0.9341454884535909,
          -1.1960968243851422,
          -0.7420113595879909,
          -1.1231115173825923,
          -0.06575340563803043,
          -1.2314451894847818,
          -0.7004696413846199,
          0.2750929324690308,
          0.7915002131579784,
          -1.1253744106107293,
          0.5712846346931809,
          -1.7280218331388324,
          0.36865239908201825,
          -1.0668871446136439,
          -0.9061338046467238,
          -1.037945002921429,
          -0.5578754042788866,
          0.14708542676641603,
          0.8746134766485341,
          -0.36276225986481275,
          0.12243563569516946,
          -0.05854080893376823,
          1.162186833598004,
          -1.104489545096553,
          -0.26487716168614467,
          -0.05463255455270555,
          1.495963991909491,
          1.4742509865754625,
          0.8390497854946452,
          0.5108072739104828,
          -0.29675905041248607,
          0.4317219076292566,
          0.7526597856998946,
          -1.2662095357984315,
          -0.20809051371739795,
          -1.4334480138884427,
          0.41521475437323424,
          -0.3681440922719436,
          -0.4974530040747305,
          0.332517930744042,
          0.1235890800313146,
          0.5909382100815366,
          -1.0065808800216673,
          -0.6822563665823921,
          1.1077016925230518,
          0.07703396073766987,
          0.42953692998520493,
          0.7592976638295739,
          -0.8805787003240935,
          1.5490488597669556,
          -0.2766809050067881,
          0.7018174178549077,
          0.1314637920120881,
          -0.40257295954386835,
          -0.6849120108591445,
          -0.8530469126783897,
          -0.8710488904466427,
          -0.40143057082221745,
          0.5753943378178665,
          0.5232222120203804,
          -0.22675126963357795,
          -1.0348115402137625,
          -0.026371322901696262,
          0.7374597636331084,
          0.23308846902896885,
          -0.4367113468497734,
          0.5978251807763769,
          0.6581567165919348,
          1.600974778682548
         ],
         "xaxis": "x",
         "yaxis": "y"
        },
        {
         "line": {
          "color": "rgba(128, 128, 128, 1.0)",
          "dash": "solid",
          "shape": "linear",
          "width": 1.3
         },
         "marker": {
          "size": 2,
          "symbol": "circle"
         },
         "mode": "markers",
         "name": "A",
         "text": "",
         "type": "scatter",
         "x": [
          2.2070461301559066,
          -0.788131612862357,
          -0.10784315640253468,
          -0.04044160801371967,
          -2.2896748695933327,
          1.3429392443285344,
          1.4865555779792607,
          0.3659741914873344,
          -0.7892499216942237,
          0.1141250947886066,
          -0.6139977202850474,
          0.037322520254553855,
          0.29142557618426357,
          0.4113345097957159,
          1.4192964679111584,
          0.36923408302610705,
          0.48399864965340045,
          0.6079126562865081,
          -0.7977858369497093,
          -0.6119403421986435,
          0.13146439326926732,
          0.08725012491665272,
          0.09456009132885217,
          -2.190707420460496,
          1.12562920670872,
          -0.6839747581993745,
          0.3115134349504725,
          1.4492612304178427,
          0.06999200823006771,
          -0.38800767411587783,
          -0.46598508418374707,
          -2.181197442663968,
          -1.0956797599610515,
          -0.9553121956681996,
          0.42403097594459715,
          -1.6558545434866523,
          -1.3819798723174677,
          1.6854462250364648,
          0.732890145241412,
          -1.3374766327934853,
          -0.3260739282800016,
          1.6637557322566037,
          -0.8409746644861881,
          -1.4111517724895952,
          -0.5393254688380885,
          0.8754720938686266,
          0.9997351757559365,
          -0.049471515590174334,
          0.19908149523353075,
          0.6249144899716452,
          -0.13465543056006563,
          -0.7161254082218936,
          0.907665817980667,
          -1.0156398903308865,
          0.07345276778828155,
          -1.730105693139972,
          -1.2104401316439815,
          -0.42246282382447614,
          1.223087721057286,
          0.25051121377375185,
          -0.11663617757627032,
          0.25283529945234606,
          1.2536411501995246,
          -0.8608597145861724,
          0.06555619946573002,
          1.1958308271299294,
          -1.3876026390431448,
          0.0442082545566528,
          -1.341362716407108,
          1.1968678848787968,
          0.9087380738655427,
          1.5555799622636919,
          0.9353902928609358,
          0.5473797210703165,
          0.7084174573200912,
          -0.3698724043916409,
          -0.21573080837183653,
          0.1359526800212306,
          0.15906429779288436,
          -0.5540236467037417,
          -0.3414189576302107,
          -0.2718414423436621,
          -0.4666969220684351,
          -1.076680135465115,
          1.6120850281316867,
          0.4812952929193751,
          -1.9705129259249963,
          0.31105314049038896,
          0.9222631715288385,
          1.4576098663395574,
          0.09972461282505903,
          0.10840621208454,
          0.7745676451840312,
          0.4074215942586728,
          0.2725750104410174,
          0.39225261140363143,
          -2.3594286944335656,
          -0.22987691975601063,
          -0.10824276280124188,
          -0.7045627207862724
         ],
         "xaxis": "x2",
         "y": [
          -0.39918119580901057,
          0.7418621453466906,
          -0.4313355775472436,
          0.3355224667718379,
          -0.7151869915905287,
          0.145668325550864,
          0.15591577298259662,
          0.016226263834492997,
          0.4605683837845119,
          -1.4139591642678533,
          -3.346775721169021,
          -1.2159667506526999,
          0.5809608144629882,
          -0.26283320353488304,
          1.2113580317867414,
          -0.4415756722746691,
          2.2884194084433775,
          1.0557466676734149,
          -1.442826254773536,
          -0.8063709415927582,
          0.922383051818235,
          -0.3878906835859324,
          0.025967017018530797,
          0.6044282595635964,
          -0.7065329352842874,
          0.9150675435000666,
          0.18735127393393106,
          -0.2845605758953672,
          -0.09322552030780629,
          -0.1639557134477811,
          0.156542641123135,
          -0.9341454884535909,
          -1.1960968243851422,
          -0.7420113595879909,
          -1.1231115173825923,
          -0.06575340563803043,
          -1.2314451894847818,
          -0.7004696413846199,
          0.2750929324690308,
          0.7915002131579784,
          -1.1253744106107293,
          0.5712846346931809,
          -1.7280218331388324,
          0.36865239908201825,
          -1.0668871446136439,
          -0.9061338046467238,
          -1.037945002921429,
          -0.5578754042788866,
          0.14708542676641603,
          0.8746134766485341,
          -0.36276225986481275,
          0.12243563569516946,
          -0.05854080893376823,
          1.162186833598004,
          -1.104489545096553,
          -0.26487716168614467,
          -0.05463255455270555,
          1.495963991909491,
          1.4742509865754625,
          0.8390497854946452,
          0.5108072739104828,
          -0.29675905041248607,
          0.4317219076292566,
          0.7526597856998946,
          -1.2662095357984315,
          -0.20809051371739795,
          -1.4334480138884427,
          0.41521475437323424,
          -0.3681440922719436,
          -0.4974530040747305,
          0.332517930744042,
          0.1235890800313146,
          0.5909382100815366,
          -1.0065808800216673,
          -0.6822563665823921,
          1.1077016925230518,
          0.07703396073766987,
          0.42953692998520493,
          0.7592976638295739,
          -0.8805787003240935,
          1.5490488597669556,
          -0.2766809050067881,
          0.7018174178549077,
          0.1314637920120881,
          -0.40257295954386835,
          -0.6849120108591445,
          -0.8530469126783897,
          -0.8710488904466427,
          -0.40143057082221745,
          0.5753943378178665,
          0.5232222120203804,
          -0.22675126963357795,
          -1.0348115402137625,
          -0.026371322901696262,
          0.7374597636331084,
          0.23308846902896885,
          -0.4367113468497734,
          0.5978251807763769,
          0.6581567165919348,
          1.600974778682548
         ],
         "yaxis": "y2"
        },
        {
         "line": {
          "color": "rgba(128, 128, 128, 1.0)",
          "dash": "solid",
          "shape": "linear",
          "width": 1.3
         },
         "marker": {
          "size": 2,
          "symbol": "circle"
         },
         "mode": "markers",
         "name": "A",
         "text": "",
         "type": "scatter",
         "x": [
          -0.6384635434448434,
          0.20129141961750233,
          1.4455203111308286,
          -2.047290855826421,
          -2.029950571478503,
          0.29635493029587623,
          -1.0690424023584588,
          -1.2637584431139288,
          -0.3614137588757708,
          0.32950204350421197,
          0.42846767886560316,
          0.5601788272810735,
          -0.0017168075576362444,
          -0.4972131141137663,
          0.25457364680471645,
          0.2137456547519348,
          -0.4403021838963106,
          -1.0315565236333366,
          -0.023894730689849437,
          0.5924047035997578,
          0.35942749772259,
          -0.6066457895243129,
          -0.2582454921550214,
          -0.26621451459259154,
          -0.9573050494162388,
          -0.8706096263812089,
          0.5102967350809852,
          0.04320071844350394,
          0.19323022101942358,
          -0.5600387594048482,
          0.20515073678384357,
          -0.38367430459649504,
          1.1030134451203024,
          0.17577903989255617,
          0.05909350588535493,
          0.9060438420963102,
          -1.176374199231999,
          -1.6070486970361355,
          1.0184887224199144,
          0.0719696391996265,
          -0.6869826904235876,
          -0.16460152728129593,
          -0.35243474239572575,
          -1.9430458105049733,
          0.2933875677142585,
          0.8147781673269966,
          0.1345823636843486,
          -0.24262686906277547,
          1.2900084062266597,
          -1.742193371249046,
          1.1275374880419575,
          0.576888577525062,
          -1.1794518032333612,
          0.5181270969759182,
          -0.28574157279352047,
          -0.22175649553356597,
          0.2813332139097955,
          -0.5233650816443627,
          -1.4848214871943564,
          -2.2858417656552925,
          -1.4303439360899257,
          -0.7204253348743646,
          -0.9294079819027545,
          -0.9257964005341828,
          0.01871365692644488,
          -1.4190258893838466,
          -1.3911593844039067,
          1.284936979432578,
          -1.917648055426853,
          -1.1439162262493472,
          0.4660789865538819,
          -0.5618536694903467,
          -1.1217661119240674,
          -0.7830955152004814,
          -0.3964975240873266,
          -0.6468406852173031,
          0.34229290137010937,
          -0.5813133729108274,
          -0.525986127539155,
          0.2772442085639978,
          -2.236687488425607,
          -0.7242269897500356,
          -1.737558828333686,
          -1.3565212899183334,
          -0.549044918185219,
          1.3069133552484964,
          -0.2903838593639379,
          -0.8920967004629824,
          -0.9345202102475368,
          0.5497897959314942,
          0.42105714373918907,
          -1.937703571631979,
          -0.871566785049873,
          1.7004145299257194,
          -0.707844864137198,
          0.6009239704775721,
          -1.3318353999603316,
          0.8486676862766808,
          0.4039525974905113,
          0.8514364200361985
         ],
         "xaxis": "x3",
         "y": [
          -0.39918119580901057,
          0.7418621453466906,
          -0.4313355775472436,
          0.3355224667718379,
          -0.7151869915905287,
          0.145668325550864,
          0.15591577298259662,
          0.016226263834492997,
          0.4605683837845119,
          -1.4139591642678533,
          -3.346775721169021,
          -1.2159667506526999,
          0.5809608144629882,
          -0.26283320353488304,
          1.2113580317867414,
          -0.4415756722746691,
          2.2884194084433775,
          1.0557466676734149,
          -1.442826254773536,
          -0.8063709415927582,
          0.922383051818235,
          -0.3878906835859324,
          0.025967017018530797,
          0.6044282595635964,
          -0.7065329352842874,
          0.9150675435000666,
          0.18735127393393106,
          -0.2845605758953672,
          -0.09322552030780629,
          -0.1639557134477811,
          0.156542641123135,
          -0.9341454884535909,
          -1.1960968243851422,
          -0.7420113595879909,
          -1.1231115173825923,
          -0.06575340563803043,
          -1.2314451894847818,
          -0.7004696413846199,
          0.2750929324690308,
          0.7915002131579784,
          -1.1253744106107293,
          0.5712846346931809,
          -1.7280218331388324,
          0.36865239908201825,
          -1.0668871446136439,
          -0.9061338046467238,
          -1.037945002921429,
          -0.5578754042788866,
          0.14708542676641603,
          0.8746134766485341,
          -0.36276225986481275,
          0.12243563569516946,
          -0.05854080893376823,
          1.162186833598004,
          -1.104489545096553,
          -0.26487716168614467,
          -0.05463255455270555,
          1.495963991909491,
          1.4742509865754625,
          0.8390497854946452,
          0.5108072739104828,
          -0.29675905041248607,
          0.4317219076292566,
          0.7526597856998946,
          -1.2662095357984315,
          -0.20809051371739795,
          -1.4334480138884427,
          0.41521475437323424,
          -0.3681440922719436,
          -0.4974530040747305,
          0.332517930744042,
          0.1235890800313146,
          0.5909382100815366,
          -1.0065808800216673,
          -0.6822563665823921,
          1.1077016925230518,
          0.07703396073766987,
          0.42953692998520493,
          0.7592976638295739,
          -0.8805787003240935,
          1.5490488597669556,
          -0.2766809050067881,
          0.7018174178549077,
          0.1314637920120881,
          -0.40257295954386835,
          -0.6849120108591445,
          -0.8530469126783897,
          -0.8710488904466427,
          -0.40143057082221745,
          0.5753943378178665,
          0.5232222120203804,
          -0.22675126963357795,
          -1.0348115402137625,
          -0.026371322901696262,
          0.7374597636331084,
          0.23308846902896885,
          -0.4367113468497734,
          0.5978251807763769,
          0.6581567165919348,
          1.600974778682548
         ],
         "yaxis": "y3"
        },
        {
         "line": {
          "color": "rgba(128, 128, 128, 1.0)",
          "dash": "solid",
          "shape": "linear",
          "width": 1.3
         },
         "marker": {
          "size": 2,
          "symbol": "circle"
         },
         "mode": "markers",
         "name": "A",
         "text": "",
         "type": "scatter",
         "x": [
          0.4402792313594633,
          -2.231875219530463,
          0.506085790169927,
          0.3739216457196463,
          0.5581079001710428,
          0.4274038505191474,
          0.3798748753703595,
          -1.448309773483199,
          -0.26478675575818633,
          -1.5492527548137627,
          -1.5203405467799962,
          0.29671073239926654,
          -1.123886935293182,
          -0.00966584439369465,
          0.2641011324843051,
          -0.03449149511221563,
          1.2535885304778782,
          -1.071374141698954,
          1.4474862451647823,
          -0.44183298656970094,
          0.2238959910693913,
          1.2640035090577666,
          -0.8722077491862223,
          1.0539208141083116,
          -0.05435394505681398,
          0.05858998681185259,
          0.0647952104940045,
          1.3060176712332476,
          -0.5889534365463991,
          1.286879805367101,
          -1.8137269956104176,
          -0.8645353028348475,
          1.1491416413431492,
          -0.48956025462922365,
          -1.212447049698165,
          -0.7566594934068639,
          1.3351510505403292,
          1.0952921221471876,
          0.2109797601915426,
          0.5000273184490857,
          1.5823984923308345,
          0.22291563155010405,
          -0.06846769305685602,
          2.553488550639987,
          -0.09809275094245921,
          1.0530885573770068,
          -1.5470423641151319,
          -2.7885014218021444,
          0.47425994462288223,
          1.4892794517759067,
          -0.42172309615353076,
          -0.09905082778889188,
          0.5774054835753971,
          0.18460369988935615,
          -0.02785843168581629,
          -1.1036759738103374,
          -0.474135721105905,
          -0.6124711047943953,
          0.10813003622608242,
          1.804446472034872,
          0.16118724351311858,
          -0.053463021710888306,
          -0.9108941156513923,
          0.1714273870289398,
          -1.8973499056236238,
          1.7864266672473026,
          1.2007151338638131,
          -0.9068744996688112,
          0.11659544639734006,
          0.20058508971137132,
          -1.8602597423337406,
          1.3964573738687998,
          0.14357841616147643,
          -0.27363474805865806,
          -0.7567940092165989,
          0.8639357076518587,
          1.7574488135100723,
          0.12319664152585351,
          1.5436451668305928,
          -1.2909390728105758,
          -1.0762238927141718,
          0.7011791021336731,
          -0.01899808250300709,
          -1.6908586470464428,
          -1.207040308484164,
          -0.85238176382397,
          -0.0453678985264209,
          -0.13162954399743754,
          -0.08234015768776166,
          0.8834075972458294,
          -0.5709708007470555,
          -0.8480021538235875,
          -1.0568511503362594,
          -0.08352093882807796,
          -0.6498746858584202,
          -1.2074438975271147,
          -0.5079688229414314,
          0.6148451371506651,
          -0.11425738151919548,
          -0.976090291729148
         ],
         "xaxis": "x4",
         "y": [
          -0.39918119580901057,
          0.7418621453466906,
          -0.4313355775472436,
          0.3355224667718379,
          -0.7151869915905287,
          0.145668325550864,
          0.15591577298259662,
          0.016226263834492997,
          0.4605683837845119,
          -1.4139591642678533,
          -3.346775721169021,
          -1.2159667506526999,
          0.5809608144629882,
          -0.26283320353488304,
          1.2113580317867414,
          -0.4415756722746691,
          2.2884194084433775,
          1.0557466676734149,
          -1.442826254773536,
          -0.8063709415927582,
          0.922383051818235,
          -0.3878906835859324,
          0.025967017018530797,
          0.6044282595635964,
          -0.7065329352842874,
          0.9150675435000666,
          0.18735127393393106,
          -0.2845605758953672,
          -0.09322552030780629,
          -0.1639557134477811,
          0.156542641123135,
          -0.9341454884535909,
          -1.1960968243851422,
          -0.7420113595879909,
          -1.1231115173825923,
          -0.06575340563803043,
          -1.2314451894847818,
          -0.7004696413846199,
          0.2750929324690308,
          0.7915002131579784,
          -1.1253744106107293,
          0.5712846346931809,
          -1.7280218331388324,
          0.36865239908201825,
          -1.0668871446136439,
          -0.9061338046467238,
          -1.037945002921429,
          -0.5578754042788866,
          0.14708542676641603,
          0.8746134766485341,
          -0.36276225986481275,
          0.12243563569516946,
          -0.05854080893376823,
          1.162186833598004,
          -1.104489545096553,
          -0.26487716168614467,
          -0.05463255455270555,
          1.495963991909491,
          1.4742509865754625,
          0.8390497854946452,
          0.5108072739104828,
          -0.29675905041248607,
          0.4317219076292566,
          0.7526597856998946,
          -1.2662095357984315,
          -0.20809051371739795,
          -1.4334480138884427,
          0.41521475437323424,
          -0.3681440922719436,
          -0.4974530040747305,
          0.332517930744042,
          0.1235890800313146,
          0.5909382100815366,
          -1.0065808800216673,
          -0.6822563665823921,
          1.1077016925230518,
          0.07703396073766987,
          0.42953692998520493,
          0.7592976638295739,
          -0.8805787003240935,
          1.5490488597669556,
          -0.2766809050067881,
          0.7018174178549077,
          0.1314637920120881,
          -0.40257295954386835,
          -0.6849120108591445,
          -0.8530469126783897,
          -0.8710488904466427,
          -0.40143057082221745,
          0.5753943378178665,
          0.5232222120203804,
          -0.22675126963357795,
          -1.0348115402137625,
          -0.026371322901696262,
          0.7374597636331084,
          0.23308846902896885,
          -0.4367113468497734,
          0.5978251807763769,
          0.6581567165919348,
          1.600974778682548
         ],
         "yaxis": "y4"
        },
        {
         "line": {
          "color": "rgba(128, 128, 128, 1.0)",
          "dash": "solid",
          "shape": "linear",
          "width": 1.3
         },
         "marker": {
          "size": 2,
          "symbol": "circle"
         },
         "mode": "markers",
         "name": "B",
         "text": "",
         "type": "scatter",
         "x": [
          -0.39918119580901057,
          0.7418621453466906,
          -0.4313355775472436,
          0.3355224667718379,
          -0.7151869915905287,
          0.145668325550864,
          0.15591577298259662,
          0.016226263834492997,
          0.4605683837845119,
          -1.4139591642678533,
          -3.346775721169021,
          -1.2159667506526999,
          0.5809608144629882,
          -0.26283320353488304,
          1.2113580317867414,
          -0.4415756722746691,
          2.2884194084433775,
          1.0557466676734149,
          -1.442826254773536,
          -0.8063709415927582,
          0.922383051818235,
          -0.3878906835859324,
          0.025967017018530797,
          0.6044282595635964,
          -0.7065329352842874,
          0.9150675435000666,
          0.18735127393393106,
          -0.2845605758953672,
          -0.09322552030780629,
          -0.1639557134477811,
          0.156542641123135,
          -0.9341454884535909,
          -1.1960968243851422,
          -0.7420113595879909,
          -1.1231115173825923,
          -0.06575340563803043,
          -1.2314451894847818,
          -0.7004696413846199,
          0.2750929324690308,
          0.7915002131579784,
          -1.1253744106107293,
          0.5712846346931809,
          -1.7280218331388324,
          0.36865239908201825,
          -1.0668871446136439,
          -0.9061338046467238,
          -1.037945002921429,
          -0.5578754042788866,
          0.14708542676641603,
          0.8746134766485341,
          -0.36276225986481275,
          0.12243563569516946,
          -0.05854080893376823,
          1.162186833598004,
          -1.104489545096553,
          -0.26487716168614467,
          -0.05463255455270555,
          1.495963991909491,
          1.4742509865754625,
          0.8390497854946452,
          0.5108072739104828,
          -0.29675905041248607,
          0.4317219076292566,
          0.7526597856998946,
          -1.2662095357984315,
          -0.20809051371739795,
          -1.4334480138884427,
          0.41521475437323424,
          -0.3681440922719436,
          -0.4974530040747305,
          0.332517930744042,
          0.1235890800313146,
          0.5909382100815366,
          -1.0065808800216673,
          -0.6822563665823921,
          1.1077016925230518,
          0.07703396073766987,
          0.42953692998520493,
          0.7592976638295739,
          -0.8805787003240935,
          1.5490488597669556,
          -0.2766809050067881,
          0.7018174178549077,
          0.1314637920120881,
          -0.40257295954386835,
          -0.6849120108591445,
          -0.8530469126783897,
          -0.8710488904466427,
          -0.40143057082221745,
          0.5753943378178665,
          0.5232222120203804,
          -0.22675126963357795,
          -1.0348115402137625,
          -0.026371322901696262,
          0.7374597636331084,
          0.23308846902896885,
          -0.4367113468497734,
          0.5978251807763769,
          0.6581567165919348,
          1.600974778682548
         ],
         "xaxis": "x5",
         "y": [
          2.2070461301559066,
          -0.788131612862357,
          -0.10784315640253468,
          -0.04044160801371967,
          -2.2896748695933327,
          1.3429392443285344,
          1.4865555779792607,
          0.3659741914873344,
          -0.7892499216942237,
          0.1141250947886066,
          -0.6139977202850474,
          0.037322520254553855,
          0.29142557618426357,
          0.4113345097957159,
          1.4192964679111584,
          0.36923408302610705,
          0.48399864965340045,
          0.6079126562865081,
          -0.7977858369497093,
          -0.6119403421986435,
          0.13146439326926732,
          0.08725012491665272,
          0.09456009132885217,
          -2.190707420460496,
          1.12562920670872,
          -0.6839747581993745,
          0.3115134349504725,
          1.4492612304178427,
          0.06999200823006771,
          -0.38800767411587783,
          -0.46598508418374707,
          -2.181197442663968,
          -1.0956797599610515,
          -0.9553121956681996,
          0.42403097594459715,
          -1.6558545434866523,
          -1.3819798723174677,
          1.6854462250364648,
          0.732890145241412,
          -1.3374766327934853,
          -0.3260739282800016,
          1.6637557322566037,
          -0.8409746644861881,
          -1.4111517724895952,
          -0.5393254688380885,
          0.8754720938686266,
          0.9997351757559365,
          -0.049471515590174334,
          0.19908149523353075,
          0.6249144899716452,
          -0.13465543056006563,
          -0.7161254082218936,
          0.907665817980667,
          -1.0156398903308865,
          0.07345276778828155,
          -1.730105693139972,
          -1.2104401316439815,
          -0.42246282382447614,
          1.223087721057286,
          0.25051121377375185,
          -0.11663617757627032,
          0.25283529945234606,
          1.2536411501995246,
          -0.8608597145861724,
          0.06555619946573002,
          1.1958308271299294,
          -1.3876026390431448,
          0.0442082545566528,
          -1.341362716407108,
          1.1968678848787968,
          0.9087380738655427,
          1.5555799622636919,
          0.9353902928609358,
          0.5473797210703165,
          0.7084174573200912,
          -0.3698724043916409,
          -0.21573080837183653,
          0.1359526800212306,
          0.15906429779288436,
          -0.5540236467037417,
          -0.3414189576302107,
          -0.2718414423436621,
          -0.4666969220684351,
          -1.076680135465115,
          1.6120850281316867,
          0.4812952929193751,
          -1.9705129259249963,
          0.31105314049038896,
          0.9222631715288385,
          1.4576098663395574,
          0.09972461282505903,
          0.10840621208454,
          0.7745676451840312,
          0.4074215942586728,
          0.2725750104410174,
          0.39225261140363143,
          -2.3594286944335656,
          -0.22987691975601063,
          -0.10824276280124188,
          -0.7045627207862724
         ],
         "yaxis": "y5"
        },
        {
         "histfunc": "count",
         "histnorm": "",
         "marker": {
          "color": "rgba(55, 128, 191, 1.0)",
          "line": {
           "color": "#4D5663",
           "width": 1.3
          }
         },
         "name": "B",
         "nbinsx": 10,
         "opacity": 0.8,
         "orientation": "v",
         "type": "histogram",
         "x": [
          2.2070461301559066,
          -0.788131612862357,
          -0.10784315640253468,
          -0.04044160801371967,
          -2.2896748695933327,
          1.3429392443285344,
          1.4865555779792607,
          0.3659741914873344,
          -0.7892499216942237,
          0.1141250947886066,
          -0.6139977202850474,
          0.037322520254553855,
          0.29142557618426357,
          0.4113345097957159,
          1.4192964679111584,
          0.36923408302610705,
          0.48399864965340045,
          0.6079126562865081,
          -0.7977858369497093,
          -0.6119403421986435,
          0.13146439326926732,
          0.08725012491665272,
          0.09456009132885217,
          -2.190707420460496,
          1.12562920670872,
          -0.6839747581993745,
          0.3115134349504725,
          1.4492612304178427,
          0.06999200823006771,
          -0.38800767411587783,
          -0.46598508418374707,
          -2.181197442663968,
          -1.0956797599610515,
          -0.9553121956681996,
          0.42403097594459715,
          -1.6558545434866523,
          -1.3819798723174677,
          1.6854462250364648,
          0.732890145241412,
          -1.3374766327934853,
          -0.3260739282800016,
          1.6637557322566037,
          -0.8409746644861881,
          -1.4111517724895952,
          -0.5393254688380885,
          0.8754720938686266,
          0.9997351757559365,
          -0.049471515590174334,
          0.19908149523353075,
          0.6249144899716452,
          -0.13465543056006563,
          -0.7161254082218936,
          0.907665817980667,
          -1.0156398903308865,
          0.07345276778828155,
          -1.730105693139972,
          -1.2104401316439815,
          -0.42246282382447614,
          1.223087721057286,
          0.25051121377375185,
          -0.11663617757627032,
          0.25283529945234606,
          1.2536411501995246,
          -0.8608597145861724,
          0.06555619946573002,
          1.1958308271299294,
          -1.3876026390431448,
          0.0442082545566528,
          -1.341362716407108,
          1.1968678848787968,
          0.9087380738655427,
          1.5555799622636919,
          0.9353902928609358,
          0.5473797210703165,
          0.7084174573200912,
          -0.3698724043916409,
          -0.21573080837183653,
          0.1359526800212306,
          0.15906429779288436,
          -0.5540236467037417,
          -0.3414189576302107,
          -0.2718414423436621,
          -0.4666969220684351,
          -1.076680135465115,
          1.6120850281316867,
          0.4812952929193751,
          -1.9705129259249963,
          0.31105314049038896,
          0.9222631715288385,
          1.4576098663395574,
          0.09972461282505903,
          0.10840621208454,
          0.7745676451840312,
          0.4074215942586728,
          0.2725750104410174,
          0.39225261140363143,
          -2.3594286944335656,
          -0.22987691975601063,
          -0.10824276280124188,
          -0.7045627207862724
         ],
         "xaxis": "x6",
         "yaxis": "y6"
        },
        {
         "line": {
          "color": "rgba(128, 128, 128, 1.0)",
          "dash": "solid",
          "shape": "linear",
          "width": 1.3
         },
         "marker": {
          "size": 2,
          "symbol": "circle"
         },
         "mode": "markers",
         "name": "B",
         "text": "",
         "type": "scatter",
         "x": [
          -0.6384635434448434,
          0.20129141961750233,
          1.4455203111308286,
          -2.047290855826421,
          -2.029950571478503,
          0.29635493029587623,
          -1.0690424023584588,
          -1.2637584431139288,
          -0.3614137588757708,
          0.32950204350421197,
          0.42846767886560316,
          0.5601788272810735,
          -0.0017168075576362444,
          -0.4972131141137663,
          0.25457364680471645,
          0.2137456547519348,
          -0.4403021838963106,
          -1.0315565236333366,
          -0.023894730689849437,
          0.5924047035997578,
          0.35942749772259,
          -0.6066457895243129,
          -0.2582454921550214,
          -0.26621451459259154,
          -0.9573050494162388,
          -0.8706096263812089,
          0.5102967350809852,
          0.04320071844350394,
          0.19323022101942358,
          -0.5600387594048482,
          0.20515073678384357,
          -0.38367430459649504,
          1.1030134451203024,
          0.17577903989255617,
          0.05909350588535493,
          0.9060438420963102,
          -1.176374199231999,
          -1.6070486970361355,
          1.0184887224199144,
          0.0719696391996265,
          -0.6869826904235876,
          -0.16460152728129593,
          -0.35243474239572575,
          -1.9430458105049733,
          0.2933875677142585,
          0.8147781673269966,
          0.1345823636843486,
          -0.24262686906277547,
          1.2900084062266597,
          -1.742193371249046,
          1.1275374880419575,
          0.576888577525062,
          -1.1794518032333612,
          0.5181270969759182,
          -0.28574157279352047,
          -0.22175649553356597,
          0.2813332139097955,
          -0.5233650816443627,
          -1.4848214871943564,
          -2.2858417656552925,
          -1.4303439360899257,
          -0.7204253348743646,
          -0.9294079819027545,
          -0.9257964005341828,
          0.01871365692644488,
          -1.4190258893838466,
          -1.3911593844039067,
          1.284936979432578,
          -1.917648055426853,
          -1.1439162262493472,
          0.4660789865538819,
          -0.5618536694903467,
          -1.1217661119240674,
          -0.7830955152004814,
          -0.3964975240873266,
          -0.6468406852173031,
          0.34229290137010937,
          -0.5813133729108274,
          -0.525986127539155,
          0.2772442085639978,
          -2.236687488425607,
          -0.7242269897500356,
          -1.737558828333686,
          -1.3565212899183334,
          -0.549044918185219,
          1.3069133552484964,
          -0.2903838593639379,
          -0.8920967004629824,
          -0.9345202102475368,
          0.5497897959314942,
          0.42105714373918907,
          -1.937703571631979,
          -0.871566785049873,
          1.7004145299257194,
          -0.707844864137198,
          0.6009239704775721,
          -1.3318353999603316,
          0.8486676862766808,
          0.4039525974905113,
          0.8514364200361985
         ],
         "xaxis": "x7",
         "y": [
          2.2070461301559066,
          -0.788131612862357,
          -0.10784315640253468,
          -0.04044160801371967,
          -2.2896748695933327,
          1.3429392443285344,
          1.4865555779792607,
          0.3659741914873344,
          -0.7892499216942237,
          0.1141250947886066,
          -0.6139977202850474,
          0.037322520254553855,
          0.29142557618426357,
          0.4113345097957159,
          1.4192964679111584,
          0.36923408302610705,
          0.48399864965340045,
          0.6079126562865081,
          -0.7977858369497093,
          -0.6119403421986435,
          0.13146439326926732,
          0.08725012491665272,
          0.09456009132885217,
          -2.190707420460496,
          1.12562920670872,
          -0.6839747581993745,
          0.3115134349504725,
          1.4492612304178427,
          0.06999200823006771,
          -0.38800767411587783,
          -0.46598508418374707,
          -2.181197442663968,
          -1.0956797599610515,
          -0.9553121956681996,
          0.42403097594459715,
          -1.6558545434866523,
          -1.3819798723174677,
          1.6854462250364648,
          0.732890145241412,
          -1.3374766327934853,
          -0.3260739282800016,
          1.6637557322566037,
          -0.8409746644861881,
          -1.4111517724895952,
          -0.5393254688380885,
          0.8754720938686266,
          0.9997351757559365,
          -0.049471515590174334,
          0.19908149523353075,
          0.6249144899716452,
          -0.13465543056006563,
          -0.7161254082218936,
          0.907665817980667,
          -1.0156398903308865,
          0.07345276778828155,
          -1.730105693139972,
          -1.2104401316439815,
          -0.42246282382447614,
          1.223087721057286,
          0.25051121377375185,
          -0.11663617757627032,
          0.25283529945234606,
          1.2536411501995246,
          -0.8608597145861724,
          0.06555619946573002,
          1.1958308271299294,
          -1.3876026390431448,
          0.0442082545566528,
          -1.341362716407108,
          1.1968678848787968,
          0.9087380738655427,
          1.5555799622636919,
          0.9353902928609358,
          0.5473797210703165,
          0.7084174573200912,
          -0.3698724043916409,
          -0.21573080837183653,
          0.1359526800212306,
          0.15906429779288436,
          -0.5540236467037417,
          -0.3414189576302107,
          -0.2718414423436621,
          -0.4666969220684351,
          -1.076680135465115,
          1.6120850281316867,
          0.4812952929193751,
          -1.9705129259249963,
          0.31105314049038896,
          0.9222631715288385,
          1.4576098663395574,
          0.09972461282505903,
          0.10840621208454,
          0.7745676451840312,
          0.4074215942586728,
          0.2725750104410174,
          0.39225261140363143,
          -2.3594286944335656,
          -0.22987691975601063,
          -0.10824276280124188,
          -0.7045627207862724
         ],
         "yaxis": "y7"
        },
        {
         "line": {
          "color": "rgba(128, 128, 128, 1.0)",
          "dash": "solid",
          "shape": "linear",
          "width": 1.3
         },
         "marker": {
          "size": 2,
          "symbol": "circle"
         },
         "mode": "markers",
         "name": "B",
         "text": "",
         "type": "scatter",
         "x": [
          0.4402792313594633,
          -2.231875219530463,
          0.506085790169927,
          0.3739216457196463,
          0.5581079001710428,
          0.4274038505191474,
          0.3798748753703595,
          -1.448309773483199,
          -0.26478675575818633,
          -1.5492527548137627,
          -1.5203405467799962,
          0.29671073239926654,
          -1.123886935293182,
          -0.00966584439369465,
          0.2641011324843051,
          -0.03449149511221563,
          1.2535885304778782,
          -1.071374141698954,
          1.4474862451647823,
          -0.44183298656970094,
          0.2238959910693913,
          1.2640035090577666,
          -0.8722077491862223,
          1.0539208141083116,
          -0.05435394505681398,
          0.05858998681185259,
          0.0647952104940045,
          1.3060176712332476,
          -0.5889534365463991,
          1.286879805367101,
          -1.8137269956104176,
          -0.8645353028348475,
          1.1491416413431492,
          -0.48956025462922365,
          -1.212447049698165,
          -0.7566594934068639,
          1.3351510505403292,
          1.0952921221471876,
          0.2109797601915426,
          0.5000273184490857,
          1.5823984923308345,
          0.22291563155010405,
          -0.06846769305685602,
          2.553488550639987,
          -0.09809275094245921,
          1.0530885573770068,
          -1.5470423641151319,
          -2.7885014218021444,
          0.47425994462288223,
          1.4892794517759067,
          -0.42172309615353076,
          -0.09905082778889188,
          0.5774054835753971,
          0.18460369988935615,
          -0.02785843168581629,
          -1.1036759738103374,
          -0.474135721105905,
          -0.6124711047943953,
          0.10813003622608242,
          1.804446472034872,
          0.16118724351311858,
          -0.053463021710888306,
          -0.9108941156513923,
          0.1714273870289398,
          -1.8973499056236238,
          1.7864266672473026,
          1.2007151338638131,
          -0.9068744996688112,
          0.11659544639734006,
          0.20058508971137132,
          -1.8602597423337406,
          1.3964573738687998,
          0.14357841616147643,
          -0.27363474805865806,
          -0.7567940092165989,
          0.8639357076518587,
          1.7574488135100723,
          0.12319664152585351,
          1.5436451668305928,
          -1.2909390728105758,
          -1.0762238927141718,
          0.7011791021336731,
          -0.01899808250300709,
          -1.6908586470464428,
          -1.207040308484164,
          -0.85238176382397,
          -0.0453678985264209,
          -0.13162954399743754,
          -0.08234015768776166,
          0.8834075972458294,
          -0.5709708007470555,
          -0.8480021538235875,
          -1.0568511503362594,
          -0.08352093882807796,
          -0.6498746858584202,
          -1.2074438975271147,
          -0.5079688229414314,
          0.6148451371506651,
          -0.11425738151919548,
          -0.976090291729148
         ],
         "xaxis": "x8",
         "y": [
          2.2070461301559066,
          -0.788131612862357,
          -0.10784315640253468,
          -0.04044160801371967,
          -2.2896748695933327,
          1.3429392443285344,
          1.4865555779792607,
          0.3659741914873344,
          -0.7892499216942237,
          0.1141250947886066,
          -0.6139977202850474,
          0.037322520254553855,
          0.29142557618426357,
          0.4113345097957159,
          1.4192964679111584,
          0.36923408302610705,
          0.48399864965340045,
          0.6079126562865081,
          -0.7977858369497093,
          -0.6119403421986435,
          0.13146439326926732,
          0.08725012491665272,
          0.09456009132885217,
          -2.190707420460496,
          1.12562920670872,
          -0.6839747581993745,
          0.3115134349504725,
          1.4492612304178427,
          0.06999200823006771,
          -0.38800767411587783,
          -0.46598508418374707,
          -2.181197442663968,
          -1.0956797599610515,
          -0.9553121956681996,
          0.42403097594459715,
          -1.6558545434866523,
          -1.3819798723174677,
          1.6854462250364648,
          0.732890145241412,
          -1.3374766327934853,
          -0.3260739282800016,
          1.6637557322566037,
          -0.8409746644861881,
          -1.4111517724895952,
          -0.5393254688380885,
          0.8754720938686266,
          0.9997351757559365,
          -0.049471515590174334,
          0.19908149523353075,
          0.6249144899716452,
          -0.13465543056006563,
          -0.7161254082218936,
          0.907665817980667,
          -1.0156398903308865,
          0.07345276778828155,
          -1.730105693139972,
          -1.2104401316439815,
          -0.42246282382447614,
          1.223087721057286,
          0.25051121377375185,
          -0.11663617757627032,
          0.25283529945234606,
          1.2536411501995246,
          -0.8608597145861724,
          0.06555619946573002,
          1.1958308271299294,
          -1.3876026390431448,
          0.0442082545566528,
          -1.341362716407108,
          1.1968678848787968,
          0.9087380738655427,
          1.5555799622636919,
          0.9353902928609358,
          0.5473797210703165,
          0.7084174573200912,
          -0.3698724043916409,
          -0.21573080837183653,
          0.1359526800212306,
          0.15906429779288436,
          -0.5540236467037417,
          -0.3414189576302107,
          -0.2718414423436621,
          -0.4666969220684351,
          -1.076680135465115,
          1.6120850281316867,
          0.4812952929193751,
          -1.9705129259249963,
          0.31105314049038896,
          0.9222631715288385,
          1.4576098663395574,
          0.09972461282505903,
          0.10840621208454,
          0.7745676451840312,
          0.4074215942586728,
          0.2725750104410174,
          0.39225261140363143,
          -2.3594286944335656,
          -0.22987691975601063,
          -0.10824276280124188,
          -0.7045627207862724
         ],
         "yaxis": "y8"
        },
        {
         "line": {
          "color": "rgba(128, 128, 128, 1.0)",
          "dash": "solid",
          "shape": "linear",
          "width": 1.3
         },
         "marker": {
          "size": 2,
          "symbol": "circle"
         },
         "mode": "markers",
         "name": "C",
         "text": "",
         "type": "scatter",
         "x": [
          -0.39918119580901057,
          0.7418621453466906,
          -0.4313355775472436,
          0.3355224667718379,
          -0.7151869915905287,
          0.145668325550864,
          0.15591577298259662,
          0.016226263834492997,
          0.4605683837845119,
          -1.4139591642678533,
          -3.346775721169021,
          -1.2159667506526999,
          0.5809608144629882,
          -0.26283320353488304,
          1.2113580317867414,
          -0.4415756722746691,
          2.2884194084433775,
          1.0557466676734149,
          -1.442826254773536,
          -0.8063709415927582,
          0.922383051818235,
          -0.3878906835859324,
          0.025967017018530797,
          0.6044282595635964,
          -0.7065329352842874,
          0.9150675435000666,
          0.18735127393393106,
          -0.2845605758953672,
          -0.09322552030780629,
          -0.1639557134477811,
          0.156542641123135,
          -0.9341454884535909,
          -1.1960968243851422,
          -0.7420113595879909,
          -1.1231115173825923,
          -0.06575340563803043,
          -1.2314451894847818,
          -0.7004696413846199,
          0.2750929324690308,
          0.7915002131579784,
          -1.1253744106107293,
          0.5712846346931809,
          -1.7280218331388324,
          0.36865239908201825,
          -1.0668871446136439,
          -0.9061338046467238,
          -1.037945002921429,
          -0.5578754042788866,
          0.14708542676641603,
          0.8746134766485341,
          -0.36276225986481275,
          0.12243563569516946,
          -0.05854080893376823,
          1.162186833598004,
          -1.104489545096553,
          -0.26487716168614467,
          -0.05463255455270555,
          1.495963991909491,
          1.4742509865754625,
          0.8390497854946452,
          0.5108072739104828,
          -0.29675905041248607,
          0.4317219076292566,
          0.7526597856998946,
          -1.2662095357984315,
          -0.20809051371739795,
          -1.4334480138884427,
          0.41521475437323424,
          -0.3681440922719436,
          -0.4974530040747305,
          0.332517930744042,
          0.1235890800313146,
          0.5909382100815366,
          -1.0065808800216673,
          -0.6822563665823921,
          1.1077016925230518,
          0.07703396073766987,
          0.42953692998520493,
          0.7592976638295739,
          -0.8805787003240935,
          1.5490488597669556,
          -0.2766809050067881,
          0.7018174178549077,
          0.1314637920120881,
          -0.40257295954386835,
          -0.6849120108591445,
          -0.8530469126783897,
          -0.8710488904466427,
          -0.40143057082221745,
          0.5753943378178665,
          0.5232222120203804,
          -0.22675126963357795,
          -1.0348115402137625,
          -0.026371322901696262,
          0.7374597636331084,
          0.23308846902896885,
          -0.4367113468497734,
          0.5978251807763769,
          0.6581567165919348,
          1.600974778682548
         ],
         "xaxis": "x9",
         "y": [
          -0.6384635434448434,
          0.20129141961750233,
          1.4455203111308286,
          -2.047290855826421,
          -2.029950571478503,
          0.29635493029587623,
          -1.0690424023584588,
          -1.2637584431139288,
          -0.3614137588757708,
          0.32950204350421197,
          0.42846767886560316,
          0.5601788272810735,
          -0.0017168075576362444,
          -0.4972131141137663,
          0.25457364680471645,
          0.2137456547519348,
          -0.4403021838963106,
          -1.0315565236333366,
          -0.023894730689849437,
          0.5924047035997578,
          0.35942749772259,
          -0.6066457895243129,
          -0.2582454921550214,
          -0.26621451459259154,
          -0.9573050494162388,
          -0.8706096263812089,
          0.5102967350809852,
          0.04320071844350394,
          0.19323022101942358,
          -0.5600387594048482,
          0.20515073678384357,
          -0.38367430459649504,
          1.1030134451203024,
          0.17577903989255617,
          0.05909350588535493,
          0.9060438420963102,
          -1.176374199231999,
          -1.6070486970361355,
          1.0184887224199144,
          0.0719696391996265,
          -0.6869826904235876,
          -0.16460152728129593,
          -0.35243474239572575,
          -1.9430458105049733,
          0.2933875677142585,
          0.8147781673269966,
          0.1345823636843486,
          -0.24262686906277547,
          1.2900084062266597,
          -1.742193371249046,
          1.1275374880419575,
          0.576888577525062,
          -1.1794518032333612,
          0.5181270969759182,
          -0.28574157279352047,
          -0.22175649553356597,
          0.2813332139097955,
          -0.5233650816443627,
          -1.4848214871943564,
          -2.2858417656552925,
          -1.4303439360899257,
          -0.7204253348743646,
          -0.9294079819027545,
          -0.9257964005341828,
          0.01871365692644488,
          -1.4190258893838466,
          -1.3911593844039067,
          1.284936979432578,
          -1.917648055426853,
          -1.1439162262493472,
          0.4660789865538819,
          -0.5618536694903467,
          -1.1217661119240674,
          -0.7830955152004814,
          -0.3964975240873266,
          -0.6468406852173031,
          0.34229290137010937,
          -0.5813133729108274,
          -0.525986127539155,
          0.2772442085639978,
          -2.236687488425607,
          -0.7242269897500356,
          -1.737558828333686,
          -1.3565212899183334,
          -0.549044918185219,
          1.3069133552484964,
          -0.2903838593639379,
          -0.8920967004629824,
          -0.9345202102475368,
          0.5497897959314942,
          0.42105714373918907,
          -1.937703571631979,
          -0.871566785049873,
          1.7004145299257194,
          -0.707844864137198,
          0.6009239704775721,
          -1.3318353999603316,
          0.8486676862766808,
          0.4039525974905113,
          0.8514364200361985
         ],
         "yaxis": "y9"
        },
        {
         "line": {
          "color": "rgba(128, 128, 128, 1.0)",
          "dash": "solid",
          "shape": "linear",
          "width": 1.3
         },
         "marker": {
          "size": 2,
          "symbol": "circle"
         },
         "mode": "markers",
         "name": "C",
         "text": "",
         "type": "scatter",
         "x": [
          2.2070461301559066,
          -0.788131612862357,
          -0.10784315640253468,
          -0.04044160801371967,
          -2.2896748695933327,
          1.3429392443285344,
          1.4865555779792607,
          0.3659741914873344,
          -0.7892499216942237,
          0.1141250947886066,
          -0.6139977202850474,
          0.037322520254553855,
          0.29142557618426357,
          0.4113345097957159,
          1.4192964679111584,
          0.36923408302610705,
          0.48399864965340045,
          0.6079126562865081,
          -0.7977858369497093,
          -0.6119403421986435,
          0.13146439326926732,
          0.08725012491665272,
          0.09456009132885217,
          -2.190707420460496,
          1.12562920670872,
          -0.6839747581993745,
          0.3115134349504725,
          1.4492612304178427,
          0.06999200823006771,
          -0.38800767411587783,
          -0.46598508418374707,
          -2.181197442663968,
          -1.0956797599610515,
          -0.9553121956681996,
          0.42403097594459715,
          -1.6558545434866523,
          -1.3819798723174677,
          1.6854462250364648,
          0.732890145241412,
          -1.3374766327934853,
          -0.3260739282800016,
          1.6637557322566037,
          -0.8409746644861881,
          -1.4111517724895952,
          -0.5393254688380885,
          0.8754720938686266,
          0.9997351757559365,
          -0.049471515590174334,
          0.19908149523353075,
          0.6249144899716452,
          -0.13465543056006563,
          -0.7161254082218936,
          0.907665817980667,
          -1.0156398903308865,
          0.07345276778828155,
          -1.730105693139972,
          -1.2104401316439815,
          -0.42246282382447614,
          1.223087721057286,
          0.25051121377375185,
          -0.11663617757627032,
          0.25283529945234606,
          1.2536411501995246,
          -0.8608597145861724,
          0.06555619946573002,
          1.1958308271299294,
          -1.3876026390431448,
          0.0442082545566528,
          -1.341362716407108,
          1.1968678848787968,
          0.9087380738655427,
          1.5555799622636919,
          0.9353902928609358,
          0.5473797210703165,
          0.7084174573200912,
          -0.3698724043916409,
          -0.21573080837183653,
          0.1359526800212306,
          0.15906429779288436,
          -0.5540236467037417,
          -0.3414189576302107,
          -0.2718414423436621,
          -0.4666969220684351,
          -1.076680135465115,
          1.6120850281316867,
          0.4812952929193751,
          -1.9705129259249963,
          0.31105314049038896,
          0.9222631715288385,
          1.4576098663395574,
          0.09972461282505903,
          0.10840621208454,
          0.7745676451840312,
          0.4074215942586728,
          0.2725750104410174,
          0.39225261140363143,
          -2.3594286944335656,
          -0.22987691975601063,
          -0.10824276280124188,
          -0.7045627207862724
         ],
         "xaxis": "x10",
         "y": [
          -0.6384635434448434,
          0.20129141961750233,
          1.4455203111308286,
          -2.047290855826421,
          -2.029950571478503,
          0.29635493029587623,
          -1.0690424023584588,
          -1.2637584431139288,
          -0.3614137588757708,
          0.32950204350421197,
          0.42846767886560316,
          0.5601788272810735,
          -0.0017168075576362444,
          -0.4972131141137663,
          0.25457364680471645,
          0.2137456547519348,
          -0.4403021838963106,
          -1.0315565236333366,
          -0.023894730689849437,
          0.5924047035997578,
          0.35942749772259,
          -0.6066457895243129,
          -0.2582454921550214,
          -0.26621451459259154,
          -0.9573050494162388,
          -0.8706096263812089,
          0.5102967350809852,
          0.04320071844350394,
          0.19323022101942358,
          -0.5600387594048482,
          0.20515073678384357,
          -0.38367430459649504,
          1.1030134451203024,
          0.17577903989255617,
          0.05909350588535493,
          0.9060438420963102,
          -1.176374199231999,
          -1.6070486970361355,
          1.0184887224199144,
          0.0719696391996265,
          -0.6869826904235876,
          -0.16460152728129593,
          -0.35243474239572575,
          -1.9430458105049733,
          0.2933875677142585,
          0.8147781673269966,
          0.1345823636843486,
          -0.24262686906277547,
          1.2900084062266597,
          -1.742193371249046,
          1.1275374880419575,
          0.576888577525062,
          -1.1794518032333612,
          0.5181270969759182,
          -0.28574157279352047,
          -0.22175649553356597,
          0.2813332139097955,
          -0.5233650816443627,
          -1.4848214871943564,
          -2.2858417656552925,
          -1.4303439360899257,
          -0.7204253348743646,
          -0.9294079819027545,
          -0.9257964005341828,
          0.01871365692644488,
          -1.4190258893838466,
          -1.3911593844039067,
          1.284936979432578,
          -1.917648055426853,
          -1.1439162262493472,
          0.4660789865538819,
          -0.5618536694903467,
          -1.1217661119240674,
          -0.7830955152004814,
          -0.3964975240873266,
          -0.6468406852173031,
          0.34229290137010937,
          -0.5813133729108274,
          -0.525986127539155,
          0.2772442085639978,
          -2.236687488425607,
          -0.7242269897500356,
          -1.737558828333686,
          -1.3565212899183334,
          -0.549044918185219,
          1.3069133552484964,
          -0.2903838593639379,
          -0.8920967004629824,
          -0.9345202102475368,
          0.5497897959314942,
          0.42105714373918907,
          -1.937703571631979,
          -0.871566785049873,
          1.7004145299257194,
          -0.707844864137198,
          0.6009239704775721,
          -1.3318353999603316,
          0.8486676862766808,
          0.4039525974905113,
          0.8514364200361985
         ],
         "yaxis": "y10"
        },
        {
         "histfunc": "count",
         "histnorm": "",
         "marker": {
          "color": "rgba(50, 171, 96, 1.0)",
          "line": {
           "color": "#4D5663",
           "width": 1.3
          }
         },
         "name": "C",
         "nbinsx": 10,
         "opacity": 0.8,
         "orientation": "v",
         "type": "histogram",
         "x": [
          -0.6384635434448434,
          0.20129141961750233,
          1.4455203111308286,
          -2.047290855826421,
          -2.029950571478503,
          0.29635493029587623,
          -1.0690424023584588,
          -1.2637584431139288,
          -0.3614137588757708,
          0.32950204350421197,
          0.42846767886560316,
          0.5601788272810735,
          -0.0017168075576362444,
          -0.4972131141137663,
          0.25457364680471645,
          0.2137456547519348,
          -0.4403021838963106,
          -1.0315565236333366,
          -0.023894730689849437,
          0.5924047035997578,
          0.35942749772259,
          -0.6066457895243129,
          -0.2582454921550214,
          -0.26621451459259154,
          -0.9573050494162388,
          -0.8706096263812089,
          0.5102967350809852,
          0.04320071844350394,
          0.19323022101942358,
          -0.5600387594048482,
          0.20515073678384357,
          -0.38367430459649504,
          1.1030134451203024,
          0.17577903989255617,
          0.05909350588535493,
          0.9060438420963102,
          -1.176374199231999,
          -1.6070486970361355,
          1.0184887224199144,
          0.0719696391996265,
          -0.6869826904235876,
          -0.16460152728129593,
          -0.35243474239572575,
          -1.9430458105049733,
          0.2933875677142585,
          0.8147781673269966,
          0.1345823636843486,
          -0.24262686906277547,
          1.2900084062266597,
          -1.742193371249046,
          1.1275374880419575,
          0.576888577525062,
          -1.1794518032333612,
          0.5181270969759182,
          -0.28574157279352047,
          -0.22175649553356597,
          0.2813332139097955,
          -0.5233650816443627,
          -1.4848214871943564,
          -2.2858417656552925,
          -1.4303439360899257,
          -0.7204253348743646,
          -0.9294079819027545,
          -0.9257964005341828,
          0.01871365692644488,
          -1.4190258893838466,
          -1.3911593844039067,
          1.284936979432578,
          -1.917648055426853,
          -1.1439162262493472,
          0.4660789865538819,
          -0.5618536694903467,
          -1.1217661119240674,
          -0.7830955152004814,
          -0.3964975240873266,
          -0.6468406852173031,
          0.34229290137010937,
          -0.5813133729108274,
          -0.525986127539155,
          0.2772442085639978,
          -2.236687488425607,
          -0.7242269897500356,
          -1.737558828333686,
          -1.3565212899183334,
          -0.549044918185219,
          1.3069133552484964,
          -0.2903838593639379,
          -0.8920967004629824,
          -0.9345202102475368,
          0.5497897959314942,
          0.42105714373918907,
          -1.937703571631979,
          -0.871566785049873,
          1.7004145299257194,
          -0.707844864137198,
          0.6009239704775721,
          -1.3318353999603316,
          0.8486676862766808,
          0.4039525974905113,
          0.8514364200361985
         ],
         "xaxis": "x11",
         "yaxis": "y11"
        },
        {
         "line": {
          "color": "rgba(128, 128, 128, 1.0)",
          "dash": "solid",
          "shape": "linear",
          "width": 1.3
         },
         "marker": {
          "size": 2,
          "symbol": "circle"
         },
         "mode": "markers",
         "name": "C",
         "text": "",
         "type": "scatter",
         "x": [
          0.4402792313594633,
          -2.231875219530463,
          0.506085790169927,
          0.3739216457196463,
          0.5581079001710428,
          0.4274038505191474,
          0.3798748753703595,
          -1.448309773483199,
          -0.26478675575818633,
          -1.5492527548137627,
          -1.5203405467799962,
          0.29671073239926654,
          -1.123886935293182,
          -0.00966584439369465,
          0.2641011324843051,
          -0.03449149511221563,
          1.2535885304778782,
          -1.071374141698954,
          1.4474862451647823,
          -0.44183298656970094,
          0.2238959910693913,
          1.2640035090577666,
          -0.8722077491862223,
          1.0539208141083116,
          -0.05435394505681398,
          0.05858998681185259,
          0.0647952104940045,
          1.3060176712332476,
          -0.5889534365463991,
          1.286879805367101,
          -1.8137269956104176,
          -0.8645353028348475,
          1.1491416413431492,
          -0.48956025462922365,
          -1.212447049698165,
          -0.7566594934068639,
          1.3351510505403292,
          1.0952921221471876,
          0.2109797601915426,
          0.5000273184490857,
          1.5823984923308345,
          0.22291563155010405,
          -0.06846769305685602,
          2.553488550639987,
          -0.09809275094245921,
          1.0530885573770068,
          -1.5470423641151319,
          -2.7885014218021444,
          0.47425994462288223,
          1.4892794517759067,
          -0.42172309615353076,
          -0.09905082778889188,
          0.5774054835753971,
          0.18460369988935615,
          -0.02785843168581629,
          -1.1036759738103374,
          -0.474135721105905,
          -0.6124711047943953,
          0.10813003622608242,
          1.804446472034872,
          0.16118724351311858,
          -0.053463021710888306,
          -0.9108941156513923,
          0.1714273870289398,
          -1.8973499056236238,
          1.7864266672473026,
          1.2007151338638131,
          -0.9068744996688112,
          0.11659544639734006,
          0.20058508971137132,
          -1.8602597423337406,
          1.3964573738687998,
          0.14357841616147643,
          -0.27363474805865806,
          -0.7567940092165989,
          0.8639357076518587,
          1.7574488135100723,
          0.12319664152585351,
          1.5436451668305928,
          -1.2909390728105758,
          -1.0762238927141718,
          0.7011791021336731,
          -0.01899808250300709,
          -1.6908586470464428,
          -1.207040308484164,
          -0.85238176382397,
          -0.0453678985264209,
          -0.13162954399743754,
          -0.08234015768776166,
          0.8834075972458294,
          -0.5709708007470555,
          -0.8480021538235875,
          -1.0568511503362594,
          -0.08352093882807796,
          -0.6498746858584202,
          -1.2074438975271147,
          -0.5079688229414314,
          0.6148451371506651,
          -0.11425738151919548,
          -0.976090291729148
         ],
         "xaxis": "x12",
         "y": [
          -0.6384635434448434,
          0.20129141961750233,
          1.4455203111308286,
          -2.047290855826421,
          -2.029950571478503,
          0.29635493029587623,
          -1.0690424023584588,
          -1.2637584431139288,
          -0.3614137588757708,
          0.32950204350421197,
          0.42846767886560316,
          0.5601788272810735,
          -0.0017168075576362444,
          -0.4972131141137663,
          0.25457364680471645,
          0.2137456547519348,
          -0.4403021838963106,
          -1.0315565236333366,
          -0.023894730689849437,
          0.5924047035997578,
          0.35942749772259,
          -0.6066457895243129,
          -0.2582454921550214,
          -0.26621451459259154,
          -0.9573050494162388,
          -0.8706096263812089,
          0.5102967350809852,
          0.04320071844350394,
          0.19323022101942358,
          -0.5600387594048482,
          0.20515073678384357,
          -0.38367430459649504,
          1.1030134451203024,
          0.17577903989255617,
          0.05909350588535493,
          0.9060438420963102,
          -1.176374199231999,
          -1.6070486970361355,
          1.0184887224199144,
          0.0719696391996265,
          -0.6869826904235876,
          -0.16460152728129593,
          -0.35243474239572575,
          -1.9430458105049733,
          0.2933875677142585,
          0.8147781673269966,
          0.1345823636843486,
          -0.24262686906277547,
          1.2900084062266597,
          -1.742193371249046,
          1.1275374880419575,
          0.576888577525062,
          -1.1794518032333612,
          0.5181270969759182,
          -0.28574157279352047,
          -0.22175649553356597,
          0.2813332139097955,
          -0.5233650816443627,
          -1.4848214871943564,
          -2.2858417656552925,
          -1.4303439360899257,
          -0.7204253348743646,
          -0.9294079819027545,
          -0.9257964005341828,
          0.01871365692644488,
          -1.4190258893838466,
          -1.3911593844039067,
          1.284936979432578,
          -1.917648055426853,
          -1.1439162262493472,
          0.4660789865538819,
          -0.5618536694903467,
          -1.1217661119240674,
          -0.7830955152004814,
          -0.3964975240873266,
          -0.6468406852173031,
          0.34229290137010937,
          -0.5813133729108274,
          -0.525986127539155,
          0.2772442085639978,
          -2.236687488425607,
          -0.7242269897500356,
          -1.737558828333686,
          -1.3565212899183334,
          -0.549044918185219,
          1.3069133552484964,
          -0.2903838593639379,
          -0.8920967004629824,
          -0.9345202102475368,
          0.5497897959314942,
          0.42105714373918907,
          -1.937703571631979,
          -0.871566785049873,
          1.7004145299257194,
          -0.707844864137198,
          0.6009239704775721,
          -1.3318353999603316,
          0.8486676862766808,
          0.4039525974905113,
          0.8514364200361985
         ],
         "yaxis": "y12"
        },
        {
         "line": {
          "color": "rgba(128, 128, 128, 1.0)",
          "dash": "solid",
          "shape": "linear",
          "width": 1.3
         },
         "marker": {
          "size": 2,
          "symbol": "circle"
         },
         "mode": "markers",
         "name": "D",
         "text": "",
         "type": "scatter",
         "x": [
          -0.39918119580901057,
          0.7418621453466906,
          -0.4313355775472436,
          0.3355224667718379,
          -0.7151869915905287,
          0.145668325550864,
          0.15591577298259662,
          0.016226263834492997,
          0.4605683837845119,
          -1.4139591642678533,
          -3.346775721169021,
          -1.2159667506526999,
          0.5809608144629882,
          -0.26283320353488304,
          1.2113580317867414,
          -0.4415756722746691,
          2.2884194084433775,
          1.0557466676734149,
          -1.442826254773536,
          -0.8063709415927582,
          0.922383051818235,
          -0.3878906835859324,
          0.025967017018530797,
          0.6044282595635964,
          -0.7065329352842874,
          0.9150675435000666,
          0.18735127393393106,
          -0.2845605758953672,
          -0.09322552030780629,
          -0.1639557134477811,
          0.156542641123135,
          -0.9341454884535909,
          -1.1960968243851422,
          -0.7420113595879909,
          -1.1231115173825923,
          -0.06575340563803043,
          -1.2314451894847818,
          -0.7004696413846199,
          0.2750929324690308,
          0.7915002131579784,
          -1.1253744106107293,
          0.5712846346931809,
          -1.7280218331388324,
          0.36865239908201825,
          -1.0668871446136439,
          -0.9061338046467238,
          -1.037945002921429,
          -0.5578754042788866,
          0.14708542676641603,
          0.8746134766485341,
          -0.36276225986481275,
          0.12243563569516946,
          -0.05854080893376823,
          1.162186833598004,
          -1.104489545096553,
          -0.26487716168614467,
          -0.05463255455270555,
          1.495963991909491,
          1.4742509865754625,
          0.8390497854946452,
          0.5108072739104828,
          -0.29675905041248607,
          0.4317219076292566,
          0.7526597856998946,
          -1.2662095357984315,
          -0.20809051371739795,
          -1.4334480138884427,
          0.41521475437323424,
          -0.3681440922719436,
          -0.4974530040747305,
          0.332517930744042,
          0.1235890800313146,
          0.5909382100815366,
          -1.0065808800216673,
          -0.6822563665823921,
          1.1077016925230518,
          0.07703396073766987,
          0.42953692998520493,
          0.7592976638295739,
          -0.8805787003240935,
          1.5490488597669556,
          -0.2766809050067881,
          0.7018174178549077,
          0.1314637920120881,
          -0.40257295954386835,
          -0.6849120108591445,
          -0.8530469126783897,
          -0.8710488904466427,
          -0.40143057082221745,
          0.5753943378178665,
          0.5232222120203804,
          -0.22675126963357795,
          -1.0348115402137625,
          -0.026371322901696262,
          0.7374597636331084,
          0.23308846902896885,
          -0.4367113468497734,
          0.5978251807763769,
          0.6581567165919348,
          1.600974778682548
         ],
         "xaxis": "x13",
         "y": [
          0.4402792313594633,
          -2.231875219530463,
          0.506085790169927,
          0.3739216457196463,
          0.5581079001710428,
          0.4274038505191474,
          0.3798748753703595,
          -1.448309773483199,
          -0.26478675575818633,
          -1.5492527548137627,
          -1.5203405467799962,
          0.29671073239926654,
          -1.123886935293182,
          -0.00966584439369465,
          0.2641011324843051,
          -0.03449149511221563,
          1.2535885304778782,
          -1.071374141698954,
          1.4474862451647823,
          -0.44183298656970094,
          0.2238959910693913,
          1.2640035090577666,
          -0.8722077491862223,
          1.0539208141083116,
          -0.05435394505681398,
          0.05858998681185259,
          0.0647952104940045,
          1.3060176712332476,
          -0.5889534365463991,
          1.286879805367101,
          -1.8137269956104176,
          -0.8645353028348475,
          1.1491416413431492,
          -0.48956025462922365,
          -1.212447049698165,
          -0.7566594934068639,
          1.3351510505403292,
          1.0952921221471876,
          0.2109797601915426,
          0.5000273184490857,
          1.5823984923308345,
          0.22291563155010405,
          -0.06846769305685602,
          2.553488550639987,
          -0.09809275094245921,
          1.0530885573770068,
          -1.5470423641151319,
          -2.7885014218021444,
          0.47425994462288223,
          1.4892794517759067,
          -0.42172309615353076,
          -0.09905082778889188,
          0.5774054835753971,
          0.18460369988935615,
          -0.02785843168581629,
          -1.1036759738103374,
          -0.474135721105905,
          -0.6124711047943953,
          0.10813003622608242,
          1.804446472034872,
          0.16118724351311858,
          -0.053463021710888306,
          -0.9108941156513923,
          0.1714273870289398,
          -1.8973499056236238,
          1.7864266672473026,
          1.2007151338638131,
          -0.9068744996688112,
          0.11659544639734006,
          0.20058508971137132,
          -1.8602597423337406,
          1.3964573738687998,
          0.14357841616147643,
          -0.27363474805865806,
          -0.7567940092165989,
          0.8639357076518587,
          1.7574488135100723,
          0.12319664152585351,
          1.5436451668305928,
          -1.2909390728105758,
          -1.0762238927141718,
          0.7011791021336731,
          -0.01899808250300709,
          -1.6908586470464428,
          -1.207040308484164,
          -0.85238176382397,
          -0.0453678985264209,
          -0.13162954399743754,
          -0.08234015768776166,
          0.8834075972458294,
          -0.5709708007470555,
          -0.8480021538235875,
          -1.0568511503362594,
          -0.08352093882807796,
          -0.6498746858584202,
          -1.2074438975271147,
          -0.5079688229414314,
          0.6148451371506651,
          -0.11425738151919548,
          -0.976090291729148
         ],
         "yaxis": "y13"
        },
        {
         "line": {
          "color": "rgba(128, 128, 128, 1.0)",
          "dash": "solid",
          "shape": "linear",
          "width": 1.3
         },
         "marker": {
          "size": 2,
          "symbol": "circle"
         },
         "mode": "markers",
         "name": "D",
         "text": "",
         "type": "scatter",
         "x": [
          2.2070461301559066,
          -0.788131612862357,
          -0.10784315640253468,
          -0.04044160801371967,
          -2.2896748695933327,
          1.3429392443285344,
          1.4865555779792607,
          0.3659741914873344,
          -0.7892499216942237,
          0.1141250947886066,
          -0.6139977202850474,
          0.037322520254553855,
          0.29142557618426357,
          0.4113345097957159,
          1.4192964679111584,
          0.36923408302610705,
          0.48399864965340045,
          0.6079126562865081,
          -0.7977858369497093,
          -0.6119403421986435,
          0.13146439326926732,
          0.08725012491665272,
          0.09456009132885217,
          -2.190707420460496,
          1.12562920670872,
          -0.6839747581993745,
          0.3115134349504725,
          1.4492612304178427,
          0.06999200823006771,
          -0.38800767411587783,
          -0.46598508418374707,
          -2.181197442663968,
          -1.0956797599610515,
          -0.9553121956681996,
          0.42403097594459715,
          -1.6558545434866523,
          -1.3819798723174677,
          1.6854462250364648,
          0.732890145241412,
          -1.3374766327934853,
          -0.3260739282800016,
          1.6637557322566037,
          -0.8409746644861881,
          -1.4111517724895952,
          -0.5393254688380885,
          0.8754720938686266,
          0.9997351757559365,
          -0.049471515590174334,
          0.19908149523353075,
          0.6249144899716452,
          -0.13465543056006563,
          -0.7161254082218936,
          0.907665817980667,
          -1.0156398903308865,
          0.07345276778828155,
          -1.730105693139972,
          -1.2104401316439815,
          -0.42246282382447614,
          1.223087721057286,
          0.25051121377375185,
          -0.11663617757627032,
          0.25283529945234606,
          1.2536411501995246,
          -0.8608597145861724,
          0.06555619946573002,
          1.1958308271299294,
          -1.3876026390431448,
          0.0442082545566528,
          -1.341362716407108,
          1.1968678848787968,
          0.9087380738655427,
          1.5555799622636919,
          0.9353902928609358,
          0.5473797210703165,
          0.7084174573200912,
          -0.3698724043916409,
          -0.21573080837183653,
          0.1359526800212306,
          0.15906429779288436,
          -0.5540236467037417,
          -0.3414189576302107,
          -0.2718414423436621,
          -0.4666969220684351,
          -1.076680135465115,
          1.6120850281316867,
          0.4812952929193751,
          -1.9705129259249963,
          0.31105314049038896,
          0.9222631715288385,
          1.4576098663395574,
          0.09972461282505903,
          0.10840621208454,
          0.7745676451840312,
          0.4074215942586728,
          0.2725750104410174,
          0.39225261140363143,
          -2.3594286944335656,
          -0.22987691975601063,
          -0.10824276280124188,
          -0.7045627207862724
         ],
         "xaxis": "x14",
         "y": [
          0.4402792313594633,
          -2.231875219530463,
          0.506085790169927,
          0.3739216457196463,
          0.5581079001710428,
          0.4274038505191474,
          0.3798748753703595,
          -1.448309773483199,
          -0.26478675575818633,
          -1.5492527548137627,
          -1.5203405467799962,
          0.29671073239926654,
          -1.123886935293182,
          -0.00966584439369465,
          0.2641011324843051,
          -0.03449149511221563,
          1.2535885304778782,
          -1.071374141698954,
          1.4474862451647823,
          -0.44183298656970094,
          0.2238959910693913,
          1.2640035090577666,
          -0.8722077491862223,
          1.0539208141083116,
          -0.05435394505681398,
          0.05858998681185259,
          0.0647952104940045,
          1.3060176712332476,
          -0.5889534365463991,
          1.286879805367101,
          -1.8137269956104176,
          -0.8645353028348475,
          1.1491416413431492,
          -0.48956025462922365,
          -1.212447049698165,
          -0.7566594934068639,
          1.3351510505403292,
          1.0952921221471876,
          0.2109797601915426,
          0.5000273184490857,
          1.5823984923308345,
          0.22291563155010405,
          -0.06846769305685602,
          2.553488550639987,
          -0.09809275094245921,
          1.0530885573770068,
          -1.5470423641151319,
          -2.7885014218021444,
          0.47425994462288223,
          1.4892794517759067,
          -0.42172309615353076,
          -0.09905082778889188,
          0.5774054835753971,
          0.18460369988935615,
          -0.02785843168581629,
          -1.1036759738103374,
          -0.474135721105905,
          -0.6124711047943953,
          0.10813003622608242,
          1.804446472034872,
          0.16118724351311858,
          -0.053463021710888306,
          -0.9108941156513923,
          0.1714273870289398,
          -1.8973499056236238,
          1.7864266672473026,
          1.2007151338638131,
          -0.9068744996688112,
          0.11659544639734006,
          0.20058508971137132,
          -1.8602597423337406,
          1.3964573738687998,
          0.14357841616147643,
          -0.27363474805865806,
          -0.7567940092165989,
          0.8639357076518587,
          1.7574488135100723,
          0.12319664152585351,
          1.5436451668305928,
          -1.2909390728105758,
          -1.0762238927141718,
          0.7011791021336731,
          -0.01899808250300709,
          -1.6908586470464428,
          -1.207040308484164,
          -0.85238176382397,
          -0.0453678985264209,
          -0.13162954399743754,
          -0.08234015768776166,
          0.8834075972458294,
          -0.5709708007470555,
          -0.8480021538235875,
          -1.0568511503362594,
          -0.08352093882807796,
          -0.6498746858584202,
          -1.2074438975271147,
          -0.5079688229414314,
          0.6148451371506651,
          -0.11425738151919548,
          -0.976090291729148
         ],
         "yaxis": "y14"
        },
        {
         "line": {
          "color": "rgba(128, 128, 128, 1.0)",
          "dash": "solid",
          "shape": "linear",
          "width": 1.3
         },
         "marker": {
          "size": 2,
          "symbol": "circle"
         },
         "mode": "markers",
         "name": "D",
         "text": "",
         "type": "scatter",
         "x": [
          -0.6384635434448434,
          0.20129141961750233,
          1.4455203111308286,
          -2.047290855826421,
          -2.029950571478503,
          0.29635493029587623,
          -1.0690424023584588,
          -1.2637584431139288,
          -0.3614137588757708,
          0.32950204350421197,
          0.42846767886560316,
          0.5601788272810735,
          -0.0017168075576362444,
          -0.4972131141137663,
          0.25457364680471645,
          0.2137456547519348,
          -0.4403021838963106,
          -1.0315565236333366,
          -0.023894730689849437,
          0.5924047035997578,
          0.35942749772259,
          -0.6066457895243129,
          -0.2582454921550214,
          -0.26621451459259154,
          -0.9573050494162388,
          -0.8706096263812089,
          0.5102967350809852,
          0.04320071844350394,
          0.19323022101942358,
          -0.5600387594048482,
          0.20515073678384357,
          -0.38367430459649504,
          1.1030134451203024,
          0.17577903989255617,
          0.05909350588535493,
          0.9060438420963102,
          -1.176374199231999,
          -1.6070486970361355,
          1.0184887224199144,
          0.0719696391996265,
          -0.6869826904235876,
          -0.16460152728129593,
          -0.35243474239572575,
          -1.9430458105049733,
          0.2933875677142585,
          0.8147781673269966,
          0.1345823636843486,
          -0.24262686906277547,
          1.2900084062266597,
          -1.742193371249046,
          1.1275374880419575,
          0.576888577525062,
          -1.1794518032333612,
          0.5181270969759182,
          -0.28574157279352047,
          -0.22175649553356597,
          0.2813332139097955,
          -0.5233650816443627,
          -1.4848214871943564,
          -2.2858417656552925,
          -1.4303439360899257,
          -0.7204253348743646,
          -0.9294079819027545,
          -0.9257964005341828,
          0.01871365692644488,
          -1.4190258893838466,
          -1.3911593844039067,
          1.284936979432578,
          -1.917648055426853,
          -1.1439162262493472,
          0.4660789865538819,
          -0.5618536694903467,
          -1.1217661119240674,
          -0.7830955152004814,
          -0.3964975240873266,
          -0.6468406852173031,
          0.34229290137010937,
          -0.5813133729108274,
          -0.525986127539155,
          0.2772442085639978,
          -2.236687488425607,
          -0.7242269897500356,
          -1.737558828333686,
          -1.3565212899183334,
          -0.549044918185219,
          1.3069133552484964,
          -0.2903838593639379,
          -0.8920967004629824,
          -0.9345202102475368,
          0.5497897959314942,
          0.42105714373918907,
          -1.937703571631979,
          -0.871566785049873,
          1.7004145299257194,
          -0.707844864137198,
          0.6009239704775721,
          -1.3318353999603316,
          0.8486676862766808,
          0.4039525974905113,
          0.8514364200361985
         ],
         "xaxis": "x15",
         "y": [
          0.4402792313594633,
          -2.231875219530463,
          0.506085790169927,
          0.3739216457196463,
          0.5581079001710428,
          0.4274038505191474,
          0.3798748753703595,
          -1.448309773483199,
          -0.26478675575818633,
          -1.5492527548137627,
          -1.5203405467799962,
          0.29671073239926654,
          -1.123886935293182,
          -0.00966584439369465,
          0.2641011324843051,
          -0.03449149511221563,
          1.2535885304778782,
          -1.071374141698954,
          1.4474862451647823,
          -0.44183298656970094,
          0.2238959910693913,
          1.2640035090577666,
          -0.8722077491862223,
          1.0539208141083116,
          -0.05435394505681398,
          0.05858998681185259,
          0.0647952104940045,
          1.3060176712332476,
          -0.5889534365463991,
          1.286879805367101,
          -1.8137269956104176,
          -0.8645353028348475,
          1.1491416413431492,
          -0.48956025462922365,
          -1.212447049698165,
          -0.7566594934068639,
          1.3351510505403292,
          1.0952921221471876,
          0.2109797601915426,
          0.5000273184490857,
          1.5823984923308345,
          0.22291563155010405,
          -0.06846769305685602,
          2.553488550639987,
          -0.09809275094245921,
          1.0530885573770068,
          -1.5470423641151319,
          -2.7885014218021444,
          0.47425994462288223,
          1.4892794517759067,
          -0.42172309615353076,
          -0.09905082778889188,
          0.5774054835753971,
          0.18460369988935615,
          -0.02785843168581629,
          -1.1036759738103374,
          -0.474135721105905,
          -0.6124711047943953,
          0.10813003622608242,
          1.804446472034872,
          0.16118724351311858,
          -0.053463021710888306,
          -0.9108941156513923,
          0.1714273870289398,
          -1.8973499056236238,
          1.7864266672473026,
          1.2007151338638131,
          -0.9068744996688112,
          0.11659544639734006,
          0.20058508971137132,
          -1.8602597423337406,
          1.3964573738687998,
          0.14357841616147643,
          -0.27363474805865806,
          -0.7567940092165989,
          0.8639357076518587,
          1.7574488135100723,
          0.12319664152585351,
          1.5436451668305928,
          -1.2909390728105758,
          -1.0762238927141718,
          0.7011791021336731,
          -0.01899808250300709,
          -1.6908586470464428,
          -1.207040308484164,
          -0.85238176382397,
          -0.0453678985264209,
          -0.13162954399743754,
          -0.08234015768776166,
          0.8834075972458294,
          -0.5709708007470555,
          -0.8480021538235875,
          -1.0568511503362594,
          -0.08352093882807796,
          -0.6498746858584202,
          -1.2074438975271147,
          -0.5079688229414314,
          0.6148451371506651,
          -0.11425738151919548,
          -0.976090291729148
         ],
         "yaxis": "y15"
        },
        {
         "histfunc": "count",
         "histnorm": "",
         "marker": {
          "color": "rgba(128, 0, 128, 1.0)",
          "line": {
           "color": "#4D5663",
           "width": 1.3
          }
         },
         "name": "D",
         "nbinsx": 10,
         "opacity": 0.8,
         "orientation": "v",
         "type": "histogram",
         "x": [
          0.4402792313594633,
          -2.231875219530463,
          0.506085790169927,
          0.3739216457196463,
          0.5581079001710428,
          0.4274038505191474,
          0.3798748753703595,
          -1.448309773483199,
          -0.26478675575818633,
          -1.5492527548137627,
          -1.5203405467799962,
          0.29671073239926654,
          -1.123886935293182,
          -0.00966584439369465,
          0.2641011324843051,
          -0.03449149511221563,
          1.2535885304778782,
          -1.071374141698954,
          1.4474862451647823,
          -0.44183298656970094,
          0.2238959910693913,
          1.2640035090577666,
          -0.8722077491862223,
          1.0539208141083116,
          -0.05435394505681398,
          0.05858998681185259,
          0.0647952104940045,
          1.3060176712332476,
          -0.5889534365463991,
          1.286879805367101,
          -1.8137269956104176,
          -0.8645353028348475,
          1.1491416413431492,
          -0.48956025462922365,
          -1.212447049698165,
          -0.7566594934068639,
          1.3351510505403292,
          1.0952921221471876,
          0.2109797601915426,
          0.5000273184490857,
          1.5823984923308345,
          0.22291563155010405,
          -0.06846769305685602,
          2.553488550639987,
          -0.09809275094245921,
          1.0530885573770068,
          -1.5470423641151319,
          -2.7885014218021444,
          0.47425994462288223,
          1.4892794517759067,
          -0.42172309615353076,
          -0.09905082778889188,
          0.5774054835753971,
          0.18460369988935615,
          -0.02785843168581629,
          -1.1036759738103374,
          -0.474135721105905,
          -0.6124711047943953,
          0.10813003622608242,
          1.804446472034872,
          0.16118724351311858,
          -0.053463021710888306,
          -0.9108941156513923,
          0.1714273870289398,
          -1.8973499056236238,
          1.7864266672473026,
          1.2007151338638131,
          -0.9068744996688112,
          0.11659544639734006,
          0.20058508971137132,
          -1.8602597423337406,
          1.3964573738687998,
          0.14357841616147643,
          -0.27363474805865806,
          -0.7567940092165989,
          0.8639357076518587,
          1.7574488135100723,
          0.12319664152585351,
          1.5436451668305928,
          -1.2909390728105758,
          -1.0762238927141718,
          0.7011791021336731,
          -0.01899808250300709,
          -1.6908586470464428,
          -1.207040308484164,
          -0.85238176382397,
          -0.0453678985264209,
          -0.13162954399743754,
          -0.08234015768776166,
          0.8834075972458294,
          -0.5709708007470555,
          -0.8480021538235875,
          -1.0568511503362594,
          -0.08352093882807796,
          -0.6498746858584202,
          -1.2074438975271147,
          -0.5079688229414314,
          0.6148451371506651,
          -0.11425738151919548,
          -0.976090291729148
         ],
         "xaxis": "x16",
         "yaxis": "y16"
        }
       ],
       "layout": {
        "bargap": 0.02,
        "legend": {
         "bgcolor": "#F5F6F9",
         "font": {
          "color": "#4D5663"
         }
        },
        "paper_bgcolor": "#F5F6F9",
        "plot_bgcolor": "#F5F6F9",
        "showlegend": false,
        "template": {
         "data": {
          "bar": [
           {
            "error_x": {
             "color": "#2a3f5f"
            },
            "error_y": {
             "color": "#2a3f5f"
            },
            "marker": {
             "line": {
              "color": "#E5ECF6",
              "width": 0.5
             }
            },
            "type": "bar"
           }
          ],
          "barpolar": [
           {
            "marker": {
             "line": {
              "color": "#E5ECF6",
              "width": 0.5
             }
            },
            "type": "barpolar"
           }
          ],
          "carpet": [
           {
            "aaxis": {
             "endlinecolor": "#2a3f5f",
             "gridcolor": "white",
             "linecolor": "white",
             "minorgridcolor": "white",
             "startlinecolor": "#2a3f5f"
            },
            "baxis": {
             "endlinecolor": "#2a3f5f",
             "gridcolor": "white",
             "linecolor": "white",
             "minorgridcolor": "white",
             "startlinecolor": "#2a3f5f"
            },
            "type": "carpet"
           }
          ],
          "choropleth": [
           {
            "colorbar": {
             "outlinewidth": 0,
             "ticks": ""
            },
            "type": "choropleth"
           }
          ],
          "contour": [
           {
            "colorbar": {
             "outlinewidth": 0,
             "ticks": ""
            },
            "colorscale": [
             [
              0,
              "#0d0887"
             ],
             [
              0.1111111111111111,
              "#46039f"
             ],
             [
              0.2222222222222222,
              "#7201a8"
             ],
             [
              0.3333333333333333,
              "#9c179e"
             ],
             [
              0.4444444444444444,
              "#bd3786"
             ],
             [
              0.5555555555555556,
              "#d8576b"
             ],
             [
              0.6666666666666666,
              "#ed7953"
             ],
             [
              0.7777777777777778,
              "#fb9f3a"
             ],
             [
              0.8888888888888888,
              "#fdca26"
             ],
             [
              1,
              "#f0f921"
             ]
            ],
            "type": "contour"
           }
          ],
          "contourcarpet": [
           {
            "colorbar": {
             "outlinewidth": 0,
             "ticks": ""
            },
            "type": "contourcarpet"
           }
          ],
          "heatmap": [
           {
            "colorbar": {
             "outlinewidth": 0,
             "ticks": ""
            },
            "colorscale": [
             [
              0,
              "#0d0887"
             ],
             [
              0.1111111111111111,
              "#46039f"
             ],
             [
              0.2222222222222222,
              "#7201a8"
             ],
             [
              0.3333333333333333,
              "#9c179e"
             ],
             [
              0.4444444444444444,
              "#bd3786"
             ],
             [
              0.5555555555555556,
              "#d8576b"
             ],
             [
              0.6666666666666666,
              "#ed7953"
             ],
             [
              0.7777777777777778,
              "#fb9f3a"
             ],
             [
              0.8888888888888888,
              "#fdca26"
             ],
             [
              1,
              "#f0f921"
             ]
            ],
            "type": "heatmap"
           }
          ],
          "heatmapgl": [
           {
            "colorbar": {
             "outlinewidth": 0,
             "ticks": ""
            },
            "colorscale": [
             [
              0,
              "#0d0887"
             ],
             [
              0.1111111111111111,
              "#46039f"
             ],
             [
              0.2222222222222222,
              "#7201a8"
             ],
             [
              0.3333333333333333,
              "#9c179e"
             ],
             [
              0.4444444444444444,
              "#bd3786"
             ],
             [
              0.5555555555555556,
              "#d8576b"
             ],
             [
              0.6666666666666666,
              "#ed7953"
             ],
             [
              0.7777777777777778,
              "#fb9f3a"
             ],
             [
              0.8888888888888888,
              "#fdca26"
             ],
             [
              1,
              "#f0f921"
             ]
            ],
            "type": "heatmapgl"
           }
          ],
          "histogram": [
           {
            "marker": {
             "colorbar": {
              "outlinewidth": 0,
              "ticks": ""
             }
            },
            "type": "histogram"
           }
          ],
          "histogram2d": [
           {
            "colorbar": {
             "outlinewidth": 0,
             "ticks": ""
            },
            "colorscale": [
             [
              0,
              "#0d0887"
             ],
             [
              0.1111111111111111,
              "#46039f"
             ],
             [
              0.2222222222222222,
              "#7201a8"
             ],
             [
              0.3333333333333333,
              "#9c179e"
             ],
             [
              0.4444444444444444,
              "#bd3786"
             ],
             [
              0.5555555555555556,
              "#d8576b"
             ],
             [
              0.6666666666666666,
              "#ed7953"
             ],
             [
              0.7777777777777778,
              "#fb9f3a"
             ],
             [
              0.8888888888888888,
              "#fdca26"
             ],
             [
              1,
              "#f0f921"
             ]
            ],
            "type": "histogram2d"
           }
          ],
          "histogram2dcontour": [
           {
            "colorbar": {
             "outlinewidth": 0,
             "ticks": ""
            },
            "colorscale": [
             [
              0,
              "#0d0887"
             ],
             [
              0.1111111111111111,
              "#46039f"
             ],
             [
              0.2222222222222222,
              "#7201a8"
             ],
             [
              0.3333333333333333,
              "#9c179e"
             ],
             [
              0.4444444444444444,
              "#bd3786"
             ],
             [
              0.5555555555555556,
              "#d8576b"
             ],
             [
              0.6666666666666666,
              "#ed7953"
             ],
             [
              0.7777777777777778,
              "#fb9f3a"
             ],
             [
              0.8888888888888888,
              "#fdca26"
             ],
             [
              1,
              "#f0f921"
             ]
            ],
            "type": "histogram2dcontour"
           }
          ],
          "mesh3d": [
           {
            "colorbar": {
             "outlinewidth": 0,
             "ticks": ""
            },
            "type": "mesh3d"
           }
          ],
          "parcoords": [
           {
            "line": {
             "colorbar": {
              "outlinewidth": 0,
              "ticks": ""
             }
            },
            "type": "parcoords"
           }
          ],
          "pie": [
           {
            "automargin": true,
            "type": "pie"
           }
          ],
          "scatter": [
           {
            "marker": {
             "colorbar": {
              "outlinewidth": 0,
              "ticks": ""
             }
            },
            "type": "scatter"
           }
          ],
          "scatter3d": [
           {
            "line": {
             "colorbar": {
              "outlinewidth": 0,
              "ticks": ""
             }
            },
            "marker": {
             "colorbar": {
              "outlinewidth": 0,
              "ticks": ""
             }
            },
            "type": "scatter3d"
           }
          ],
          "scattercarpet": [
           {
            "marker": {
             "colorbar": {
              "outlinewidth": 0,
              "ticks": ""
             }
            },
            "type": "scattercarpet"
           }
          ],
          "scattergeo": [
           {
            "marker": {
             "colorbar": {
              "outlinewidth": 0,
              "ticks": ""
             }
            },
            "type": "scattergeo"
           }
          ],
          "scattergl": [
           {
            "marker": {
             "colorbar": {
              "outlinewidth": 0,
              "ticks": ""
             }
            },
            "type": "scattergl"
           }
          ],
          "scattermapbox": [
           {
            "marker": {
             "colorbar": {
              "outlinewidth": 0,
              "ticks": ""
             }
            },
            "type": "scattermapbox"
           }
          ],
          "scatterpolar": [
           {
            "marker": {
             "colorbar": {
              "outlinewidth": 0,
              "ticks": ""
             }
            },
            "type": "scatterpolar"
           }
          ],
          "scatterpolargl": [
           {
            "marker": {
             "colorbar": {
              "outlinewidth": 0,
              "ticks": ""
             }
            },
            "type": "scatterpolargl"
           }
          ],
          "scatterternary": [
           {
            "marker": {
             "colorbar": {
              "outlinewidth": 0,
              "ticks": ""
             }
            },
            "type": "scatterternary"
           }
          ],
          "surface": [
           {
            "colorbar": {
             "outlinewidth": 0,
             "ticks": ""
            },
            "colorscale": [
             [
              0,
              "#0d0887"
             ],
             [
              0.1111111111111111,
              "#46039f"
             ],
             [
              0.2222222222222222,
              "#7201a8"
             ],
             [
              0.3333333333333333,
              "#9c179e"
             ],
             [
              0.4444444444444444,
              "#bd3786"
             ],
             [
              0.5555555555555556,
              "#d8576b"
             ],
             [
              0.6666666666666666,
              "#ed7953"
             ],
             [
              0.7777777777777778,
              "#fb9f3a"
             ],
             [
              0.8888888888888888,
              "#fdca26"
             ],
             [
              1,
              "#f0f921"
             ]
            ],
            "type": "surface"
           }
          ],
          "table": [
           {
            "cells": {
             "fill": {
              "color": "#EBF0F8"
             },
             "line": {
              "color": "white"
             }
            },
            "header": {
             "fill": {
              "color": "#C8D4E3"
             },
             "line": {
              "color": "white"
             }
            },
            "type": "table"
           }
          ]
         },
         "layout": {
          "annotationdefaults": {
           "arrowcolor": "#2a3f5f",
           "arrowhead": 0,
           "arrowwidth": 1
          },
          "coloraxis": {
           "colorbar": {
            "outlinewidth": 0,
            "ticks": ""
           }
          },
          "colorscale": {
           "diverging": [
            [
             0,
             "#8e0152"
            ],
            [
             0.1,
             "#c51b7d"
            ],
            [
             0.2,
             "#de77ae"
            ],
            [
             0.3,
             "#f1b6da"
            ],
            [
             0.4,
             "#fde0ef"
            ],
            [
             0.5,
             "#f7f7f7"
            ],
            [
             0.6,
             "#e6f5d0"
            ],
            [
             0.7,
             "#b8e186"
            ],
            [
             0.8,
             "#7fbc41"
            ],
            [
             0.9,
             "#4d9221"
            ],
            [
             1,
             "#276419"
            ]
           ],
           "sequential": [
            [
             0,
             "#0d0887"
            ],
            [
             0.1111111111111111,
             "#46039f"
            ],
            [
             0.2222222222222222,
             "#7201a8"
            ],
            [
             0.3333333333333333,
             "#9c179e"
            ],
            [
             0.4444444444444444,
             "#bd3786"
            ],
            [
             0.5555555555555556,
             "#d8576b"
            ],
            [
             0.6666666666666666,
             "#ed7953"
            ],
            [
             0.7777777777777778,
             "#fb9f3a"
            ],
            [
             0.8888888888888888,
             "#fdca26"
            ],
            [
             1,
             "#f0f921"
            ]
           ],
           "sequentialminus": [
            [
             0,
             "#0d0887"
            ],
            [
             0.1111111111111111,
             "#46039f"
            ],
            [
             0.2222222222222222,
             "#7201a8"
            ],
            [
             0.3333333333333333,
             "#9c179e"
            ],
            [
             0.4444444444444444,
             "#bd3786"
            ],
            [
             0.5555555555555556,
             "#d8576b"
            ],
            [
             0.6666666666666666,
             "#ed7953"
            ],
            [
             0.7777777777777778,
             "#fb9f3a"
            ],
            [
             0.8888888888888888,
             "#fdca26"
            ],
            [
             1,
             "#f0f921"
            ]
           ]
          },
          "colorway": [
           "#636efa",
           "#EF553B",
           "#00cc96",
           "#ab63fa",
           "#FFA15A",
           "#19d3f3",
           "#FF6692",
           "#B6E880",
           "#FF97FF",
           "#FECB52"
          ],
          "font": {
           "color": "#2a3f5f"
          },
          "geo": {
           "bgcolor": "white",
           "lakecolor": "white",
           "landcolor": "#E5ECF6",
           "showlakes": true,
           "showland": true,
           "subunitcolor": "white"
          },
          "hoverlabel": {
           "align": "left"
          },
          "hovermode": "closest",
          "mapbox": {
           "style": "light"
          },
          "paper_bgcolor": "white",
          "plot_bgcolor": "#E5ECF6",
          "polar": {
           "angularaxis": {
            "gridcolor": "white",
            "linecolor": "white",
            "ticks": ""
           },
           "bgcolor": "#E5ECF6",
           "radialaxis": {
            "gridcolor": "white",
            "linecolor": "white",
            "ticks": ""
           }
          },
          "scene": {
           "xaxis": {
            "backgroundcolor": "#E5ECF6",
            "gridcolor": "white",
            "gridwidth": 2,
            "linecolor": "white",
            "showbackground": true,
            "ticks": "",
            "zerolinecolor": "white"
           },
           "yaxis": {
            "backgroundcolor": "#E5ECF6",
            "gridcolor": "white",
            "gridwidth": 2,
            "linecolor": "white",
            "showbackground": true,
            "ticks": "",
            "zerolinecolor": "white"
           },
           "zaxis": {
            "backgroundcolor": "#E5ECF6",
            "gridcolor": "white",
            "gridwidth": 2,
            "linecolor": "white",
            "showbackground": true,
            "ticks": "",
            "zerolinecolor": "white"
           }
          },
          "shapedefaults": {
           "line": {
            "color": "#2a3f5f"
           }
          },
          "ternary": {
           "aaxis": {
            "gridcolor": "white",
            "linecolor": "white",
            "ticks": ""
           },
           "baxis": {
            "gridcolor": "white",
            "linecolor": "white",
            "ticks": ""
           },
           "bgcolor": "#E5ECF6",
           "caxis": {
            "gridcolor": "white",
            "linecolor": "white",
            "ticks": ""
           }
          },
          "title": {
           "x": 0.05
          },
          "xaxis": {
           "automargin": true,
           "gridcolor": "white",
           "linecolor": "white",
           "ticks": "",
           "title": {
            "standoff": 15
           },
           "zerolinecolor": "white",
           "zerolinewidth": 2
          },
          "yaxis": {
           "automargin": true,
           "gridcolor": "white",
           "linecolor": "white",
           "ticks": "",
           "title": {
            "standoff": 15
           },
           "zerolinecolor": "white",
           "zerolinewidth": 2
          }
         }
        },
        "title": {
         "font": {
          "color": "#4D5663"
         }
        },
        "xaxis": {
         "anchor": "y",
         "domain": [
          0,
          0.2125
         ],
         "gridcolor": "#E1E5ED",
         "showgrid": false,
         "tickfont": {
          "color": "#4D5663"
         },
         "title": {
          "font": {
           "color": "#4D5663"
          },
          "text": ""
         },
         "zerolinecolor": "#E1E5ED"
        },
        "xaxis10": {
         "anchor": "y10",
         "domain": [
          0.2625,
          0.475
         ],
         "gridcolor": "#E1E5ED",
         "showgrid": false,
         "tickfont": {
          "color": "#4D5663"
         },
         "title": {
          "font": {
           "color": "#4D5663"
          },
          "text": ""
         },
         "zerolinecolor": "#E1E5ED"
        },
        "xaxis11": {
         "anchor": "y11",
         "domain": [
          0.525,
          0.7375
         ],
         "gridcolor": "#E1E5ED",
         "showgrid": false,
         "tickfont": {
          "color": "#4D5663"
         },
         "title": {
          "font": {
           "color": "#4D5663"
          },
          "text": ""
         },
         "zerolinecolor": "#E1E5ED"
        },
        "xaxis12": {
         "anchor": "y12",
         "domain": [
          0.7875,
          1
         ],
         "gridcolor": "#E1E5ED",
         "showgrid": false,
         "tickfont": {
          "color": "#4D5663"
         },
         "title": {
          "font": {
           "color": "#4D5663"
          },
          "text": ""
         },
         "zerolinecolor": "#E1E5ED"
        },
        "xaxis13": {
         "anchor": "y13",
         "domain": [
          0,
          0.2125
         ],
         "gridcolor": "#E1E5ED",
         "showgrid": false,
         "tickfont": {
          "color": "#4D5663"
         },
         "title": {
          "font": {
           "color": "#4D5663"
          },
          "text": ""
         },
         "zerolinecolor": "#E1E5ED"
        },
        "xaxis14": {
         "anchor": "y14",
         "domain": [
          0.2625,
          0.475
         ],
         "gridcolor": "#E1E5ED",
         "showgrid": false,
         "tickfont": {
          "color": "#4D5663"
         },
         "title": {
          "font": {
           "color": "#4D5663"
          },
          "text": ""
         },
         "zerolinecolor": "#E1E5ED"
        },
        "xaxis15": {
         "anchor": "y15",
         "domain": [
          0.525,
          0.7375
         ],
         "gridcolor": "#E1E5ED",
         "showgrid": false,
         "tickfont": {
          "color": "#4D5663"
         },
         "title": {
          "font": {
           "color": "#4D5663"
          },
          "text": ""
         },
         "zerolinecolor": "#E1E5ED"
        },
        "xaxis16": {
         "anchor": "y16",
         "domain": [
          0.7875,
          1
         ],
         "gridcolor": "#E1E5ED",
         "showgrid": false,
         "tickfont": {
          "color": "#4D5663"
         },
         "title": {
          "font": {
           "color": "#4D5663"
          },
          "text": ""
         },
         "zerolinecolor": "#E1E5ED"
        },
        "xaxis2": {
         "anchor": "y2",
         "domain": [
          0.2625,
          0.475
         ],
         "gridcolor": "#E1E5ED",
         "showgrid": false,
         "tickfont": {
          "color": "#4D5663"
         },
         "title": {
          "font": {
           "color": "#4D5663"
          },
          "text": ""
         },
         "zerolinecolor": "#E1E5ED"
        },
        "xaxis3": {
         "anchor": "y3",
         "domain": [
          0.525,
          0.7375
         ],
         "gridcolor": "#E1E5ED",
         "showgrid": false,
         "tickfont": {
          "color": "#4D5663"
         },
         "title": {
          "font": {
           "color": "#4D5663"
          },
          "text": ""
         },
         "zerolinecolor": "#E1E5ED"
        },
        "xaxis4": {
         "anchor": "y4",
         "domain": [
          0.7875,
          1
         ],
         "gridcolor": "#E1E5ED",
         "showgrid": false,
         "tickfont": {
          "color": "#4D5663"
         },
         "title": {
          "font": {
           "color": "#4D5663"
          },
          "text": ""
         },
         "zerolinecolor": "#E1E5ED"
        },
        "xaxis5": {
         "anchor": "y5",
         "domain": [
          0,
          0.2125
         ],
         "gridcolor": "#E1E5ED",
         "showgrid": false,
         "tickfont": {
          "color": "#4D5663"
         },
         "title": {
          "font": {
           "color": "#4D5663"
          },
          "text": ""
         },
         "zerolinecolor": "#E1E5ED"
        },
        "xaxis6": {
         "anchor": "y6",
         "domain": [
          0.2625,
          0.475
         ],
         "gridcolor": "#E1E5ED",
         "showgrid": false,
         "tickfont": {
          "color": "#4D5663"
         },
         "title": {
          "font": {
           "color": "#4D5663"
          },
          "text": ""
         },
         "zerolinecolor": "#E1E5ED"
        },
        "xaxis7": {
         "anchor": "y7",
         "domain": [
          0.525,
          0.7375
         ],
         "gridcolor": "#E1E5ED",
         "showgrid": false,
         "tickfont": {
          "color": "#4D5663"
         },
         "title": {
          "font": {
           "color": "#4D5663"
          },
          "text": ""
         },
         "zerolinecolor": "#E1E5ED"
        },
        "xaxis8": {
         "anchor": "y8",
         "domain": [
          0.7875,
          1
         ],
         "gridcolor": "#E1E5ED",
         "showgrid": false,
         "tickfont": {
          "color": "#4D5663"
         },
         "title": {
          "font": {
           "color": "#4D5663"
          },
          "text": ""
         },
         "zerolinecolor": "#E1E5ED"
        },
        "xaxis9": {
         "anchor": "y9",
         "domain": [
          0,
          0.2125
         ],
         "gridcolor": "#E1E5ED",
         "showgrid": false,
         "tickfont": {
          "color": "#4D5663"
         },
         "title": {
          "font": {
           "color": "#4D5663"
          },
          "text": ""
         },
         "zerolinecolor": "#E1E5ED"
        },
        "yaxis": {
         "anchor": "x",
         "domain": [
          0.8025,
          1
         ],
         "gridcolor": "#E1E5ED",
         "showgrid": false,
         "tickfont": {
          "color": "#4D5663"
         },
         "title": {
          "font": {
           "color": "#4D5663"
          },
          "text": ""
         },
         "zerolinecolor": "#E1E5ED"
        },
        "yaxis10": {
         "anchor": "x10",
         "domain": [
          0.2675,
          0.465
         ],
         "gridcolor": "#E1E5ED",
         "showgrid": false,
         "tickfont": {
          "color": "#4D5663"
         },
         "title": {
          "font": {
           "color": "#4D5663"
          },
          "text": ""
         },
         "zerolinecolor": "#E1E5ED"
        },
        "yaxis11": {
         "anchor": "x11",
         "domain": [
          0.2675,
          0.465
         ],
         "gridcolor": "#E1E5ED",
         "showgrid": false,
         "tickfont": {
          "color": "#4D5663"
         },
         "title": {
          "font": {
           "color": "#4D5663"
          },
          "text": ""
         },
         "zerolinecolor": "#E1E5ED"
        },
        "yaxis12": {
         "anchor": "x12",
         "domain": [
          0.2675,
          0.465
         ],
         "gridcolor": "#E1E5ED",
         "showgrid": false,
         "tickfont": {
          "color": "#4D5663"
         },
         "title": {
          "font": {
           "color": "#4D5663"
          },
          "text": ""
         },
         "zerolinecolor": "#E1E5ED"
        },
        "yaxis13": {
         "anchor": "x13",
         "domain": [
          0,
          0.1975
         ],
         "gridcolor": "#E1E5ED",
         "showgrid": false,
         "tickfont": {
          "color": "#4D5663"
         },
         "title": {
          "font": {
           "color": "#4D5663"
          },
          "text": ""
         },
         "zerolinecolor": "#E1E5ED"
        },
        "yaxis14": {
         "anchor": "x14",
         "domain": [
          0,
          0.1975
         ],
         "gridcolor": "#E1E5ED",
         "showgrid": false,
         "tickfont": {
          "color": "#4D5663"
         },
         "title": {
          "font": {
           "color": "#4D5663"
          },
          "text": ""
         },
         "zerolinecolor": "#E1E5ED"
        },
        "yaxis15": {
         "anchor": "x15",
         "domain": [
          0,
          0.1975
         ],
         "gridcolor": "#E1E5ED",
         "showgrid": false,
         "tickfont": {
          "color": "#4D5663"
         },
         "title": {
          "font": {
           "color": "#4D5663"
          },
          "text": ""
         },
         "zerolinecolor": "#E1E5ED"
        },
        "yaxis16": {
         "anchor": "x16",
         "domain": [
          0,
          0.1975
         ],
         "gridcolor": "#E1E5ED",
         "showgrid": false,
         "tickfont": {
          "color": "#4D5663"
         },
         "title": {
          "font": {
           "color": "#4D5663"
          },
          "text": ""
         },
         "zerolinecolor": "#E1E5ED"
        },
        "yaxis2": {
         "anchor": "x2",
         "domain": [
          0.8025,
          1
         ],
         "gridcolor": "#E1E5ED",
         "showgrid": false,
         "tickfont": {
          "color": "#4D5663"
         },
         "title": {
          "font": {
           "color": "#4D5663"
          },
          "text": ""
         },
         "zerolinecolor": "#E1E5ED"
        },
        "yaxis3": {
         "anchor": "x3",
         "domain": [
          0.8025,
          1
         ],
         "gridcolor": "#E1E5ED",
         "showgrid": false,
         "tickfont": {
          "color": "#4D5663"
         },
         "title": {
          "font": {
           "color": "#4D5663"
          },
          "text": ""
         },
         "zerolinecolor": "#E1E5ED"
        },
        "yaxis4": {
         "anchor": "x4",
         "domain": [
          0.8025,
          1
         ],
         "gridcolor": "#E1E5ED",
         "showgrid": false,
         "tickfont": {
          "color": "#4D5663"
         },
         "title": {
          "font": {
           "color": "#4D5663"
          },
          "text": ""
         },
         "zerolinecolor": "#E1E5ED"
        },
        "yaxis5": {
         "anchor": "x5",
         "domain": [
          0.535,
          0.7325
         ],
         "gridcolor": "#E1E5ED",
         "showgrid": false,
         "tickfont": {
          "color": "#4D5663"
         },
         "title": {
          "font": {
           "color": "#4D5663"
          },
          "text": ""
         },
         "zerolinecolor": "#E1E5ED"
        },
        "yaxis6": {
         "anchor": "x6",
         "domain": [
          0.535,
          0.7325
         ],
         "gridcolor": "#E1E5ED",
         "showgrid": false,
         "tickfont": {
          "color": "#4D5663"
         },
         "title": {
          "font": {
           "color": "#4D5663"
          },
          "text": ""
         },
         "zerolinecolor": "#E1E5ED"
        },
        "yaxis7": {
         "anchor": "x7",
         "domain": [
          0.535,
          0.7325
         ],
         "gridcolor": "#E1E5ED",
         "showgrid": false,
         "tickfont": {
          "color": "#4D5663"
         },
         "title": {
          "font": {
           "color": "#4D5663"
          },
          "text": ""
         },
         "zerolinecolor": "#E1E5ED"
        },
        "yaxis8": {
         "anchor": "x8",
         "domain": [
          0.535,
          0.7325
         ],
         "gridcolor": "#E1E5ED",
         "showgrid": false,
         "tickfont": {
          "color": "#4D5663"
         },
         "title": {
          "font": {
           "color": "#4D5663"
          },
          "text": ""
         },
         "zerolinecolor": "#E1E5ED"
        },
        "yaxis9": {
         "anchor": "x9",
         "domain": [
          0.2675,
          0.465
         ],
         "gridcolor": "#E1E5ED",
         "showgrid": false,
         "tickfont": {
          "color": "#4D5663"
         },
         "title": {
          "font": {
           "color": "#4D5663"
          },
          "text": ""
         },
         "zerolinecolor": "#E1E5ED"
        }
       }
      },
      "text/html": [
       "<div>                            <div id=\"085ec4f4-39c9-497b-b2a0-4c2b158c527c\" class=\"plotly-graph-div\" style=\"height:525px; width:100%;\"></div>            <script type=\"text/javascript\">                require([\"plotly\"], function(Plotly) {                    window.PLOTLYENV=window.PLOTLYENV || {};\n",
       "                    window.PLOTLYENV.BASE_URL='https://plot.ly';                                    if (document.getElementById(\"085ec4f4-39c9-497b-b2a0-4c2b158c527c\")) {                    Plotly.newPlot(                        \"085ec4f4-39c9-497b-b2a0-4c2b158c527c\",                        [{\"histfunc\": \"count\", \"histnorm\": \"\", \"marker\": {\"color\": \"rgba(255, 153, 51, 1.0)\", \"line\": {\"color\": \"#4D5663\", \"width\": 1.3}}, \"name\": \"A\", \"nbinsx\": 10, \"opacity\": 0.8, \"orientation\": \"v\", \"type\": \"histogram\", \"x\": [-0.39918119580901057, 0.7418621453466906, -0.4313355775472436, 0.3355224667718379, -0.7151869915905287, 0.145668325550864, 0.15591577298259662, 0.016226263834492997, 0.4605683837845119, -1.4139591642678533, -3.346775721169021, -1.2159667506526999, 0.5809608144629882, -0.26283320353488304, 1.2113580317867414, -0.4415756722746691, 2.2884194084433775, 1.0557466676734149, -1.442826254773536, -0.8063709415927582, 0.922383051818235, -0.3878906835859324, 0.025967017018530797, 0.6044282595635964, -0.7065329352842874, 0.9150675435000666, 0.18735127393393106, -0.2845605758953672, -0.09322552030780629, -0.1639557134477811, 0.156542641123135, -0.9341454884535909, -1.1960968243851422, -0.7420113595879909, -1.1231115173825923, -0.06575340563803043, -1.2314451894847818, -0.7004696413846199, 0.2750929324690308, 0.7915002131579784, -1.1253744106107293, 0.5712846346931809, -1.7280218331388324, 0.36865239908201825, -1.0668871446136439, -0.9061338046467238, -1.037945002921429, -0.5578754042788866, 0.14708542676641603, 0.8746134766485341, -0.36276225986481275, 0.12243563569516946, -0.05854080893376823, 1.162186833598004, -1.104489545096553, -0.26487716168614467, -0.05463255455270555, 1.495963991909491, 1.4742509865754625, 0.8390497854946452, 0.5108072739104828, -0.29675905041248607, 0.4317219076292566, 0.7526597856998946, -1.2662095357984315, -0.20809051371739795, -1.4334480138884427, 0.41521475437323424, -0.3681440922719436, -0.4974530040747305, 0.332517930744042, 0.1235890800313146, 0.5909382100815366, -1.0065808800216673, -0.6822563665823921, 1.1077016925230518, 0.07703396073766987, 0.42953692998520493, 0.7592976638295739, -0.8805787003240935, 1.5490488597669556, -0.2766809050067881, 0.7018174178549077, 0.1314637920120881, -0.40257295954386835, -0.6849120108591445, -0.8530469126783897, -0.8710488904466427, -0.40143057082221745, 0.5753943378178665, 0.5232222120203804, -0.22675126963357795, -1.0348115402137625, -0.026371322901696262, 0.7374597636331084, 0.23308846902896885, -0.4367113468497734, 0.5978251807763769, 0.6581567165919348, 1.600974778682548], \"xaxis\": \"x\", \"yaxis\": \"y\"}, {\"line\": {\"color\": \"rgba(128, 128, 128, 1.0)\", \"dash\": \"solid\", \"shape\": \"linear\", \"width\": 1.3}, \"marker\": {\"size\": 2, \"symbol\": \"circle\"}, \"mode\": \"markers\", \"name\": \"A\", \"text\": \"\", \"type\": \"scatter\", \"x\": [2.2070461301559066, -0.788131612862357, -0.10784315640253468, -0.04044160801371967, -2.2896748695933327, 1.3429392443285344, 1.4865555779792607, 0.3659741914873344, -0.7892499216942237, 0.1141250947886066, -0.6139977202850474, 0.037322520254553855, 0.29142557618426357, 0.4113345097957159, 1.4192964679111584, 0.36923408302610705, 0.48399864965340045, 0.6079126562865081, -0.7977858369497093, -0.6119403421986435, 0.13146439326926732, 0.08725012491665272, 0.09456009132885217, -2.190707420460496, 1.12562920670872, -0.6839747581993745, 0.3115134349504725, 1.4492612304178427, 0.06999200823006771, -0.38800767411587783, -0.46598508418374707, -2.181197442663968, -1.0956797599610515, -0.9553121956681996, 0.42403097594459715, -1.6558545434866523, -1.3819798723174677, 1.6854462250364648, 0.732890145241412, -1.3374766327934853, -0.3260739282800016, 1.6637557322566037, -0.8409746644861881, -1.4111517724895952, -0.5393254688380885, 0.8754720938686266, 0.9997351757559365, -0.049471515590174334, 0.19908149523353075, 0.6249144899716452, -0.13465543056006563, -0.7161254082218936, 0.907665817980667, -1.0156398903308865, 0.07345276778828155, -1.730105693139972, -1.2104401316439815, -0.42246282382447614, 1.223087721057286, 0.25051121377375185, -0.11663617757627032, 0.25283529945234606, 1.2536411501995246, -0.8608597145861724, 0.06555619946573002, 1.1958308271299294, -1.3876026390431448, 0.0442082545566528, -1.341362716407108, 1.1968678848787968, 0.9087380738655427, 1.5555799622636919, 0.9353902928609358, 0.5473797210703165, 0.7084174573200912, -0.3698724043916409, -0.21573080837183653, 0.1359526800212306, 0.15906429779288436, -0.5540236467037417, -0.3414189576302107, -0.2718414423436621, -0.4666969220684351, -1.076680135465115, 1.6120850281316867, 0.4812952929193751, -1.9705129259249963, 0.31105314049038896, 0.9222631715288385, 1.4576098663395574, 0.09972461282505903, 0.10840621208454, 0.7745676451840312, 0.4074215942586728, 0.2725750104410174, 0.39225261140363143, -2.3594286944335656, -0.22987691975601063, -0.10824276280124188, -0.7045627207862724], \"xaxis\": \"x2\", \"y\": [-0.39918119580901057, 0.7418621453466906, -0.4313355775472436, 0.3355224667718379, -0.7151869915905287, 0.145668325550864, 0.15591577298259662, 0.016226263834492997, 0.4605683837845119, -1.4139591642678533, -3.346775721169021, -1.2159667506526999, 0.5809608144629882, -0.26283320353488304, 1.2113580317867414, -0.4415756722746691, 2.2884194084433775, 1.0557466676734149, -1.442826254773536, -0.8063709415927582, 0.922383051818235, -0.3878906835859324, 0.025967017018530797, 0.6044282595635964, -0.7065329352842874, 0.9150675435000666, 0.18735127393393106, -0.2845605758953672, -0.09322552030780629, -0.1639557134477811, 0.156542641123135, -0.9341454884535909, -1.1960968243851422, -0.7420113595879909, -1.1231115173825923, -0.06575340563803043, -1.2314451894847818, -0.7004696413846199, 0.2750929324690308, 0.7915002131579784, -1.1253744106107293, 0.5712846346931809, -1.7280218331388324, 0.36865239908201825, -1.0668871446136439, -0.9061338046467238, -1.037945002921429, -0.5578754042788866, 0.14708542676641603, 0.8746134766485341, -0.36276225986481275, 0.12243563569516946, -0.05854080893376823, 1.162186833598004, -1.104489545096553, -0.26487716168614467, -0.05463255455270555, 1.495963991909491, 1.4742509865754625, 0.8390497854946452, 0.5108072739104828, -0.29675905041248607, 0.4317219076292566, 0.7526597856998946, -1.2662095357984315, -0.20809051371739795, -1.4334480138884427, 0.41521475437323424, -0.3681440922719436, -0.4974530040747305, 0.332517930744042, 0.1235890800313146, 0.5909382100815366, -1.0065808800216673, -0.6822563665823921, 1.1077016925230518, 0.07703396073766987, 0.42953692998520493, 0.7592976638295739, -0.8805787003240935, 1.5490488597669556, -0.2766809050067881, 0.7018174178549077, 0.1314637920120881, -0.40257295954386835, -0.6849120108591445, -0.8530469126783897, -0.8710488904466427, -0.40143057082221745, 0.5753943378178665, 0.5232222120203804, -0.22675126963357795, -1.0348115402137625, -0.026371322901696262, 0.7374597636331084, 0.23308846902896885, -0.4367113468497734, 0.5978251807763769, 0.6581567165919348, 1.600974778682548], \"yaxis\": \"y2\"}, {\"line\": {\"color\": \"rgba(128, 128, 128, 1.0)\", \"dash\": \"solid\", \"shape\": \"linear\", \"width\": 1.3}, \"marker\": {\"size\": 2, \"symbol\": \"circle\"}, \"mode\": \"markers\", \"name\": \"A\", \"text\": \"\", \"type\": \"scatter\", \"x\": [-0.6384635434448434, 0.20129141961750233, 1.4455203111308286, -2.047290855826421, -2.029950571478503, 0.29635493029587623, -1.0690424023584588, -1.2637584431139288, -0.3614137588757708, 0.32950204350421197, 0.42846767886560316, 0.5601788272810735, -0.0017168075576362444, -0.4972131141137663, 0.25457364680471645, 0.2137456547519348, -0.4403021838963106, -1.0315565236333366, -0.023894730689849437, 0.5924047035997578, 0.35942749772259, -0.6066457895243129, -0.2582454921550214, -0.26621451459259154, -0.9573050494162388, -0.8706096263812089, 0.5102967350809852, 0.04320071844350394, 0.19323022101942358, -0.5600387594048482, 0.20515073678384357, -0.38367430459649504, 1.1030134451203024, 0.17577903989255617, 0.05909350588535493, 0.9060438420963102, -1.176374199231999, -1.6070486970361355, 1.0184887224199144, 0.0719696391996265, -0.6869826904235876, -0.16460152728129593, -0.35243474239572575, -1.9430458105049733, 0.2933875677142585, 0.8147781673269966, 0.1345823636843486, -0.24262686906277547, 1.2900084062266597, -1.742193371249046, 1.1275374880419575, 0.576888577525062, -1.1794518032333612, 0.5181270969759182, -0.28574157279352047, -0.22175649553356597, 0.2813332139097955, -0.5233650816443627, -1.4848214871943564, -2.2858417656552925, -1.4303439360899257, -0.7204253348743646, -0.9294079819027545, -0.9257964005341828, 0.01871365692644488, -1.4190258893838466, -1.3911593844039067, 1.284936979432578, -1.917648055426853, -1.1439162262493472, 0.4660789865538819, -0.5618536694903467, -1.1217661119240674, -0.7830955152004814, -0.3964975240873266, -0.6468406852173031, 0.34229290137010937, -0.5813133729108274, -0.525986127539155, 0.2772442085639978, -2.236687488425607, -0.7242269897500356, -1.737558828333686, -1.3565212899183334, -0.549044918185219, 1.3069133552484964, -0.2903838593639379, -0.8920967004629824, -0.9345202102475368, 0.5497897959314942, 0.42105714373918907, -1.937703571631979, -0.871566785049873, 1.7004145299257194, -0.707844864137198, 0.6009239704775721, -1.3318353999603316, 0.8486676862766808, 0.4039525974905113, 0.8514364200361985], \"xaxis\": \"x3\", \"y\": [-0.39918119580901057, 0.7418621453466906, -0.4313355775472436, 0.3355224667718379, -0.7151869915905287, 0.145668325550864, 0.15591577298259662, 0.016226263834492997, 0.4605683837845119, -1.4139591642678533, -3.346775721169021, -1.2159667506526999, 0.5809608144629882, -0.26283320353488304, 1.2113580317867414, -0.4415756722746691, 2.2884194084433775, 1.0557466676734149, -1.442826254773536, -0.8063709415927582, 0.922383051818235, -0.3878906835859324, 0.025967017018530797, 0.6044282595635964, -0.7065329352842874, 0.9150675435000666, 0.18735127393393106, -0.2845605758953672, -0.09322552030780629, -0.1639557134477811, 0.156542641123135, -0.9341454884535909, -1.1960968243851422, -0.7420113595879909, -1.1231115173825923, -0.06575340563803043, -1.2314451894847818, -0.7004696413846199, 0.2750929324690308, 0.7915002131579784, -1.1253744106107293, 0.5712846346931809, -1.7280218331388324, 0.36865239908201825, -1.0668871446136439, -0.9061338046467238, -1.037945002921429, -0.5578754042788866, 0.14708542676641603, 0.8746134766485341, -0.36276225986481275, 0.12243563569516946, -0.05854080893376823, 1.162186833598004, -1.104489545096553, -0.26487716168614467, -0.05463255455270555, 1.495963991909491, 1.4742509865754625, 0.8390497854946452, 0.5108072739104828, -0.29675905041248607, 0.4317219076292566, 0.7526597856998946, -1.2662095357984315, -0.20809051371739795, -1.4334480138884427, 0.41521475437323424, -0.3681440922719436, -0.4974530040747305, 0.332517930744042, 0.1235890800313146, 0.5909382100815366, -1.0065808800216673, -0.6822563665823921, 1.1077016925230518, 0.07703396073766987, 0.42953692998520493, 0.7592976638295739, -0.8805787003240935, 1.5490488597669556, -0.2766809050067881, 0.7018174178549077, 0.1314637920120881, -0.40257295954386835, -0.6849120108591445, -0.8530469126783897, -0.8710488904466427, -0.40143057082221745, 0.5753943378178665, 0.5232222120203804, -0.22675126963357795, -1.0348115402137625, -0.026371322901696262, 0.7374597636331084, 0.23308846902896885, -0.4367113468497734, 0.5978251807763769, 0.6581567165919348, 1.600974778682548], \"yaxis\": \"y3\"}, {\"line\": {\"color\": \"rgba(128, 128, 128, 1.0)\", \"dash\": \"solid\", \"shape\": \"linear\", \"width\": 1.3}, \"marker\": {\"size\": 2, \"symbol\": \"circle\"}, \"mode\": \"markers\", \"name\": \"A\", \"text\": \"\", \"type\": \"scatter\", \"x\": [0.4402792313594633, -2.231875219530463, 0.506085790169927, 0.3739216457196463, 0.5581079001710428, 0.4274038505191474, 0.3798748753703595, -1.448309773483199, -0.26478675575818633, -1.5492527548137627, -1.5203405467799962, 0.29671073239926654, -1.123886935293182, -0.00966584439369465, 0.2641011324843051, -0.03449149511221563, 1.2535885304778782, -1.071374141698954, 1.4474862451647823, -0.44183298656970094, 0.2238959910693913, 1.2640035090577666, -0.8722077491862223, 1.0539208141083116, -0.05435394505681398, 0.05858998681185259, 0.0647952104940045, 1.3060176712332476, -0.5889534365463991, 1.286879805367101, -1.8137269956104176, -0.8645353028348475, 1.1491416413431492, -0.48956025462922365, -1.212447049698165, -0.7566594934068639, 1.3351510505403292, 1.0952921221471876, 0.2109797601915426, 0.5000273184490857, 1.5823984923308345, 0.22291563155010405, -0.06846769305685602, 2.553488550639987, -0.09809275094245921, 1.0530885573770068, -1.5470423641151319, -2.7885014218021444, 0.47425994462288223, 1.4892794517759067, -0.42172309615353076, -0.09905082778889188, 0.5774054835753971, 0.18460369988935615, -0.02785843168581629, -1.1036759738103374, -0.474135721105905, -0.6124711047943953, 0.10813003622608242, 1.804446472034872, 0.16118724351311858, -0.053463021710888306, -0.9108941156513923, 0.1714273870289398, -1.8973499056236238, 1.7864266672473026, 1.2007151338638131, -0.9068744996688112, 0.11659544639734006, 0.20058508971137132, -1.8602597423337406, 1.3964573738687998, 0.14357841616147643, -0.27363474805865806, -0.7567940092165989, 0.8639357076518587, 1.7574488135100723, 0.12319664152585351, 1.5436451668305928, -1.2909390728105758, -1.0762238927141718, 0.7011791021336731, -0.01899808250300709, -1.6908586470464428, -1.207040308484164, -0.85238176382397, -0.0453678985264209, -0.13162954399743754, -0.08234015768776166, 0.8834075972458294, -0.5709708007470555, -0.8480021538235875, -1.0568511503362594, -0.08352093882807796, -0.6498746858584202, -1.2074438975271147, -0.5079688229414314, 0.6148451371506651, -0.11425738151919548, -0.976090291729148], \"xaxis\": \"x4\", \"y\": [-0.39918119580901057, 0.7418621453466906, -0.4313355775472436, 0.3355224667718379, -0.7151869915905287, 0.145668325550864, 0.15591577298259662, 0.016226263834492997, 0.4605683837845119, -1.4139591642678533, -3.346775721169021, -1.2159667506526999, 0.5809608144629882, -0.26283320353488304, 1.2113580317867414, -0.4415756722746691, 2.2884194084433775, 1.0557466676734149, -1.442826254773536, -0.8063709415927582, 0.922383051818235, -0.3878906835859324, 0.025967017018530797, 0.6044282595635964, -0.7065329352842874, 0.9150675435000666, 0.18735127393393106, -0.2845605758953672, -0.09322552030780629, -0.1639557134477811, 0.156542641123135, -0.9341454884535909, -1.1960968243851422, -0.7420113595879909, -1.1231115173825923, -0.06575340563803043, -1.2314451894847818, -0.7004696413846199, 0.2750929324690308, 0.7915002131579784, -1.1253744106107293, 0.5712846346931809, -1.7280218331388324, 0.36865239908201825, -1.0668871446136439, -0.9061338046467238, -1.037945002921429, -0.5578754042788866, 0.14708542676641603, 0.8746134766485341, -0.36276225986481275, 0.12243563569516946, -0.05854080893376823, 1.162186833598004, -1.104489545096553, -0.26487716168614467, -0.05463255455270555, 1.495963991909491, 1.4742509865754625, 0.8390497854946452, 0.5108072739104828, -0.29675905041248607, 0.4317219076292566, 0.7526597856998946, -1.2662095357984315, -0.20809051371739795, -1.4334480138884427, 0.41521475437323424, -0.3681440922719436, -0.4974530040747305, 0.332517930744042, 0.1235890800313146, 0.5909382100815366, -1.0065808800216673, -0.6822563665823921, 1.1077016925230518, 0.07703396073766987, 0.42953692998520493, 0.7592976638295739, -0.8805787003240935, 1.5490488597669556, -0.2766809050067881, 0.7018174178549077, 0.1314637920120881, -0.40257295954386835, -0.6849120108591445, -0.8530469126783897, -0.8710488904466427, -0.40143057082221745, 0.5753943378178665, 0.5232222120203804, -0.22675126963357795, -1.0348115402137625, -0.026371322901696262, 0.7374597636331084, 0.23308846902896885, -0.4367113468497734, 0.5978251807763769, 0.6581567165919348, 1.600974778682548], \"yaxis\": \"y4\"}, {\"line\": {\"color\": \"rgba(128, 128, 128, 1.0)\", \"dash\": \"solid\", \"shape\": \"linear\", \"width\": 1.3}, \"marker\": {\"size\": 2, \"symbol\": \"circle\"}, \"mode\": \"markers\", \"name\": \"B\", \"text\": \"\", \"type\": \"scatter\", \"x\": [-0.39918119580901057, 0.7418621453466906, -0.4313355775472436, 0.3355224667718379, -0.7151869915905287, 0.145668325550864, 0.15591577298259662, 0.016226263834492997, 0.4605683837845119, -1.4139591642678533, -3.346775721169021, -1.2159667506526999, 0.5809608144629882, -0.26283320353488304, 1.2113580317867414, -0.4415756722746691, 2.2884194084433775, 1.0557466676734149, -1.442826254773536, -0.8063709415927582, 0.922383051818235, -0.3878906835859324, 0.025967017018530797, 0.6044282595635964, -0.7065329352842874, 0.9150675435000666, 0.18735127393393106, -0.2845605758953672, -0.09322552030780629, -0.1639557134477811, 0.156542641123135, -0.9341454884535909, -1.1960968243851422, -0.7420113595879909, -1.1231115173825923, -0.06575340563803043, -1.2314451894847818, -0.7004696413846199, 0.2750929324690308, 0.7915002131579784, -1.1253744106107293, 0.5712846346931809, -1.7280218331388324, 0.36865239908201825, -1.0668871446136439, -0.9061338046467238, -1.037945002921429, -0.5578754042788866, 0.14708542676641603, 0.8746134766485341, -0.36276225986481275, 0.12243563569516946, -0.05854080893376823, 1.162186833598004, -1.104489545096553, -0.26487716168614467, -0.05463255455270555, 1.495963991909491, 1.4742509865754625, 0.8390497854946452, 0.5108072739104828, -0.29675905041248607, 0.4317219076292566, 0.7526597856998946, -1.2662095357984315, -0.20809051371739795, -1.4334480138884427, 0.41521475437323424, -0.3681440922719436, -0.4974530040747305, 0.332517930744042, 0.1235890800313146, 0.5909382100815366, -1.0065808800216673, -0.6822563665823921, 1.1077016925230518, 0.07703396073766987, 0.42953692998520493, 0.7592976638295739, -0.8805787003240935, 1.5490488597669556, -0.2766809050067881, 0.7018174178549077, 0.1314637920120881, -0.40257295954386835, -0.6849120108591445, -0.8530469126783897, -0.8710488904466427, -0.40143057082221745, 0.5753943378178665, 0.5232222120203804, -0.22675126963357795, -1.0348115402137625, -0.026371322901696262, 0.7374597636331084, 0.23308846902896885, -0.4367113468497734, 0.5978251807763769, 0.6581567165919348, 1.600974778682548], \"xaxis\": \"x5\", \"y\": [2.2070461301559066, -0.788131612862357, -0.10784315640253468, -0.04044160801371967, -2.2896748695933327, 1.3429392443285344, 1.4865555779792607, 0.3659741914873344, -0.7892499216942237, 0.1141250947886066, -0.6139977202850474, 0.037322520254553855, 0.29142557618426357, 0.4113345097957159, 1.4192964679111584, 0.36923408302610705, 0.48399864965340045, 0.6079126562865081, -0.7977858369497093, -0.6119403421986435, 0.13146439326926732, 0.08725012491665272, 0.09456009132885217, -2.190707420460496, 1.12562920670872, -0.6839747581993745, 0.3115134349504725, 1.4492612304178427, 0.06999200823006771, -0.38800767411587783, -0.46598508418374707, -2.181197442663968, -1.0956797599610515, -0.9553121956681996, 0.42403097594459715, -1.6558545434866523, -1.3819798723174677, 1.6854462250364648, 0.732890145241412, -1.3374766327934853, -0.3260739282800016, 1.6637557322566037, -0.8409746644861881, -1.4111517724895952, -0.5393254688380885, 0.8754720938686266, 0.9997351757559365, -0.049471515590174334, 0.19908149523353075, 0.6249144899716452, -0.13465543056006563, -0.7161254082218936, 0.907665817980667, -1.0156398903308865, 0.07345276778828155, -1.730105693139972, -1.2104401316439815, -0.42246282382447614, 1.223087721057286, 0.25051121377375185, -0.11663617757627032, 0.25283529945234606, 1.2536411501995246, -0.8608597145861724, 0.06555619946573002, 1.1958308271299294, -1.3876026390431448, 0.0442082545566528, -1.341362716407108, 1.1968678848787968, 0.9087380738655427, 1.5555799622636919, 0.9353902928609358, 0.5473797210703165, 0.7084174573200912, -0.3698724043916409, -0.21573080837183653, 0.1359526800212306, 0.15906429779288436, -0.5540236467037417, -0.3414189576302107, -0.2718414423436621, -0.4666969220684351, -1.076680135465115, 1.6120850281316867, 0.4812952929193751, -1.9705129259249963, 0.31105314049038896, 0.9222631715288385, 1.4576098663395574, 0.09972461282505903, 0.10840621208454, 0.7745676451840312, 0.4074215942586728, 0.2725750104410174, 0.39225261140363143, -2.3594286944335656, -0.22987691975601063, -0.10824276280124188, -0.7045627207862724], \"yaxis\": \"y5\"}, {\"histfunc\": \"count\", \"histnorm\": \"\", \"marker\": {\"color\": \"rgba(55, 128, 191, 1.0)\", \"line\": {\"color\": \"#4D5663\", \"width\": 1.3}}, \"name\": \"B\", \"nbinsx\": 10, \"opacity\": 0.8, \"orientation\": \"v\", \"type\": \"histogram\", \"x\": [2.2070461301559066, -0.788131612862357, -0.10784315640253468, -0.04044160801371967, -2.2896748695933327, 1.3429392443285344, 1.4865555779792607, 0.3659741914873344, -0.7892499216942237, 0.1141250947886066, -0.6139977202850474, 0.037322520254553855, 0.29142557618426357, 0.4113345097957159, 1.4192964679111584, 0.36923408302610705, 0.48399864965340045, 0.6079126562865081, -0.7977858369497093, -0.6119403421986435, 0.13146439326926732, 0.08725012491665272, 0.09456009132885217, -2.190707420460496, 1.12562920670872, -0.6839747581993745, 0.3115134349504725, 1.4492612304178427, 0.06999200823006771, -0.38800767411587783, -0.46598508418374707, -2.181197442663968, -1.0956797599610515, -0.9553121956681996, 0.42403097594459715, -1.6558545434866523, -1.3819798723174677, 1.6854462250364648, 0.732890145241412, -1.3374766327934853, -0.3260739282800016, 1.6637557322566037, -0.8409746644861881, -1.4111517724895952, -0.5393254688380885, 0.8754720938686266, 0.9997351757559365, -0.049471515590174334, 0.19908149523353075, 0.6249144899716452, -0.13465543056006563, -0.7161254082218936, 0.907665817980667, -1.0156398903308865, 0.07345276778828155, -1.730105693139972, -1.2104401316439815, -0.42246282382447614, 1.223087721057286, 0.25051121377375185, -0.11663617757627032, 0.25283529945234606, 1.2536411501995246, -0.8608597145861724, 0.06555619946573002, 1.1958308271299294, -1.3876026390431448, 0.0442082545566528, -1.341362716407108, 1.1968678848787968, 0.9087380738655427, 1.5555799622636919, 0.9353902928609358, 0.5473797210703165, 0.7084174573200912, -0.3698724043916409, -0.21573080837183653, 0.1359526800212306, 0.15906429779288436, -0.5540236467037417, -0.3414189576302107, -0.2718414423436621, -0.4666969220684351, -1.076680135465115, 1.6120850281316867, 0.4812952929193751, -1.9705129259249963, 0.31105314049038896, 0.9222631715288385, 1.4576098663395574, 0.09972461282505903, 0.10840621208454, 0.7745676451840312, 0.4074215942586728, 0.2725750104410174, 0.39225261140363143, -2.3594286944335656, -0.22987691975601063, -0.10824276280124188, -0.7045627207862724], \"xaxis\": \"x6\", \"yaxis\": \"y6\"}, {\"line\": {\"color\": \"rgba(128, 128, 128, 1.0)\", \"dash\": \"solid\", \"shape\": \"linear\", \"width\": 1.3}, \"marker\": {\"size\": 2, \"symbol\": \"circle\"}, \"mode\": \"markers\", \"name\": \"B\", \"text\": \"\", \"type\": \"scatter\", \"x\": [-0.6384635434448434, 0.20129141961750233, 1.4455203111308286, -2.047290855826421, -2.029950571478503, 0.29635493029587623, -1.0690424023584588, -1.2637584431139288, -0.3614137588757708, 0.32950204350421197, 0.42846767886560316, 0.5601788272810735, -0.0017168075576362444, -0.4972131141137663, 0.25457364680471645, 0.2137456547519348, -0.4403021838963106, -1.0315565236333366, -0.023894730689849437, 0.5924047035997578, 0.35942749772259, -0.6066457895243129, -0.2582454921550214, -0.26621451459259154, -0.9573050494162388, -0.8706096263812089, 0.5102967350809852, 0.04320071844350394, 0.19323022101942358, -0.5600387594048482, 0.20515073678384357, -0.38367430459649504, 1.1030134451203024, 0.17577903989255617, 0.05909350588535493, 0.9060438420963102, -1.176374199231999, -1.6070486970361355, 1.0184887224199144, 0.0719696391996265, -0.6869826904235876, -0.16460152728129593, -0.35243474239572575, -1.9430458105049733, 0.2933875677142585, 0.8147781673269966, 0.1345823636843486, -0.24262686906277547, 1.2900084062266597, -1.742193371249046, 1.1275374880419575, 0.576888577525062, -1.1794518032333612, 0.5181270969759182, -0.28574157279352047, -0.22175649553356597, 0.2813332139097955, -0.5233650816443627, -1.4848214871943564, -2.2858417656552925, -1.4303439360899257, -0.7204253348743646, -0.9294079819027545, -0.9257964005341828, 0.01871365692644488, -1.4190258893838466, -1.3911593844039067, 1.284936979432578, -1.917648055426853, -1.1439162262493472, 0.4660789865538819, -0.5618536694903467, -1.1217661119240674, -0.7830955152004814, -0.3964975240873266, -0.6468406852173031, 0.34229290137010937, -0.5813133729108274, -0.525986127539155, 0.2772442085639978, -2.236687488425607, -0.7242269897500356, -1.737558828333686, -1.3565212899183334, -0.549044918185219, 1.3069133552484964, -0.2903838593639379, -0.8920967004629824, -0.9345202102475368, 0.5497897959314942, 0.42105714373918907, -1.937703571631979, -0.871566785049873, 1.7004145299257194, -0.707844864137198, 0.6009239704775721, -1.3318353999603316, 0.8486676862766808, 0.4039525974905113, 0.8514364200361985], \"xaxis\": \"x7\", \"y\": [2.2070461301559066, -0.788131612862357, -0.10784315640253468, -0.04044160801371967, -2.2896748695933327, 1.3429392443285344, 1.4865555779792607, 0.3659741914873344, -0.7892499216942237, 0.1141250947886066, -0.6139977202850474, 0.037322520254553855, 0.29142557618426357, 0.4113345097957159, 1.4192964679111584, 0.36923408302610705, 0.48399864965340045, 0.6079126562865081, -0.7977858369497093, -0.6119403421986435, 0.13146439326926732, 0.08725012491665272, 0.09456009132885217, -2.190707420460496, 1.12562920670872, -0.6839747581993745, 0.3115134349504725, 1.4492612304178427, 0.06999200823006771, -0.38800767411587783, -0.46598508418374707, -2.181197442663968, -1.0956797599610515, -0.9553121956681996, 0.42403097594459715, -1.6558545434866523, -1.3819798723174677, 1.6854462250364648, 0.732890145241412, -1.3374766327934853, -0.3260739282800016, 1.6637557322566037, -0.8409746644861881, -1.4111517724895952, -0.5393254688380885, 0.8754720938686266, 0.9997351757559365, -0.049471515590174334, 0.19908149523353075, 0.6249144899716452, -0.13465543056006563, -0.7161254082218936, 0.907665817980667, -1.0156398903308865, 0.07345276778828155, -1.730105693139972, -1.2104401316439815, -0.42246282382447614, 1.223087721057286, 0.25051121377375185, -0.11663617757627032, 0.25283529945234606, 1.2536411501995246, -0.8608597145861724, 0.06555619946573002, 1.1958308271299294, -1.3876026390431448, 0.0442082545566528, -1.341362716407108, 1.1968678848787968, 0.9087380738655427, 1.5555799622636919, 0.9353902928609358, 0.5473797210703165, 0.7084174573200912, -0.3698724043916409, -0.21573080837183653, 0.1359526800212306, 0.15906429779288436, -0.5540236467037417, -0.3414189576302107, -0.2718414423436621, -0.4666969220684351, -1.076680135465115, 1.6120850281316867, 0.4812952929193751, -1.9705129259249963, 0.31105314049038896, 0.9222631715288385, 1.4576098663395574, 0.09972461282505903, 0.10840621208454, 0.7745676451840312, 0.4074215942586728, 0.2725750104410174, 0.39225261140363143, -2.3594286944335656, -0.22987691975601063, -0.10824276280124188, -0.7045627207862724], \"yaxis\": \"y7\"}, {\"line\": {\"color\": \"rgba(128, 128, 128, 1.0)\", \"dash\": \"solid\", \"shape\": \"linear\", \"width\": 1.3}, \"marker\": {\"size\": 2, \"symbol\": \"circle\"}, \"mode\": \"markers\", \"name\": \"B\", \"text\": \"\", \"type\": \"scatter\", \"x\": [0.4402792313594633, -2.231875219530463, 0.506085790169927, 0.3739216457196463, 0.5581079001710428, 0.4274038505191474, 0.3798748753703595, -1.448309773483199, -0.26478675575818633, -1.5492527548137627, -1.5203405467799962, 0.29671073239926654, -1.123886935293182, -0.00966584439369465, 0.2641011324843051, -0.03449149511221563, 1.2535885304778782, -1.071374141698954, 1.4474862451647823, -0.44183298656970094, 0.2238959910693913, 1.2640035090577666, -0.8722077491862223, 1.0539208141083116, -0.05435394505681398, 0.05858998681185259, 0.0647952104940045, 1.3060176712332476, -0.5889534365463991, 1.286879805367101, -1.8137269956104176, -0.8645353028348475, 1.1491416413431492, -0.48956025462922365, -1.212447049698165, -0.7566594934068639, 1.3351510505403292, 1.0952921221471876, 0.2109797601915426, 0.5000273184490857, 1.5823984923308345, 0.22291563155010405, -0.06846769305685602, 2.553488550639987, -0.09809275094245921, 1.0530885573770068, -1.5470423641151319, -2.7885014218021444, 0.47425994462288223, 1.4892794517759067, -0.42172309615353076, -0.09905082778889188, 0.5774054835753971, 0.18460369988935615, -0.02785843168581629, -1.1036759738103374, -0.474135721105905, -0.6124711047943953, 0.10813003622608242, 1.804446472034872, 0.16118724351311858, -0.053463021710888306, -0.9108941156513923, 0.1714273870289398, -1.8973499056236238, 1.7864266672473026, 1.2007151338638131, -0.9068744996688112, 0.11659544639734006, 0.20058508971137132, -1.8602597423337406, 1.3964573738687998, 0.14357841616147643, -0.27363474805865806, -0.7567940092165989, 0.8639357076518587, 1.7574488135100723, 0.12319664152585351, 1.5436451668305928, -1.2909390728105758, -1.0762238927141718, 0.7011791021336731, -0.01899808250300709, -1.6908586470464428, -1.207040308484164, -0.85238176382397, -0.0453678985264209, -0.13162954399743754, -0.08234015768776166, 0.8834075972458294, -0.5709708007470555, -0.8480021538235875, -1.0568511503362594, -0.08352093882807796, -0.6498746858584202, -1.2074438975271147, -0.5079688229414314, 0.6148451371506651, -0.11425738151919548, -0.976090291729148], \"xaxis\": \"x8\", \"y\": [2.2070461301559066, -0.788131612862357, -0.10784315640253468, -0.04044160801371967, -2.2896748695933327, 1.3429392443285344, 1.4865555779792607, 0.3659741914873344, -0.7892499216942237, 0.1141250947886066, -0.6139977202850474, 0.037322520254553855, 0.29142557618426357, 0.4113345097957159, 1.4192964679111584, 0.36923408302610705, 0.48399864965340045, 0.6079126562865081, -0.7977858369497093, -0.6119403421986435, 0.13146439326926732, 0.08725012491665272, 0.09456009132885217, -2.190707420460496, 1.12562920670872, -0.6839747581993745, 0.3115134349504725, 1.4492612304178427, 0.06999200823006771, -0.38800767411587783, -0.46598508418374707, -2.181197442663968, -1.0956797599610515, -0.9553121956681996, 0.42403097594459715, -1.6558545434866523, -1.3819798723174677, 1.6854462250364648, 0.732890145241412, -1.3374766327934853, -0.3260739282800016, 1.6637557322566037, -0.8409746644861881, -1.4111517724895952, -0.5393254688380885, 0.8754720938686266, 0.9997351757559365, -0.049471515590174334, 0.19908149523353075, 0.6249144899716452, -0.13465543056006563, -0.7161254082218936, 0.907665817980667, -1.0156398903308865, 0.07345276778828155, -1.730105693139972, -1.2104401316439815, -0.42246282382447614, 1.223087721057286, 0.25051121377375185, -0.11663617757627032, 0.25283529945234606, 1.2536411501995246, -0.8608597145861724, 0.06555619946573002, 1.1958308271299294, -1.3876026390431448, 0.0442082545566528, -1.341362716407108, 1.1968678848787968, 0.9087380738655427, 1.5555799622636919, 0.9353902928609358, 0.5473797210703165, 0.7084174573200912, -0.3698724043916409, -0.21573080837183653, 0.1359526800212306, 0.15906429779288436, -0.5540236467037417, -0.3414189576302107, -0.2718414423436621, -0.4666969220684351, -1.076680135465115, 1.6120850281316867, 0.4812952929193751, -1.9705129259249963, 0.31105314049038896, 0.9222631715288385, 1.4576098663395574, 0.09972461282505903, 0.10840621208454, 0.7745676451840312, 0.4074215942586728, 0.2725750104410174, 0.39225261140363143, -2.3594286944335656, -0.22987691975601063, -0.10824276280124188, -0.7045627207862724], \"yaxis\": \"y8\"}, {\"line\": {\"color\": \"rgba(128, 128, 128, 1.0)\", \"dash\": \"solid\", \"shape\": \"linear\", \"width\": 1.3}, \"marker\": {\"size\": 2, \"symbol\": \"circle\"}, \"mode\": \"markers\", \"name\": \"C\", \"text\": \"\", \"type\": \"scatter\", \"x\": [-0.39918119580901057, 0.7418621453466906, -0.4313355775472436, 0.3355224667718379, -0.7151869915905287, 0.145668325550864, 0.15591577298259662, 0.016226263834492997, 0.4605683837845119, -1.4139591642678533, -3.346775721169021, -1.2159667506526999, 0.5809608144629882, -0.26283320353488304, 1.2113580317867414, -0.4415756722746691, 2.2884194084433775, 1.0557466676734149, -1.442826254773536, -0.8063709415927582, 0.922383051818235, -0.3878906835859324, 0.025967017018530797, 0.6044282595635964, -0.7065329352842874, 0.9150675435000666, 0.18735127393393106, -0.2845605758953672, -0.09322552030780629, -0.1639557134477811, 0.156542641123135, -0.9341454884535909, -1.1960968243851422, -0.7420113595879909, -1.1231115173825923, -0.06575340563803043, -1.2314451894847818, -0.7004696413846199, 0.2750929324690308, 0.7915002131579784, -1.1253744106107293, 0.5712846346931809, -1.7280218331388324, 0.36865239908201825, -1.0668871446136439, -0.9061338046467238, -1.037945002921429, -0.5578754042788866, 0.14708542676641603, 0.8746134766485341, -0.36276225986481275, 0.12243563569516946, -0.05854080893376823, 1.162186833598004, -1.104489545096553, -0.26487716168614467, -0.05463255455270555, 1.495963991909491, 1.4742509865754625, 0.8390497854946452, 0.5108072739104828, -0.29675905041248607, 0.4317219076292566, 0.7526597856998946, -1.2662095357984315, -0.20809051371739795, -1.4334480138884427, 0.41521475437323424, -0.3681440922719436, -0.4974530040747305, 0.332517930744042, 0.1235890800313146, 0.5909382100815366, -1.0065808800216673, -0.6822563665823921, 1.1077016925230518, 0.07703396073766987, 0.42953692998520493, 0.7592976638295739, -0.8805787003240935, 1.5490488597669556, -0.2766809050067881, 0.7018174178549077, 0.1314637920120881, -0.40257295954386835, -0.6849120108591445, -0.8530469126783897, -0.8710488904466427, -0.40143057082221745, 0.5753943378178665, 0.5232222120203804, -0.22675126963357795, -1.0348115402137625, -0.026371322901696262, 0.7374597636331084, 0.23308846902896885, -0.4367113468497734, 0.5978251807763769, 0.6581567165919348, 1.600974778682548], \"xaxis\": \"x9\", \"y\": [-0.6384635434448434, 0.20129141961750233, 1.4455203111308286, -2.047290855826421, -2.029950571478503, 0.29635493029587623, -1.0690424023584588, -1.2637584431139288, -0.3614137588757708, 0.32950204350421197, 0.42846767886560316, 0.5601788272810735, -0.0017168075576362444, -0.4972131141137663, 0.25457364680471645, 0.2137456547519348, -0.4403021838963106, -1.0315565236333366, -0.023894730689849437, 0.5924047035997578, 0.35942749772259, -0.6066457895243129, -0.2582454921550214, -0.26621451459259154, -0.9573050494162388, -0.8706096263812089, 0.5102967350809852, 0.04320071844350394, 0.19323022101942358, -0.5600387594048482, 0.20515073678384357, -0.38367430459649504, 1.1030134451203024, 0.17577903989255617, 0.05909350588535493, 0.9060438420963102, -1.176374199231999, -1.6070486970361355, 1.0184887224199144, 0.0719696391996265, -0.6869826904235876, -0.16460152728129593, -0.35243474239572575, -1.9430458105049733, 0.2933875677142585, 0.8147781673269966, 0.1345823636843486, -0.24262686906277547, 1.2900084062266597, -1.742193371249046, 1.1275374880419575, 0.576888577525062, -1.1794518032333612, 0.5181270969759182, -0.28574157279352047, -0.22175649553356597, 0.2813332139097955, -0.5233650816443627, -1.4848214871943564, -2.2858417656552925, -1.4303439360899257, -0.7204253348743646, -0.9294079819027545, -0.9257964005341828, 0.01871365692644488, -1.4190258893838466, -1.3911593844039067, 1.284936979432578, -1.917648055426853, -1.1439162262493472, 0.4660789865538819, -0.5618536694903467, -1.1217661119240674, -0.7830955152004814, -0.3964975240873266, -0.6468406852173031, 0.34229290137010937, -0.5813133729108274, -0.525986127539155, 0.2772442085639978, -2.236687488425607, -0.7242269897500356, -1.737558828333686, -1.3565212899183334, -0.549044918185219, 1.3069133552484964, -0.2903838593639379, -0.8920967004629824, -0.9345202102475368, 0.5497897959314942, 0.42105714373918907, -1.937703571631979, -0.871566785049873, 1.7004145299257194, -0.707844864137198, 0.6009239704775721, -1.3318353999603316, 0.8486676862766808, 0.4039525974905113, 0.8514364200361985], \"yaxis\": \"y9\"}, {\"line\": {\"color\": \"rgba(128, 128, 128, 1.0)\", \"dash\": \"solid\", \"shape\": \"linear\", \"width\": 1.3}, \"marker\": {\"size\": 2, \"symbol\": \"circle\"}, \"mode\": \"markers\", \"name\": \"C\", \"text\": \"\", \"type\": \"scatter\", \"x\": [2.2070461301559066, -0.788131612862357, -0.10784315640253468, -0.04044160801371967, -2.2896748695933327, 1.3429392443285344, 1.4865555779792607, 0.3659741914873344, -0.7892499216942237, 0.1141250947886066, -0.6139977202850474, 0.037322520254553855, 0.29142557618426357, 0.4113345097957159, 1.4192964679111584, 0.36923408302610705, 0.48399864965340045, 0.6079126562865081, -0.7977858369497093, -0.6119403421986435, 0.13146439326926732, 0.08725012491665272, 0.09456009132885217, -2.190707420460496, 1.12562920670872, -0.6839747581993745, 0.3115134349504725, 1.4492612304178427, 0.06999200823006771, -0.38800767411587783, -0.46598508418374707, -2.181197442663968, -1.0956797599610515, -0.9553121956681996, 0.42403097594459715, -1.6558545434866523, -1.3819798723174677, 1.6854462250364648, 0.732890145241412, -1.3374766327934853, -0.3260739282800016, 1.6637557322566037, -0.8409746644861881, -1.4111517724895952, -0.5393254688380885, 0.8754720938686266, 0.9997351757559365, -0.049471515590174334, 0.19908149523353075, 0.6249144899716452, -0.13465543056006563, -0.7161254082218936, 0.907665817980667, -1.0156398903308865, 0.07345276778828155, -1.730105693139972, -1.2104401316439815, -0.42246282382447614, 1.223087721057286, 0.25051121377375185, -0.11663617757627032, 0.25283529945234606, 1.2536411501995246, -0.8608597145861724, 0.06555619946573002, 1.1958308271299294, -1.3876026390431448, 0.0442082545566528, -1.341362716407108, 1.1968678848787968, 0.9087380738655427, 1.5555799622636919, 0.9353902928609358, 0.5473797210703165, 0.7084174573200912, -0.3698724043916409, -0.21573080837183653, 0.1359526800212306, 0.15906429779288436, -0.5540236467037417, -0.3414189576302107, -0.2718414423436621, -0.4666969220684351, -1.076680135465115, 1.6120850281316867, 0.4812952929193751, -1.9705129259249963, 0.31105314049038896, 0.9222631715288385, 1.4576098663395574, 0.09972461282505903, 0.10840621208454, 0.7745676451840312, 0.4074215942586728, 0.2725750104410174, 0.39225261140363143, -2.3594286944335656, -0.22987691975601063, -0.10824276280124188, -0.7045627207862724], \"xaxis\": \"x10\", \"y\": [-0.6384635434448434, 0.20129141961750233, 1.4455203111308286, -2.047290855826421, -2.029950571478503, 0.29635493029587623, -1.0690424023584588, -1.2637584431139288, -0.3614137588757708, 0.32950204350421197, 0.42846767886560316, 0.5601788272810735, -0.0017168075576362444, -0.4972131141137663, 0.25457364680471645, 0.2137456547519348, -0.4403021838963106, -1.0315565236333366, -0.023894730689849437, 0.5924047035997578, 0.35942749772259, -0.6066457895243129, -0.2582454921550214, -0.26621451459259154, -0.9573050494162388, -0.8706096263812089, 0.5102967350809852, 0.04320071844350394, 0.19323022101942358, -0.5600387594048482, 0.20515073678384357, -0.38367430459649504, 1.1030134451203024, 0.17577903989255617, 0.05909350588535493, 0.9060438420963102, -1.176374199231999, -1.6070486970361355, 1.0184887224199144, 0.0719696391996265, -0.6869826904235876, -0.16460152728129593, -0.35243474239572575, -1.9430458105049733, 0.2933875677142585, 0.8147781673269966, 0.1345823636843486, -0.24262686906277547, 1.2900084062266597, -1.742193371249046, 1.1275374880419575, 0.576888577525062, -1.1794518032333612, 0.5181270969759182, -0.28574157279352047, -0.22175649553356597, 0.2813332139097955, -0.5233650816443627, -1.4848214871943564, -2.2858417656552925, -1.4303439360899257, -0.7204253348743646, -0.9294079819027545, -0.9257964005341828, 0.01871365692644488, -1.4190258893838466, -1.3911593844039067, 1.284936979432578, -1.917648055426853, -1.1439162262493472, 0.4660789865538819, -0.5618536694903467, -1.1217661119240674, -0.7830955152004814, -0.3964975240873266, -0.6468406852173031, 0.34229290137010937, -0.5813133729108274, -0.525986127539155, 0.2772442085639978, -2.236687488425607, -0.7242269897500356, -1.737558828333686, -1.3565212899183334, -0.549044918185219, 1.3069133552484964, -0.2903838593639379, -0.8920967004629824, -0.9345202102475368, 0.5497897959314942, 0.42105714373918907, -1.937703571631979, -0.871566785049873, 1.7004145299257194, -0.707844864137198, 0.6009239704775721, -1.3318353999603316, 0.8486676862766808, 0.4039525974905113, 0.8514364200361985], \"yaxis\": \"y10\"}, {\"histfunc\": \"count\", \"histnorm\": \"\", \"marker\": {\"color\": \"rgba(50, 171, 96, 1.0)\", \"line\": {\"color\": \"#4D5663\", \"width\": 1.3}}, \"name\": \"C\", \"nbinsx\": 10, \"opacity\": 0.8, \"orientation\": \"v\", \"type\": \"histogram\", \"x\": [-0.6384635434448434, 0.20129141961750233, 1.4455203111308286, -2.047290855826421, -2.029950571478503, 0.29635493029587623, -1.0690424023584588, -1.2637584431139288, -0.3614137588757708, 0.32950204350421197, 0.42846767886560316, 0.5601788272810735, -0.0017168075576362444, -0.4972131141137663, 0.25457364680471645, 0.2137456547519348, -0.4403021838963106, -1.0315565236333366, -0.023894730689849437, 0.5924047035997578, 0.35942749772259, -0.6066457895243129, -0.2582454921550214, -0.26621451459259154, -0.9573050494162388, -0.8706096263812089, 0.5102967350809852, 0.04320071844350394, 0.19323022101942358, -0.5600387594048482, 0.20515073678384357, -0.38367430459649504, 1.1030134451203024, 0.17577903989255617, 0.05909350588535493, 0.9060438420963102, -1.176374199231999, -1.6070486970361355, 1.0184887224199144, 0.0719696391996265, -0.6869826904235876, -0.16460152728129593, -0.35243474239572575, -1.9430458105049733, 0.2933875677142585, 0.8147781673269966, 0.1345823636843486, -0.24262686906277547, 1.2900084062266597, -1.742193371249046, 1.1275374880419575, 0.576888577525062, -1.1794518032333612, 0.5181270969759182, -0.28574157279352047, -0.22175649553356597, 0.2813332139097955, -0.5233650816443627, -1.4848214871943564, -2.2858417656552925, -1.4303439360899257, -0.7204253348743646, -0.9294079819027545, -0.9257964005341828, 0.01871365692644488, -1.4190258893838466, -1.3911593844039067, 1.284936979432578, -1.917648055426853, -1.1439162262493472, 0.4660789865538819, -0.5618536694903467, -1.1217661119240674, -0.7830955152004814, -0.3964975240873266, -0.6468406852173031, 0.34229290137010937, -0.5813133729108274, -0.525986127539155, 0.2772442085639978, -2.236687488425607, -0.7242269897500356, -1.737558828333686, -1.3565212899183334, -0.549044918185219, 1.3069133552484964, -0.2903838593639379, -0.8920967004629824, -0.9345202102475368, 0.5497897959314942, 0.42105714373918907, -1.937703571631979, -0.871566785049873, 1.7004145299257194, -0.707844864137198, 0.6009239704775721, -1.3318353999603316, 0.8486676862766808, 0.4039525974905113, 0.8514364200361985], \"xaxis\": \"x11\", \"yaxis\": \"y11\"}, {\"line\": {\"color\": \"rgba(128, 128, 128, 1.0)\", \"dash\": \"solid\", \"shape\": \"linear\", \"width\": 1.3}, \"marker\": {\"size\": 2, \"symbol\": \"circle\"}, \"mode\": \"markers\", \"name\": \"C\", \"text\": \"\", \"type\": \"scatter\", \"x\": [0.4402792313594633, -2.231875219530463, 0.506085790169927, 0.3739216457196463, 0.5581079001710428, 0.4274038505191474, 0.3798748753703595, -1.448309773483199, -0.26478675575818633, -1.5492527548137627, -1.5203405467799962, 0.29671073239926654, -1.123886935293182, -0.00966584439369465, 0.2641011324843051, -0.03449149511221563, 1.2535885304778782, -1.071374141698954, 1.4474862451647823, -0.44183298656970094, 0.2238959910693913, 1.2640035090577666, -0.8722077491862223, 1.0539208141083116, -0.05435394505681398, 0.05858998681185259, 0.0647952104940045, 1.3060176712332476, -0.5889534365463991, 1.286879805367101, -1.8137269956104176, -0.8645353028348475, 1.1491416413431492, -0.48956025462922365, -1.212447049698165, -0.7566594934068639, 1.3351510505403292, 1.0952921221471876, 0.2109797601915426, 0.5000273184490857, 1.5823984923308345, 0.22291563155010405, -0.06846769305685602, 2.553488550639987, -0.09809275094245921, 1.0530885573770068, -1.5470423641151319, -2.7885014218021444, 0.47425994462288223, 1.4892794517759067, -0.42172309615353076, -0.09905082778889188, 0.5774054835753971, 0.18460369988935615, -0.02785843168581629, -1.1036759738103374, -0.474135721105905, -0.6124711047943953, 0.10813003622608242, 1.804446472034872, 0.16118724351311858, -0.053463021710888306, -0.9108941156513923, 0.1714273870289398, -1.8973499056236238, 1.7864266672473026, 1.2007151338638131, -0.9068744996688112, 0.11659544639734006, 0.20058508971137132, -1.8602597423337406, 1.3964573738687998, 0.14357841616147643, -0.27363474805865806, -0.7567940092165989, 0.8639357076518587, 1.7574488135100723, 0.12319664152585351, 1.5436451668305928, -1.2909390728105758, -1.0762238927141718, 0.7011791021336731, -0.01899808250300709, -1.6908586470464428, -1.207040308484164, -0.85238176382397, -0.0453678985264209, -0.13162954399743754, -0.08234015768776166, 0.8834075972458294, -0.5709708007470555, -0.8480021538235875, -1.0568511503362594, -0.08352093882807796, -0.6498746858584202, -1.2074438975271147, -0.5079688229414314, 0.6148451371506651, -0.11425738151919548, -0.976090291729148], \"xaxis\": \"x12\", \"y\": [-0.6384635434448434, 0.20129141961750233, 1.4455203111308286, -2.047290855826421, -2.029950571478503, 0.29635493029587623, -1.0690424023584588, -1.2637584431139288, -0.3614137588757708, 0.32950204350421197, 0.42846767886560316, 0.5601788272810735, -0.0017168075576362444, -0.4972131141137663, 0.25457364680471645, 0.2137456547519348, -0.4403021838963106, -1.0315565236333366, -0.023894730689849437, 0.5924047035997578, 0.35942749772259, -0.6066457895243129, -0.2582454921550214, -0.26621451459259154, -0.9573050494162388, -0.8706096263812089, 0.5102967350809852, 0.04320071844350394, 0.19323022101942358, -0.5600387594048482, 0.20515073678384357, -0.38367430459649504, 1.1030134451203024, 0.17577903989255617, 0.05909350588535493, 0.9060438420963102, -1.176374199231999, -1.6070486970361355, 1.0184887224199144, 0.0719696391996265, -0.6869826904235876, -0.16460152728129593, -0.35243474239572575, -1.9430458105049733, 0.2933875677142585, 0.8147781673269966, 0.1345823636843486, -0.24262686906277547, 1.2900084062266597, -1.742193371249046, 1.1275374880419575, 0.576888577525062, -1.1794518032333612, 0.5181270969759182, -0.28574157279352047, -0.22175649553356597, 0.2813332139097955, -0.5233650816443627, -1.4848214871943564, -2.2858417656552925, -1.4303439360899257, -0.7204253348743646, -0.9294079819027545, -0.9257964005341828, 0.01871365692644488, -1.4190258893838466, -1.3911593844039067, 1.284936979432578, -1.917648055426853, -1.1439162262493472, 0.4660789865538819, -0.5618536694903467, -1.1217661119240674, -0.7830955152004814, -0.3964975240873266, -0.6468406852173031, 0.34229290137010937, -0.5813133729108274, -0.525986127539155, 0.2772442085639978, -2.236687488425607, -0.7242269897500356, -1.737558828333686, -1.3565212899183334, -0.549044918185219, 1.3069133552484964, -0.2903838593639379, -0.8920967004629824, -0.9345202102475368, 0.5497897959314942, 0.42105714373918907, -1.937703571631979, -0.871566785049873, 1.7004145299257194, -0.707844864137198, 0.6009239704775721, -1.3318353999603316, 0.8486676862766808, 0.4039525974905113, 0.8514364200361985], \"yaxis\": \"y12\"}, {\"line\": {\"color\": \"rgba(128, 128, 128, 1.0)\", \"dash\": \"solid\", \"shape\": \"linear\", \"width\": 1.3}, \"marker\": {\"size\": 2, \"symbol\": \"circle\"}, \"mode\": \"markers\", \"name\": \"D\", \"text\": \"\", \"type\": \"scatter\", \"x\": [-0.39918119580901057, 0.7418621453466906, -0.4313355775472436, 0.3355224667718379, -0.7151869915905287, 0.145668325550864, 0.15591577298259662, 0.016226263834492997, 0.4605683837845119, -1.4139591642678533, -3.346775721169021, -1.2159667506526999, 0.5809608144629882, -0.26283320353488304, 1.2113580317867414, -0.4415756722746691, 2.2884194084433775, 1.0557466676734149, -1.442826254773536, -0.8063709415927582, 0.922383051818235, -0.3878906835859324, 0.025967017018530797, 0.6044282595635964, -0.7065329352842874, 0.9150675435000666, 0.18735127393393106, -0.2845605758953672, -0.09322552030780629, -0.1639557134477811, 0.156542641123135, -0.9341454884535909, -1.1960968243851422, -0.7420113595879909, -1.1231115173825923, -0.06575340563803043, -1.2314451894847818, -0.7004696413846199, 0.2750929324690308, 0.7915002131579784, -1.1253744106107293, 0.5712846346931809, -1.7280218331388324, 0.36865239908201825, -1.0668871446136439, -0.9061338046467238, -1.037945002921429, -0.5578754042788866, 0.14708542676641603, 0.8746134766485341, -0.36276225986481275, 0.12243563569516946, -0.05854080893376823, 1.162186833598004, -1.104489545096553, -0.26487716168614467, -0.05463255455270555, 1.495963991909491, 1.4742509865754625, 0.8390497854946452, 0.5108072739104828, -0.29675905041248607, 0.4317219076292566, 0.7526597856998946, -1.2662095357984315, -0.20809051371739795, -1.4334480138884427, 0.41521475437323424, -0.3681440922719436, -0.4974530040747305, 0.332517930744042, 0.1235890800313146, 0.5909382100815366, -1.0065808800216673, -0.6822563665823921, 1.1077016925230518, 0.07703396073766987, 0.42953692998520493, 0.7592976638295739, -0.8805787003240935, 1.5490488597669556, -0.2766809050067881, 0.7018174178549077, 0.1314637920120881, -0.40257295954386835, -0.6849120108591445, -0.8530469126783897, -0.8710488904466427, -0.40143057082221745, 0.5753943378178665, 0.5232222120203804, -0.22675126963357795, -1.0348115402137625, -0.026371322901696262, 0.7374597636331084, 0.23308846902896885, -0.4367113468497734, 0.5978251807763769, 0.6581567165919348, 1.600974778682548], \"xaxis\": \"x13\", \"y\": [0.4402792313594633, -2.231875219530463, 0.506085790169927, 0.3739216457196463, 0.5581079001710428, 0.4274038505191474, 0.3798748753703595, -1.448309773483199, -0.26478675575818633, -1.5492527548137627, -1.5203405467799962, 0.29671073239926654, -1.123886935293182, -0.00966584439369465, 0.2641011324843051, -0.03449149511221563, 1.2535885304778782, -1.071374141698954, 1.4474862451647823, -0.44183298656970094, 0.2238959910693913, 1.2640035090577666, -0.8722077491862223, 1.0539208141083116, -0.05435394505681398, 0.05858998681185259, 0.0647952104940045, 1.3060176712332476, -0.5889534365463991, 1.286879805367101, -1.8137269956104176, -0.8645353028348475, 1.1491416413431492, -0.48956025462922365, -1.212447049698165, -0.7566594934068639, 1.3351510505403292, 1.0952921221471876, 0.2109797601915426, 0.5000273184490857, 1.5823984923308345, 0.22291563155010405, -0.06846769305685602, 2.553488550639987, -0.09809275094245921, 1.0530885573770068, -1.5470423641151319, -2.7885014218021444, 0.47425994462288223, 1.4892794517759067, -0.42172309615353076, -0.09905082778889188, 0.5774054835753971, 0.18460369988935615, -0.02785843168581629, -1.1036759738103374, -0.474135721105905, -0.6124711047943953, 0.10813003622608242, 1.804446472034872, 0.16118724351311858, -0.053463021710888306, -0.9108941156513923, 0.1714273870289398, -1.8973499056236238, 1.7864266672473026, 1.2007151338638131, -0.9068744996688112, 0.11659544639734006, 0.20058508971137132, -1.8602597423337406, 1.3964573738687998, 0.14357841616147643, -0.27363474805865806, -0.7567940092165989, 0.8639357076518587, 1.7574488135100723, 0.12319664152585351, 1.5436451668305928, -1.2909390728105758, -1.0762238927141718, 0.7011791021336731, -0.01899808250300709, -1.6908586470464428, -1.207040308484164, -0.85238176382397, -0.0453678985264209, -0.13162954399743754, -0.08234015768776166, 0.8834075972458294, -0.5709708007470555, -0.8480021538235875, -1.0568511503362594, -0.08352093882807796, -0.6498746858584202, -1.2074438975271147, -0.5079688229414314, 0.6148451371506651, -0.11425738151919548, -0.976090291729148], \"yaxis\": \"y13\"}, {\"line\": {\"color\": \"rgba(128, 128, 128, 1.0)\", \"dash\": \"solid\", \"shape\": \"linear\", \"width\": 1.3}, \"marker\": {\"size\": 2, \"symbol\": \"circle\"}, \"mode\": \"markers\", \"name\": \"D\", \"text\": \"\", \"type\": \"scatter\", \"x\": [2.2070461301559066, -0.788131612862357, -0.10784315640253468, -0.04044160801371967, -2.2896748695933327, 1.3429392443285344, 1.4865555779792607, 0.3659741914873344, -0.7892499216942237, 0.1141250947886066, -0.6139977202850474, 0.037322520254553855, 0.29142557618426357, 0.4113345097957159, 1.4192964679111584, 0.36923408302610705, 0.48399864965340045, 0.6079126562865081, -0.7977858369497093, -0.6119403421986435, 0.13146439326926732, 0.08725012491665272, 0.09456009132885217, -2.190707420460496, 1.12562920670872, -0.6839747581993745, 0.3115134349504725, 1.4492612304178427, 0.06999200823006771, -0.38800767411587783, -0.46598508418374707, -2.181197442663968, -1.0956797599610515, -0.9553121956681996, 0.42403097594459715, -1.6558545434866523, -1.3819798723174677, 1.6854462250364648, 0.732890145241412, -1.3374766327934853, -0.3260739282800016, 1.6637557322566037, -0.8409746644861881, -1.4111517724895952, -0.5393254688380885, 0.8754720938686266, 0.9997351757559365, -0.049471515590174334, 0.19908149523353075, 0.6249144899716452, -0.13465543056006563, -0.7161254082218936, 0.907665817980667, -1.0156398903308865, 0.07345276778828155, -1.730105693139972, -1.2104401316439815, -0.42246282382447614, 1.223087721057286, 0.25051121377375185, -0.11663617757627032, 0.25283529945234606, 1.2536411501995246, -0.8608597145861724, 0.06555619946573002, 1.1958308271299294, -1.3876026390431448, 0.0442082545566528, -1.341362716407108, 1.1968678848787968, 0.9087380738655427, 1.5555799622636919, 0.9353902928609358, 0.5473797210703165, 0.7084174573200912, -0.3698724043916409, -0.21573080837183653, 0.1359526800212306, 0.15906429779288436, -0.5540236467037417, -0.3414189576302107, -0.2718414423436621, -0.4666969220684351, -1.076680135465115, 1.6120850281316867, 0.4812952929193751, -1.9705129259249963, 0.31105314049038896, 0.9222631715288385, 1.4576098663395574, 0.09972461282505903, 0.10840621208454, 0.7745676451840312, 0.4074215942586728, 0.2725750104410174, 0.39225261140363143, -2.3594286944335656, -0.22987691975601063, -0.10824276280124188, -0.7045627207862724], \"xaxis\": \"x14\", \"y\": [0.4402792313594633, -2.231875219530463, 0.506085790169927, 0.3739216457196463, 0.5581079001710428, 0.4274038505191474, 0.3798748753703595, -1.448309773483199, -0.26478675575818633, -1.5492527548137627, -1.5203405467799962, 0.29671073239926654, -1.123886935293182, -0.00966584439369465, 0.2641011324843051, -0.03449149511221563, 1.2535885304778782, -1.071374141698954, 1.4474862451647823, -0.44183298656970094, 0.2238959910693913, 1.2640035090577666, -0.8722077491862223, 1.0539208141083116, -0.05435394505681398, 0.05858998681185259, 0.0647952104940045, 1.3060176712332476, -0.5889534365463991, 1.286879805367101, -1.8137269956104176, -0.8645353028348475, 1.1491416413431492, -0.48956025462922365, -1.212447049698165, -0.7566594934068639, 1.3351510505403292, 1.0952921221471876, 0.2109797601915426, 0.5000273184490857, 1.5823984923308345, 0.22291563155010405, -0.06846769305685602, 2.553488550639987, -0.09809275094245921, 1.0530885573770068, -1.5470423641151319, -2.7885014218021444, 0.47425994462288223, 1.4892794517759067, -0.42172309615353076, -0.09905082778889188, 0.5774054835753971, 0.18460369988935615, -0.02785843168581629, -1.1036759738103374, -0.474135721105905, -0.6124711047943953, 0.10813003622608242, 1.804446472034872, 0.16118724351311858, -0.053463021710888306, -0.9108941156513923, 0.1714273870289398, -1.8973499056236238, 1.7864266672473026, 1.2007151338638131, -0.9068744996688112, 0.11659544639734006, 0.20058508971137132, -1.8602597423337406, 1.3964573738687998, 0.14357841616147643, -0.27363474805865806, -0.7567940092165989, 0.8639357076518587, 1.7574488135100723, 0.12319664152585351, 1.5436451668305928, -1.2909390728105758, -1.0762238927141718, 0.7011791021336731, -0.01899808250300709, -1.6908586470464428, -1.207040308484164, -0.85238176382397, -0.0453678985264209, -0.13162954399743754, -0.08234015768776166, 0.8834075972458294, -0.5709708007470555, -0.8480021538235875, -1.0568511503362594, -0.08352093882807796, -0.6498746858584202, -1.2074438975271147, -0.5079688229414314, 0.6148451371506651, -0.11425738151919548, -0.976090291729148], \"yaxis\": \"y14\"}, {\"line\": {\"color\": \"rgba(128, 128, 128, 1.0)\", \"dash\": \"solid\", \"shape\": \"linear\", \"width\": 1.3}, \"marker\": {\"size\": 2, \"symbol\": \"circle\"}, \"mode\": \"markers\", \"name\": \"D\", \"text\": \"\", \"type\": \"scatter\", \"x\": [-0.6384635434448434, 0.20129141961750233, 1.4455203111308286, -2.047290855826421, -2.029950571478503, 0.29635493029587623, -1.0690424023584588, -1.2637584431139288, -0.3614137588757708, 0.32950204350421197, 0.42846767886560316, 0.5601788272810735, -0.0017168075576362444, -0.4972131141137663, 0.25457364680471645, 0.2137456547519348, -0.4403021838963106, -1.0315565236333366, -0.023894730689849437, 0.5924047035997578, 0.35942749772259, -0.6066457895243129, -0.2582454921550214, -0.26621451459259154, -0.9573050494162388, -0.8706096263812089, 0.5102967350809852, 0.04320071844350394, 0.19323022101942358, -0.5600387594048482, 0.20515073678384357, -0.38367430459649504, 1.1030134451203024, 0.17577903989255617, 0.05909350588535493, 0.9060438420963102, -1.176374199231999, -1.6070486970361355, 1.0184887224199144, 0.0719696391996265, -0.6869826904235876, -0.16460152728129593, -0.35243474239572575, -1.9430458105049733, 0.2933875677142585, 0.8147781673269966, 0.1345823636843486, -0.24262686906277547, 1.2900084062266597, -1.742193371249046, 1.1275374880419575, 0.576888577525062, -1.1794518032333612, 0.5181270969759182, -0.28574157279352047, -0.22175649553356597, 0.2813332139097955, -0.5233650816443627, -1.4848214871943564, -2.2858417656552925, -1.4303439360899257, -0.7204253348743646, -0.9294079819027545, -0.9257964005341828, 0.01871365692644488, -1.4190258893838466, -1.3911593844039067, 1.284936979432578, -1.917648055426853, -1.1439162262493472, 0.4660789865538819, -0.5618536694903467, -1.1217661119240674, -0.7830955152004814, -0.3964975240873266, -0.6468406852173031, 0.34229290137010937, -0.5813133729108274, -0.525986127539155, 0.2772442085639978, -2.236687488425607, -0.7242269897500356, -1.737558828333686, -1.3565212899183334, -0.549044918185219, 1.3069133552484964, -0.2903838593639379, -0.8920967004629824, -0.9345202102475368, 0.5497897959314942, 0.42105714373918907, -1.937703571631979, -0.871566785049873, 1.7004145299257194, -0.707844864137198, 0.6009239704775721, -1.3318353999603316, 0.8486676862766808, 0.4039525974905113, 0.8514364200361985], \"xaxis\": \"x15\", \"y\": [0.4402792313594633, -2.231875219530463, 0.506085790169927, 0.3739216457196463, 0.5581079001710428, 0.4274038505191474, 0.3798748753703595, -1.448309773483199, -0.26478675575818633, -1.5492527548137627, -1.5203405467799962, 0.29671073239926654, -1.123886935293182, -0.00966584439369465, 0.2641011324843051, -0.03449149511221563, 1.2535885304778782, -1.071374141698954, 1.4474862451647823, -0.44183298656970094, 0.2238959910693913, 1.2640035090577666, -0.8722077491862223, 1.0539208141083116, -0.05435394505681398, 0.05858998681185259, 0.0647952104940045, 1.3060176712332476, -0.5889534365463991, 1.286879805367101, -1.8137269956104176, -0.8645353028348475, 1.1491416413431492, -0.48956025462922365, -1.212447049698165, -0.7566594934068639, 1.3351510505403292, 1.0952921221471876, 0.2109797601915426, 0.5000273184490857, 1.5823984923308345, 0.22291563155010405, -0.06846769305685602, 2.553488550639987, -0.09809275094245921, 1.0530885573770068, -1.5470423641151319, -2.7885014218021444, 0.47425994462288223, 1.4892794517759067, -0.42172309615353076, -0.09905082778889188, 0.5774054835753971, 0.18460369988935615, -0.02785843168581629, -1.1036759738103374, -0.474135721105905, -0.6124711047943953, 0.10813003622608242, 1.804446472034872, 0.16118724351311858, -0.053463021710888306, -0.9108941156513923, 0.1714273870289398, -1.8973499056236238, 1.7864266672473026, 1.2007151338638131, -0.9068744996688112, 0.11659544639734006, 0.20058508971137132, -1.8602597423337406, 1.3964573738687998, 0.14357841616147643, -0.27363474805865806, -0.7567940092165989, 0.8639357076518587, 1.7574488135100723, 0.12319664152585351, 1.5436451668305928, -1.2909390728105758, -1.0762238927141718, 0.7011791021336731, -0.01899808250300709, -1.6908586470464428, -1.207040308484164, -0.85238176382397, -0.0453678985264209, -0.13162954399743754, -0.08234015768776166, 0.8834075972458294, -0.5709708007470555, -0.8480021538235875, -1.0568511503362594, -0.08352093882807796, -0.6498746858584202, -1.2074438975271147, -0.5079688229414314, 0.6148451371506651, -0.11425738151919548, -0.976090291729148], \"yaxis\": \"y15\"}, {\"histfunc\": \"count\", \"histnorm\": \"\", \"marker\": {\"color\": \"rgba(128, 0, 128, 1.0)\", \"line\": {\"color\": \"#4D5663\", \"width\": 1.3}}, \"name\": \"D\", \"nbinsx\": 10, \"opacity\": 0.8, \"orientation\": \"v\", \"type\": \"histogram\", \"x\": [0.4402792313594633, -2.231875219530463, 0.506085790169927, 0.3739216457196463, 0.5581079001710428, 0.4274038505191474, 0.3798748753703595, -1.448309773483199, -0.26478675575818633, -1.5492527548137627, -1.5203405467799962, 0.29671073239926654, -1.123886935293182, -0.00966584439369465, 0.2641011324843051, -0.03449149511221563, 1.2535885304778782, -1.071374141698954, 1.4474862451647823, -0.44183298656970094, 0.2238959910693913, 1.2640035090577666, -0.8722077491862223, 1.0539208141083116, -0.05435394505681398, 0.05858998681185259, 0.0647952104940045, 1.3060176712332476, -0.5889534365463991, 1.286879805367101, -1.8137269956104176, -0.8645353028348475, 1.1491416413431492, -0.48956025462922365, -1.212447049698165, -0.7566594934068639, 1.3351510505403292, 1.0952921221471876, 0.2109797601915426, 0.5000273184490857, 1.5823984923308345, 0.22291563155010405, -0.06846769305685602, 2.553488550639987, -0.09809275094245921, 1.0530885573770068, -1.5470423641151319, -2.7885014218021444, 0.47425994462288223, 1.4892794517759067, -0.42172309615353076, -0.09905082778889188, 0.5774054835753971, 0.18460369988935615, -0.02785843168581629, -1.1036759738103374, -0.474135721105905, -0.6124711047943953, 0.10813003622608242, 1.804446472034872, 0.16118724351311858, -0.053463021710888306, -0.9108941156513923, 0.1714273870289398, -1.8973499056236238, 1.7864266672473026, 1.2007151338638131, -0.9068744996688112, 0.11659544639734006, 0.20058508971137132, -1.8602597423337406, 1.3964573738687998, 0.14357841616147643, -0.27363474805865806, -0.7567940092165989, 0.8639357076518587, 1.7574488135100723, 0.12319664152585351, 1.5436451668305928, -1.2909390728105758, -1.0762238927141718, 0.7011791021336731, -0.01899808250300709, -1.6908586470464428, -1.207040308484164, -0.85238176382397, -0.0453678985264209, -0.13162954399743754, -0.08234015768776166, 0.8834075972458294, -0.5709708007470555, -0.8480021538235875, -1.0568511503362594, -0.08352093882807796, -0.6498746858584202, -1.2074438975271147, -0.5079688229414314, 0.6148451371506651, -0.11425738151919548, -0.976090291729148], \"xaxis\": \"x16\", \"yaxis\": \"y16\"}],                        {\"bargap\": 0.02, \"legend\": {\"bgcolor\": \"#F5F6F9\", \"font\": {\"color\": \"#4D5663\"}}, \"paper_bgcolor\": \"#F5F6F9\", \"plot_bgcolor\": \"#F5F6F9\", \"showlegend\": false, \"template\": {\"data\": {\"bar\": [{\"error_x\": {\"color\": \"#2a3f5f\"}, \"error_y\": {\"color\": \"#2a3f5f\"}, \"marker\": {\"line\": {\"color\": \"#E5ECF6\", \"width\": 0.5}}, \"type\": \"bar\"}], \"barpolar\": [{\"marker\": {\"line\": {\"color\": \"#E5ECF6\", \"width\": 0.5}}, \"type\": \"barpolar\"}], \"carpet\": [{\"aaxis\": {\"endlinecolor\": \"#2a3f5f\", \"gridcolor\": \"white\", \"linecolor\": \"white\", \"minorgridcolor\": \"white\", \"startlinecolor\": \"#2a3f5f\"}, \"baxis\": {\"endlinecolor\": \"#2a3f5f\", \"gridcolor\": \"white\", \"linecolor\": \"white\", \"minorgridcolor\": \"white\", \"startlinecolor\": \"#2a3f5f\"}, \"type\": \"carpet\"}], \"choropleth\": [{\"colorbar\": {\"outlinewidth\": 0, \"ticks\": \"\"}, \"type\": \"choropleth\"}], \"contour\": [{\"colorbar\": {\"outlinewidth\": 0, \"ticks\": \"\"}, \"colorscale\": [[0.0, \"#0d0887\"], [0.1111111111111111, \"#46039f\"], [0.2222222222222222, \"#7201a8\"], [0.3333333333333333, \"#9c179e\"], [0.4444444444444444, \"#bd3786\"], [0.5555555555555556, \"#d8576b\"], [0.6666666666666666, \"#ed7953\"], [0.7777777777777778, \"#fb9f3a\"], [0.8888888888888888, \"#fdca26\"], [1.0, \"#f0f921\"]], \"type\": \"contour\"}], \"contourcarpet\": [{\"colorbar\": {\"outlinewidth\": 0, \"ticks\": \"\"}, \"type\": \"contourcarpet\"}], \"heatmap\": [{\"colorbar\": {\"outlinewidth\": 0, \"ticks\": \"\"}, \"colorscale\": [[0.0, \"#0d0887\"], [0.1111111111111111, \"#46039f\"], [0.2222222222222222, \"#7201a8\"], [0.3333333333333333, \"#9c179e\"], [0.4444444444444444, \"#bd3786\"], [0.5555555555555556, \"#d8576b\"], [0.6666666666666666, \"#ed7953\"], [0.7777777777777778, \"#fb9f3a\"], [0.8888888888888888, \"#fdca26\"], [1.0, \"#f0f921\"]], \"type\": \"heatmap\"}], \"heatmapgl\": [{\"colorbar\": {\"outlinewidth\": 0, \"ticks\": \"\"}, \"colorscale\": [[0.0, \"#0d0887\"], [0.1111111111111111, \"#46039f\"], [0.2222222222222222, \"#7201a8\"], [0.3333333333333333, \"#9c179e\"], [0.4444444444444444, \"#bd3786\"], [0.5555555555555556, \"#d8576b\"], [0.6666666666666666, \"#ed7953\"], [0.7777777777777778, \"#fb9f3a\"], [0.8888888888888888, \"#fdca26\"], [1.0, \"#f0f921\"]], \"type\": \"heatmapgl\"}], \"histogram\": [{\"marker\": {\"colorbar\": {\"outlinewidth\": 0, \"ticks\": \"\"}}, \"type\": \"histogram\"}], \"histogram2d\": [{\"colorbar\": {\"outlinewidth\": 0, \"ticks\": \"\"}, \"colorscale\": [[0.0, \"#0d0887\"], [0.1111111111111111, \"#46039f\"], [0.2222222222222222, \"#7201a8\"], [0.3333333333333333, \"#9c179e\"], [0.4444444444444444, \"#bd3786\"], [0.5555555555555556, \"#d8576b\"], [0.6666666666666666, \"#ed7953\"], [0.7777777777777778, \"#fb9f3a\"], [0.8888888888888888, \"#fdca26\"], [1.0, \"#f0f921\"]], \"type\": \"histogram2d\"}], \"histogram2dcontour\": [{\"colorbar\": {\"outlinewidth\": 0, \"ticks\": \"\"}, \"colorscale\": [[0.0, \"#0d0887\"], [0.1111111111111111, \"#46039f\"], [0.2222222222222222, \"#7201a8\"], [0.3333333333333333, \"#9c179e\"], [0.4444444444444444, \"#bd3786\"], [0.5555555555555556, \"#d8576b\"], [0.6666666666666666, \"#ed7953\"], [0.7777777777777778, \"#fb9f3a\"], [0.8888888888888888, \"#fdca26\"], [1.0, \"#f0f921\"]], \"type\": \"histogram2dcontour\"}], \"mesh3d\": [{\"colorbar\": {\"outlinewidth\": 0, \"ticks\": \"\"}, \"type\": \"mesh3d\"}], \"parcoords\": [{\"line\": {\"colorbar\": {\"outlinewidth\": 0, \"ticks\": \"\"}}, \"type\": \"parcoords\"}], \"pie\": [{\"automargin\": true, \"type\": \"pie\"}], \"scatter\": [{\"marker\": {\"colorbar\": {\"outlinewidth\": 0, \"ticks\": \"\"}}, \"type\": \"scatter\"}], \"scatter3d\": [{\"line\": {\"colorbar\": {\"outlinewidth\": 0, \"ticks\": \"\"}}, \"marker\": {\"colorbar\": {\"outlinewidth\": 0, \"ticks\": \"\"}}, \"type\": \"scatter3d\"}], \"scattercarpet\": [{\"marker\": {\"colorbar\": {\"outlinewidth\": 0, \"ticks\": \"\"}}, \"type\": \"scattercarpet\"}], \"scattergeo\": [{\"marker\": {\"colorbar\": {\"outlinewidth\": 0, \"ticks\": \"\"}}, \"type\": \"scattergeo\"}], \"scattergl\": [{\"marker\": {\"colorbar\": {\"outlinewidth\": 0, \"ticks\": \"\"}}, \"type\": \"scattergl\"}], \"scattermapbox\": [{\"marker\": {\"colorbar\": {\"outlinewidth\": 0, \"ticks\": \"\"}}, \"type\": \"scattermapbox\"}], \"scatterpolar\": [{\"marker\": {\"colorbar\": {\"outlinewidth\": 0, \"ticks\": \"\"}}, \"type\": \"scatterpolar\"}], \"scatterpolargl\": [{\"marker\": {\"colorbar\": {\"outlinewidth\": 0, \"ticks\": \"\"}}, \"type\": \"scatterpolargl\"}], \"scatterternary\": [{\"marker\": {\"colorbar\": {\"outlinewidth\": 0, \"ticks\": \"\"}}, \"type\": \"scatterternary\"}], \"surface\": [{\"colorbar\": {\"outlinewidth\": 0, \"ticks\": \"\"}, \"colorscale\": [[0.0, \"#0d0887\"], [0.1111111111111111, \"#46039f\"], [0.2222222222222222, \"#7201a8\"], [0.3333333333333333, \"#9c179e\"], [0.4444444444444444, \"#bd3786\"], [0.5555555555555556, \"#d8576b\"], [0.6666666666666666, \"#ed7953\"], [0.7777777777777778, \"#fb9f3a\"], [0.8888888888888888, \"#fdca26\"], [1.0, \"#f0f921\"]], \"type\": \"surface\"}], \"table\": [{\"cells\": {\"fill\": {\"color\": \"#EBF0F8\"}, \"line\": {\"color\": \"white\"}}, \"header\": {\"fill\": {\"color\": \"#C8D4E3\"}, \"line\": {\"color\": \"white\"}}, \"type\": \"table\"}]}, \"layout\": {\"annotationdefaults\": {\"arrowcolor\": \"#2a3f5f\", \"arrowhead\": 0, \"arrowwidth\": 1}, \"coloraxis\": {\"colorbar\": {\"outlinewidth\": 0, \"ticks\": \"\"}}, \"colorscale\": {\"diverging\": [[0, \"#8e0152\"], [0.1, \"#c51b7d\"], [0.2, \"#de77ae\"], [0.3, \"#f1b6da\"], [0.4, \"#fde0ef\"], [0.5, \"#f7f7f7\"], [0.6, \"#e6f5d0\"], [0.7, \"#b8e186\"], [0.8, \"#7fbc41\"], [0.9, \"#4d9221\"], [1, \"#276419\"]], \"sequential\": [[0.0, \"#0d0887\"], [0.1111111111111111, \"#46039f\"], [0.2222222222222222, \"#7201a8\"], [0.3333333333333333, \"#9c179e\"], [0.4444444444444444, \"#bd3786\"], [0.5555555555555556, \"#d8576b\"], [0.6666666666666666, \"#ed7953\"], [0.7777777777777778, \"#fb9f3a\"], [0.8888888888888888, \"#fdca26\"], [1.0, \"#f0f921\"]], \"sequentialminus\": [[0.0, \"#0d0887\"], [0.1111111111111111, \"#46039f\"], [0.2222222222222222, \"#7201a8\"], [0.3333333333333333, \"#9c179e\"], [0.4444444444444444, \"#bd3786\"], [0.5555555555555556, \"#d8576b\"], [0.6666666666666666, \"#ed7953\"], [0.7777777777777778, \"#fb9f3a\"], [0.8888888888888888, \"#fdca26\"], [1.0, \"#f0f921\"]]}, \"colorway\": [\"#636efa\", \"#EF553B\", \"#00cc96\", \"#ab63fa\", \"#FFA15A\", \"#19d3f3\", \"#FF6692\", \"#B6E880\", \"#FF97FF\", \"#FECB52\"], \"font\": {\"color\": \"#2a3f5f\"}, \"geo\": {\"bgcolor\": \"white\", \"lakecolor\": \"white\", \"landcolor\": \"#E5ECF6\", \"showlakes\": true, \"showland\": true, \"subunitcolor\": \"white\"}, \"hoverlabel\": {\"align\": \"left\"}, \"hovermode\": \"closest\", \"mapbox\": {\"style\": \"light\"}, \"paper_bgcolor\": \"white\", \"plot_bgcolor\": \"#E5ECF6\", \"polar\": {\"angularaxis\": {\"gridcolor\": \"white\", \"linecolor\": \"white\", \"ticks\": \"\"}, \"bgcolor\": \"#E5ECF6\", \"radialaxis\": {\"gridcolor\": \"white\", \"linecolor\": \"white\", \"ticks\": \"\"}}, \"scene\": {\"xaxis\": {\"backgroundcolor\": \"#E5ECF6\", \"gridcolor\": \"white\", \"gridwidth\": 2, \"linecolor\": \"white\", \"showbackground\": true, \"ticks\": \"\", \"zerolinecolor\": \"white\"}, \"yaxis\": {\"backgroundcolor\": \"#E5ECF6\", \"gridcolor\": \"white\", \"gridwidth\": 2, \"linecolor\": \"white\", \"showbackground\": true, \"ticks\": \"\", \"zerolinecolor\": \"white\"}, \"zaxis\": {\"backgroundcolor\": \"#E5ECF6\", \"gridcolor\": \"white\", \"gridwidth\": 2, \"linecolor\": \"white\", \"showbackground\": true, \"ticks\": \"\", \"zerolinecolor\": \"white\"}}, \"shapedefaults\": {\"line\": {\"color\": \"#2a3f5f\"}}, \"ternary\": {\"aaxis\": {\"gridcolor\": \"white\", \"linecolor\": \"white\", \"ticks\": \"\"}, \"baxis\": {\"gridcolor\": \"white\", \"linecolor\": \"white\", \"ticks\": \"\"}, \"bgcolor\": \"#E5ECF6\", \"caxis\": {\"gridcolor\": \"white\", \"linecolor\": \"white\", \"ticks\": \"\"}}, \"title\": {\"x\": 0.05}, \"xaxis\": {\"automargin\": true, \"gridcolor\": \"white\", \"linecolor\": \"white\", \"ticks\": \"\", \"title\": {\"standoff\": 15}, \"zerolinecolor\": \"white\", \"zerolinewidth\": 2}, \"yaxis\": {\"automargin\": true, \"gridcolor\": \"white\", \"linecolor\": \"white\", \"ticks\": \"\", \"title\": {\"standoff\": 15}, \"zerolinecolor\": \"white\", \"zerolinewidth\": 2}}}, \"title\": {\"font\": {\"color\": \"#4D5663\"}}, \"xaxis\": {\"anchor\": \"y\", \"domain\": [0.0, 0.2125], \"gridcolor\": \"#E1E5ED\", \"showgrid\": false, \"tickfont\": {\"color\": \"#4D5663\"}, \"title\": {\"font\": {\"color\": \"#4D5663\"}, \"text\": \"\"}, \"zerolinecolor\": \"#E1E5ED\"}, \"xaxis10\": {\"anchor\": \"y10\", \"domain\": [0.2625, 0.475], \"gridcolor\": \"#E1E5ED\", \"showgrid\": false, \"tickfont\": {\"color\": \"#4D5663\"}, \"title\": {\"font\": {\"color\": \"#4D5663\"}, \"text\": \"\"}, \"zerolinecolor\": \"#E1E5ED\"}, \"xaxis11\": {\"anchor\": \"y11\", \"domain\": [0.525, 0.7375], \"gridcolor\": \"#E1E5ED\", \"showgrid\": false, \"tickfont\": {\"color\": \"#4D5663\"}, \"title\": {\"font\": {\"color\": \"#4D5663\"}, \"text\": \"\"}, \"zerolinecolor\": \"#E1E5ED\"}, \"xaxis12\": {\"anchor\": \"y12\", \"domain\": [0.7875, 1.0], \"gridcolor\": \"#E1E5ED\", \"showgrid\": false, \"tickfont\": {\"color\": \"#4D5663\"}, \"title\": {\"font\": {\"color\": \"#4D5663\"}, \"text\": \"\"}, \"zerolinecolor\": \"#E1E5ED\"}, \"xaxis13\": {\"anchor\": \"y13\", \"domain\": [0.0, 0.2125], \"gridcolor\": \"#E1E5ED\", \"showgrid\": false, \"tickfont\": {\"color\": \"#4D5663\"}, \"title\": {\"font\": {\"color\": \"#4D5663\"}, \"text\": \"\"}, \"zerolinecolor\": \"#E1E5ED\"}, \"xaxis14\": {\"anchor\": \"y14\", \"domain\": [0.2625, 0.475], \"gridcolor\": \"#E1E5ED\", \"showgrid\": false, \"tickfont\": {\"color\": \"#4D5663\"}, \"title\": {\"font\": {\"color\": \"#4D5663\"}, \"text\": \"\"}, \"zerolinecolor\": \"#E1E5ED\"}, \"xaxis15\": {\"anchor\": \"y15\", \"domain\": [0.525, 0.7375], \"gridcolor\": \"#E1E5ED\", \"showgrid\": false, \"tickfont\": {\"color\": \"#4D5663\"}, \"title\": {\"font\": {\"color\": \"#4D5663\"}, \"text\": \"\"}, \"zerolinecolor\": \"#E1E5ED\"}, \"xaxis16\": {\"anchor\": \"y16\", \"domain\": [0.7875, 1.0], \"gridcolor\": \"#E1E5ED\", \"showgrid\": false, \"tickfont\": {\"color\": \"#4D5663\"}, \"title\": {\"font\": {\"color\": \"#4D5663\"}, \"text\": \"\"}, \"zerolinecolor\": \"#E1E5ED\"}, \"xaxis2\": {\"anchor\": \"y2\", \"domain\": [0.2625, 0.475], \"gridcolor\": \"#E1E5ED\", \"showgrid\": false, \"tickfont\": {\"color\": \"#4D5663\"}, \"title\": {\"font\": {\"color\": \"#4D5663\"}, \"text\": \"\"}, \"zerolinecolor\": \"#E1E5ED\"}, \"xaxis3\": {\"anchor\": \"y3\", \"domain\": [0.525, 0.7375], \"gridcolor\": \"#E1E5ED\", \"showgrid\": false, \"tickfont\": {\"color\": \"#4D5663\"}, \"title\": {\"font\": {\"color\": \"#4D5663\"}, \"text\": \"\"}, \"zerolinecolor\": \"#E1E5ED\"}, \"xaxis4\": {\"anchor\": \"y4\", \"domain\": [0.7875, 1.0], \"gridcolor\": \"#E1E5ED\", \"showgrid\": false, \"tickfont\": {\"color\": \"#4D5663\"}, \"title\": {\"font\": {\"color\": \"#4D5663\"}, \"text\": \"\"}, \"zerolinecolor\": \"#E1E5ED\"}, \"xaxis5\": {\"anchor\": \"y5\", \"domain\": [0.0, 0.2125], \"gridcolor\": \"#E1E5ED\", \"showgrid\": false, \"tickfont\": {\"color\": \"#4D5663\"}, \"title\": {\"font\": {\"color\": \"#4D5663\"}, \"text\": \"\"}, \"zerolinecolor\": \"#E1E5ED\"}, \"xaxis6\": {\"anchor\": \"y6\", \"domain\": [0.2625, 0.475], \"gridcolor\": \"#E1E5ED\", \"showgrid\": false, \"tickfont\": {\"color\": \"#4D5663\"}, \"title\": {\"font\": {\"color\": \"#4D5663\"}, \"text\": \"\"}, \"zerolinecolor\": \"#E1E5ED\"}, \"xaxis7\": {\"anchor\": \"y7\", \"domain\": [0.525, 0.7375], \"gridcolor\": \"#E1E5ED\", \"showgrid\": false, \"tickfont\": {\"color\": \"#4D5663\"}, \"title\": {\"font\": {\"color\": \"#4D5663\"}, \"text\": \"\"}, \"zerolinecolor\": \"#E1E5ED\"}, \"xaxis8\": {\"anchor\": \"y8\", \"domain\": [0.7875, 1.0], \"gridcolor\": \"#E1E5ED\", \"showgrid\": false, \"tickfont\": {\"color\": \"#4D5663\"}, \"title\": {\"font\": {\"color\": \"#4D5663\"}, \"text\": \"\"}, \"zerolinecolor\": \"#E1E5ED\"}, \"xaxis9\": {\"anchor\": \"y9\", \"domain\": [0.0, 0.2125], \"gridcolor\": \"#E1E5ED\", \"showgrid\": false, \"tickfont\": {\"color\": \"#4D5663\"}, \"title\": {\"font\": {\"color\": \"#4D5663\"}, \"text\": \"\"}, \"zerolinecolor\": \"#E1E5ED\"}, \"yaxis\": {\"anchor\": \"x\", \"domain\": [0.8025, 1.0], \"gridcolor\": \"#E1E5ED\", \"showgrid\": false, \"tickfont\": {\"color\": \"#4D5663\"}, \"title\": {\"font\": {\"color\": \"#4D5663\"}, \"text\": \"\"}, \"zerolinecolor\": \"#E1E5ED\"}, \"yaxis10\": {\"anchor\": \"x10\", \"domain\": [0.2675, 0.465], \"gridcolor\": \"#E1E5ED\", \"showgrid\": false, \"tickfont\": {\"color\": \"#4D5663\"}, \"title\": {\"font\": {\"color\": \"#4D5663\"}, \"text\": \"\"}, \"zerolinecolor\": \"#E1E5ED\"}, \"yaxis11\": {\"anchor\": \"x11\", \"domain\": [0.2675, 0.465], \"gridcolor\": \"#E1E5ED\", \"showgrid\": false, \"tickfont\": {\"color\": \"#4D5663\"}, \"title\": {\"font\": {\"color\": \"#4D5663\"}, \"text\": \"\"}, \"zerolinecolor\": \"#E1E5ED\"}, \"yaxis12\": {\"anchor\": \"x12\", \"domain\": [0.2675, 0.465], \"gridcolor\": \"#E1E5ED\", \"showgrid\": false, \"tickfont\": {\"color\": \"#4D5663\"}, \"title\": {\"font\": {\"color\": \"#4D5663\"}, \"text\": \"\"}, \"zerolinecolor\": \"#E1E5ED\"}, \"yaxis13\": {\"anchor\": \"x13\", \"domain\": [0.0, 0.1975], \"gridcolor\": \"#E1E5ED\", \"showgrid\": false, \"tickfont\": {\"color\": \"#4D5663\"}, \"title\": {\"font\": {\"color\": \"#4D5663\"}, \"text\": \"\"}, \"zerolinecolor\": \"#E1E5ED\"}, \"yaxis14\": {\"anchor\": \"x14\", \"domain\": [0.0, 0.1975], \"gridcolor\": \"#E1E5ED\", \"showgrid\": false, \"tickfont\": {\"color\": \"#4D5663\"}, \"title\": {\"font\": {\"color\": \"#4D5663\"}, \"text\": \"\"}, \"zerolinecolor\": \"#E1E5ED\"}, \"yaxis15\": {\"anchor\": \"x15\", \"domain\": [0.0, 0.1975], \"gridcolor\": \"#E1E5ED\", \"showgrid\": false, \"tickfont\": {\"color\": \"#4D5663\"}, \"title\": {\"font\": {\"color\": \"#4D5663\"}, \"text\": \"\"}, \"zerolinecolor\": \"#E1E5ED\"}, \"yaxis16\": {\"anchor\": \"x16\", \"domain\": [0.0, 0.1975], \"gridcolor\": \"#E1E5ED\", \"showgrid\": false, \"tickfont\": {\"color\": \"#4D5663\"}, \"title\": {\"font\": {\"color\": \"#4D5663\"}, \"text\": \"\"}, \"zerolinecolor\": \"#E1E5ED\"}, \"yaxis2\": {\"anchor\": \"x2\", \"domain\": [0.8025, 1.0], \"gridcolor\": \"#E1E5ED\", \"showgrid\": false, \"tickfont\": {\"color\": \"#4D5663\"}, \"title\": {\"font\": {\"color\": \"#4D5663\"}, \"text\": \"\"}, \"zerolinecolor\": \"#E1E5ED\"}, \"yaxis3\": {\"anchor\": \"x3\", \"domain\": [0.8025, 1.0], \"gridcolor\": \"#E1E5ED\", \"showgrid\": false, \"tickfont\": {\"color\": \"#4D5663\"}, \"title\": {\"font\": {\"color\": \"#4D5663\"}, \"text\": \"\"}, \"zerolinecolor\": \"#E1E5ED\"}, \"yaxis4\": {\"anchor\": \"x4\", \"domain\": [0.8025, 1.0], \"gridcolor\": \"#E1E5ED\", \"showgrid\": false, \"tickfont\": {\"color\": \"#4D5663\"}, \"title\": {\"font\": {\"color\": \"#4D5663\"}, \"text\": \"\"}, \"zerolinecolor\": \"#E1E5ED\"}, \"yaxis5\": {\"anchor\": \"x5\", \"domain\": [0.535, 0.7325], \"gridcolor\": \"#E1E5ED\", \"showgrid\": false, \"tickfont\": {\"color\": \"#4D5663\"}, \"title\": {\"font\": {\"color\": \"#4D5663\"}, \"text\": \"\"}, \"zerolinecolor\": \"#E1E5ED\"}, \"yaxis6\": {\"anchor\": \"x6\", \"domain\": [0.535, 0.7325], \"gridcolor\": \"#E1E5ED\", \"showgrid\": false, \"tickfont\": {\"color\": \"#4D5663\"}, \"title\": {\"font\": {\"color\": \"#4D5663\"}, \"text\": \"\"}, \"zerolinecolor\": \"#E1E5ED\"}, \"yaxis7\": {\"anchor\": \"x7\", \"domain\": [0.535, 0.7325], \"gridcolor\": \"#E1E5ED\", \"showgrid\": false, \"tickfont\": {\"color\": \"#4D5663\"}, \"title\": {\"font\": {\"color\": \"#4D5663\"}, \"text\": \"\"}, \"zerolinecolor\": \"#E1E5ED\"}, \"yaxis8\": {\"anchor\": \"x8\", \"domain\": [0.535, 0.7325], \"gridcolor\": \"#E1E5ED\", \"showgrid\": false, \"tickfont\": {\"color\": \"#4D5663\"}, \"title\": {\"font\": {\"color\": \"#4D5663\"}, \"text\": \"\"}, \"zerolinecolor\": \"#E1E5ED\"}, \"yaxis9\": {\"anchor\": \"x9\", \"domain\": [0.2675, 0.465], \"gridcolor\": \"#E1E5ED\", \"showgrid\": false, \"tickfont\": {\"color\": \"#4D5663\"}, \"title\": {\"font\": {\"color\": \"#4D5663\"}, \"text\": \"\"}, \"zerolinecolor\": \"#E1E5ED\"}},                        {\"showLink\": true, \"linkText\": \"Export to plot.ly\", \"plotlyServerURL\": \"https://plot.ly\", \"responsive\": true}                    ).then(function(){\n",
       "                            \n",
       "var gd = document.getElementById('085ec4f4-39c9-497b-b2a0-4c2b158c527c');\n",
       "var x = new MutationObserver(function (mutations, observer) {{\n",
       "        var display = window.getComputedStyle(gd).display;\n",
       "        if (!display || display === 'none') {{\n",
       "            console.log([gd, 'removed!']);\n",
       "            Plotly.purge(gd);\n",
       "            observer.disconnect();\n",
       "        }}\n",
       "}});\n",
       "\n",
       "// Listen for the removal of the full notebook cells\n",
       "var notebookContainer = gd.closest('#notebook-container');\n",
       "if (notebookContainer) {{\n",
       "    x.observe(notebookContainer, {childList: true});\n",
       "}}\n",
       "\n",
       "// Listen for the clearing of the current output cell\n",
       "var outputEl = gd.closest('.output');\n",
       "if (outputEl) {{\n",
       "    x.observe(outputEl, {childList: true});\n",
       "}}\n",
       "\n",
       "                        })                };                });            </script>        </div>"
      ]
     },
     "metadata": {},
     "output_type": "display_data"
    }
   ],
   "source": [
    "df.scatter_matrix()"
   ]
  },
  {
   "cell_type": "code",
   "execution_count": null,
   "metadata": {},
   "outputs": [],
   "source": []
  }
 ],
 "metadata": {
  "kernelspec": {
   "display_name": "Python 3",
   "language": "python",
   "name": "python3"
  },
  "language_info": {
   "codemirror_mode": {
    "name": "ipython",
    "version": 3
   },
   "file_extension": ".py",
   "mimetype": "text/x-python",
   "name": "python",
   "nbconvert_exporter": "python",
   "pygments_lexer": "ipython3",
   "version": "3.8.5"
  }
 },
 "nbformat": 4,
 "nbformat_minor": 4
}
