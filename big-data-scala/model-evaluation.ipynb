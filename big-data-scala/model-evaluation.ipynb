{
 "cells": [
  {
   "cell_type": "code",
   "execution_count": 2,
   "metadata": {},
   "outputs": [
    {
     "data": {
      "text/plain": [
       "import org.apache.spark.sql.SparkSession\r\n",
       "import org.apache.spark.ml.regression.LinearRegression\r\n",
       "import org.apache.spark.ml.evaluation.RegressionEvaluator\r\n",
       "import org.apache.spark.ml.tuning.{ParamGridBuilder, TrainValidationSplit}\r\n",
       "import org.apache.log4j._\r\n"
      ]
     },
     "execution_count": 2,
     "metadata": {},
     "output_type": "execute_result"
    }
   ],
   "source": [
    "import org.apache.spark.sql.SparkSession\n",
    "import org.apache.spark.ml.regression.LinearRegression\n",
    "import org.apache.spark.ml.evaluation.RegressionEvaluator\n",
    "import org.apache.spark.ml.tuning.{ParamGridBuilder, TrainValidationSplit}\n",
    "import org.apache.log4j._\n",
    "Logger.getLogger(\"org\").setLevel(Level.ERROR)"
   ]
  },
  {
   "cell_type": "code",
   "execution_count": 4,
   "metadata": {},
   "outputs": [
    {
     "name": "stdout",
     "output_type": "stream",
     "text": [
      "+------------------+------------------+------------------------+---------------------------+------------------+------------------+\n",
      "|   Avg Area Income|Avg Area House Age|Avg Area Number of Rooms|Avg Area Number of Bedrooms|   Area Population|             Price|\n",
      "+------------------+------------------+------------------------+---------------------------+------------------+------------------+\n",
      "| 79545.45857431678| 5.682861321615587|       7.009188142792237|                       4.09|23086.800502686456|1059033.5578701235|\n",
      "| 79248.64245482568|6.0028998082752425|       6.730821019094919|                       3.09| 40173.07217364482|  1505890.91484695|\n",
      "|61287.067178656784| 5.865889840310001|       8.512727430375099|                       5.13| 36882.15939970458|1058987.9878760849|\n",
      "| 63345.24004622798|7.1882360945186425|       5.586728664827653|                       3.26| 34310.24283090706|1260616.8066294468|\n",
      "| 59982.19722570803| 5.040554523106283|       7.839387785120487|                       4.23|26354.109472103148| 630943.4893385402|\n",
      "|  80175.7541594853|4.9884077575337145|       6.104512439428879|                       4.04|26748.428424689715|1068138.0743935304|\n",
      "| 64698.46342788773| 6.025335906887152|       8.147759585023431|                       3.41| 60828.24908540716|1502055.8173744078|\n",
      "| 78394.33927753085|6.9897797477182815|       6.620477995185026|                       2.42|36516.358972493836|1573936.5644777215|\n",
      "| 59927.66081334963|  5.36212556960358|      6.3931209805509015|                        2.3| 29387.39600281585| 798869.5328331633|\n",
      "| 81885.92718409566| 4.423671789897876|       8.167688003472351|                        6.1| 40149.96574921337|1545154.8126419624|\n",
      "| 80527.47208292288|  8.09351268063935|       5.042746799645982|                        4.1|47224.359840221914| 1707045.722158058|\n",
      "| 50593.69549704281| 4.496512793097035|       7.467627404008019|                       4.49|34343.991885578806| 663732.3968963273|\n",
      "| 39033.80923698237| 7.671755372854428|       7.250029317273495|                        3.1| 39220.36146737246|1042814.0978200928|\n",
      "|  73163.6634410467| 6.919534825456555|      5.9931879009455695|                       2.27|32326.123139488096|1291331.5184858206|\n",
      "|  69391.3801843616| 5.344776176735725|       8.406417714534253|                       4.37|35521.294033173246|1402818.2101658515|\n",
      "| 73091.86674582321| 5.443156466535474|       8.517512711137975|                       4.01|23929.524053267953|1306674.6599511993|\n",
      "| 79706.96305765743| 5.067889591058972|       8.219771123286257|                       3.12| 39717.81357630952|1556786.6001947748|\n",
      "| 61929.07701808926| 4.788550241805888|      5.0970095543775615|                        4.3| 24595.90149782299| 528485.2467305964|\n",
      "| 63508.19429942997| 5.947165139552473|       7.187773835329728|                       5.12|35719.653052030866|1019425.9367578316|\n",
      "|62085.276403404874| 5.739410843630574|        7.09180810424997|                       5.49|44922.106702293066|1030591.4292116085|\n",
      "+------------------+------------------+------------------------+---------------------------+------------------+------------------+\n",
      "only showing top 20 rows\n",
      "\n"
     ]
    },
    {
     "data": {
      "text/plain": [
       "spark: org.apache.spark.sql.SparkSession = org.apache.spark.sql.SparkSession@4f5e87f0\r\n",
       "data: org.apache.spark.sql.DataFrame = [Avg Area Income: double, Avg Area House Age: double ... 4 more fields]\r\n"
      ]
     },
     "execution_count": 4,
     "metadata": {},
     "output_type": "execute_result"
    }
   ],
   "source": [
    "val spark = SparkSession.builder().getOrCreate()\n",
    "val data = spark.read.option(\"header\", \"true\")\n",
    "            .option(\"inferSchema\", \"true\")\n",
    "            .format(\"csv\")\n",
    "            .load(\"./datasets/Clean_USA_Housing.csv\")\n",
    "\n",
    "data.show()"
   ]
  },
  {
   "cell_type": "code",
   "execution_count": 5,
   "metadata": {},
   "outputs": [
    {
     "name": "stdout",
     "output_type": "stream",
     "text": [
      "root\n",
      " |-- Avg Area Income: double (nullable = true)\n",
      " |-- Avg Area House Age: double (nullable = true)\n",
      " |-- Avg Area Number of Rooms: double (nullable = true)\n",
      " |-- Avg Area Number of Bedrooms: double (nullable = true)\n",
      " |-- Area Population: double (nullable = true)\n",
      " |-- Price: double (nullable = true)\n",
      "\n"
     ]
    }
   ],
   "source": [
    "data.printSchema()"
   ]
  },
  {
   "cell_type": "code",
   "execution_count": 6,
   "metadata": {},
   "outputs": [
    {
     "data": {
      "text/plain": [
       "import org.apache.spark.ml.feature.VectorAssembler\r\n",
       "import org.apache.spark.ml.linalg.Vectors\r\n"
      ]
     },
     "execution_count": 6,
     "metadata": {},
     "output_type": "execute_result"
    }
   ],
   "source": [
    "import org.apache.spark.ml.feature.VectorAssembler\n",
    "import org.apache.spark.ml.linalg.Vectors"
   ]
  },
  {
   "cell_type": "code",
   "execution_count": 7,
   "metadata": {},
   "outputs": [
    {
     "name": "stdout",
     "output_type": "stream",
     "text": [
      "+------------------+------------------+------------------+------------------------+---------------------------+------------------+\n",
      "|             label|   Avg Area Income|Avg Area House Age|Avg Area Number of Rooms|Avg Area Number of Bedrooms|   Area Population|\n",
      "+------------------+------------------+------------------+------------------------+---------------------------+------------------+\n",
      "|1059033.5578701235| 79545.45857431678| 5.682861321615587|       7.009188142792237|                       4.09|23086.800502686456|\n",
      "|  1505890.91484695| 79248.64245482568|6.0028998082752425|       6.730821019094919|                       3.09| 40173.07217364482|\n",
      "|1058987.9878760849|61287.067178656784| 5.865889840310001|       8.512727430375099|                       5.13| 36882.15939970458|\n",
      "|1260616.8066294468| 63345.24004622798|7.1882360945186425|       5.586728664827653|                       3.26| 34310.24283090706|\n",
      "| 630943.4893385402| 59982.19722570803| 5.040554523106283|       7.839387785120487|                       4.23|26354.109472103148|\n",
      "|1068138.0743935304|  80175.7541594853|4.9884077575337145|       6.104512439428879|                       4.04|26748.428424689715|\n",
      "|1502055.8173744078| 64698.46342788773| 6.025335906887152|       8.147759585023431|                       3.41| 60828.24908540716|\n",
      "|1573936.5644777215| 78394.33927753085|6.9897797477182815|       6.620477995185026|                       2.42|36516.358972493836|\n",
      "| 798869.5328331633| 59927.66081334963|  5.36212556960358|      6.3931209805509015|                        2.3| 29387.39600281585|\n",
      "|1545154.8126419624| 81885.92718409566| 4.423671789897876|       8.167688003472351|                        6.1| 40149.96574921337|\n",
      "| 1707045.722158058| 80527.47208292288|  8.09351268063935|       5.042746799645982|                        4.1|47224.359840221914|\n",
      "| 663732.3968963273| 50593.69549704281| 4.496512793097035|       7.467627404008019|                       4.49|34343.991885578806|\n",
      "|1042814.0978200928| 39033.80923698237| 7.671755372854428|       7.250029317273495|                        3.1| 39220.36146737246|\n",
      "|1291331.5184858206|  73163.6634410467| 6.919534825456555|      5.9931879009455695|                       2.27|32326.123139488096|\n",
      "|1402818.2101658515|  69391.3801843616| 5.344776176735725|       8.406417714534253|                       4.37|35521.294033173246|\n",
      "|1306674.6599511993| 73091.86674582321| 5.443156466535474|       8.517512711137975|                       4.01|23929.524053267953|\n",
      "|1556786.6001947748| 79706.96305765743| 5.067889591058972|       8.219771123286257|                       3.12| 39717.81357630952|\n",
      "| 528485.2467305964| 61929.07701808926| 4.788550241805888|      5.0970095543775615|                        4.3| 24595.90149782299|\n",
      "|1019425.9367578316| 63508.19429942997| 5.947165139552473|       7.187773835329728|                       5.12|35719.653052030866|\n",
      "|1030591.4292116085|62085.276403404874| 5.739410843630574|        7.09180810424997|                       5.49|44922.106702293066|\n",
      "+------------------+------------------+------------------+------------------------+---------------------------+------------------+\n",
      "only showing top 20 rows\n",
      "\n"
     ]
    },
    {
     "data": {
      "text/plain": [
       "df: org.apache.spark.sql.DataFrame = [label: double, Avg Area Income: double ... 4 more fields]\r\n"
      ]
     },
     "execution_count": 7,
     "metadata": {},
     "output_type": "execute_result"
    }
   ],
   "source": [
    "val df = data.select(data(\"Price\").as(\"label\"),\n",
    "                     $\"Avg Area Income\", $\"Avg Area House Age\",\n",
    "                     $\"Avg Area Number of Rooms\", $\"Avg Area Number of Bedrooms\",\n",
    "                     $\"Area Population\")\n",
    "df.show()"
   ]
  },
  {
   "cell_type": "code",
   "execution_count": 8,
   "metadata": {},
   "outputs": [
    {
     "data": {
      "text/plain": [
       "assembler: org.apache.spark.ml.feature.VectorAssembler = VectorAssembler: uid=vecAssembler_cbc9240e11ab, handleInvalid=error, numInputCols=5\r\n"
      ]
     },
     "execution_count": 8,
     "metadata": {},
     "output_type": "execute_result"
    }
   ],
   "source": [
    "val assembler = new VectorAssembler()\n",
    "                .setInputCols(Array(\"Avg Area Income\",\n",
    "                                    \"Avg Area House Age\",\n",
    "                                    \"Avg Area Number of Rooms\",\n",
    "                                    \"Avg Area Number of Bedrooms\",\n",
    "                                    \"Area Population\"))\n",
    "                .setOutputCol(\"features\")"
   ]
  },
  {
   "cell_type": "code",
   "execution_count": 9,
   "metadata": {},
   "outputs": [
    {
     "data": {
      "text/plain": [
       "output: org.apache.spark.sql.DataFrame = [label: double, features: vector]\r\n"
      ]
     },
     "execution_count": 9,
     "metadata": {},
     "output_type": "execute_result"
    }
   ],
   "source": [
    "val output = assembler.transform(df).select($\"label\", $\"features\")"
   ]
  },
  {
   "cell_type": "code",
   "execution_count": 10,
   "metadata": {},
   "outputs": [
    {
     "name": "stdout",
     "output_type": "stream",
     "text": [
      "root\n",
      " |-- label: double (nullable = true)\n",
      " |-- features: vector (nullable = true)\n",
      "\n"
     ]
    }
   ],
   "source": [
    "output.printSchema()"
   ]
  },
  {
   "cell_type": "code",
   "execution_count": 11,
   "metadata": {},
   "outputs": [
    {
     "name": "stdout",
     "output_type": "stream",
     "text": [
      "+------------------+--------------------+\n",
      "|             label|            features|\n",
      "+------------------+--------------------+\n",
      "|1059033.5578701235|[79545.4585743167...|\n",
      "|  1505890.91484695|[79248.6424548256...|\n",
      "|1058987.9878760849|[61287.0671786567...|\n",
      "|1260616.8066294468|[63345.2400462279...|\n",
      "| 630943.4893385402|[59982.1972257080...|\n",
      "|1068138.0743935304|[80175.7541594853...|\n",
      "|1502055.8173744078|[64698.4634278877...|\n",
      "|1573936.5644777215|[78394.3392775308...|\n",
      "| 798869.5328331633|[59927.6608133496...|\n",
      "|1545154.8126419624|[81885.9271840956...|\n",
      "| 1707045.722158058|[80527.4720829228...|\n",
      "| 663732.3968963273|[50593.6954970428...|\n",
      "|1042814.0978200928|[39033.8092369823...|\n",
      "|1291331.5184858206|[73163.6634410467...|\n",
      "|1402818.2101658515|[69391.3801843616...|\n",
      "|1306674.6599511993|[73091.8667458232...|\n",
      "|1556786.6001947748|[79706.9630576574...|\n",
      "| 528485.2467305964|[61929.0770180892...|\n",
      "|1019425.9367578316|[63508.1942994299...|\n",
      "|1030591.4292116085|[62085.2764034048...|\n",
      "+------------------+--------------------+\n",
      "only showing top 20 rows\n",
      "\n"
     ]
    }
   ],
   "source": [
    "output.show()"
   ]
  },
  {
   "cell_type": "code",
   "execution_count": 12,
   "metadata": {},
   "outputs": [
    {
     "data": {
      "text/plain": [
       "train: org.apache.spark.sql.Dataset[org.apache.spark.sql.Row] = [label: double, features: vector]\r\n",
       "test: org.apache.spark.sql.Dataset[org.apache.spark.sql.Row] = [label: double, features: vector]\r\n"
      ]
     },
     "execution_count": 12,
     "metadata": {},
     "output_type": "execute_result"
    }
   ],
   "source": [
    "val Array(train, test) = output.select(\"label\", \"features\")\n",
    "                        .randomSplit(Array(0.7, 0.3), seed=42)"
   ]
  },
  {
   "cell_type": "code",
   "execution_count": 13,
   "metadata": {},
   "outputs": [
    {
     "data": {
      "text/plain": [
       "lr: org.apache.spark.ml.regression.LinearRegression = linReg_6560522557fe\r\n"
      ]
     },
     "execution_count": 13,
     "metadata": {},
     "output_type": "execute_result"
    }
   ],
   "source": [
    "val lr = new LinearRegression()"
   ]
  },
  {
   "cell_type": "code",
   "execution_count": 28,
   "metadata": {},
   "outputs": [
    {
     "data": {
      "text/plain": [
       "paramGrid: Array[org.apache.spark.ml.param.ParamMap] =\r\n",
       "Array({\r\n",
       "\tlinReg_6560522557fe-regParam: 1000000.0\r\n",
       "}, {\r\n",
       "\tlinReg_6560522557fe-regParam: 0.01\r\n",
       "})\r\n"
      ]
     },
     "execution_count": 28,
     "metadata": {},
     "output_type": "execute_result"
    }
   ],
   "source": [
    "val paramGrid = new ParamGridBuilder()\n",
    "                .addGrid(lr.regParam, Array(1000000, 0.01))\n",
    "                .build()"
   ]
  },
  {
   "cell_type": "code",
   "execution_count": 29,
   "metadata": {},
   "outputs": [
    {
     "data": {
      "text/plain": [
       "trainValSplit: org.apache.spark.ml.tuning.TrainValidationSplit = tvs_ceafa1e7c9c2\r\n"
      ]
     },
     "execution_count": 29,
     "metadata": {},
     "output_type": "execute_result"
    }
   ],
   "source": [
    "val trainValSplit = new TrainValidationSplit()\n",
    "                    .setEstimator(lr)\n",
    "                    .setEvaluator(new RegressionEvaluator().setMetricName(\"r2\"))\n",
    "                    .setEstimatorParamMaps(paramGrid)\n",
    "                    .setTrainRatio(0.8)"
   ]
  },
  {
   "cell_type": "code",
   "execution_count": 30,
   "metadata": {},
   "outputs": [
    {
     "data": {
      "text/plain": [
       "model: org.apache.spark.ml.tuning.TrainValidationSplitModel = TrainValidationSplitModel: uid=tvs_ceafa1e7c9c2, bestModel=LinearRegressionModel: uid=linReg_6560522557fe, numFeatures=5, trainRatio=0.8\r\n"
      ]
     },
     "execution_count": 30,
     "metadata": {},
     "output_type": "execute_result"
    }
   ],
   "source": [
    "val model = trainValSplit.fit(train)"
   ]
  },
  {
   "cell_type": "code",
   "execution_count": 31,
   "metadata": {},
   "outputs": [
    {
     "name": "stdout",
     "output_type": "stream",
     "text": [
      "+--------------------+------------------+------------------+\n",
      "|            features|             label|        prediction|\n",
      "+--------------------+------------------+------------------+\n",
      "|[60167.6726073388...| 88591.77016003926|  164837.750884654|\n",
      "|[48904.9832693168...|201898.08657249613| 386157.1511005121|\n",
      "|[62173.5800990082...| 231189.8209898588|298874.52416372765|\n",
      "|[56654.9623901952...|239319.93417545114| 488446.5003530653|\n",
      "|[49851.1347839676...|283208.13218687923| 349391.9587676944|\n",
      "|[51144.8509024324...|  287307.583688923|250639.01594452746|\n",
      "|[55048.3320238013...| 288708.9121479006| 393087.9159483239|\n",
      "|[45914.0112190894...| 300464.0986827323| 312129.7971716868|\n",
      "|[17796.6311895433...|302355.83597895555| 98181.21872312808|\n",
      "|[52376.6115211505...|308199.89116387354|  435343.333801609|\n",
      "|[59801.4910294355...| 311111.2005867723|459908.61842230894|\n",
      "|[54994.9182899755...|321058.96071220515|379447.42889893707|\n",
      "|[43952.3362139292...| 324981.9929926853| 483679.7246268727|\n",
      "|[52511.6543462467...| 325195.9428324207| 425012.8464552788|\n",
      "|[51634.7980456328...| 334485.1931043381| 262924.7789012245|\n",
      "|[65913.8616097236...|353240.05467269185|429853.68965722434|\n",
      "|[58197.7978904284...| 357250.6877741283| 359168.2500881548|\n",
      "|[45914.2040025981...| 378466.4201839389| 550108.7209551255|\n",
      "|[50337.0674970879...| 390948.4499941545| 504947.7157086036|\n",
      "|[56851.9957053819...|393639.07395721273| 565318.1287179473|\n",
      "+--------------------+------------------+------------------+\n",
      "only showing top 20 rows\n",
      "\n"
     ]
    }
   ],
   "source": [
    "model.transform(test).select(\"features\", \"label\", \"prediction\").show()"
   ]
  },
  {
   "cell_type": "code",
   "execution_count": 32,
   "metadata": {},
   "outputs": [
    {
     "data": {
      "text/plain": [
       "res13: Array[Double] = Array(0.41298923086881134, 0.9130778312923207)\r\n"
      ]
     },
     "execution_count": 32,
     "metadata": {},
     "output_type": "execute_result"
    }
   ],
   "source": [
    "model.validationMetrics"
   ]
  },
  {
   "cell_type": "code",
   "execution_count": null,
   "metadata": {},
   "outputs": [],
   "source": []
  }
 ],
 "metadata": {
  "kernelspec": {
   "display_name": "spylon-kernel",
   "language": "scala",
   "name": "spylon-kernel"
  },
  "language_info": {
   "codemirror_mode": "text/x-scala",
   "file_extension": ".scala",
   "help_links": [
    {
     "text": "MetaKernel Magics",
     "url": "https://metakernel.readthedocs.io/en/latest/source/README.html"
    }
   ],
   "mimetype": "text/x-scala",
   "name": "scala",
   "pygments_lexer": "scala",
   "version": "0.4.1"
  }
 },
 "nbformat": 4,
 "nbformat_minor": 4
}
