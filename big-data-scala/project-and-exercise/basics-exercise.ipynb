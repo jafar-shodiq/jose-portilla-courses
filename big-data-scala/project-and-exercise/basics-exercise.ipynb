{
 "cells": [
  {
   "cell_type": "markdown",
   "metadata": {},
   "source": [
    "Answer the following questions using your Scala Basics Knowledge!\n",
    "\n",
    "Questions\n",
    "\n",
    "1. What is 2 to the power of 5 ?\n",
    "\n",
    "2. What is the remainder of 180 divided by 7?\n",
    "\n",
    "3. Given variable pet_name = \"Sammy\", use string interpolation to print out\n",
    " \"My dog's name is Sammy.\"\n",
    "\n",
    "4. Use scala to find out if the letter sequence \"xyz\" is contained in:\n",
    "\"sadfjshfjyuyxyzjkfuidkjklhasyysdfk\"\n",
    "\n",
    "5. What is the difference between a value and a variable?\n",
    "\n",
    "6. Given the tuple (1,2,3,(4,5,6)) retrieve the number 6."
   ]
  },
  {
   "cell_type": "code",
   "execution_count": 12,
   "metadata": {},
   "outputs": [
    {
     "data": {
      "text/plain": [
       "res11: Double = 32.0\r\n"
      ]
     },
     "execution_count": 12,
     "metadata": {},
     "output_type": "execute_result"
    }
   ],
   "source": [
    "math.pow(2, 5)"
   ]
  },
  {
   "cell_type": "code",
   "execution_count": 2,
   "metadata": {},
   "outputs": [
    {
     "data": {
      "text/plain": [
       "res1: Int = 5\r\n"
      ]
     },
     "execution_count": 2,
     "metadata": {},
     "output_type": "execute_result"
    }
   ],
   "source": [
    "180 % 7"
   ]
  },
  {
   "cell_type": "code",
   "execution_count": 3,
   "metadata": {},
   "outputs": [
    {
     "name": "stdout",
     "output_type": "stream",
     "text": [
      "My dog's name is Sammy"
     ]
    },
    {
     "data": {
      "text/plain": [
       "pet_name: String = Sammy\r\n"
      ]
     },
     "execution_count": 3,
     "metadata": {},
     "output_type": "execute_result"
    }
   ],
   "source": [
    "var pet_name = \"Sammy\"\n",
    "printf(f\"My dog's name is ${pet_name}\")"
   ]
  },
  {
   "cell_type": "code",
   "execution_count": 4,
   "metadata": {},
   "outputs": [
    {
     "data": {
      "text/plain": [
       "st: String = sadfjshfjyuyxyzjkfuidkjklhasyysdfk\r\n",
       "res3: Boolean = true\r\n"
      ]
     },
     "execution_count": 4,
     "metadata": {},
     "output_type": "execute_result"
    }
   ],
   "source": [
    "var st = \"sadfjshfjyuyxyzjkfuidkjklhasyysdfk\"\n",
    "st contains \"xyz\""
   ]
  },
  {
   "cell_type": "code",
   "execution_count": 5,
   "metadata": {},
   "outputs": [],
   "source": [
    "// value: immutable\n",
    "// variable: mutable"
   ]
  },
  {
   "cell_type": "code",
   "execution_count": 11,
   "metadata": {},
   "outputs": [
    {
     "data": {
      "text/plain": [
       "my_tup: (Int, Int, Int, (Int, Int, Int)) = (1,2,3,(4,5,6))\r\n",
       "res10: Int = 6\r\n"
      ]
     },
     "execution_count": 11,
     "metadata": {},
     "output_type": "execute_result"
    }
   ],
   "source": [
    "var my_tup = (1,2,3,(4,5,6))\n",
    "my_tup._4._3"
   ]
  },
  {
   "cell_type": "code",
   "execution_count": null,
   "metadata": {},
   "outputs": [],
   "source": []
  }
 ],
 "metadata": {
  "kernelspec": {
   "display_name": "spylon-kernel",
   "language": "scala",
   "name": "spylon-kernel"
  },
  "language_info": {
   "codemirror_mode": "text/x-scala",
   "file_extension": ".scala",
   "help_links": [
    {
     "text": "MetaKernel Magics",
     "url": "https://metakernel.readthedocs.io/en/latest/source/README.html"
    }
   ],
   "mimetype": "text/x-scala",
   "name": "scala",
   "pygments_lexer": "scala",
   "version": "0.4.1"
  }
 },
 "nbformat": 4,
 "nbformat_minor": 4
}
