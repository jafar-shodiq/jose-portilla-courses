{
 "cells": [
  {
   "cell_type": "markdown",
   "metadata": {},
   "source": [
    "1.) Check for Single Even:\n",
    "Write a function that takes in an integer and returns a Boolean indicating whether\n",
    "or not it is even. See if you can write this in one line!"
   ]
  },
  {
   "cell_type": "code",
   "execution_count": 9,
   "metadata": {},
   "outputs": [
    {
     "name": "stdout",
     "output_type": "stream",
     "text": [
      "even\n",
      "6\n"
     ]
    },
    {
     "data": {
      "text/plain": [
       "isEven: (num: Int)Int\r\n"
      ]
     },
     "execution_count": 9,
     "metadata": {},
     "output_type": "execute_result"
    }
   ],
   "source": [
    "// 1\n",
    "def isEven(num:Int): Int={\n",
    "    if(num%2 == 0){\n",
    "        println(\"even\")\n",
    "    }\n",
    "    else{\n",
    "        println(\"not even\")\n",
    "    }\n",
    "    return num\n",
    "}\n",
    "println(isEven(6))"
   ]
  },
  {
   "cell_type": "markdown",
   "metadata": {},
   "source": [
    "2.) Check for Evens in a List:\n",
    "Write a function that returns True if there is an even number inside of a List,\n",
    "otherwise, return False."
   ]
  },
  {
   "cell_type": "code",
   "execution_count": 18,
   "metadata": {},
   "outputs": [
    {
     "name": "stdout",
     "output_type": "stream",
     "text": [
      "true\n"
     ]
    },
    {
     "data": {
      "text/plain": [
       "isEven: (num: List[Int])Boolean\r\n"
      ]
     },
     "execution_count": 18,
     "metadata": {},
     "output_type": "execute_result"
    }
   ],
   "source": [
    "// 2\n",
    "def isEven(num:List[Int]): Boolean={\n",
    "    for(n <- num){\n",
    "        if(n%2 == 0){\n",
    "            return true\n",
    "        }\n",
    "    }\n",
    "    return false\n",
    "}\n",
    "println(isEven(List(1, 2, 3)))"
   ]
  },
  {
   "cell_type": "markdown",
   "metadata": {},
   "source": [
    "3.) Lucky Number Seven: Take in a list of integers and calculate their sum. However, sevens are lucky and they should be counted twice, meaning their value is 14 for the sum. Assume the list isn't empty."
   ]
  },
  {
   "cell_type": "code",
   "execution_count": 27,
   "metadata": {},
   "outputs": [
    {
     "data": {
      "text/plain": [
       "luckySeven: (num: List[Int])Int\r\n",
       "mylist: List[Int] = List(1, 2, 7)\r\n",
       "res16: Int = 17\r\n"
      ]
     },
     "execution_count": 27,
     "metadata": {},
     "output_type": "execute_result"
    }
   ],
   "source": [
    "// 3\n",
    "def luckySeven(num:List[Int]): Int={\n",
    "    var output = 0\n",
    "    for(n <- num){\n",
    "        if(n == 7){\n",
    "            output += 14\n",
    "        }\n",
    "        else{\n",
    "            output += n\n",
    "        }\n",
    "    }\n",
    "    return output\n",
    "}\n",
    "var mylist = List(1, 2, 7)\n",
    "luckySeven(mylist)"
   ]
  },
  {
   "cell_type": "markdown",
   "metadata": {},
   "source": [
    "4.) Can you Balance?\n",
    "Given a non-empty list of integers, return true if there is a place to\n",
    "split the list so that the sum of the numbers on one side\n",
    "is equal to the sum of the numbers on the other side. For example, given the\n",
    "list (1,5,3,3) would return true, you can split it in the middle. Another\n",
    "example (7,3,4) would return true 3+4=7. Remember you just need to return the\n",
    "boolean, not the split index point."
   ]
  },
  {
   "cell_type": "code",
   "execution_count": 31,
   "metadata": {},
   "outputs": [
    {
     "name": "stdout",
     "output_type": "stream",
     "text": [
      "true\n",
      "true\n",
      "false\n"
     ]
    },
    {
     "data": {
      "text/plain": [
       "checkBalance: (lst: List[Int])Boolean\r\n",
       "mylist1: List[Int] = List(1, 5, 3, 3)\r\n",
       "mylist2: List[Int] = List(7, 3, 4)\r\n",
       "mylist3: List[Int] = List(1, 2, 3, 4)\r\n"
      ]
     },
     "execution_count": 31,
     "metadata": {},
     "output_type": "execute_result"
    }
   ],
   "source": [
    "def checkBalance(lst:List[Int]): Boolean={\n",
    "    var first_half = 0\n",
    "    var second_half = 0\n",
    "    \n",
    "    second_half = lst.sum\n",
    "    \n",
    "    for(i <- Range(0, lst.length)){\n",
    "        first_half = first_half + lst(i)\n",
    "        second_half = second_half - lst(i)\n",
    "        \n",
    "        if(first_half == second_half){\n",
    "            return true\n",
    "        }\n",
    "    }\n",
    "    return false\n",
    "}\n",
    "\n",
    "var mylist1 = List(1, 5, 3, 3)\n",
    "var mylist2 = List(7, 3, 4)\n",
    "var mylist3 = List(1, 2, 3, 4)\n",
    "\n",
    "println(checkBalance(mylist1))\n",
    "println(checkBalance(mylist2))\n",
    "println(checkBalance(mylist3))"
   ]
  },
  {
   "cell_type": "markdown",
   "metadata": {},
   "source": [
    "5.) Palindrome Check.\n",
    "Given a String, return a boolean indicating whether or not it is a palindrome.\n",
    "(Spelled the same forwards and backwards). Try exploring methods to help you."
   ]
  },
  {
   "cell_type": "code",
   "execution_count": 32,
   "metadata": {},
   "outputs": [
    {
     "name": "stdout",
     "output_type": "stream",
     "text": [
      "true\n",
      "false\n"
     ]
    },
    {
     "data": {
      "text/plain": [
       "palindromeCheck: (st: String)Boolean\r\n"
      ]
     },
     "execution_count": 32,
     "metadata": {},
     "output_type": "execute_result"
    }
   ],
   "source": [
    "def palindromeCheck(st: String): Boolean = {\n",
    "  return (st == st.reverse)\n",
    "}\n",
    "println(palindromeCheck(\"abccba\"))\n",
    "println(palindromeCheck(\"abc\"))"
   ]
  },
  {
   "cell_type": "code",
   "execution_count": null,
   "metadata": {},
   "outputs": [],
   "source": []
  }
 ],
 "metadata": {
  "kernelspec": {
   "display_name": "spylon-kernel",
   "language": "scala",
   "name": "spylon-kernel"
  },
  "language_info": {
   "codemirror_mode": "text/x-scala",
   "file_extension": ".scala",
   "help_links": [
    {
     "text": "MetaKernel Magics",
     "url": "https://metakernel.readthedocs.io/en/latest/source/README.html"
    }
   ],
   "mimetype": "text/x-scala",
   "name": "scala",
   "pygments_lexer": "scala",
   "version": "0.4.1"
  }
 },
 "nbformat": 4,
 "nbformat_minor": 4
}
