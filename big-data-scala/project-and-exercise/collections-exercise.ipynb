{
 "cells": [
  {
   "cell_type": "markdown",
   "metadata": {},
   "source": [
    "Collections Assessment Test\n",
    "\n",
    "Answer the following questions with your new skills!\n",
    "\n",
    "1.) Can you figure out what method you can use to find out if the list:\n",
    "List(1,2,3,4,5) contains the number 3?\n",
    "\n",
    "2.) How can you add all the elements of the previous list?\n",
    "\n",
    "3.) Create an Array of all the odd numbers from 0 to 15\n",
    "\n",
    "4.) What are the unique elements in the list: List(2,3,1,4,5,6,6,1,2)?\n",
    "\n",
    "5.) Create a mutable map that maps together Names to Ages.\n",
    "It should have the following key value pairs:\n",
    "Sammy, 3\n",
    "Frankie, 7\n",
    "John, 45\n",
    "\n",
    "\n",
    "Now do the following:\n",
    "\n",
    "5a) Print out all the keys\n",
    "\n",
    "5b) Add the key value pair (\"Mike\",27)"
   ]
  },
  {
   "cell_type": "code",
   "execution_count": 2,
   "metadata": {},
   "outputs": [
    {
     "data": {
      "text/plain": [
       "mylist: List[Int] = List(1, 2, 3, 4, 5)\r\n"
      ]
     },
     "execution_count": 2,
     "metadata": {},
     "output_type": "execute_result"
    }
   ],
   "source": [
    "// 1\n",
    "val mylist = List(1, 2, 3, 4, 5)"
   ]
  },
  {
   "cell_type": "code",
   "execution_count": 3,
   "metadata": {},
   "outputs": [
    {
     "data": {
      "text/plain": [
       "res0: Int = 3\r\n"
      ]
     },
     "execution_count": 3,
     "metadata": {},
     "output_type": "execute_result"
    }
   ],
   "source": [
    "mylist(2)"
   ]
  },
  {
   "cell_type": "code",
   "execution_count": 4,
   "metadata": {},
   "outputs": [
    {
     "data": {
      "text/plain": [
       "res1: Int = 15\r\n"
      ]
     },
     "execution_count": 4,
     "metadata": {},
     "output_type": "execute_result"
    }
   ],
   "source": [
    "// 2\n",
    "mylist.sum"
   ]
  },
  {
   "cell_type": "code",
   "execution_count": 5,
   "metadata": {},
   "outputs": [
    {
     "data": {
      "text/plain": [
       "myarray: Array[Int] = Array(1, 3, 5, 7, 9, 11, 13)\r\n"
      ]
     },
     "execution_count": 5,
     "metadata": {},
     "output_type": "execute_result"
    }
   ],
   "source": [
    "// 3\n",
    "val myarray = Array.range(1, 15, 2)"
   ]
  },
  {
   "cell_type": "code",
   "execution_count": 8,
   "metadata": {},
   "outputs": [
    {
     "data": {
      "text/plain": [
       "mylist: List[Int] = List(2, 3, 1, 4, 5, 6, 6, 1, 2)\r\n",
       "res4: scala.collection.immutable.Set[Int] = Set(5, 1, 6, 2, 3, 4)\r\n"
      ]
     },
     "execution_count": 8,
     "metadata": {},
     "output_type": "execute_result"
    }
   ],
   "source": [
    "// 4\n",
    "val mylist = List(2, 3, 1, 4, 5, 6, 6, 1, 2)\n",
    "mylist.toSet"
   ]
  },
  {
   "cell_type": "code",
   "execution_count": 10,
   "metadata": {},
   "outputs": [
    {
     "data": {
      "text/plain": [
       "mymap: scala.collection.mutable.Map[String,Int] = Map(Sammy -> 3, Frankie -> 7, John -> 45)\r\n"
      ]
     },
     "execution_count": 10,
     "metadata": {},
     "output_type": "execute_result"
    }
   ],
   "source": [
    "// 5\n",
    "val mymap = collection.mutable.Map((\"Sammy\", 3), (\"Frankie\", 7), (\"John\", 45))"
   ]
  },
  {
   "cell_type": "code",
   "execution_count": 11,
   "metadata": {},
   "outputs": [
    {
     "data": {
      "text/plain": [
       "res5: Iterable[String] = Set(Sammy, Frankie, John)\r\n"
      ]
     },
     "execution_count": 11,
     "metadata": {},
     "output_type": "execute_result"
    }
   ],
   "source": [
    "mymap.keys"
   ]
  },
  {
   "cell_type": "code",
   "execution_count": 12,
   "metadata": {},
   "outputs": [
    {
     "data": {
      "text/plain": [
       "res6: mymap.type = Map(Sammy -> 3, Mike -> 27, Frankie -> 7, John -> 45)\r\n"
      ]
     },
     "execution_count": 12,
     "metadata": {},
     "output_type": "execute_result"
    }
   ],
   "source": [
    "mymap += (\"Mike\" -> 27)"
   ]
  },
  {
   "cell_type": "code",
   "execution_count": null,
   "metadata": {},
   "outputs": [],
   "source": []
  }
 ],
 "metadata": {
  "kernelspec": {
   "display_name": "spylon-kernel",
   "language": "scala",
   "name": "spylon-kernel"
  },
  "language_info": {
   "codemirror_mode": "text/x-scala",
   "file_extension": ".scala",
   "help_links": [
    {
     "text": "MetaKernel Magics",
     "url": "https://metakernel.readthedocs.io/en/latest/source/README.html"
    }
   ],
   "mimetype": "text/x-scala",
   "name": "scala",
   "pygments_lexer": "scala",
   "version": "0.4.1"
  }
 },
 "nbformat": 4,
 "nbformat_minor": 4
}
