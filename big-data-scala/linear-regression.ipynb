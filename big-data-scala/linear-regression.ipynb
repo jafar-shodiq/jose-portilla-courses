{
 "cells": [
  {
   "cell_type": "markdown",
   "metadata": {},
   "source": [
    "**From the documentation**"
   ]
  },
  {
   "cell_type": "code",
   "execution_count": 3,
   "metadata": {},
   "outputs": [
    {
     "name": "stdout",
     "output_type": "stream",
     "text": [
      "Coefficients: [0.0,0.32292516677405936,-0.3438548034562218,1.9156017023458414,0.05288058680386263,0.765962720459771,0.0,-0.15105392669186682,-0.21587930360904642,0.22025369188813426] Intercept: 0.1598936844239736\n",
      "numIterations: 7\n",
      "objectiveHistory: [0.49999999999999994,0.4967620357443381,0.4936361664340463,0.4936351537897608,0.4936351214177871,0.49363512062528014,0.4936351206216114]\n",
      "+--------------------+\n",
      "|           residuals|\n",
      "+--------------------+\n",
      "|  -9.889232683103197|\n",
      "|  0.5533794340053554|\n",
      "|  -5.204019455758823|\n",
      "| -20.566686715507508|\n",
      "|    -9.4497405180564|\n",
      "|  -6.909112502719486|\n",
      "|  -10.00431602969873|\n",
      "|   2.062397807050484|\n",
      "|  3.1117508432954772|\n",
      "| -15.893608229419382|\n",
      "|  -5.036284254673026|\n",
      "|   6.483215876994333|\n",
      "|  12.429497299109002|\n",
      "|  -20.32003219007654|\n",
      "| -2.0049838218725005|\n",
      "| -17.867901734183793|\n",
      "|   7.646455887420495|\n",
      "| -2.2653482182417406|\n",
      "|-0.10308920436195645|\n",
      "|  -1.380034070385301|\n",
      "+--------------------+\n",
      "only showing top 20 rows\n",
      "\n",
      "RMSE: 10.189077167598475\n",
      "r2: 0.022861466913958184\n"
     ]
    },
    {
     "data": {
      "text/plain": [
       "import org.apache.spark.ml.regression.LinearRegression\r\n",
       "training: org.apache.spark.sql.DataFrame = [label: double, features: vector]\r\n",
       "lr: org.apache.spark.ml.regression.LinearRegression = linReg_53223c369fb7\r\n",
       "lrModel: org.apache.spark.ml.regression.LinearRegressionModel = LinearRegressionModel: uid=linReg_53223c369fb7, numFeatures=10\r\n",
       "trainingSummary: org.apache.spark.ml.regression.LinearRegressionTrainingSummary = org.apache.spark.ml.regression.LinearRegressionTrainingSummary@11f92399\r\n"
      ]
     },
     "execution_count": 3,
     "metadata": {},
     "output_type": "execute_result"
    }
   ],
   "source": [
    "import org.apache.spark.ml.regression.LinearRegression\n",
    "\n",
    "// Load training data\n",
    "val training = spark.read.format(\"libsvm\")\n",
    "  .load(\"./datasets/sample_linear_regression_data.txt\")\n",
    "\n",
    "val lr = new LinearRegression()\n",
    "  .setMaxIter(10)\n",
    "  .setRegParam(0.3)\n",
    "  .setElasticNetParam(0.8)\n",
    "\n",
    "// Fit the model\n",
    "val lrModel = lr.fit(training)\n",
    "\n",
    "// Print the coefficients and intercept for linear regression\n",
    "println(s\"Coefficients: ${lrModel.coefficients} Intercept: ${lrModel.intercept}\")\n",
    "\n",
    "// Summarize the model over the training set and print out some metrics\n",
    "val trainingSummary = lrModel.summary\n",
    "println(s\"numIterations: ${trainingSummary.totalIterations}\")\n",
    "println(s\"objectiveHistory: [${trainingSummary.objectiveHistory.mkString(\",\")}]\")\n",
    "trainingSummary.residuals.show()\n",
    "println(s\"RMSE: ${trainingSummary.rootMeanSquaredError}\")\n",
    "println(s\"r2: ${trainingSummary.r2}\")"
   ]
  },
  {
   "cell_type": "markdown",
   "metadata": {},
   "source": [
    "**Real dataset**"
   ]
  },
  {
   "cell_type": "code",
   "execution_count": 5,
   "metadata": {},
   "outputs": [
    {
     "data": {
      "text/plain": [
       "import org.apache.spark.sql.SparkSession\r\n",
       "import org.apache.spark.ml.regression.LinearRegression\r\n",
       "import org.apache.log4j._\r\n",
       "spark: org.apache.spark.sql.SparkSession = org.apache.spark.sql.SparkSession@ac7ccfb\r\n"
      ]
     },
     "execution_count": 5,
     "metadata": {},
     "output_type": "execute_result"
    }
   ],
   "source": [
    "import org.apache.spark.sql.SparkSession\n",
    "import org.apache.spark.ml.regression.LinearRegression\n",
    "import org.apache.log4j._\n",
    "\n",
    "Logger.getLogger(\"org\").setLevel(Level.ERROR)\n",
    "val spark = SparkSession.builder().getOrCreate()"
   ]
  },
  {
   "cell_type": "code",
   "execution_count": 13,
   "metadata": {},
   "outputs": [
    {
     "name": "stdout",
     "output_type": "stream",
     "text": [
      "+------------------+------------------+------------------------+---------------------------+------------------+------------------+\n",
      "|   Avg Area Income|Avg Area House Age|Avg Area Number of Rooms|Avg Area Number of Bedrooms|   Area Population|             Price|\n",
      "+------------------+------------------+------------------------+---------------------------+------------------+------------------+\n",
      "| 79545.45857431678| 5.682861321615587|       7.009188142792237|                       4.09|23086.800502686456|1059033.5578701235|\n",
      "| 79248.64245482568|6.0028998082752425|       6.730821019094919|                       3.09| 40173.07217364482|  1505890.91484695|\n",
      "|61287.067178656784| 5.865889840310001|       8.512727430375099|                       5.13| 36882.15939970458|1058987.9878760849|\n",
      "| 63345.24004622798|7.1882360945186425|       5.586728664827653|                       3.26| 34310.24283090706|1260616.8066294468|\n",
      "| 59982.19722570803| 5.040554523106283|       7.839387785120487|                       4.23|26354.109472103148| 630943.4893385402|\n",
      "|  80175.7541594853|4.9884077575337145|       6.104512439428879|                       4.04|26748.428424689715|1068138.0743935304|\n",
      "| 64698.46342788773| 6.025335906887152|       8.147759585023431|                       3.41| 60828.24908540716|1502055.8173744078|\n",
      "| 78394.33927753085|6.9897797477182815|       6.620477995185026|                       2.42|36516.358972493836|1573936.5644777215|\n",
      "| 59927.66081334963|  5.36212556960358|      6.3931209805509015|                        2.3| 29387.39600281585| 798869.5328331633|\n",
      "| 81885.92718409566| 4.423671789897876|       8.167688003472351|                        6.1| 40149.96574921337|1545154.8126419624|\n",
      "| 80527.47208292288|  8.09351268063935|       5.042746799645982|                        4.1|47224.359840221914| 1707045.722158058|\n",
      "| 50593.69549704281| 4.496512793097035|       7.467627404008019|                       4.49|34343.991885578806| 663732.3968963273|\n",
      "| 39033.80923698237| 7.671755372854428|       7.250029317273495|                        3.1| 39220.36146737246|1042814.0978200928|\n",
      "|  73163.6634410467| 6.919534825456555|      5.9931879009455695|                       2.27|32326.123139488096|1291331.5184858206|\n",
      "|  69391.3801843616| 5.344776176735725|       8.406417714534253|                       4.37|35521.294033173246|1402818.2101658515|\n",
      "| 73091.86674582321| 5.443156466535474|       8.517512711137975|                       4.01|23929.524053267953|1306674.6599511993|\n",
      "| 79706.96305765743| 5.067889591058972|       8.219771123286257|                       3.12| 39717.81357630952|1556786.6001947748|\n",
      "| 61929.07701808926| 4.788550241805888|      5.0970095543775615|                        4.3| 24595.90149782299| 528485.2467305964|\n",
      "| 63508.19429942997| 5.947165139552473|       7.187773835329728|                       5.12|35719.653052030866|1019425.9367578316|\n",
      "|62085.276403404874| 5.739410843630574|        7.09180810424997|                       5.49|44922.106702293066|1030591.4292116085|\n",
      "+------------------+------------------+------------------------+---------------------------+------------------+------------------+\n",
      "only showing top 20 rows\n",
      "\n"
     ]
    },
    {
     "data": {
      "text/plain": [
       "data: org.apache.spark.sql.DataFrame = [Avg Area Income: double, Avg Area House Age: double ... 4 more fields]\r\n"
      ]
     },
     "execution_count": 13,
     "metadata": {},
     "output_type": "execute_result"
    }
   ],
   "source": [
    "val data = spark.read.option(\"header\", \"true\").option(\"inferSchema\", \"true\").format(\"csv\").load(\"./datasets/Clean_USA_Housing.csv\")\n",
    "data.show()"
   ]
  },
  {
   "cell_type": "code",
   "execution_count": 14,
   "metadata": {},
   "outputs": [
    {
     "name": "stdout",
     "output_type": "stream",
     "text": [
      "root\n",
      " |-- Avg Area Income: double (nullable = true)\n",
      " |-- Avg Area House Age: double (nullable = true)\n",
      " |-- Avg Area Number of Rooms: double (nullable = true)\n",
      " |-- Avg Area Number of Bedrooms: double (nullable = true)\n",
      " |-- Area Population: double (nullable = true)\n",
      " |-- Price: double (nullable = true)\n",
      "\n"
     ]
    }
   ],
   "source": [
    "data.printSchema()"
   ]
  },
  {
   "cell_type": "code",
   "execution_count": 10,
   "metadata": {},
   "outputs": [
    {
     "data": {
      "text/plain": [
       "import org.apache.spark.ml.feature.VectorAssembler\r\n",
       "import org.apache.spark.ml.linalg.Vectors\r\n"
      ]
     },
     "execution_count": 10,
     "metadata": {},
     "output_type": "execute_result"
    }
   ],
   "source": [
    "import org.apache.spark.ml.feature.VectorAssembler\n",
    "import org.apache.spark.ml.linalg.Vectors"
   ]
  },
  {
   "cell_type": "code",
   "execution_count": 15,
   "metadata": {},
   "outputs": [
    {
     "data": {
      "text/plain": [
       "res12: Array[String] = Array(Avg Area Income, Avg Area House Age, Avg Area Number of Rooms, Avg Area Number of Bedrooms, Area Population, Price)\r\n"
      ]
     },
     "execution_count": 15,
     "metadata": {},
     "output_type": "execute_result"
    }
   ],
   "source": [
    "data.columns"
   ]
  },
  {
   "cell_type": "code",
   "execution_count": 18,
   "metadata": {},
   "outputs": [
    {
     "name": "stdout",
     "output_type": "stream",
     "text": [
      "root\n",
      " |-- label: double (nullable = true)\n",
      " |-- Avg Area Income: double (nullable = true)\n",
      " |-- Avg Area House Age: double (nullable = true)\n",
      " |-- Avg Area Number of Rooms: double (nullable = true)\n",
      " |-- Avg Area Number of Bedrooms: double (nullable = true)\n",
      " |-- Area Population: double (nullable = true)\n",
      "\n"
     ]
    },
    {
     "data": {
      "text/plain": [
       "df: org.apache.spark.sql.DataFrame = [label: double, Avg Area Income: double ... 4 more fields]\r\n"
      ]
     },
     "execution_count": 18,
     "metadata": {},
     "output_type": "execute_result"
    }
   ],
   "source": [
    "val df = data.select(data(\"Price\").as(\"label\"),\n",
    "                     $\"Avg Area Income\", $\"Avg Area House Age\", $\"Avg Area Number of Rooms\", $\"Avg Area Number of Bedrooms\", $\"Area Population\")\n",
    "df.printSchema()"
   ]
  },
  {
   "cell_type": "code",
   "execution_count": 19,
   "metadata": {},
   "outputs": [
    {
     "data": {
      "text/plain": [
       "assembler: org.apache.spark.ml.feature.VectorAssembler = VectorAssembler: uid=vecAssembler_d570fc176a9d, handleInvalid=error, numInputCols=5\r\n"
      ]
     },
     "execution_count": 19,
     "metadata": {},
     "output_type": "execute_result"
    }
   ],
   "source": [
    "val assembler = new VectorAssembler()\n",
    "                .setInputCols(Array(\"Avg Area Income\", \"Avg Area House Age\", \"Avg Area Number of Rooms\", \"Avg Area Number of Bedrooms\", \"Area Population\"))\n",
    "                .setOutputCol(\"features\")"
   ]
  },
  {
   "cell_type": "code",
   "execution_count": 20,
   "metadata": {},
   "outputs": [
    {
     "data": {
      "text/plain": [
       "output: org.apache.spark.sql.DataFrame = [label: double, features: vector]\r\n"
      ]
     },
     "execution_count": 20,
     "metadata": {},
     "output_type": "execute_result"
    }
   ],
   "source": [
    "val output = assembler.transform(df).select($\"label\", $\"features\")"
   ]
  },
  {
   "cell_type": "code",
   "execution_count": 21,
   "metadata": {},
   "outputs": [
    {
     "name": "stdout",
     "output_type": "stream",
     "text": [
      "+------------------+--------------------+\n",
      "|             label|            features|\n",
      "+------------------+--------------------+\n",
      "|1059033.5578701235|[79545.4585743167...|\n",
      "|  1505890.91484695|[79248.6424548256...|\n",
      "|1058987.9878760849|[61287.0671786567...|\n",
      "|1260616.8066294468|[63345.2400462279...|\n",
      "| 630943.4893385402|[59982.1972257080...|\n",
      "|1068138.0743935304|[80175.7541594853...|\n",
      "|1502055.8173744078|[64698.4634278877...|\n",
      "|1573936.5644777215|[78394.3392775308...|\n",
      "| 798869.5328331633|[59927.6608133496...|\n",
      "|1545154.8126419624|[81885.9271840956...|\n",
      "| 1707045.722158058|[80527.4720829228...|\n",
      "| 663732.3968963273|[50593.6954970428...|\n",
      "|1042814.0978200928|[39033.8092369823...|\n",
      "|1291331.5184858206|[73163.6634410467...|\n",
      "|1402818.2101658515|[69391.3801843616...|\n",
      "|1306674.6599511993|[73091.8667458232...|\n",
      "|1556786.6001947748|[79706.9630576574...|\n",
      "| 528485.2467305964|[61929.0770180892...|\n",
      "|1019425.9367578316|[63508.1942994299...|\n",
      "|1030591.4292116085|[62085.2764034048...|\n",
      "+------------------+--------------------+\n",
      "only showing top 20 rows\n",
      "\n"
     ]
    }
   ],
   "source": [
    "output.show()"
   ]
  },
  {
   "cell_type": "code",
   "execution_count": 22,
   "metadata": {},
   "outputs": [
    {
     "data": {
      "text/plain": [
       "lr: org.apache.spark.ml.regression.LinearRegression = linReg_b971fa2230dd\r\n"
      ]
     },
     "execution_count": 22,
     "metadata": {},
     "output_type": "execute_result"
    }
   ],
   "source": [
    "val lr = new LinearRegression()"
   ]
  },
  {
   "cell_type": "code",
   "execution_count": 23,
   "metadata": {},
   "outputs": [
    {
     "data": {
      "text/plain": [
       "lrModel: org.apache.spark.ml.regression.LinearRegressionModel = LinearRegressionModel: uid=linReg_b971fa2230dd, numFeatures=5\r\n"
      ]
     },
     "execution_count": 23,
     "metadata": {},
     "output_type": "execute_result"
    }
   ],
   "source": [
    "val lrModel = lr.fit(output)"
   ]
  },
  {
   "cell_type": "code",
   "execution_count": 24,
   "metadata": {},
   "outputs": [
    {
     "data": {
      "text/plain": [
       "trainingSummary: org.apache.spark.ml.regression.LinearRegressionTrainingSummary = org.apache.spark.ml.regression.LinearRegressionTrainingSummary@3dbfb4ac\r\n"
      ]
     },
     "execution_count": 24,
     "metadata": {},
     "output_type": "execute_result"
    }
   ],
   "source": [
    "val trainingSummary = lrModel.summary"
   ]
  },
  {
   "cell_type": "code",
   "execution_count": 26,
   "metadata": {},
   "outputs": [
    {
     "name": "stdout",
     "output_type": "stream",
     "text": [
      "+-------------------+\n",
      "|          residuals|\n",
      "+-------------------+\n",
      "| -164813.4848834239|\n",
      "| 10953.223229611525|\n",
      "|-194028.75820535724|\n",
      "| 139392.73897870956|\n",
      "| -214445.2769567219|\n",
      "|  -701.081331347581|\n",
      "|-168103.79466084158|\n",
      "|  3974.217703604372|\n",
      "|  32978.44903599529|\n",
      "|  76897.30405031843|\n",
      "| -66939.03875315329|\n",
      "| 34017.775693529635|\n",
      "|  91027.54522960202|\n",
      "|  -14496.7229596104|\n",
      "|  96010.27173951385|\n",
      "|  67115.24134960445|\n",
      "| 34045.648309222655|\n",
      "|  40333.55834060686|\n",
      "|-117424.29344359436|\n",
      "|-170059.04701524798|\n",
      "+-------------------+\n",
      "only showing top 20 rows\n",
      "\n"
     ]
    }
   ],
   "source": [
    "trainingSummary.residuals.show()"
   ]
  },
  {
   "cell_type": "code",
   "execution_count": 27,
   "metadata": {},
   "outputs": [
    {
     "name": "stdout",
     "output_type": "stream",
     "text": [
      "+------------------+--------------------+------------------+\n",
      "|             label|            features|        prediction|\n",
      "+------------------+--------------------+------------------+\n",
      "|1059033.5578701235|[79545.4585743167...|1223847.0427535474|\n",
      "|  1505890.91484695|[79248.6424548256...|1494937.6916173385|\n",
      "|1058987.9878760849|[61287.0671786567...| 1253016.746081442|\n",
      "|1260616.8066294468|[63345.2400462279...|1121224.0676507372|\n",
      "| 630943.4893385402|[59982.1972257080...| 845388.7662952621|\n",
      "|1068138.0743935304|[80175.7541594853...| 1068839.155724878|\n",
      "|1502055.8173744078|[64698.4634278877...|1670159.6120352494|\n",
      "|1573936.5644777215|[78394.3392775308...| 1569962.346774117|\n",
      "| 798869.5328331633|[59927.6608133496...|  765891.083797168|\n",
      "|1545154.8126419624|[81885.9271840956...| 1468257.508591644|\n",
      "| 1707045.722158058|[80527.4720829228...|1773984.7609112114|\n",
      "| 663732.3968963273|[50593.6954970428...| 629714.6212027976|\n",
      "|1042814.0978200928|[39033.8092369823...| 951786.5525904908|\n",
      "|1291331.5184858206|[73163.6634410467...| 1305828.241445431|\n",
      "|1402818.2101658515|[69391.3801843616...|1306807.9384263377|\n",
      "|1306674.6599511993|[73091.8667458232...|1239559.4186015949|\n",
      "|1556786.6001947748|[79706.9630576574...|1522740.9518855521|\n",
      "| 528485.2467305964|[61929.0770180892...|488151.68838998955|\n",
      "|1019425.9367578316|[63508.1942994299...| 1136850.230201426|\n",
      "|1030591.4292116085|[62085.2764034048...|1200650.4762268565|\n",
      "+------------------+--------------------+------------------+\n",
      "only showing top 20 rows\n",
      "\n"
     ]
    }
   ],
   "source": [
    "trainingSummary.predictions.show()"
   ]
  },
  {
   "cell_type": "code",
   "execution_count": 29,
   "metadata": {},
   "outputs": [
    {
     "data": {
      "text/plain": [
       "res21: Double = 0.9180238195089546\r\n"
      ]
     },
     "execution_count": 29,
     "metadata": {},
     "output_type": "execute_result"
    }
   ],
   "source": [
    "trainingSummary.r2"
   ]
  },
  {
   "cell_type": "code",
   "execution_count": 30,
   "metadata": {},
   "outputs": [
    {
     "data": {
      "text/plain": [
       "res22: Double = 101092.70158252306\r\n"
      ]
     },
     "execution_count": 30,
     "metadata": {},
     "output_type": "execute_result"
    }
   ],
   "source": [
    "trainingSummary.rootMeanSquaredError"
   ]
  },
  {
   "cell_type": "code",
   "execution_count": 31,
   "metadata": {},
   "outputs": [
    {
     "data": {
      "text/plain": [
       "res23: Double = 1.0219734313253061E10\r\n"
      ]
     },
     "execution_count": 31,
     "metadata": {},
     "output_type": "execute_result"
    }
   ],
   "source": [
    "trainingSummary.meanSquaredError"
   ]
  },
  {
   "cell_type": "code",
   "execution_count": null,
   "metadata": {},
   "outputs": [],
   "source": []
  }
 ],
 "metadata": {
  "kernelspec": {
   "display_name": "spylon-kernel",
   "language": "scala",
   "name": "spylon-kernel"
  },
  "language_info": {
   "codemirror_mode": "text/x-scala",
   "file_extension": ".scala",
   "help_links": [
    {
     "text": "MetaKernel Magics",
     "url": "https://metakernel.readthedocs.io/en/latest/source/README.html"
    }
   ],
   "mimetype": "text/x-scala",
   "name": "scala",
   "pygments_lexer": "scala",
   "version": "0.4.1"
  }
 },
 "nbformat": 4,
 "nbformat_minor": 4
}
