{
 "cells": [
  {
   "cell_type": "markdown",
   "metadata": {},
   "source": [
    "**Conditional statements**"
   ]
  },
  {
   "cell_type": "code",
   "execution_count": 8,
   "metadata": {},
   "outputs": [
    {
     "name": "stdout",
     "output_type": "stream",
     "text": [
      "value x ends with !\n"
     ]
    },
    {
     "data": {
      "text/plain": [
       "x: String = hellooooo!\r\n"
      ]
     },
     "execution_count": 8,
     "metadata": {},
     "output_type": "execute_result"
    }
   ],
   "source": [
    "val x = \"hellooooo!\"\n",
    "\n",
    "if(x.endsWith(\"o\")){\n",
    "    println(\"value x ends with o\")\n",
    "}\n",
    "else if(x.endsWith(\"!\")){\n",
    "    println(\"value x ends with !\")\n",
    "}\n",
    "else{\n",
    "    println(\"value x ends with other character\")\n",
    "}"
   ]
  },
  {
   "cell_type": "code",
   "execution_count": 10,
   "metadata": {},
   "outputs": [
    {
     "name": "stdout",
     "output_type": "stream",
     "text": [
      "Kinda\n"
     ]
    }
   ],
   "source": [
    "if((1 == 1) && (2 == 3)){\n",
    "    println(\"Yes\")\n",
    "}\n",
    "else if((1 == 1) || (2 == 3)){\n",
    "    println(\"Kinda\")\n",
    "}\n",
    "else{\n",
    "    println(\"Nah\")\n",
    "}"
   ]
  },
  {
   "cell_type": "markdown",
   "metadata": {},
   "source": [
    "**Loops**"
   ]
  },
  {
   "cell_type": "code",
   "execution_count": 23,
   "metadata": {},
   "outputs": [
    {
     "name": "stdout",
     "output_type": "stream",
     "text": [
      "Cindy starts with a C\n",
      "Cat starts with a C\n"
     ]
    },
    {
     "data": {
      "text/plain": [
       "names: List[String] = List(John, Abe, Cindy, Cat)\r\n"
      ]
     },
     "execution_count": 23,
     "metadata": {},
     "output_type": "execute_result"
    }
   ],
   "source": [
    "var names = List(\"John\", \"Abe\", \"Cindy\", \"Cat\")\n",
    "\n",
    "for(name <- names){\n",
    "    if(name.startsWith(\"C\")){\n",
    "        println(f\"${name} starts with a C\")\n",
    "    }\n",
    "}"
   ]
  },
  {
   "cell_type": "code",
   "execution_count": 29,
   "metadata": {},
   "outputs": [
    {
     "name": "stdout",
     "output_type": "stream",
     "text": [
      "y is currently 0\n",
      "y is still less than 10, add 1 to y\n",
      "y is currently 1\n",
      "y is still less than 10, add 1 to y\n",
      "y is currently 2\n",
      "y is still less than 10, add 1 to y\n",
      "y is currently 3\n",
      "y is still less than 10, add 1 to y\n",
      "y is currently 4\n",
      "y is still less than 10, add 1 to y\n",
      "y is currently 5\n",
      "y is still less than 10, add 1 to y\n",
      "y is currently 6\n",
      "y is still less than 10, add 1 to y\n",
      "y is currently 7\n",
      "y is still less than 10, add 1 to y\n",
      "y is currently 8\n",
      "y is still less than 10, add 1 to y\n",
      "y is currently 9\n",
      "y is still less than 10, add 1 to y\n"
     ]
    },
    {
     "data": {
      "text/plain": [
       "y: Int = 10\r\n"
      ]
     },
     "execution_count": 29,
     "metadata": {},
     "output_type": "execute_result"
    }
   ],
   "source": [
    "var y = 0\n",
    "\n",
    "while(y < 10){\n",
    "    println(f\"y is currently ${y}\")\n",
    "    println(\"y is still less than 10, add 1 to y\")\n",
    "    y += 1\n",
    "}"
   ]
  },
  {
   "cell_type": "markdown",
   "metadata": {},
   "source": [
    "**Functions**"
   ]
  },
  {
   "cell_type": "code",
   "execution_count": 37,
   "metadata": {},
   "outputs": [
    {
     "name": "stdout",
     "output_type": "stream",
     "text": [
      "simple print\n"
     ]
    },
    {
     "data": {
      "text/plain": [
       "simple: ()Unit\r\n"
      ]
     },
     "execution_count": 37,
     "metadata": {},
     "output_type": "execute_result"
    }
   ],
   "source": [
    "def simple(): Unit={\n",
    "    println(\"simple print\")\n",
    "}\n",
    "simple()"
   ]
  },
  {
   "cell_type": "code",
   "execution_count": 36,
   "metadata": {},
   "outputs": [
    {
     "data": {
      "text/plain": [
       "adder: (num1: Int, num2: Int)Int\r\n",
       "res29: Int = 9\r\n"
      ]
     },
     "execution_count": 36,
     "metadata": {},
     "output_type": "execute_result"
    }
   ],
   "source": [
    "def adder(num1:Int, num2:Int): Int={\n",
    "    return num1 + num2\n",
    "}\n",
    "adder(4, 5)"
   ]
  },
  {
   "cell_type": "code",
   "execution_count": 40,
   "metadata": {},
   "outputs": [
    {
     "name": "stdout",
     "output_type": "stream",
     "text": [
      "Hello Me\n"
     ]
    },
    {
     "data": {
      "text/plain": [
       "greetName: (name: String)String\r\n",
       "full_greet: String = Hello Me\r\n"
      ]
     },
     "execution_count": 40,
     "metadata": {},
     "output_type": "execute_result"
    }
   ],
   "source": [
    "def greetName(name:String): String={\n",
    "    return f\"Hello ${name}\"\n",
    "}\n",
    "val full_greet = greetName(\"Me\")\n",
    "println(full_greet)"
   ]
  },
  {
   "cell_type": "code",
   "execution_count": 41,
   "metadata": {},
   "outputs": [
    {
     "name": "stdout",
     "output_type": "stream",
     "text": [
      "false\n",
      "true\n"
     ]
    },
    {
     "data": {
      "text/plain": [
       "isPrime: (numcheck: Int)Boolean\r\n"
      ]
     },
     "execution_count": 41,
     "metadata": {},
     "output_type": "execute_result"
    }
   ],
   "source": [
    "def isPrime(numcheck:Int): Boolean={\n",
    "    for(n <- Range(2, numcheck)){\n",
    "        if(numcheck%n == 0){\n",
    "            return false\n",
    "        }\n",
    "    }\n",
    "    return true\n",
    "}\n",
    "println(isPrime(10))\n",
    "println(isPrime(23))"
   ]
  },
  {
   "cell_type": "code",
   "execution_count": null,
   "metadata": {},
   "outputs": [],
   "source": []
  }
 ],
 "metadata": {
  "kernelspec": {
   "display_name": "spylon-kernel",
   "language": "scala",
   "name": "spylon-kernel"
  },
  "language_info": {
   "codemirror_mode": "text/x-scala",
   "file_extension": ".scala",
   "help_links": [
    {
     "text": "MetaKernel Magics",
     "url": "https://metakernel.readthedocs.io/en/latest/source/README.html"
    }
   ],
   "mimetype": "text/x-scala",
   "name": "scala",
   "pygments_lexer": "scala",
   "version": "0.4.1"
  }
 },
 "nbformat": 4,
 "nbformat_minor": 4
}
